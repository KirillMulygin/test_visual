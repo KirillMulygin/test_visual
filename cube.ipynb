{
 "cells": [
  {
   "cell_type": "code",
   "execution_count": 1,
   "metadata": {},
   "outputs": [
    {
     "data": {
      "application/vnd.plotly.v1+json": {
       "config": {
        "plotlyServerURL": "https://plot.ly"
       },
       "data": [
        {
         "hoverinfo": "skip",
         "line": {
          "color": "green",
          "width": 2
         },
         "mode": "lines",
         "showlegend": false,
         "type": "scatter3d",
         "x": [
          0,
          0
         ],
         "y": [
          0,
          0
         ],
         "z": [
          0,
          1
         ]
        },
        {
         "hoverinfo": "skip",
         "line": {
          "color": "green",
          "width": 2
         },
         "mode": "lines",
         "showlegend": false,
         "type": "scatter3d",
         "x": [
          0,
          0
         ],
         "y": [
          0,
          0
         ],
         "z": [
          0,
          2
         ]
        },
        {
         "hoverinfo": "skip",
         "line": {
          "color": "green",
          "width": 2
         },
         "mode": "lines",
         "showlegend": false,
         "type": "scatter3d",
         "x": [
          0,
          0
         ],
         "y": [
          0,
          0
         ],
         "z": [
          0,
          3
         ]
        },
        {
         "hoverinfo": "skip",
         "line": {
          "color": "green",
          "width": 2
         },
         "mode": "lines",
         "showlegend": false,
         "type": "scatter3d",
         "x": [
          0,
          0
         ],
         "y": [
          0,
          0
         ],
         "z": [
          0,
          4
         ]
        },
        {
         "hoverinfo": "skip",
         "line": {
          "color": "green",
          "width": 2
         },
         "mode": "lines",
         "showlegend": false,
         "type": "scatter3d",
         "x": [
          0,
          0
         ],
         "y": [
          0,
          0
         ],
         "z": [
          0,
          5
         ]
        },
        {
         "hoverinfo": "skip",
         "line": {
          "color": "green",
          "width": 2
         },
         "mode": "lines",
         "showlegend": false,
         "type": "scatter3d",
         "x": [
          0,
          0
         ],
         "y": [
          0,
          0
         ],
         "z": [
          0,
          6
         ]
        },
        {
         "hoverinfo": "skip",
         "line": {
          "color": "green",
          "width": 2
         },
         "mode": "lines",
         "showlegend": false,
         "type": "scatter3d",
         "x": [
          0,
          0
         ],
         "y": [
          0,
          0
         ],
         "z": [
          0,
          7
         ]
        },
        {
         "hoverinfo": "skip",
         "line": {
          "color": "green",
          "width": 2
         },
         "mode": "lines",
         "showlegend": false,
         "type": "scatter3d",
         "x": [
          0,
          0
         ],
         "y": [
          0,
          1
         ],
         "z": [
          0,
          0
         ]
        },
        {
         "hoverinfo": "skip",
         "line": {
          "color": "green",
          "width": 2
         },
         "mode": "lines",
         "showlegend": false,
         "type": "scatter3d",
         "x": [
          0,
          0
         ],
         "y": [
          0,
          2
         ],
         "z": [
          0,
          0
         ]
        },
        {
         "hoverinfo": "skip",
         "line": {
          "color": "green",
          "width": 2
         },
         "mode": "lines",
         "showlegend": false,
         "type": "scatter3d",
         "x": [
          0,
          0
         ],
         "y": [
          0,
          3
         ],
         "z": [
          0,
          0
         ]
        },
        {
         "hoverinfo": "skip",
         "line": {
          "color": "green",
          "width": 2
         },
         "mode": "lines",
         "showlegend": false,
         "type": "scatter3d",
         "x": [
          0,
          0
         ],
         "y": [
          0,
          4
         ],
         "z": [
          0,
          0
         ]
        },
        {
         "hoverinfo": "skip",
         "line": {
          "color": "green",
          "width": 2
         },
         "mode": "lines",
         "showlegend": false,
         "type": "scatter3d",
         "x": [
          0,
          0
         ],
         "y": [
          0,
          5
         ],
         "z": [
          0,
          0
         ]
        },
        {
         "hoverinfo": "skip",
         "line": {
          "color": "green",
          "width": 2
         },
         "mode": "lines",
         "showlegend": false,
         "type": "scatter3d",
         "x": [
          0,
          1
         ],
         "y": [
          0,
          0
         ],
         "z": [
          0,
          0
         ]
        },
        {
         "hoverinfo": "skip",
         "line": {
          "color": "green",
          "width": 2
         },
         "mode": "lines",
         "showlegend": false,
         "type": "scatter3d",
         "x": [
          0,
          2
         ],
         "y": [
          0,
          0
         ],
         "z": [
          0,
          0
         ]
        },
        {
         "hoverinfo": "skip",
         "line": {
          "color": "green",
          "width": 2
         },
         "mode": "lines",
         "showlegend": false,
         "type": "scatter3d",
         "x": [
          0,
          3
         ],
         "y": [
          0,
          0
         ],
         "z": [
          0,
          0
         ]
        },
        {
         "hoverinfo": "skip",
         "line": {
          "color": "green",
          "width": 2
         },
         "mode": "lines",
         "showlegend": false,
         "type": "scatter3d",
         "x": [
          0,
          4
         ],
         "y": [
          0,
          0
         ],
         "z": [
          0,
          0
         ]
        },
        {
         "hoverinfo": "skip",
         "line": {
          "color": "green",
          "width": 2
         },
         "mode": "lines",
         "showlegend": false,
         "type": "scatter3d",
         "x": [
          0,
          5
         ],
         "y": [
          0,
          0
         ],
         "z": [
          0,
          0
         ]
        },
        {
         "hoverinfo": "skip",
         "line": {
          "color": "green",
          "width": 2
         },
         "mode": "lines",
         "showlegend": false,
         "type": "scatter3d",
         "x": [
          0,
          0
         ],
         "y": [
          0,
          0
         ],
         "z": [
          1,
          2
         ]
        },
        {
         "hoverinfo": "skip",
         "line": {
          "color": "green",
          "width": 2
         },
         "mode": "lines",
         "showlegend": false,
         "type": "scatter3d",
         "x": [
          0,
          0
         ],
         "y": [
          0,
          0
         ],
         "z": [
          1,
          3
         ]
        },
        {
         "hoverinfo": "skip",
         "line": {
          "color": "green",
          "width": 2
         },
         "mode": "lines",
         "showlegend": false,
         "type": "scatter3d",
         "x": [
          0,
          0
         ],
         "y": [
          0,
          0
         ],
         "z": [
          1,
          4
         ]
        },
        {
         "hoverinfo": "skip",
         "line": {
          "color": "green",
          "width": 2
         },
         "mode": "lines",
         "showlegend": false,
         "type": "scatter3d",
         "x": [
          0,
          0
         ],
         "y": [
          0,
          0
         ],
         "z": [
          1,
          5
         ]
        },
        {
         "hoverinfo": "skip",
         "line": {
          "color": "green",
          "width": 2
         },
         "mode": "lines",
         "showlegend": false,
         "type": "scatter3d",
         "x": [
          0,
          0
         ],
         "y": [
          0,
          0
         ],
         "z": [
          1,
          6
         ]
        },
        {
         "hoverinfo": "skip",
         "line": {
          "color": "green",
          "width": 2
         },
         "mode": "lines",
         "showlegend": false,
         "type": "scatter3d",
         "x": [
          0,
          0
         ],
         "y": [
          0,
          0
         ],
         "z": [
          1,
          7
         ]
        },
        {
         "hoverinfo": "skip",
         "line": {
          "color": "green",
          "width": 2
         },
         "mode": "lines",
         "showlegend": false,
         "type": "scatter3d",
         "x": [
          0,
          0
         ],
         "y": [
          0,
          1
         ],
         "z": [
          1,
          1
         ]
        },
        {
         "hoverinfo": "skip",
         "line": {
          "color": "green",
          "width": 2
         },
         "mode": "lines",
         "showlegend": false,
         "type": "scatter3d",
         "x": [
          0,
          0
         ],
         "y": [
          0,
          2
         ],
         "z": [
          1,
          1
         ]
        },
        {
         "hoverinfo": "skip",
         "line": {
          "color": "green",
          "width": 2
         },
         "mode": "lines",
         "showlegend": false,
         "type": "scatter3d",
         "x": [
          0,
          0
         ],
         "y": [
          0,
          3
         ],
         "z": [
          1,
          1
         ]
        },
        {
         "hoverinfo": "skip",
         "line": {
          "color": "green",
          "width": 2
         },
         "mode": "lines",
         "showlegend": false,
         "type": "scatter3d",
         "x": [
          0,
          0
         ],
         "y": [
          0,
          4
         ],
         "z": [
          1,
          1
         ]
        },
        {
         "hoverinfo": "skip",
         "line": {
          "color": "green",
          "width": 2
         },
         "mode": "lines",
         "showlegend": false,
         "type": "scatter3d",
         "x": [
          0,
          0
         ],
         "y": [
          0,
          5
         ],
         "z": [
          1,
          1
         ]
        },
        {
         "hoverinfo": "skip",
         "line": {
          "color": "green",
          "width": 2
         },
         "mode": "lines",
         "showlegend": false,
         "type": "scatter3d",
         "x": [
          0,
          1
         ],
         "y": [
          0,
          0
         ],
         "z": [
          1,
          1
         ]
        },
        {
         "hoverinfo": "skip",
         "line": {
          "color": "green",
          "width": 2
         },
         "mode": "lines",
         "showlegend": false,
         "type": "scatter3d",
         "x": [
          0,
          2
         ],
         "y": [
          0,
          0
         ],
         "z": [
          1,
          1
         ]
        },
        {
         "hoverinfo": "skip",
         "line": {
          "color": "green",
          "width": 2
         },
         "mode": "lines",
         "showlegend": false,
         "type": "scatter3d",
         "x": [
          0,
          3
         ],
         "y": [
          0,
          0
         ],
         "z": [
          1,
          1
         ]
        },
        {
         "hoverinfo": "skip",
         "line": {
          "color": "green",
          "width": 2
         },
         "mode": "lines",
         "showlegend": false,
         "type": "scatter3d",
         "x": [
          0,
          4
         ],
         "y": [
          0,
          0
         ],
         "z": [
          1,
          1
         ]
        },
        {
         "hoverinfo": "skip",
         "line": {
          "color": "green",
          "width": 2
         },
         "mode": "lines",
         "showlegend": false,
         "type": "scatter3d",
         "x": [
          0,
          5
         ],
         "y": [
          0,
          0
         ],
         "z": [
          1,
          1
         ]
        },
        {
         "hoverinfo": "skip",
         "line": {
          "color": "green",
          "width": 2
         },
         "mode": "lines",
         "showlegend": false,
         "type": "scatter3d",
         "x": [
          0,
          0
         ],
         "y": [
          0,
          0
         ],
         "z": [
          2,
          3
         ]
        },
        {
         "hoverinfo": "skip",
         "line": {
          "color": "green",
          "width": 2
         },
         "mode": "lines",
         "showlegend": false,
         "type": "scatter3d",
         "x": [
          0,
          0
         ],
         "y": [
          0,
          0
         ],
         "z": [
          2,
          4
         ]
        },
        {
         "hoverinfo": "skip",
         "line": {
          "color": "green",
          "width": 2
         },
         "mode": "lines",
         "showlegend": false,
         "type": "scatter3d",
         "x": [
          0,
          0
         ],
         "y": [
          0,
          0
         ],
         "z": [
          2,
          5
         ]
        },
        {
         "hoverinfo": "skip",
         "line": {
          "color": "green",
          "width": 2
         },
         "mode": "lines",
         "showlegend": false,
         "type": "scatter3d",
         "x": [
          0,
          0
         ],
         "y": [
          0,
          0
         ],
         "z": [
          2,
          6
         ]
        },
        {
         "hoverinfo": "skip",
         "line": {
          "color": "green",
          "width": 2
         },
         "mode": "lines",
         "showlegend": false,
         "type": "scatter3d",
         "x": [
          0,
          0
         ],
         "y": [
          0,
          0
         ],
         "z": [
          2,
          7
         ]
        },
        {
         "hoverinfo": "skip",
         "line": {
          "color": "green",
          "width": 2
         },
         "mode": "lines",
         "showlegend": false,
         "type": "scatter3d",
         "x": [
          0,
          0
         ],
         "y": [
          0,
          1
         ],
         "z": [
          2,
          2
         ]
        },
        {
         "hoverinfo": "skip",
         "line": {
          "color": "green",
          "width": 2
         },
         "mode": "lines",
         "showlegend": false,
         "type": "scatter3d",
         "x": [
          0,
          0
         ],
         "y": [
          0,
          2
         ],
         "z": [
          2,
          2
         ]
        },
        {
         "hoverinfo": "skip",
         "line": {
          "color": "green",
          "width": 2
         },
         "mode": "lines",
         "showlegend": false,
         "type": "scatter3d",
         "x": [
          0,
          0
         ],
         "y": [
          0,
          3
         ],
         "z": [
          2,
          2
         ]
        },
        {
         "hoverinfo": "skip",
         "line": {
          "color": "green",
          "width": 2
         },
         "mode": "lines",
         "showlegend": false,
         "type": "scatter3d",
         "x": [
          0,
          0
         ],
         "y": [
          0,
          4
         ],
         "z": [
          2,
          2
         ]
        },
        {
         "hoverinfo": "skip",
         "line": {
          "color": "green",
          "width": 2
         },
         "mode": "lines",
         "showlegend": false,
         "type": "scatter3d",
         "x": [
          0,
          0
         ],
         "y": [
          0,
          5
         ],
         "z": [
          2,
          2
         ]
        },
        {
         "hoverinfo": "skip",
         "line": {
          "color": "green",
          "width": 2
         },
         "mode": "lines",
         "showlegend": false,
         "type": "scatter3d",
         "x": [
          0,
          1
         ],
         "y": [
          0,
          0
         ],
         "z": [
          2,
          2
         ]
        },
        {
         "hoverinfo": "skip",
         "line": {
          "color": "green",
          "width": 2
         },
         "mode": "lines",
         "showlegend": false,
         "type": "scatter3d",
         "x": [
          0,
          2
         ],
         "y": [
          0,
          0
         ],
         "z": [
          2,
          2
         ]
        },
        {
         "hoverinfo": "skip",
         "line": {
          "color": "green",
          "width": 2
         },
         "mode": "lines",
         "showlegend": false,
         "type": "scatter3d",
         "x": [
          0,
          3
         ],
         "y": [
          0,
          0
         ],
         "z": [
          2,
          2
         ]
        },
        {
         "hoverinfo": "skip",
         "line": {
          "color": "green",
          "width": 2
         },
         "mode": "lines",
         "showlegend": false,
         "type": "scatter3d",
         "x": [
          0,
          4
         ],
         "y": [
          0,
          0
         ],
         "z": [
          2,
          2
         ]
        },
        {
         "hoverinfo": "skip",
         "line": {
          "color": "green",
          "width": 2
         },
         "mode": "lines",
         "showlegend": false,
         "type": "scatter3d",
         "x": [
          0,
          5
         ],
         "y": [
          0,
          0
         ],
         "z": [
          2,
          2
         ]
        },
        {
         "hoverinfo": "skip",
         "line": {
          "color": "green",
          "width": 2
         },
         "mode": "lines",
         "showlegend": false,
         "type": "scatter3d",
         "x": [
          0,
          0
         ],
         "y": [
          0,
          0
         ],
         "z": [
          3,
          4
         ]
        },
        {
         "hoverinfo": "skip",
         "line": {
          "color": "green",
          "width": 2
         },
         "mode": "lines",
         "showlegend": false,
         "type": "scatter3d",
         "x": [
          0,
          0
         ],
         "y": [
          0,
          0
         ],
         "z": [
          3,
          5
         ]
        },
        {
         "hoverinfo": "skip",
         "line": {
          "color": "green",
          "width": 2
         },
         "mode": "lines",
         "showlegend": false,
         "type": "scatter3d",
         "x": [
          0,
          0
         ],
         "y": [
          0,
          0
         ],
         "z": [
          3,
          6
         ]
        },
        {
         "hoverinfo": "skip",
         "line": {
          "color": "green",
          "width": 2
         },
         "mode": "lines",
         "showlegend": false,
         "type": "scatter3d",
         "x": [
          0,
          0
         ],
         "y": [
          0,
          0
         ],
         "z": [
          3,
          7
         ]
        },
        {
         "hoverinfo": "skip",
         "line": {
          "color": "green",
          "width": 2
         },
         "mode": "lines",
         "showlegend": false,
         "type": "scatter3d",
         "x": [
          0,
          0
         ],
         "y": [
          0,
          1
         ],
         "z": [
          3,
          3
         ]
        },
        {
         "hoverinfo": "skip",
         "line": {
          "color": "green",
          "width": 2
         },
         "mode": "lines",
         "showlegend": false,
         "type": "scatter3d",
         "x": [
          0,
          0
         ],
         "y": [
          0,
          2
         ],
         "z": [
          3,
          3
         ]
        },
        {
         "hoverinfo": "skip",
         "line": {
          "color": "green",
          "width": 2
         },
         "mode": "lines",
         "showlegend": false,
         "type": "scatter3d",
         "x": [
          0,
          0
         ],
         "y": [
          0,
          3
         ],
         "z": [
          3,
          3
         ]
        },
        {
         "hoverinfo": "skip",
         "line": {
          "color": "green",
          "width": 2
         },
         "mode": "lines",
         "showlegend": false,
         "type": "scatter3d",
         "x": [
          0,
          0
         ],
         "y": [
          0,
          4
         ],
         "z": [
          3,
          3
         ]
        },
        {
         "hoverinfo": "skip",
         "line": {
          "color": "green",
          "width": 2
         },
         "mode": "lines",
         "showlegend": false,
         "type": "scatter3d",
         "x": [
          0,
          0
         ],
         "y": [
          0,
          5
         ],
         "z": [
          3,
          3
         ]
        },
        {
         "hoverinfo": "skip",
         "line": {
          "color": "green",
          "width": 2
         },
         "mode": "lines",
         "showlegend": false,
         "type": "scatter3d",
         "x": [
          0,
          1
         ],
         "y": [
          0,
          0
         ],
         "z": [
          3,
          3
         ]
        },
        {
         "hoverinfo": "skip",
         "line": {
          "color": "green",
          "width": 2
         },
         "mode": "lines",
         "showlegend": false,
         "type": "scatter3d",
         "x": [
          0,
          2
         ],
         "y": [
          0,
          0
         ],
         "z": [
          3,
          3
         ]
        },
        {
         "hoverinfo": "skip",
         "line": {
          "color": "green",
          "width": 2
         },
         "mode": "lines",
         "showlegend": false,
         "type": "scatter3d",
         "x": [
          0,
          3
         ],
         "y": [
          0,
          0
         ],
         "z": [
          3,
          3
         ]
        },
        {
         "hoverinfo": "skip",
         "line": {
          "color": "green",
          "width": 2
         },
         "mode": "lines",
         "showlegend": false,
         "type": "scatter3d",
         "x": [
          0,
          4
         ],
         "y": [
          0,
          0
         ],
         "z": [
          3,
          3
         ]
        },
        {
         "hoverinfo": "skip",
         "line": {
          "color": "green",
          "width": 2
         },
         "mode": "lines",
         "showlegend": false,
         "type": "scatter3d",
         "x": [
          0,
          5
         ],
         "y": [
          0,
          0
         ],
         "z": [
          3,
          3
         ]
        },
        {
         "hoverinfo": "skip",
         "line": {
          "color": "green",
          "width": 2
         },
         "mode": "lines",
         "showlegend": false,
         "type": "scatter3d",
         "x": [
          0,
          0
         ],
         "y": [
          0,
          0
         ],
         "z": [
          4,
          5
         ]
        },
        {
         "hoverinfo": "skip",
         "line": {
          "color": "green",
          "width": 2
         },
         "mode": "lines",
         "showlegend": false,
         "type": "scatter3d",
         "x": [
          0,
          0
         ],
         "y": [
          0,
          0
         ],
         "z": [
          4,
          6
         ]
        },
        {
         "hoverinfo": "skip",
         "line": {
          "color": "green",
          "width": 2
         },
         "mode": "lines",
         "showlegend": false,
         "type": "scatter3d",
         "x": [
          0,
          0
         ],
         "y": [
          0,
          0
         ],
         "z": [
          4,
          7
         ]
        },
        {
         "hoverinfo": "skip",
         "line": {
          "color": "green",
          "width": 2
         },
         "mode": "lines",
         "showlegend": false,
         "type": "scatter3d",
         "x": [
          0,
          0
         ],
         "y": [
          0,
          1
         ],
         "z": [
          4,
          4
         ]
        },
        {
         "hoverinfo": "skip",
         "line": {
          "color": "green",
          "width": 2
         },
         "mode": "lines",
         "showlegend": false,
         "type": "scatter3d",
         "x": [
          0,
          0
         ],
         "y": [
          0,
          2
         ],
         "z": [
          4,
          4
         ]
        },
        {
         "hoverinfo": "skip",
         "line": {
          "color": "green",
          "width": 2
         },
         "mode": "lines",
         "showlegend": false,
         "type": "scatter3d",
         "x": [
          0,
          0
         ],
         "y": [
          0,
          3
         ],
         "z": [
          4,
          4
         ]
        },
        {
         "hoverinfo": "skip",
         "line": {
          "color": "green",
          "width": 2
         },
         "mode": "lines",
         "showlegend": false,
         "type": "scatter3d",
         "x": [
          0,
          0
         ],
         "y": [
          0,
          4
         ],
         "z": [
          4,
          4
         ]
        },
        {
         "hoverinfo": "skip",
         "line": {
          "color": "green",
          "width": 2
         },
         "mode": "lines",
         "showlegend": false,
         "type": "scatter3d",
         "x": [
          0,
          0
         ],
         "y": [
          0,
          5
         ],
         "z": [
          4,
          4
         ]
        },
        {
         "hoverinfo": "skip",
         "line": {
          "color": "green",
          "width": 2
         },
         "mode": "lines",
         "showlegend": false,
         "type": "scatter3d",
         "x": [
          0,
          1
         ],
         "y": [
          0,
          0
         ],
         "z": [
          4,
          4
         ]
        },
        {
         "hoverinfo": "skip",
         "line": {
          "color": "green",
          "width": 2
         },
         "mode": "lines",
         "showlegend": false,
         "type": "scatter3d",
         "x": [
          0,
          2
         ],
         "y": [
          0,
          0
         ],
         "z": [
          4,
          4
         ]
        },
        {
         "hoverinfo": "skip",
         "line": {
          "color": "green",
          "width": 2
         },
         "mode": "lines",
         "showlegend": false,
         "type": "scatter3d",
         "x": [
          0,
          3
         ],
         "y": [
          0,
          0
         ],
         "z": [
          4,
          4
         ]
        },
        {
         "hoverinfo": "skip",
         "line": {
          "color": "green",
          "width": 2
         },
         "mode": "lines",
         "showlegend": false,
         "type": "scatter3d",
         "x": [
          0,
          4
         ],
         "y": [
          0,
          0
         ],
         "z": [
          4,
          4
         ]
        },
        {
         "hoverinfo": "skip",
         "line": {
          "color": "green",
          "width": 2
         },
         "mode": "lines",
         "showlegend": false,
         "type": "scatter3d",
         "x": [
          0,
          5
         ],
         "y": [
          0,
          0
         ],
         "z": [
          4,
          4
         ]
        },
        {
         "hoverinfo": "skip",
         "line": {
          "color": "green",
          "width": 2
         },
         "mode": "lines",
         "showlegend": false,
         "type": "scatter3d",
         "x": [
          0,
          0
         ],
         "y": [
          0,
          0
         ],
         "z": [
          5,
          6
         ]
        },
        {
         "hoverinfo": "skip",
         "line": {
          "color": "green",
          "width": 2
         },
         "mode": "lines",
         "showlegend": false,
         "type": "scatter3d",
         "x": [
          0,
          0
         ],
         "y": [
          0,
          0
         ],
         "z": [
          5,
          7
         ]
        },
        {
         "hoverinfo": "skip",
         "line": {
          "color": "green",
          "width": 2
         },
         "mode": "lines",
         "showlegend": false,
         "type": "scatter3d",
         "x": [
          0,
          0
         ],
         "y": [
          0,
          1
         ],
         "z": [
          5,
          5
         ]
        },
        {
         "hoverinfo": "skip",
         "line": {
          "color": "green",
          "width": 2
         },
         "mode": "lines",
         "showlegend": false,
         "type": "scatter3d",
         "x": [
          0,
          0
         ],
         "y": [
          0,
          2
         ],
         "z": [
          5,
          5
         ]
        },
        {
         "hoverinfo": "skip",
         "line": {
          "color": "green",
          "width": 2
         },
         "mode": "lines",
         "showlegend": false,
         "type": "scatter3d",
         "x": [
          0,
          0
         ],
         "y": [
          0,
          3
         ],
         "z": [
          5,
          5
         ]
        },
        {
         "hoverinfo": "skip",
         "line": {
          "color": "green",
          "width": 2
         },
         "mode": "lines",
         "showlegend": false,
         "type": "scatter3d",
         "x": [
          0,
          0
         ],
         "y": [
          0,
          4
         ],
         "z": [
          5,
          5
         ]
        },
        {
         "hoverinfo": "skip",
         "line": {
          "color": "green",
          "width": 2
         },
         "mode": "lines",
         "showlegend": false,
         "type": "scatter3d",
         "x": [
          0,
          0
         ],
         "y": [
          0,
          5
         ],
         "z": [
          5,
          5
         ]
        },
        {
         "hoverinfo": "skip",
         "line": {
          "color": "green",
          "width": 2
         },
         "mode": "lines",
         "showlegend": false,
         "type": "scatter3d",
         "x": [
          0,
          1
         ],
         "y": [
          0,
          0
         ],
         "z": [
          5,
          5
         ]
        },
        {
         "hoverinfo": "skip",
         "line": {
          "color": "green",
          "width": 2
         },
         "mode": "lines",
         "showlegend": false,
         "type": "scatter3d",
         "x": [
          0,
          2
         ],
         "y": [
          0,
          0
         ],
         "z": [
          5,
          5
         ]
        },
        {
         "hoverinfo": "skip",
         "line": {
          "color": "green",
          "width": 2
         },
         "mode": "lines",
         "showlegend": false,
         "type": "scatter3d",
         "x": [
          0,
          3
         ],
         "y": [
          0,
          0
         ],
         "z": [
          5,
          5
         ]
        },
        {
         "hoverinfo": "skip",
         "line": {
          "color": "green",
          "width": 2
         },
         "mode": "lines",
         "showlegend": false,
         "type": "scatter3d",
         "x": [
          0,
          4
         ],
         "y": [
          0,
          0
         ],
         "z": [
          5,
          5
         ]
        },
        {
         "hoverinfo": "skip",
         "line": {
          "color": "green",
          "width": 2
         },
         "mode": "lines",
         "showlegend": false,
         "type": "scatter3d",
         "x": [
          0,
          5
         ],
         "y": [
          0,
          0
         ],
         "z": [
          5,
          5
         ]
        },
        {
         "hoverinfo": "skip",
         "line": {
          "color": "green",
          "width": 2
         },
         "mode": "lines",
         "showlegend": false,
         "type": "scatter3d",
         "x": [
          0,
          0
         ],
         "y": [
          0,
          0
         ],
         "z": [
          6,
          7
         ]
        },
        {
         "hoverinfo": "skip",
         "line": {
          "color": "green",
          "width": 2
         },
         "mode": "lines",
         "showlegend": false,
         "type": "scatter3d",
         "x": [
          0,
          0
         ],
         "y": [
          0,
          1
         ],
         "z": [
          6,
          6
         ]
        },
        {
         "hoverinfo": "skip",
         "line": {
          "color": "green",
          "width": 2
         },
         "mode": "lines",
         "showlegend": false,
         "type": "scatter3d",
         "x": [
          0,
          0
         ],
         "y": [
          0,
          2
         ],
         "z": [
          6,
          6
         ]
        },
        {
         "hoverinfo": "skip",
         "line": {
          "color": "green",
          "width": 2
         },
         "mode": "lines",
         "showlegend": false,
         "type": "scatter3d",
         "x": [
          0,
          0
         ],
         "y": [
          0,
          3
         ],
         "z": [
          6,
          6
         ]
        },
        {
         "hoverinfo": "skip",
         "line": {
          "color": "green",
          "width": 2
         },
         "mode": "lines",
         "showlegend": false,
         "type": "scatter3d",
         "x": [
          0,
          0
         ],
         "y": [
          0,
          4
         ],
         "z": [
          6,
          6
         ]
        },
        {
         "hoverinfo": "skip",
         "line": {
          "color": "green",
          "width": 2
         },
         "mode": "lines",
         "showlegend": false,
         "type": "scatter3d",
         "x": [
          0,
          0
         ],
         "y": [
          0,
          5
         ],
         "z": [
          6,
          6
         ]
        },
        {
         "hoverinfo": "skip",
         "line": {
          "color": "green",
          "width": 2
         },
         "mode": "lines",
         "showlegend": false,
         "type": "scatter3d",
         "x": [
          0,
          1
         ],
         "y": [
          0,
          0
         ],
         "z": [
          6,
          6
         ]
        },
        {
         "hoverinfo": "skip",
         "line": {
          "color": "green",
          "width": 2
         },
         "mode": "lines",
         "showlegend": false,
         "type": "scatter3d",
         "x": [
          0,
          2
         ],
         "y": [
          0,
          0
         ],
         "z": [
          6,
          6
         ]
        },
        {
         "hoverinfo": "skip",
         "line": {
          "color": "green",
          "width": 2
         },
         "mode": "lines",
         "showlegend": false,
         "type": "scatter3d",
         "x": [
          0,
          3
         ],
         "y": [
          0,
          0
         ],
         "z": [
          6,
          6
         ]
        },
        {
         "hoverinfo": "skip",
         "line": {
          "color": "green",
          "width": 2
         },
         "mode": "lines",
         "showlegend": false,
         "type": "scatter3d",
         "x": [
          0,
          4
         ],
         "y": [
          0,
          0
         ],
         "z": [
          6,
          6
         ]
        },
        {
         "hoverinfo": "skip",
         "line": {
          "color": "green",
          "width": 2
         },
         "mode": "lines",
         "showlegend": false,
         "type": "scatter3d",
         "x": [
          0,
          5
         ],
         "y": [
          0,
          0
         ],
         "z": [
          6,
          6
         ]
        },
        {
         "hoverinfo": "skip",
         "line": {
          "color": "green",
          "width": 2
         },
         "mode": "lines",
         "showlegend": false,
         "type": "scatter3d",
         "x": [
          0,
          0
         ],
         "y": [
          0,
          1
         ],
         "z": [
          7,
          7
         ]
        },
        {
         "hoverinfo": "skip",
         "line": {
          "color": "green",
          "width": 2
         },
         "mode": "lines",
         "showlegend": false,
         "type": "scatter3d",
         "x": [
          0,
          0
         ],
         "y": [
          0,
          2
         ],
         "z": [
          7,
          7
         ]
        },
        {
         "hoverinfo": "skip",
         "line": {
          "color": "green",
          "width": 2
         },
         "mode": "lines",
         "showlegend": false,
         "type": "scatter3d",
         "x": [
          0,
          0
         ],
         "y": [
          0,
          3
         ],
         "z": [
          7,
          7
         ]
        },
        {
         "hoverinfo": "skip",
         "line": {
          "color": "green",
          "width": 2
         },
         "mode": "lines",
         "showlegend": false,
         "type": "scatter3d",
         "x": [
          0,
          0
         ],
         "y": [
          0,
          4
         ],
         "z": [
          7,
          7
         ]
        },
        {
         "hoverinfo": "skip",
         "line": {
          "color": "green",
          "width": 2
         },
         "mode": "lines",
         "showlegend": false,
         "type": "scatter3d",
         "x": [
          0,
          0
         ],
         "y": [
          0,
          5
         ],
         "z": [
          7,
          7
         ]
        },
        {
         "hoverinfo": "skip",
         "line": {
          "color": "green",
          "width": 2
         },
         "mode": "lines",
         "showlegend": false,
         "type": "scatter3d",
         "x": [
          0,
          1
         ],
         "y": [
          0,
          0
         ],
         "z": [
          7,
          7
         ]
        },
        {
         "hoverinfo": "skip",
         "line": {
          "color": "green",
          "width": 2
         },
         "mode": "lines",
         "showlegend": false,
         "type": "scatter3d",
         "x": [
          0,
          2
         ],
         "y": [
          0,
          0
         ],
         "z": [
          7,
          7
         ]
        },
        {
         "hoverinfo": "skip",
         "line": {
          "color": "green",
          "width": 2
         },
         "mode": "lines",
         "showlegend": false,
         "type": "scatter3d",
         "x": [
          0,
          3
         ],
         "y": [
          0,
          0
         ],
         "z": [
          7,
          7
         ]
        },
        {
         "hoverinfo": "skip",
         "line": {
          "color": "green",
          "width": 2
         },
         "mode": "lines",
         "showlegend": false,
         "type": "scatter3d",
         "x": [
          0,
          4
         ],
         "y": [
          0,
          0
         ],
         "z": [
          7,
          7
         ]
        },
        {
         "hoverinfo": "skip",
         "line": {
          "color": "green",
          "width": 2
         },
         "mode": "lines",
         "showlegend": false,
         "type": "scatter3d",
         "x": [
          0,
          5
         ],
         "y": [
          0,
          0
         ],
         "z": [
          7,
          7
         ]
        },
        {
         "hoverinfo": "skip",
         "line": {
          "color": "green",
          "width": 2
         },
         "mode": "lines",
         "showlegend": false,
         "type": "scatter3d",
         "x": [
          0,
          0
         ],
         "y": [
          1,
          1
         ],
         "z": [
          0,
          1
         ]
        },
        {
         "hoverinfo": "skip",
         "line": {
          "color": "green",
          "width": 2
         },
         "mode": "lines",
         "showlegend": false,
         "type": "scatter3d",
         "x": [
          0,
          0
         ],
         "y": [
          1,
          1
         ],
         "z": [
          0,
          2
         ]
        },
        {
         "hoverinfo": "skip",
         "line": {
          "color": "green",
          "width": 2
         },
         "mode": "lines",
         "showlegend": false,
         "type": "scatter3d",
         "x": [
          0,
          0
         ],
         "y": [
          1,
          1
         ],
         "z": [
          0,
          3
         ]
        },
        {
         "hoverinfo": "skip",
         "line": {
          "color": "green",
          "width": 2
         },
         "mode": "lines",
         "showlegend": false,
         "type": "scatter3d",
         "x": [
          0,
          0
         ],
         "y": [
          1,
          1
         ],
         "z": [
          0,
          4
         ]
        },
        {
         "hoverinfo": "skip",
         "line": {
          "color": "green",
          "width": 2
         },
         "mode": "lines",
         "showlegend": false,
         "type": "scatter3d",
         "x": [
          0,
          0
         ],
         "y": [
          1,
          1
         ],
         "z": [
          0,
          5
         ]
        },
        {
         "hoverinfo": "skip",
         "line": {
          "color": "green",
          "width": 2
         },
         "mode": "lines",
         "showlegend": false,
         "type": "scatter3d",
         "x": [
          0,
          0
         ],
         "y": [
          1,
          1
         ],
         "z": [
          0,
          6
         ]
        },
        {
         "hoverinfo": "skip",
         "line": {
          "color": "green",
          "width": 2
         },
         "mode": "lines",
         "showlegend": false,
         "type": "scatter3d",
         "x": [
          0,
          0
         ],
         "y": [
          1,
          1
         ],
         "z": [
          0,
          7
         ]
        },
        {
         "hoverinfo": "skip",
         "line": {
          "color": "green",
          "width": 2
         },
         "mode": "lines",
         "showlegend": false,
         "type": "scatter3d",
         "x": [
          0,
          0
         ],
         "y": [
          1,
          2
         ],
         "z": [
          0,
          0
         ]
        },
        {
         "hoverinfo": "skip",
         "line": {
          "color": "green",
          "width": 2
         },
         "mode": "lines",
         "showlegend": false,
         "type": "scatter3d",
         "x": [
          0,
          0
         ],
         "y": [
          1,
          3
         ],
         "z": [
          0,
          0
         ]
        },
        {
         "hoverinfo": "skip",
         "line": {
          "color": "green",
          "width": 2
         },
         "mode": "lines",
         "showlegend": false,
         "type": "scatter3d",
         "x": [
          0,
          0
         ],
         "y": [
          1,
          4
         ],
         "z": [
          0,
          0
         ]
        },
        {
         "hoverinfo": "skip",
         "line": {
          "color": "green",
          "width": 2
         },
         "mode": "lines",
         "showlegend": false,
         "type": "scatter3d",
         "x": [
          0,
          0
         ],
         "y": [
          1,
          5
         ],
         "z": [
          0,
          0
         ]
        },
        {
         "hoverinfo": "skip",
         "line": {
          "color": "green",
          "width": 2
         },
         "mode": "lines",
         "showlegend": false,
         "type": "scatter3d",
         "x": [
          0,
          1
         ],
         "y": [
          1,
          1
         ],
         "z": [
          0,
          0
         ]
        },
        {
         "hoverinfo": "skip",
         "line": {
          "color": "green",
          "width": 2
         },
         "mode": "lines",
         "showlegend": false,
         "type": "scatter3d",
         "x": [
          0,
          2
         ],
         "y": [
          1,
          1
         ],
         "z": [
          0,
          0
         ]
        },
        {
         "hoverinfo": "skip",
         "line": {
          "color": "green",
          "width": 2
         },
         "mode": "lines",
         "showlegend": false,
         "type": "scatter3d",
         "x": [
          0,
          3
         ],
         "y": [
          1,
          1
         ],
         "z": [
          0,
          0
         ]
        },
        {
         "hoverinfo": "skip",
         "line": {
          "color": "green",
          "width": 2
         },
         "mode": "lines",
         "showlegend": false,
         "type": "scatter3d",
         "x": [
          0,
          4
         ],
         "y": [
          1,
          1
         ],
         "z": [
          0,
          0
         ]
        },
        {
         "hoverinfo": "skip",
         "line": {
          "color": "green",
          "width": 2
         },
         "mode": "lines",
         "showlegend": false,
         "type": "scatter3d",
         "x": [
          0,
          5
         ],
         "y": [
          1,
          1
         ],
         "z": [
          0,
          0
         ]
        },
        {
         "hoverinfo": "skip",
         "line": {
          "color": "green",
          "width": 2
         },
         "mode": "lines",
         "showlegend": false,
         "type": "scatter3d",
         "x": [
          0,
          0
         ],
         "y": [
          1,
          1
         ],
         "z": [
          1,
          2
         ]
        },
        {
         "hoverinfo": "skip",
         "line": {
          "color": "green",
          "width": 2
         },
         "mode": "lines",
         "showlegend": false,
         "type": "scatter3d",
         "x": [
          0,
          0
         ],
         "y": [
          1,
          1
         ],
         "z": [
          1,
          3
         ]
        },
        {
         "hoverinfo": "skip",
         "line": {
          "color": "green",
          "width": 2
         },
         "mode": "lines",
         "showlegend": false,
         "type": "scatter3d",
         "x": [
          0,
          0
         ],
         "y": [
          1,
          1
         ],
         "z": [
          1,
          4
         ]
        },
        {
         "hoverinfo": "skip",
         "line": {
          "color": "green",
          "width": 2
         },
         "mode": "lines",
         "showlegend": false,
         "type": "scatter3d",
         "x": [
          0,
          0
         ],
         "y": [
          1,
          1
         ],
         "z": [
          1,
          5
         ]
        },
        {
         "hoverinfo": "skip",
         "line": {
          "color": "green",
          "width": 2
         },
         "mode": "lines",
         "showlegend": false,
         "type": "scatter3d",
         "x": [
          0,
          0
         ],
         "y": [
          1,
          1
         ],
         "z": [
          1,
          6
         ]
        },
        {
         "hoverinfo": "skip",
         "line": {
          "color": "green",
          "width": 2
         },
         "mode": "lines",
         "showlegend": false,
         "type": "scatter3d",
         "x": [
          0,
          0
         ],
         "y": [
          1,
          1
         ],
         "z": [
          1,
          7
         ]
        },
        {
         "hoverinfo": "skip",
         "line": {
          "color": "green",
          "width": 2
         },
         "mode": "lines",
         "showlegend": false,
         "type": "scatter3d",
         "x": [
          0,
          0
         ],
         "y": [
          1,
          2
         ],
         "z": [
          1,
          1
         ]
        },
        {
         "hoverinfo": "skip",
         "line": {
          "color": "green",
          "width": 2
         },
         "mode": "lines",
         "showlegend": false,
         "type": "scatter3d",
         "x": [
          0,
          0
         ],
         "y": [
          1,
          3
         ],
         "z": [
          1,
          1
         ]
        },
        {
         "hoverinfo": "skip",
         "line": {
          "color": "green",
          "width": 2
         },
         "mode": "lines",
         "showlegend": false,
         "type": "scatter3d",
         "x": [
          0,
          0
         ],
         "y": [
          1,
          4
         ],
         "z": [
          1,
          1
         ]
        },
        {
         "hoverinfo": "skip",
         "line": {
          "color": "green",
          "width": 2
         },
         "mode": "lines",
         "showlegend": false,
         "type": "scatter3d",
         "x": [
          0,
          0
         ],
         "y": [
          1,
          5
         ],
         "z": [
          1,
          1
         ]
        },
        {
         "hoverinfo": "skip",
         "line": {
          "color": "green",
          "width": 2
         },
         "mode": "lines",
         "showlegend": false,
         "type": "scatter3d",
         "x": [
          0,
          1
         ],
         "y": [
          1,
          1
         ],
         "z": [
          1,
          1
         ]
        },
        {
         "hoverinfo": "skip",
         "line": {
          "color": "green",
          "width": 2
         },
         "mode": "lines",
         "showlegend": false,
         "type": "scatter3d",
         "x": [
          0,
          2
         ],
         "y": [
          1,
          1
         ],
         "z": [
          1,
          1
         ]
        },
        {
         "hoverinfo": "skip",
         "line": {
          "color": "green",
          "width": 2
         },
         "mode": "lines",
         "showlegend": false,
         "type": "scatter3d",
         "x": [
          0,
          3
         ],
         "y": [
          1,
          1
         ],
         "z": [
          1,
          1
         ]
        },
        {
         "hoverinfo": "skip",
         "line": {
          "color": "green",
          "width": 2
         },
         "mode": "lines",
         "showlegend": false,
         "type": "scatter3d",
         "x": [
          0,
          4
         ],
         "y": [
          1,
          1
         ],
         "z": [
          1,
          1
         ]
        },
        {
         "hoverinfo": "skip",
         "line": {
          "color": "green",
          "width": 2
         },
         "mode": "lines",
         "showlegend": false,
         "type": "scatter3d",
         "x": [
          0,
          5
         ],
         "y": [
          1,
          1
         ],
         "z": [
          1,
          1
         ]
        },
        {
         "hoverinfo": "skip",
         "line": {
          "color": "green",
          "width": 2
         },
         "mode": "lines",
         "showlegend": false,
         "type": "scatter3d",
         "x": [
          0,
          0
         ],
         "y": [
          1,
          1
         ],
         "z": [
          2,
          3
         ]
        },
        {
         "hoverinfo": "skip",
         "line": {
          "color": "green",
          "width": 2
         },
         "mode": "lines",
         "showlegend": false,
         "type": "scatter3d",
         "x": [
          0,
          0
         ],
         "y": [
          1,
          1
         ],
         "z": [
          2,
          4
         ]
        },
        {
         "hoverinfo": "skip",
         "line": {
          "color": "green",
          "width": 2
         },
         "mode": "lines",
         "showlegend": false,
         "type": "scatter3d",
         "x": [
          0,
          0
         ],
         "y": [
          1,
          1
         ],
         "z": [
          2,
          5
         ]
        },
        {
         "hoverinfo": "skip",
         "line": {
          "color": "green",
          "width": 2
         },
         "mode": "lines",
         "showlegend": false,
         "type": "scatter3d",
         "x": [
          0,
          0
         ],
         "y": [
          1,
          1
         ],
         "z": [
          2,
          6
         ]
        },
        {
         "hoverinfo": "skip",
         "line": {
          "color": "green",
          "width": 2
         },
         "mode": "lines",
         "showlegend": false,
         "type": "scatter3d",
         "x": [
          0,
          0
         ],
         "y": [
          1,
          1
         ],
         "z": [
          2,
          7
         ]
        },
        {
         "hoverinfo": "skip",
         "line": {
          "color": "green",
          "width": 2
         },
         "mode": "lines",
         "showlegend": false,
         "type": "scatter3d",
         "x": [
          0,
          0
         ],
         "y": [
          1,
          2
         ],
         "z": [
          2,
          2
         ]
        },
        {
         "hoverinfo": "skip",
         "line": {
          "color": "green",
          "width": 2
         },
         "mode": "lines",
         "showlegend": false,
         "type": "scatter3d",
         "x": [
          0,
          0
         ],
         "y": [
          1,
          3
         ],
         "z": [
          2,
          2
         ]
        },
        {
         "hoverinfo": "skip",
         "line": {
          "color": "green",
          "width": 2
         },
         "mode": "lines",
         "showlegend": false,
         "type": "scatter3d",
         "x": [
          0,
          0
         ],
         "y": [
          1,
          4
         ],
         "z": [
          2,
          2
         ]
        },
        {
         "hoverinfo": "skip",
         "line": {
          "color": "green",
          "width": 2
         },
         "mode": "lines",
         "showlegend": false,
         "type": "scatter3d",
         "x": [
          0,
          0
         ],
         "y": [
          1,
          5
         ],
         "z": [
          2,
          2
         ]
        },
        {
         "hoverinfo": "skip",
         "line": {
          "color": "green",
          "width": 2
         },
         "mode": "lines",
         "showlegend": false,
         "type": "scatter3d",
         "x": [
          0,
          1
         ],
         "y": [
          1,
          1
         ],
         "z": [
          2,
          2
         ]
        },
        {
         "hoverinfo": "skip",
         "line": {
          "color": "green",
          "width": 2
         },
         "mode": "lines",
         "showlegend": false,
         "type": "scatter3d",
         "x": [
          0,
          2
         ],
         "y": [
          1,
          1
         ],
         "z": [
          2,
          2
         ]
        },
        {
         "hoverinfo": "skip",
         "line": {
          "color": "green",
          "width": 2
         },
         "mode": "lines",
         "showlegend": false,
         "type": "scatter3d",
         "x": [
          0,
          3
         ],
         "y": [
          1,
          1
         ],
         "z": [
          2,
          2
         ]
        },
        {
         "hoverinfo": "skip",
         "line": {
          "color": "green",
          "width": 2
         },
         "mode": "lines",
         "showlegend": false,
         "type": "scatter3d",
         "x": [
          0,
          4
         ],
         "y": [
          1,
          1
         ],
         "z": [
          2,
          2
         ]
        },
        {
         "hoverinfo": "skip",
         "line": {
          "color": "green",
          "width": 2
         },
         "mode": "lines",
         "showlegend": false,
         "type": "scatter3d",
         "x": [
          0,
          5
         ],
         "y": [
          1,
          1
         ],
         "z": [
          2,
          2
         ]
        },
        {
         "hoverinfo": "skip",
         "line": {
          "color": "green",
          "width": 2
         },
         "mode": "lines",
         "showlegend": false,
         "type": "scatter3d",
         "x": [
          0,
          0
         ],
         "y": [
          1,
          1
         ],
         "z": [
          3,
          4
         ]
        },
        {
         "hoverinfo": "skip",
         "line": {
          "color": "green",
          "width": 2
         },
         "mode": "lines",
         "showlegend": false,
         "type": "scatter3d",
         "x": [
          0,
          0
         ],
         "y": [
          1,
          1
         ],
         "z": [
          3,
          5
         ]
        },
        {
         "hoverinfo": "skip",
         "line": {
          "color": "green",
          "width": 2
         },
         "mode": "lines",
         "showlegend": false,
         "type": "scatter3d",
         "x": [
          0,
          0
         ],
         "y": [
          1,
          1
         ],
         "z": [
          3,
          6
         ]
        },
        {
         "hoverinfo": "skip",
         "line": {
          "color": "green",
          "width": 2
         },
         "mode": "lines",
         "showlegend": false,
         "type": "scatter3d",
         "x": [
          0,
          0
         ],
         "y": [
          1,
          1
         ],
         "z": [
          3,
          7
         ]
        },
        {
         "hoverinfo": "skip",
         "line": {
          "color": "green",
          "width": 2
         },
         "mode": "lines",
         "showlegend": false,
         "type": "scatter3d",
         "x": [
          0,
          0
         ],
         "y": [
          1,
          2
         ],
         "z": [
          3,
          3
         ]
        },
        {
         "hoverinfo": "skip",
         "line": {
          "color": "green",
          "width": 2
         },
         "mode": "lines",
         "showlegend": false,
         "type": "scatter3d",
         "x": [
          0,
          0
         ],
         "y": [
          1,
          3
         ],
         "z": [
          3,
          3
         ]
        },
        {
         "hoverinfo": "skip",
         "line": {
          "color": "green",
          "width": 2
         },
         "mode": "lines",
         "showlegend": false,
         "type": "scatter3d",
         "x": [
          0,
          0
         ],
         "y": [
          1,
          4
         ],
         "z": [
          3,
          3
         ]
        },
        {
         "hoverinfo": "skip",
         "line": {
          "color": "green",
          "width": 2
         },
         "mode": "lines",
         "showlegend": false,
         "type": "scatter3d",
         "x": [
          0,
          0
         ],
         "y": [
          1,
          5
         ],
         "z": [
          3,
          3
         ]
        },
        {
         "hoverinfo": "skip",
         "line": {
          "color": "green",
          "width": 2
         },
         "mode": "lines",
         "showlegend": false,
         "type": "scatter3d",
         "x": [
          0,
          1
         ],
         "y": [
          1,
          1
         ],
         "z": [
          3,
          3
         ]
        },
        {
         "hoverinfo": "skip",
         "line": {
          "color": "green",
          "width": 2
         },
         "mode": "lines",
         "showlegend": false,
         "type": "scatter3d",
         "x": [
          0,
          2
         ],
         "y": [
          1,
          1
         ],
         "z": [
          3,
          3
         ]
        },
        {
         "hoverinfo": "skip",
         "line": {
          "color": "green",
          "width": 2
         },
         "mode": "lines",
         "showlegend": false,
         "type": "scatter3d",
         "x": [
          0,
          3
         ],
         "y": [
          1,
          1
         ],
         "z": [
          3,
          3
         ]
        },
        {
         "hoverinfo": "skip",
         "line": {
          "color": "green",
          "width": 2
         },
         "mode": "lines",
         "showlegend": false,
         "type": "scatter3d",
         "x": [
          0,
          4
         ],
         "y": [
          1,
          1
         ],
         "z": [
          3,
          3
         ]
        },
        {
         "hoverinfo": "skip",
         "line": {
          "color": "green",
          "width": 2
         },
         "mode": "lines",
         "showlegend": false,
         "type": "scatter3d",
         "x": [
          0,
          5
         ],
         "y": [
          1,
          1
         ],
         "z": [
          3,
          3
         ]
        },
        {
         "hoverinfo": "skip",
         "line": {
          "color": "green",
          "width": 2
         },
         "mode": "lines",
         "showlegend": false,
         "type": "scatter3d",
         "x": [
          0,
          0
         ],
         "y": [
          1,
          1
         ],
         "z": [
          4,
          5
         ]
        },
        {
         "hoverinfo": "skip",
         "line": {
          "color": "green",
          "width": 2
         },
         "mode": "lines",
         "showlegend": false,
         "type": "scatter3d",
         "x": [
          0,
          0
         ],
         "y": [
          1,
          1
         ],
         "z": [
          4,
          6
         ]
        },
        {
         "hoverinfo": "skip",
         "line": {
          "color": "green",
          "width": 2
         },
         "mode": "lines",
         "showlegend": false,
         "type": "scatter3d",
         "x": [
          0,
          0
         ],
         "y": [
          1,
          1
         ],
         "z": [
          4,
          7
         ]
        },
        {
         "hoverinfo": "skip",
         "line": {
          "color": "green",
          "width": 2
         },
         "mode": "lines",
         "showlegend": false,
         "type": "scatter3d",
         "x": [
          0,
          0
         ],
         "y": [
          1,
          2
         ],
         "z": [
          4,
          4
         ]
        },
        {
         "hoverinfo": "skip",
         "line": {
          "color": "green",
          "width": 2
         },
         "mode": "lines",
         "showlegend": false,
         "type": "scatter3d",
         "x": [
          0,
          0
         ],
         "y": [
          1,
          3
         ],
         "z": [
          4,
          4
         ]
        },
        {
         "hoverinfo": "skip",
         "line": {
          "color": "green",
          "width": 2
         },
         "mode": "lines",
         "showlegend": false,
         "type": "scatter3d",
         "x": [
          0,
          0
         ],
         "y": [
          1,
          4
         ],
         "z": [
          4,
          4
         ]
        },
        {
         "hoverinfo": "skip",
         "line": {
          "color": "green",
          "width": 2
         },
         "mode": "lines",
         "showlegend": false,
         "type": "scatter3d",
         "x": [
          0,
          0
         ],
         "y": [
          1,
          5
         ],
         "z": [
          4,
          4
         ]
        },
        {
         "hoverinfo": "skip",
         "line": {
          "color": "green",
          "width": 2
         },
         "mode": "lines",
         "showlegend": false,
         "type": "scatter3d",
         "x": [
          0,
          1
         ],
         "y": [
          1,
          1
         ],
         "z": [
          4,
          4
         ]
        },
        {
         "hoverinfo": "skip",
         "line": {
          "color": "green",
          "width": 2
         },
         "mode": "lines",
         "showlegend": false,
         "type": "scatter3d",
         "x": [
          0,
          2
         ],
         "y": [
          1,
          1
         ],
         "z": [
          4,
          4
         ]
        },
        {
         "hoverinfo": "skip",
         "line": {
          "color": "green",
          "width": 2
         },
         "mode": "lines",
         "showlegend": false,
         "type": "scatter3d",
         "x": [
          0,
          3
         ],
         "y": [
          1,
          1
         ],
         "z": [
          4,
          4
         ]
        },
        {
         "hoverinfo": "skip",
         "line": {
          "color": "green",
          "width": 2
         },
         "mode": "lines",
         "showlegend": false,
         "type": "scatter3d",
         "x": [
          0,
          4
         ],
         "y": [
          1,
          1
         ],
         "z": [
          4,
          4
         ]
        },
        {
         "hoverinfo": "skip",
         "line": {
          "color": "green",
          "width": 2
         },
         "mode": "lines",
         "showlegend": false,
         "type": "scatter3d",
         "x": [
          0,
          5
         ],
         "y": [
          1,
          1
         ],
         "z": [
          4,
          4
         ]
        },
        {
         "hoverinfo": "skip",
         "line": {
          "color": "green",
          "width": 2
         },
         "mode": "lines",
         "showlegend": false,
         "type": "scatter3d",
         "x": [
          0,
          0
         ],
         "y": [
          1,
          1
         ],
         "z": [
          5,
          6
         ]
        },
        {
         "hoverinfo": "skip",
         "line": {
          "color": "green",
          "width": 2
         },
         "mode": "lines",
         "showlegend": false,
         "type": "scatter3d",
         "x": [
          0,
          0
         ],
         "y": [
          1,
          1
         ],
         "z": [
          5,
          7
         ]
        },
        {
         "hoverinfo": "skip",
         "line": {
          "color": "green",
          "width": 2
         },
         "mode": "lines",
         "showlegend": false,
         "type": "scatter3d",
         "x": [
          0,
          0
         ],
         "y": [
          1,
          2
         ],
         "z": [
          5,
          5
         ]
        },
        {
         "hoverinfo": "skip",
         "line": {
          "color": "green",
          "width": 2
         },
         "mode": "lines",
         "showlegend": false,
         "type": "scatter3d",
         "x": [
          0,
          0
         ],
         "y": [
          1,
          3
         ],
         "z": [
          5,
          5
         ]
        },
        {
         "hoverinfo": "skip",
         "line": {
          "color": "green",
          "width": 2
         },
         "mode": "lines",
         "showlegend": false,
         "type": "scatter3d",
         "x": [
          0,
          0
         ],
         "y": [
          1,
          4
         ],
         "z": [
          5,
          5
         ]
        },
        {
         "hoverinfo": "skip",
         "line": {
          "color": "green",
          "width": 2
         },
         "mode": "lines",
         "showlegend": false,
         "type": "scatter3d",
         "x": [
          0,
          0
         ],
         "y": [
          1,
          5
         ],
         "z": [
          5,
          5
         ]
        },
        {
         "hoverinfo": "skip",
         "line": {
          "color": "green",
          "width": 2
         },
         "mode": "lines",
         "showlegend": false,
         "type": "scatter3d",
         "x": [
          0,
          1
         ],
         "y": [
          1,
          1
         ],
         "z": [
          5,
          5
         ]
        },
        {
         "hoverinfo": "skip",
         "line": {
          "color": "green",
          "width": 2
         },
         "mode": "lines",
         "showlegend": false,
         "type": "scatter3d",
         "x": [
          0,
          2
         ],
         "y": [
          1,
          1
         ],
         "z": [
          5,
          5
         ]
        },
        {
         "hoverinfo": "skip",
         "line": {
          "color": "green",
          "width": 2
         },
         "mode": "lines",
         "showlegend": false,
         "type": "scatter3d",
         "x": [
          0,
          3
         ],
         "y": [
          1,
          1
         ],
         "z": [
          5,
          5
         ]
        },
        {
         "hoverinfo": "skip",
         "line": {
          "color": "green",
          "width": 2
         },
         "mode": "lines",
         "showlegend": false,
         "type": "scatter3d",
         "x": [
          0,
          4
         ],
         "y": [
          1,
          1
         ],
         "z": [
          5,
          5
         ]
        },
        {
         "hoverinfo": "skip",
         "line": {
          "color": "green",
          "width": 2
         },
         "mode": "lines",
         "showlegend": false,
         "type": "scatter3d",
         "x": [
          0,
          5
         ],
         "y": [
          1,
          1
         ],
         "z": [
          5,
          5
         ]
        },
        {
         "hoverinfo": "skip",
         "line": {
          "color": "green",
          "width": 2
         },
         "mode": "lines",
         "showlegend": false,
         "type": "scatter3d",
         "x": [
          0,
          0
         ],
         "y": [
          1,
          1
         ],
         "z": [
          6,
          7
         ]
        },
        {
         "hoverinfo": "skip",
         "line": {
          "color": "green",
          "width": 2
         },
         "mode": "lines",
         "showlegend": false,
         "type": "scatter3d",
         "x": [
          0,
          0
         ],
         "y": [
          1,
          2
         ],
         "z": [
          6,
          6
         ]
        },
        {
         "hoverinfo": "skip",
         "line": {
          "color": "green",
          "width": 2
         },
         "mode": "lines",
         "showlegend": false,
         "type": "scatter3d",
         "x": [
          0,
          0
         ],
         "y": [
          1,
          3
         ],
         "z": [
          6,
          6
         ]
        },
        {
         "hoverinfo": "skip",
         "line": {
          "color": "green",
          "width": 2
         },
         "mode": "lines",
         "showlegend": false,
         "type": "scatter3d",
         "x": [
          0,
          0
         ],
         "y": [
          1,
          4
         ],
         "z": [
          6,
          6
         ]
        },
        {
         "hoverinfo": "skip",
         "line": {
          "color": "green",
          "width": 2
         },
         "mode": "lines",
         "showlegend": false,
         "type": "scatter3d",
         "x": [
          0,
          0
         ],
         "y": [
          1,
          5
         ],
         "z": [
          6,
          6
         ]
        },
        {
         "hoverinfo": "skip",
         "line": {
          "color": "green",
          "width": 2
         },
         "mode": "lines",
         "showlegend": false,
         "type": "scatter3d",
         "x": [
          0,
          1
         ],
         "y": [
          1,
          1
         ],
         "z": [
          6,
          6
         ]
        },
        {
         "hoverinfo": "skip",
         "line": {
          "color": "green",
          "width": 2
         },
         "mode": "lines",
         "showlegend": false,
         "type": "scatter3d",
         "x": [
          0,
          2
         ],
         "y": [
          1,
          1
         ],
         "z": [
          6,
          6
         ]
        },
        {
         "hoverinfo": "skip",
         "line": {
          "color": "green",
          "width": 2
         },
         "mode": "lines",
         "showlegend": false,
         "type": "scatter3d",
         "x": [
          0,
          3
         ],
         "y": [
          1,
          1
         ],
         "z": [
          6,
          6
         ]
        },
        {
         "hoverinfo": "skip",
         "line": {
          "color": "green",
          "width": 2
         },
         "mode": "lines",
         "showlegend": false,
         "type": "scatter3d",
         "x": [
          0,
          4
         ],
         "y": [
          1,
          1
         ],
         "z": [
          6,
          6
         ]
        },
        {
         "hoverinfo": "skip",
         "line": {
          "color": "green",
          "width": 2
         },
         "mode": "lines",
         "showlegend": false,
         "type": "scatter3d",
         "x": [
          0,
          5
         ],
         "y": [
          1,
          1
         ],
         "z": [
          6,
          6
         ]
        },
        {
         "hoverinfo": "skip",
         "line": {
          "color": "green",
          "width": 2
         },
         "mode": "lines",
         "showlegend": false,
         "type": "scatter3d",
         "x": [
          0,
          0
         ],
         "y": [
          1,
          2
         ],
         "z": [
          7,
          7
         ]
        },
        {
         "hoverinfo": "skip",
         "line": {
          "color": "green",
          "width": 2
         },
         "mode": "lines",
         "showlegend": false,
         "type": "scatter3d",
         "x": [
          0,
          0
         ],
         "y": [
          1,
          3
         ],
         "z": [
          7,
          7
         ]
        },
        {
         "hoverinfo": "skip",
         "line": {
          "color": "green",
          "width": 2
         },
         "mode": "lines",
         "showlegend": false,
         "type": "scatter3d",
         "x": [
          0,
          0
         ],
         "y": [
          1,
          4
         ],
         "z": [
          7,
          7
         ]
        },
        {
         "hoverinfo": "skip",
         "line": {
          "color": "green",
          "width": 2
         },
         "mode": "lines",
         "showlegend": false,
         "type": "scatter3d",
         "x": [
          0,
          0
         ],
         "y": [
          1,
          5
         ],
         "z": [
          7,
          7
         ]
        },
        {
         "hoverinfo": "skip",
         "line": {
          "color": "green",
          "width": 2
         },
         "mode": "lines",
         "showlegend": false,
         "type": "scatter3d",
         "x": [
          0,
          1
         ],
         "y": [
          1,
          1
         ],
         "z": [
          7,
          7
         ]
        },
        {
         "hoverinfo": "skip",
         "line": {
          "color": "green",
          "width": 2
         },
         "mode": "lines",
         "showlegend": false,
         "type": "scatter3d",
         "x": [
          0,
          2
         ],
         "y": [
          1,
          1
         ],
         "z": [
          7,
          7
         ]
        },
        {
         "hoverinfo": "skip",
         "line": {
          "color": "green",
          "width": 2
         },
         "mode": "lines",
         "showlegend": false,
         "type": "scatter3d",
         "x": [
          0,
          3
         ],
         "y": [
          1,
          1
         ],
         "z": [
          7,
          7
         ]
        },
        {
         "hoverinfo": "skip",
         "line": {
          "color": "green",
          "width": 2
         },
         "mode": "lines",
         "showlegend": false,
         "type": "scatter3d",
         "x": [
          0,
          4
         ],
         "y": [
          1,
          1
         ],
         "z": [
          7,
          7
         ]
        },
        {
         "hoverinfo": "skip",
         "line": {
          "color": "green",
          "width": 2
         },
         "mode": "lines",
         "showlegend": false,
         "type": "scatter3d",
         "x": [
          0,
          5
         ],
         "y": [
          1,
          1
         ],
         "z": [
          7,
          7
         ]
        },
        {
         "hoverinfo": "skip",
         "line": {
          "color": "green",
          "width": 2
         },
         "mode": "lines",
         "showlegend": false,
         "type": "scatter3d",
         "x": [
          0,
          0
         ],
         "y": [
          2,
          2
         ],
         "z": [
          0,
          1
         ]
        },
        {
         "hoverinfo": "skip",
         "line": {
          "color": "green",
          "width": 2
         },
         "mode": "lines",
         "showlegend": false,
         "type": "scatter3d",
         "x": [
          0,
          0
         ],
         "y": [
          2,
          2
         ],
         "z": [
          0,
          2
         ]
        },
        {
         "hoverinfo": "skip",
         "line": {
          "color": "green",
          "width": 2
         },
         "mode": "lines",
         "showlegend": false,
         "type": "scatter3d",
         "x": [
          0,
          0
         ],
         "y": [
          2,
          2
         ],
         "z": [
          0,
          3
         ]
        },
        {
         "hoverinfo": "skip",
         "line": {
          "color": "green",
          "width": 2
         },
         "mode": "lines",
         "showlegend": false,
         "type": "scatter3d",
         "x": [
          0,
          0
         ],
         "y": [
          2,
          2
         ],
         "z": [
          0,
          4
         ]
        },
        {
         "hoverinfo": "skip",
         "line": {
          "color": "green",
          "width": 2
         },
         "mode": "lines",
         "showlegend": false,
         "type": "scatter3d",
         "x": [
          0,
          0
         ],
         "y": [
          2,
          2
         ],
         "z": [
          0,
          5
         ]
        },
        {
         "hoverinfo": "skip",
         "line": {
          "color": "green",
          "width": 2
         },
         "mode": "lines",
         "showlegend": false,
         "type": "scatter3d",
         "x": [
          0,
          0
         ],
         "y": [
          2,
          2
         ],
         "z": [
          0,
          6
         ]
        },
        {
         "hoverinfo": "skip",
         "line": {
          "color": "green",
          "width": 2
         },
         "mode": "lines",
         "showlegend": false,
         "type": "scatter3d",
         "x": [
          0,
          0
         ],
         "y": [
          2,
          2
         ],
         "z": [
          0,
          7
         ]
        },
        {
         "hoverinfo": "skip",
         "line": {
          "color": "green",
          "width": 2
         },
         "mode": "lines",
         "showlegend": false,
         "type": "scatter3d",
         "x": [
          0,
          0
         ],
         "y": [
          2,
          3
         ],
         "z": [
          0,
          0
         ]
        },
        {
         "hoverinfo": "skip",
         "line": {
          "color": "green",
          "width": 2
         },
         "mode": "lines",
         "showlegend": false,
         "type": "scatter3d",
         "x": [
          0,
          0
         ],
         "y": [
          2,
          4
         ],
         "z": [
          0,
          0
         ]
        },
        {
         "hoverinfo": "skip",
         "line": {
          "color": "green",
          "width": 2
         },
         "mode": "lines",
         "showlegend": false,
         "type": "scatter3d",
         "x": [
          0,
          0
         ],
         "y": [
          2,
          5
         ],
         "z": [
          0,
          0
         ]
        },
        {
         "hoverinfo": "skip",
         "line": {
          "color": "green",
          "width": 2
         },
         "mode": "lines",
         "showlegend": false,
         "type": "scatter3d",
         "x": [
          0,
          1
         ],
         "y": [
          2,
          2
         ],
         "z": [
          0,
          0
         ]
        },
        {
         "hoverinfo": "skip",
         "line": {
          "color": "green",
          "width": 2
         },
         "mode": "lines",
         "showlegend": false,
         "type": "scatter3d",
         "x": [
          0,
          2
         ],
         "y": [
          2,
          2
         ],
         "z": [
          0,
          0
         ]
        },
        {
         "hoverinfo": "skip",
         "line": {
          "color": "green",
          "width": 2
         },
         "mode": "lines",
         "showlegend": false,
         "type": "scatter3d",
         "x": [
          0,
          3
         ],
         "y": [
          2,
          2
         ],
         "z": [
          0,
          0
         ]
        },
        {
         "hoverinfo": "skip",
         "line": {
          "color": "green",
          "width": 2
         },
         "mode": "lines",
         "showlegend": false,
         "type": "scatter3d",
         "x": [
          0,
          4
         ],
         "y": [
          2,
          2
         ],
         "z": [
          0,
          0
         ]
        },
        {
         "hoverinfo": "skip",
         "line": {
          "color": "green",
          "width": 2
         },
         "mode": "lines",
         "showlegend": false,
         "type": "scatter3d",
         "x": [
          0,
          5
         ],
         "y": [
          2,
          2
         ],
         "z": [
          0,
          0
         ]
        },
        {
         "hoverinfo": "skip",
         "line": {
          "color": "green",
          "width": 2
         },
         "mode": "lines",
         "showlegend": false,
         "type": "scatter3d",
         "x": [
          0,
          0
         ],
         "y": [
          2,
          2
         ],
         "z": [
          1,
          2
         ]
        },
        {
         "hoverinfo": "skip",
         "line": {
          "color": "green",
          "width": 2
         },
         "mode": "lines",
         "showlegend": false,
         "type": "scatter3d",
         "x": [
          0,
          0
         ],
         "y": [
          2,
          2
         ],
         "z": [
          1,
          3
         ]
        },
        {
         "hoverinfo": "skip",
         "line": {
          "color": "green",
          "width": 2
         },
         "mode": "lines",
         "showlegend": false,
         "type": "scatter3d",
         "x": [
          0,
          0
         ],
         "y": [
          2,
          2
         ],
         "z": [
          1,
          4
         ]
        },
        {
         "hoverinfo": "skip",
         "line": {
          "color": "green",
          "width": 2
         },
         "mode": "lines",
         "showlegend": false,
         "type": "scatter3d",
         "x": [
          0,
          0
         ],
         "y": [
          2,
          2
         ],
         "z": [
          1,
          5
         ]
        },
        {
         "hoverinfo": "skip",
         "line": {
          "color": "green",
          "width": 2
         },
         "mode": "lines",
         "showlegend": false,
         "type": "scatter3d",
         "x": [
          0,
          0
         ],
         "y": [
          2,
          2
         ],
         "z": [
          1,
          6
         ]
        },
        {
         "hoverinfo": "skip",
         "line": {
          "color": "green",
          "width": 2
         },
         "mode": "lines",
         "showlegend": false,
         "type": "scatter3d",
         "x": [
          0,
          0
         ],
         "y": [
          2,
          2
         ],
         "z": [
          1,
          7
         ]
        },
        {
         "hoverinfo": "skip",
         "line": {
          "color": "green",
          "width": 2
         },
         "mode": "lines",
         "showlegend": false,
         "type": "scatter3d",
         "x": [
          0,
          0
         ],
         "y": [
          2,
          3
         ],
         "z": [
          1,
          1
         ]
        },
        {
         "hoverinfo": "skip",
         "line": {
          "color": "green",
          "width": 2
         },
         "mode": "lines",
         "showlegend": false,
         "type": "scatter3d",
         "x": [
          0,
          0
         ],
         "y": [
          2,
          4
         ],
         "z": [
          1,
          1
         ]
        },
        {
         "hoverinfo": "skip",
         "line": {
          "color": "green",
          "width": 2
         },
         "mode": "lines",
         "showlegend": false,
         "type": "scatter3d",
         "x": [
          0,
          0
         ],
         "y": [
          2,
          5
         ],
         "z": [
          1,
          1
         ]
        },
        {
         "hoverinfo": "skip",
         "line": {
          "color": "green",
          "width": 2
         },
         "mode": "lines",
         "showlegend": false,
         "type": "scatter3d",
         "x": [
          0,
          1
         ],
         "y": [
          2,
          2
         ],
         "z": [
          1,
          1
         ]
        },
        {
         "hoverinfo": "skip",
         "line": {
          "color": "green",
          "width": 2
         },
         "mode": "lines",
         "showlegend": false,
         "type": "scatter3d",
         "x": [
          0,
          2
         ],
         "y": [
          2,
          2
         ],
         "z": [
          1,
          1
         ]
        },
        {
         "hoverinfo": "skip",
         "line": {
          "color": "green",
          "width": 2
         },
         "mode": "lines",
         "showlegend": false,
         "type": "scatter3d",
         "x": [
          0,
          3
         ],
         "y": [
          2,
          2
         ],
         "z": [
          1,
          1
         ]
        },
        {
         "hoverinfo": "skip",
         "line": {
          "color": "green",
          "width": 2
         },
         "mode": "lines",
         "showlegend": false,
         "type": "scatter3d",
         "x": [
          0,
          4
         ],
         "y": [
          2,
          2
         ],
         "z": [
          1,
          1
         ]
        },
        {
         "hoverinfo": "skip",
         "line": {
          "color": "green",
          "width": 2
         },
         "mode": "lines",
         "showlegend": false,
         "type": "scatter3d",
         "x": [
          0,
          5
         ],
         "y": [
          2,
          2
         ],
         "z": [
          1,
          1
         ]
        },
        {
         "hoverinfo": "skip",
         "line": {
          "color": "green",
          "width": 2
         },
         "mode": "lines",
         "showlegend": false,
         "type": "scatter3d",
         "x": [
          0,
          0
         ],
         "y": [
          2,
          2
         ],
         "z": [
          2,
          3
         ]
        },
        {
         "hoverinfo": "skip",
         "line": {
          "color": "green",
          "width": 2
         },
         "mode": "lines",
         "showlegend": false,
         "type": "scatter3d",
         "x": [
          0,
          0
         ],
         "y": [
          2,
          2
         ],
         "z": [
          2,
          4
         ]
        },
        {
         "hoverinfo": "skip",
         "line": {
          "color": "green",
          "width": 2
         },
         "mode": "lines",
         "showlegend": false,
         "type": "scatter3d",
         "x": [
          0,
          0
         ],
         "y": [
          2,
          2
         ],
         "z": [
          2,
          5
         ]
        },
        {
         "hoverinfo": "skip",
         "line": {
          "color": "green",
          "width": 2
         },
         "mode": "lines",
         "showlegend": false,
         "type": "scatter3d",
         "x": [
          0,
          0
         ],
         "y": [
          2,
          2
         ],
         "z": [
          2,
          6
         ]
        },
        {
         "hoverinfo": "skip",
         "line": {
          "color": "green",
          "width": 2
         },
         "mode": "lines",
         "showlegend": false,
         "type": "scatter3d",
         "x": [
          0,
          0
         ],
         "y": [
          2,
          2
         ],
         "z": [
          2,
          7
         ]
        },
        {
         "hoverinfo": "skip",
         "line": {
          "color": "green",
          "width": 2
         },
         "mode": "lines",
         "showlegend": false,
         "type": "scatter3d",
         "x": [
          0,
          0
         ],
         "y": [
          2,
          3
         ],
         "z": [
          2,
          2
         ]
        },
        {
         "hoverinfo": "skip",
         "line": {
          "color": "green",
          "width": 2
         },
         "mode": "lines",
         "showlegend": false,
         "type": "scatter3d",
         "x": [
          0,
          0
         ],
         "y": [
          2,
          4
         ],
         "z": [
          2,
          2
         ]
        },
        {
         "hoverinfo": "skip",
         "line": {
          "color": "green",
          "width": 2
         },
         "mode": "lines",
         "showlegend": false,
         "type": "scatter3d",
         "x": [
          0,
          0
         ],
         "y": [
          2,
          5
         ],
         "z": [
          2,
          2
         ]
        },
        {
         "hoverinfo": "skip",
         "line": {
          "color": "green",
          "width": 2
         },
         "mode": "lines",
         "showlegend": false,
         "type": "scatter3d",
         "x": [
          0,
          1
         ],
         "y": [
          2,
          2
         ],
         "z": [
          2,
          2
         ]
        },
        {
         "hoverinfo": "skip",
         "line": {
          "color": "green",
          "width": 2
         },
         "mode": "lines",
         "showlegend": false,
         "type": "scatter3d",
         "x": [
          0,
          2
         ],
         "y": [
          2,
          2
         ],
         "z": [
          2,
          2
         ]
        },
        {
         "hoverinfo": "skip",
         "line": {
          "color": "green",
          "width": 2
         },
         "mode": "lines",
         "showlegend": false,
         "type": "scatter3d",
         "x": [
          0,
          3
         ],
         "y": [
          2,
          2
         ],
         "z": [
          2,
          2
         ]
        },
        {
         "hoverinfo": "skip",
         "line": {
          "color": "green",
          "width": 2
         },
         "mode": "lines",
         "showlegend": false,
         "type": "scatter3d",
         "x": [
          0,
          4
         ],
         "y": [
          2,
          2
         ],
         "z": [
          2,
          2
         ]
        },
        {
         "hoverinfo": "skip",
         "line": {
          "color": "green",
          "width": 2
         },
         "mode": "lines",
         "showlegend": false,
         "type": "scatter3d",
         "x": [
          0,
          5
         ],
         "y": [
          2,
          2
         ],
         "z": [
          2,
          2
         ]
        },
        {
         "hoverinfo": "skip",
         "line": {
          "color": "green",
          "width": 2
         },
         "mode": "lines",
         "showlegend": false,
         "type": "scatter3d",
         "x": [
          0,
          0
         ],
         "y": [
          2,
          2
         ],
         "z": [
          3,
          4
         ]
        },
        {
         "hoverinfo": "skip",
         "line": {
          "color": "green",
          "width": 2
         },
         "mode": "lines",
         "showlegend": false,
         "type": "scatter3d",
         "x": [
          0,
          0
         ],
         "y": [
          2,
          2
         ],
         "z": [
          3,
          5
         ]
        },
        {
         "hoverinfo": "skip",
         "line": {
          "color": "green",
          "width": 2
         },
         "mode": "lines",
         "showlegend": false,
         "type": "scatter3d",
         "x": [
          0,
          0
         ],
         "y": [
          2,
          2
         ],
         "z": [
          3,
          6
         ]
        },
        {
         "hoverinfo": "skip",
         "line": {
          "color": "green",
          "width": 2
         },
         "mode": "lines",
         "showlegend": false,
         "type": "scatter3d",
         "x": [
          0,
          0
         ],
         "y": [
          2,
          2
         ],
         "z": [
          3,
          7
         ]
        },
        {
         "hoverinfo": "skip",
         "line": {
          "color": "green",
          "width": 2
         },
         "mode": "lines",
         "showlegend": false,
         "type": "scatter3d",
         "x": [
          0,
          0
         ],
         "y": [
          2,
          3
         ],
         "z": [
          3,
          3
         ]
        },
        {
         "hoverinfo": "skip",
         "line": {
          "color": "green",
          "width": 2
         },
         "mode": "lines",
         "showlegend": false,
         "type": "scatter3d",
         "x": [
          0,
          0
         ],
         "y": [
          2,
          4
         ],
         "z": [
          3,
          3
         ]
        },
        {
         "hoverinfo": "skip",
         "line": {
          "color": "green",
          "width": 2
         },
         "mode": "lines",
         "showlegend": false,
         "type": "scatter3d",
         "x": [
          0,
          0
         ],
         "y": [
          2,
          5
         ],
         "z": [
          3,
          3
         ]
        },
        {
         "hoverinfo": "skip",
         "line": {
          "color": "green",
          "width": 2
         },
         "mode": "lines",
         "showlegend": false,
         "type": "scatter3d",
         "x": [
          0,
          1
         ],
         "y": [
          2,
          2
         ],
         "z": [
          3,
          3
         ]
        },
        {
         "hoverinfo": "skip",
         "line": {
          "color": "green",
          "width": 2
         },
         "mode": "lines",
         "showlegend": false,
         "type": "scatter3d",
         "x": [
          0,
          2
         ],
         "y": [
          2,
          2
         ],
         "z": [
          3,
          3
         ]
        },
        {
         "hoverinfo": "skip",
         "line": {
          "color": "green",
          "width": 2
         },
         "mode": "lines",
         "showlegend": false,
         "type": "scatter3d",
         "x": [
          0,
          3
         ],
         "y": [
          2,
          2
         ],
         "z": [
          3,
          3
         ]
        },
        {
         "hoverinfo": "skip",
         "line": {
          "color": "green",
          "width": 2
         },
         "mode": "lines",
         "showlegend": false,
         "type": "scatter3d",
         "x": [
          0,
          4
         ],
         "y": [
          2,
          2
         ],
         "z": [
          3,
          3
         ]
        },
        {
         "hoverinfo": "skip",
         "line": {
          "color": "green",
          "width": 2
         },
         "mode": "lines",
         "showlegend": false,
         "type": "scatter3d",
         "x": [
          0,
          5
         ],
         "y": [
          2,
          2
         ],
         "z": [
          3,
          3
         ]
        },
        {
         "hoverinfo": "skip",
         "line": {
          "color": "green",
          "width": 2
         },
         "mode": "lines",
         "showlegend": false,
         "type": "scatter3d",
         "x": [
          0,
          0
         ],
         "y": [
          2,
          2
         ],
         "z": [
          4,
          5
         ]
        },
        {
         "hoverinfo": "skip",
         "line": {
          "color": "green",
          "width": 2
         },
         "mode": "lines",
         "showlegend": false,
         "type": "scatter3d",
         "x": [
          0,
          0
         ],
         "y": [
          2,
          2
         ],
         "z": [
          4,
          6
         ]
        },
        {
         "hoverinfo": "skip",
         "line": {
          "color": "green",
          "width": 2
         },
         "mode": "lines",
         "showlegend": false,
         "type": "scatter3d",
         "x": [
          0,
          0
         ],
         "y": [
          2,
          2
         ],
         "z": [
          4,
          7
         ]
        },
        {
         "hoverinfo": "skip",
         "line": {
          "color": "green",
          "width": 2
         },
         "mode": "lines",
         "showlegend": false,
         "type": "scatter3d",
         "x": [
          0,
          0
         ],
         "y": [
          2,
          3
         ],
         "z": [
          4,
          4
         ]
        },
        {
         "hoverinfo": "skip",
         "line": {
          "color": "green",
          "width": 2
         },
         "mode": "lines",
         "showlegend": false,
         "type": "scatter3d",
         "x": [
          0,
          0
         ],
         "y": [
          2,
          4
         ],
         "z": [
          4,
          4
         ]
        },
        {
         "hoverinfo": "skip",
         "line": {
          "color": "green",
          "width": 2
         },
         "mode": "lines",
         "showlegend": false,
         "type": "scatter3d",
         "x": [
          0,
          0
         ],
         "y": [
          2,
          5
         ],
         "z": [
          4,
          4
         ]
        },
        {
         "hoverinfo": "skip",
         "line": {
          "color": "green",
          "width": 2
         },
         "mode": "lines",
         "showlegend": false,
         "type": "scatter3d",
         "x": [
          0,
          1
         ],
         "y": [
          2,
          2
         ],
         "z": [
          4,
          4
         ]
        },
        {
         "hoverinfo": "skip",
         "line": {
          "color": "green",
          "width": 2
         },
         "mode": "lines",
         "showlegend": false,
         "type": "scatter3d",
         "x": [
          0,
          2
         ],
         "y": [
          2,
          2
         ],
         "z": [
          4,
          4
         ]
        },
        {
         "hoverinfo": "skip",
         "line": {
          "color": "green",
          "width": 2
         },
         "mode": "lines",
         "showlegend": false,
         "type": "scatter3d",
         "x": [
          0,
          3
         ],
         "y": [
          2,
          2
         ],
         "z": [
          4,
          4
         ]
        },
        {
         "hoverinfo": "skip",
         "line": {
          "color": "green",
          "width": 2
         },
         "mode": "lines",
         "showlegend": false,
         "type": "scatter3d",
         "x": [
          0,
          4
         ],
         "y": [
          2,
          2
         ],
         "z": [
          4,
          4
         ]
        },
        {
         "hoverinfo": "skip",
         "line": {
          "color": "green",
          "width": 2
         },
         "mode": "lines",
         "showlegend": false,
         "type": "scatter3d",
         "x": [
          0,
          5
         ],
         "y": [
          2,
          2
         ],
         "z": [
          4,
          4
         ]
        },
        {
         "hoverinfo": "skip",
         "line": {
          "color": "green",
          "width": 2
         },
         "mode": "lines",
         "showlegend": false,
         "type": "scatter3d",
         "x": [
          0,
          0
         ],
         "y": [
          2,
          2
         ],
         "z": [
          5,
          6
         ]
        },
        {
         "hoverinfo": "skip",
         "line": {
          "color": "green",
          "width": 2
         },
         "mode": "lines",
         "showlegend": false,
         "type": "scatter3d",
         "x": [
          0,
          0
         ],
         "y": [
          2,
          2
         ],
         "z": [
          5,
          7
         ]
        },
        {
         "hoverinfo": "skip",
         "line": {
          "color": "green",
          "width": 2
         },
         "mode": "lines",
         "showlegend": false,
         "type": "scatter3d",
         "x": [
          0,
          0
         ],
         "y": [
          2,
          3
         ],
         "z": [
          5,
          5
         ]
        },
        {
         "hoverinfo": "skip",
         "line": {
          "color": "green",
          "width": 2
         },
         "mode": "lines",
         "showlegend": false,
         "type": "scatter3d",
         "x": [
          0,
          0
         ],
         "y": [
          2,
          4
         ],
         "z": [
          5,
          5
         ]
        },
        {
         "hoverinfo": "skip",
         "line": {
          "color": "green",
          "width": 2
         },
         "mode": "lines",
         "showlegend": false,
         "type": "scatter3d",
         "x": [
          0,
          0
         ],
         "y": [
          2,
          5
         ],
         "z": [
          5,
          5
         ]
        },
        {
         "hoverinfo": "skip",
         "line": {
          "color": "green",
          "width": 2
         },
         "mode": "lines",
         "showlegend": false,
         "type": "scatter3d",
         "x": [
          0,
          1
         ],
         "y": [
          2,
          2
         ],
         "z": [
          5,
          5
         ]
        },
        {
         "hoverinfo": "skip",
         "line": {
          "color": "green",
          "width": 2
         },
         "mode": "lines",
         "showlegend": false,
         "type": "scatter3d",
         "x": [
          0,
          2
         ],
         "y": [
          2,
          2
         ],
         "z": [
          5,
          5
         ]
        },
        {
         "hoverinfo": "skip",
         "line": {
          "color": "green",
          "width": 2
         },
         "mode": "lines",
         "showlegend": false,
         "type": "scatter3d",
         "x": [
          0,
          3
         ],
         "y": [
          2,
          2
         ],
         "z": [
          5,
          5
         ]
        },
        {
         "hoverinfo": "skip",
         "line": {
          "color": "green",
          "width": 2
         },
         "mode": "lines",
         "showlegend": false,
         "type": "scatter3d",
         "x": [
          0,
          4
         ],
         "y": [
          2,
          2
         ],
         "z": [
          5,
          5
         ]
        },
        {
         "hoverinfo": "skip",
         "line": {
          "color": "green",
          "width": 2
         },
         "mode": "lines",
         "showlegend": false,
         "type": "scatter3d",
         "x": [
          0,
          5
         ],
         "y": [
          2,
          2
         ],
         "z": [
          5,
          5
         ]
        },
        {
         "hoverinfo": "skip",
         "line": {
          "color": "green",
          "width": 2
         },
         "mode": "lines",
         "showlegend": false,
         "type": "scatter3d",
         "x": [
          0,
          0
         ],
         "y": [
          2,
          2
         ],
         "z": [
          6,
          7
         ]
        },
        {
         "hoverinfo": "skip",
         "line": {
          "color": "green",
          "width": 2
         },
         "mode": "lines",
         "showlegend": false,
         "type": "scatter3d",
         "x": [
          0,
          0
         ],
         "y": [
          2,
          3
         ],
         "z": [
          6,
          6
         ]
        },
        {
         "hoverinfo": "skip",
         "line": {
          "color": "green",
          "width": 2
         },
         "mode": "lines",
         "showlegend": false,
         "type": "scatter3d",
         "x": [
          0,
          0
         ],
         "y": [
          2,
          4
         ],
         "z": [
          6,
          6
         ]
        },
        {
         "hoverinfo": "skip",
         "line": {
          "color": "green",
          "width": 2
         },
         "mode": "lines",
         "showlegend": false,
         "type": "scatter3d",
         "x": [
          0,
          0
         ],
         "y": [
          2,
          5
         ],
         "z": [
          6,
          6
         ]
        },
        {
         "hoverinfo": "skip",
         "line": {
          "color": "green",
          "width": 2
         },
         "mode": "lines",
         "showlegend": false,
         "type": "scatter3d",
         "x": [
          0,
          1
         ],
         "y": [
          2,
          2
         ],
         "z": [
          6,
          6
         ]
        },
        {
         "hoverinfo": "skip",
         "line": {
          "color": "green",
          "width": 2
         },
         "mode": "lines",
         "showlegend": false,
         "type": "scatter3d",
         "x": [
          0,
          2
         ],
         "y": [
          2,
          2
         ],
         "z": [
          6,
          6
         ]
        },
        {
         "hoverinfo": "skip",
         "line": {
          "color": "green",
          "width": 2
         },
         "mode": "lines",
         "showlegend": false,
         "type": "scatter3d",
         "x": [
          0,
          3
         ],
         "y": [
          2,
          2
         ],
         "z": [
          6,
          6
         ]
        },
        {
         "hoverinfo": "skip",
         "line": {
          "color": "green",
          "width": 2
         },
         "mode": "lines",
         "showlegend": false,
         "type": "scatter3d",
         "x": [
          0,
          4
         ],
         "y": [
          2,
          2
         ],
         "z": [
          6,
          6
         ]
        },
        {
         "hoverinfo": "skip",
         "line": {
          "color": "green",
          "width": 2
         },
         "mode": "lines",
         "showlegend": false,
         "type": "scatter3d",
         "x": [
          0,
          5
         ],
         "y": [
          2,
          2
         ],
         "z": [
          6,
          6
         ]
        },
        {
         "hoverinfo": "skip",
         "line": {
          "color": "green",
          "width": 2
         },
         "mode": "lines",
         "showlegend": false,
         "type": "scatter3d",
         "x": [
          0,
          0
         ],
         "y": [
          2,
          3
         ],
         "z": [
          7,
          7
         ]
        },
        {
         "hoverinfo": "skip",
         "line": {
          "color": "green",
          "width": 2
         },
         "mode": "lines",
         "showlegend": false,
         "type": "scatter3d",
         "x": [
          0,
          0
         ],
         "y": [
          2,
          4
         ],
         "z": [
          7,
          7
         ]
        },
        {
         "hoverinfo": "skip",
         "line": {
          "color": "green",
          "width": 2
         },
         "mode": "lines",
         "showlegend": false,
         "type": "scatter3d",
         "x": [
          0,
          0
         ],
         "y": [
          2,
          5
         ],
         "z": [
          7,
          7
         ]
        },
        {
         "hoverinfo": "skip",
         "line": {
          "color": "green",
          "width": 2
         },
         "mode": "lines",
         "showlegend": false,
         "type": "scatter3d",
         "x": [
          0,
          1
         ],
         "y": [
          2,
          2
         ],
         "z": [
          7,
          7
         ]
        },
        {
         "hoverinfo": "skip",
         "line": {
          "color": "green",
          "width": 2
         },
         "mode": "lines",
         "showlegend": false,
         "type": "scatter3d",
         "x": [
          0,
          2
         ],
         "y": [
          2,
          2
         ],
         "z": [
          7,
          7
         ]
        },
        {
         "hoverinfo": "skip",
         "line": {
          "color": "green",
          "width": 2
         },
         "mode": "lines",
         "showlegend": false,
         "type": "scatter3d",
         "x": [
          0,
          3
         ],
         "y": [
          2,
          2
         ],
         "z": [
          7,
          7
         ]
        },
        {
         "hoverinfo": "skip",
         "line": {
          "color": "green",
          "width": 2
         },
         "mode": "lines",
         "showlegend": false,
         "type": "scatter3d",
         "x": [
          0,
          4
         ],
         "y": [
          2,
          2
         ],
         "z": [
          7,
          7
         ]
        },
        {
         "hoverinfo": "skip",
         "line": {
          "color": "green",
          "width": 2
         },
         "mode": "lines",
         "showlegend": false,
         "type": "scatter3d",
         "x": [
          0,
          5
         ],
         "y": [
          2,
          2
         ],
         "z": [
          7,
          7
         ]
        },
        {
         "hoverinfo": "skip",
         "line": {
          "color": "green",
          "width": 2
         },
         "mode": "lines",
         "showlegend": false,
         "type": "scatter3d",
         "x": [
          0,
          0
         ],
         "y": [
          3,
          3
         ],
         "z": [
          0,
          1
         ]
        },
        {
         "hoverinfo": "skip",
         "line": {
          "color": "green",
          "width": 2
         },
         "mode": "lines",
         "showlegend": false,
         "type": "scatter3d",
         "x": [
          0,
          0
         ],
         "y": [
          3,
          3
         ],
         "z": [
          0,
          2
         ]
        },
        {
         "hoverinfo": "skip",
         "line": {
          "color": "green",
          "width": 2
         },
         "mode": "lines",
         "showlegend": false,
         "type": "scatter3d",
         "x": [
          0,
          0
         ],
         "y": [
          3,
          3
         ],
         "z": [
          0,
          3
         ]
        },
        {
         "hoverinfo": "skip",
         "line": {
          "color": "green",
          "width": 2
         },
         "mode": "lines",
         "showlegend": false,
         "type": "scatter3d",
         "x": [
          0,
          0
         ],
         "y": [
          3,
          3
         ],
         "z": [
          0,
          4
         ]
        },
        {
         "hoverinfo": "skip",
         "line": {
          "color": "green",
          "width": 2
         },
         "mode": "lines",
         "showlegend": false,
         "type": "scatter3d",
         "x": [
          0,
          0
         ],
         "y": [
          3,
          3
         ],
         "z": [
          0,
          5
         ]
        },
        {
         "hoverinfo": "skip",
         "line": {
          "color": "green",
          "width": 2
         },
         "mode": "lines",
         "showlegend": false,
         "type": "scatter3d",
         "x": [
          0,
          0
         ],
         "y": [
          3,
          3
         ],
         "z": [
          0,
          6
         ]
        },
        {
         "hoverinfo": "skip",
         "line": {
          "color": "green",
          "width": 2
         },
         "mode": "lines",
         "showlegend": false,
         "type": "scatter3d",
         "x": [
          0,
          0
         ],
         "y": [
          3,
          3
         ],
         "z": [
          0,
          7
         ]
        },
        {
         "hoverinfo": "skip",
         "line": {
          "color": "green",
          "width": 2
         },
         "mode": "lines",
         "showlegend": false,
         "type": "scatter3d",
         "x": [
          0,
          0
         ],
         "y": [
          3,
          4
         ],
         "z": [
          0,
          0
         ]
        },
        {
         "hoverinfo": "skip",
         "line": {
          "color": "green",
          "width": 2
         },
         "mode": "lines",
         "showlegend": false,
         "type": "scatter3d",
         "x": [
          0,
          0
         ],
         "y": [
          3,
          5
         ],
         "z": [
          0,
          0
         ]
        },
        {
         "hoverinfo": "skip",
         "line": {
          "color": "green",
          "width": 2
         },
         "mode": "lines",
         "showlegend": false,
         "type": "scatter3d",
         "x": [
          0,
          1
         ],
         "y": [
          3,
          3
         ],
         "z": [
          0,
          0
         ]
        },
        {
         "hoverinfo": "skip",
         "line": {
          "color": "green",
          "width": 2
         },
         "mode": "lines",
         "showlegend": false,
         "type": "scatter3d",
         "x": [
          0,
          2
         ],
         "y": [
          3,
          3
         ],
         "z": [
          0,
          0
         ]
        },
        {
         "hoverinfo": "skip",
         "line": {
          "color": "green",
          "width": 2
         },
         "mode": "lines",
         "showlegend": false,
         "type": "scatter3d",
         "x": [
          0,
          3
         ],
         "y": [
          3,
          3
         ],
         "z": [
          0,
          0
         ]
        },
        {
         "hoverinfo": "skip",
         "line": {
          "color": "green",
          "width": 2
         },
         "mode": "lines",
         "showlegend": false,
         "type": "scatter3d",
         "x": [
          0,
          4
         ],
         "y": [
          3,
          3
         ],
         "z": [
          0,
          0
         ]
        },
        {
         "hoverinfo": "skip",
         "line": {
          "color": "green",
          "width": 2
         },
         "mode": "lines",
         "showlegend": false,
         "type": "scatter3d",
         "x": [
          0,
          5
         ],
         "y": [
          3,
          3
         ],
         "z": [
          0,
          0
         ]
        },
        {
         "hoverinfo": "skip",
         "line": {
          "color": "green",
          "width": 2
         },
         "mode": "lines",
         "showlegend": false,
         "type": "scatter3d",
         "x": [
          0,
          0
         ],
         "y": [
          3,
          3
         ],
         "z": [
          1,
          2
         ]
        },
        {
         "hoverinfo": "skip",
         "line": {
          "color": "green",
          "width": 2
         },
         "mode": "lines",
         "showlegend": false,
         "type": "scatter3d",
         "x": [
          0,
          0
         ],
         "y": [
          3,
          3
         ],
         "z": [
          1,
          3
         ]
        },
        {
         "hoverinfo": "skip",
         "line": {
          "color": "green",
          "width": 2
         },
         "mode": "lines",
         "showlegend": false,
         "type": "scatter3d",
         "x": [
          0,
          0
         ],
         "y": [
          3,
          3
         ],
         "z": [
          1,
          4
         ]
        },
        {
         "hoverinfo": "skip",
         "line": {
          "color": "green",
          "width": 2
         },
         "mode": "lines",
         "showlegend": false,
         "type": "scatter3d",
         "x": [
          0,
          0
         ],
         "y": [
          3,
          3
         ],
         "z": [
          1,
          5
         ]
        },
        {
         "hoverinfo": "skip",
         "line": {
          "color": "green",
          "width": 2
         },
         "mode": "lines",
         "showlegend": false,
         "type": "scatter3d",
         "x": [
          0,
          0
         ],
         "y": [
          3,
          3
         ],
         "z": [
          1,
          6
         ]
        },
        {
         "hoverinfo": "skip",
         "line": {
          "color": "green",
          "width": 2
         },
         "mode": "lines",
         "showlegend": false,
         "type": "scatter3d",
         "x": [
          0,
          0
         ],
         "y": [
          3,
          3
         ],
         "z": [
          1,
          7
         ]
        },
        {
         "hoverinfo": "skip",
         "line": {
          "color": "green",
          "width": 2
         },
         "mode": "lines",
         "showlegend": false,
         "type": "scatter3d",
         "x": [
          0,
          0
         ],
         "y": [
          3,
          4
         ],
         "z": [
          1,
          1
         ]
        },
        {
         "hoverinfo": "skip",
         "line": {
          "color": "green",
          "width": 2
         },
         "mode": "lines",
         "showlegend": false,
         "type": "scatter3d",
         "x": [
          0,
          0
         ],
         "y": [
          3,
          5
         ],
         "z": [
          1,
          1
         ]
        },
        {
         "hoverinfo": "skip",
         "line": {
          "color": "green",
          "width": 2
         },
         "mode": "lines",
         "showlegend": false,
         "type": "scatter3d",
         "x": [
          0,
          1
         ],
         "y": [
          3,
          3
         ],
         "z": [
          1,
          1
         ]
        },
        {
         "hoverinfo": "skip",
         "line": {
          "color": "green",
          "width": 2
         },
         "mode": "lines",
         "showlegend": false,
         "type": "scatter3d",
         "x": [
          0,
          2
         ],
         "y": [
          3,
          3
         ],
         "z": [
          1,
          1
         ]
        },
        {
         "hoverinfo": "skip",
         "line": {
          "color": "green",
          "width": 2
         },
         "mode": "lines",
         "showlegend": false,
         "type": "scatter3d",
         "x": [
          0,
          3
         ],
         "y": [
          3,
          3
         ],
         "z": [
          1,
          1
         ]
        },
        {
         "hoverinfo": "skip",
         "line": {
          "color": "green",
          "width": 2
         },
         "mode": "lines",
         "showlegend": false,
         "type": "scatter3d",
         "x": [
          0,
          4
         ],
         "y": [
          3,
          3
         ],
         "z": [
          1,
          1
         ]
        },
        {
         "hoverinfo": "skip",
         "line": {
          "color": "green",
          "width": 2
         },
         "mode": "lines",
         "showlegend": false,
         "type": "scatter3d",
         "x": [
          0,
          5
         ],
         "y": [
          3,
          3
         ],
         "z": [
          1,
          1
         ]
        },
        {
         "hoverinfo": "skip",
         "line": {
          "color": "green",
          "width": 2
         },
         "mode": "lines",
         "showlegend": false,
         "type": "scatter3d",
         "x": [
          0,
          0
         ],
         "y": [
          3,
          3
         ],
         "z": [
          2,
          3
         ]
        },
        {
         "hoverinfo": "skip",
         "line": {
          "color": "green",
          "width": 2
         },
         "mode": "lines",
         "showlegend": false,
         "type": "scatter3d",
         "x": [
          0,
          0
         ],
         "y": [
          3,
          3
         ],
         "z": [
          2,
          4
         ]
        },
        {
         "hoverinfo": "skip",
         "line": {
          "color": "green",
          "width": 2
         },
         "mode": "lines",
         "showlegend": false,
         "type": "scatter3d",
         "x": [
          0,
          0
         ],
         "y": [
          3,
          3
         ],
         "z": [
          2,
          5
         ]
        },
        {
         "hoverinfo": "skip",
         "line": {
          "color": "green",
          "width": 2
         },
         "mode": "lines",
         "showlegend": false,
         "type": "scatter3d",
         "x": [
          0,
          0
         ],
         "y": [
          3,
          3
         ],
         "z": [
          2,
          6
         ]
        },
        {
         "hoverinfo": "skip",
         "line": {
          "color": "green",
          "width": 2
         },
         "mode": "lines",
         "showlegend": false,
         "type": "scatter3d",
         "x": [
          0,
          0
         ],
         "y": [
          3,
          3
         ],
         "z": [
          2,
          7
         ]
        },
        {
         "hoverinfo": "skip",
         "line": {
          "color": "green",
          "width": 2
         },
         "mode": "lines",
         "showlegend": false,
         "type": "scatter3d",
         "x": [
          0,
          0
         ],
         "y": [
          3,
          4
         ],
         "z": [
          2,
          2
         ]
        },
        {
         "hoverinfo": "skip",
         "line": {
          "color": "green",
          "width": 2
         },
         "mode": "lines",
         "showlegend": false,
         "type": "scatter3d",
         "x": [
          0,
          0
         ],
         "y": [
          3,
          5
         ],
         "z": [
          2,
          2
         ]
        },
        {
         "hoverinfo": "skip",
         "line": {
          "color": "green",
          "width": 2
         },
         "mode": "lines",
         "showlegend": false,
         "type": "scatter3d",
         "x": [
          0,
          1
         ],
         "y": [
          3,
          3
         ],
         "z": [
          2,
          2
         ]
        },
        {
         "hoverinfo": "skip",
         "line": {
          "color": "green",
          "width": 2
         },
         "mode": "lines",
         "showlegend": false,
         "type": "scatter3d",
         "x": [
          0,
          2
         ],
         "y": [
          3,
          3
         ],
         "z": [
          2,
          2
         ]
        },
        {
         "hoverinfo": "skip",
         "line": {
          "color": "green",
          "width": 2
         },
         "mode": "lines",
         "showlegend": false,
         "type": "scatter3d",
         "x": [
          0,
          3
         ],
         "y": [
          3,
          3
         ],
         "z": [
          2,
          2
         ]
        },
        {
         "hoverinfo": "skip",
         "line": {
          "color": "green",
          "width": 2
         },
         "mode": "lines",
         "showlegend": false,
         "type": "scatter3d",
         "x": [
          0,
          4
         ],
         "y": [
          3,
          3
         ],
         "z": [
          2,
          2
         ]
        },
        {
         "hoverinfo": "skip",
         "line": {
          "color": "green",
          "width": 2
         },
         "mode": "lines",
         "showlegend": false,
         "type": "scatter3d",
         "x": [
          0,
          5
         ],
         "y": [
          3,
          3
         ],
         "z": [
          2,
          2
         ]
        },
        {
         "hoverinfo": "skip",
         "line": {
          "color": "green",
          "width": 2
         },
         "mode": "lines",
         "showlegend": false,
         "type": "scatter3d",
         "x": [
          0,
          0
         ],
         "y": [
          3,
          3
         ],
         "z": [
          3,
          4
         ]
        },
        {
         "hoverinfo": "skip",
         "line": {
          "color": "green",
          "width": 2
         },
         "mode": "lines",
         "showlegend": false,
         "type": "scatter3d",
         "x": [
          0,
          0
         ],
         "y": [
          3,
          3
         ],
         "z": [
          3,
          5
         ]
        },
        {
         "hoverinfo": "skip",
         "line": {
          "color": "green",
          "width": 2
         },
         "mode": "lines",
         "showlegend": false,
         "type": "scatter3d",
         "x": [
          0,
          0
         ],
         "y": [
          3,
          3
         ],
         "z": [
          3,
          6
         ]
        },
        {
         "hoverinfo": "skip",
         "line": {
          "color": "green",
          "width": 2
         },
         "mode": "lines",
         "showlegend": false,
         "type": "scatter3d",
         "x": [
          0,
          0
         ],
         "y": [
          3,
          3
         ],
         "z": [
          3,
          7
         ]
        },
        {
         "hoverinfo": "skip",
         "line": {
          "color": "green",
          "width": 2
         },
         "mode": "lines",
         "showlegend": false,
         "type": "scatter3d",
         "x": [
          0,
          0
         ],
         "y": [
          3,
          4
         ],
         "z": [
          3,
          3
         ]
        },
        {
         "hoverinfo": "skip",
         "line": {
          "color": "green",
          "width": 2
         },
         "mode": "lines",
         "showlegend": false,
         "type": "scatter3d",
         "x": [
          0,
          0
         ],
         "y": [
          3,
          5
         ],
         "z": [
          3,
          3
         ]
        },
        {
         "hoverinfo": "skip",
         "line": {
          "color": "green",
          "width": 2
         },
         "mode": "lines",
         "showlegend": false,
         "type": "scatter3d",
         "x": [
          0,
          1
         ],
         "y": [
          3,
          3
         ],
         "z": [
          3,
          3
         ]
        },
        {
         "hoverinfo": "skip",
         "line": {
          "color": "green",
          "width": 2
         },
         "mode": "lines",
         "showlegend": false,
         "type": "scatter3d",
         "x": [
          0,
          2
         ],
         "y": [
          3,
          3
         ],
         "z": [
          3,
          3
         ]
        },
        {
         "hoverinfo": "skip",
         "line": {
          "color": "green",
          "width": 2
         },
         "mode": "lines",
         "showlegend": false,
         "type": "scatter3d",
         "x": [
          0,
          3
         ],
         "y": [
          3,
          3
         ],
         "z": [
          3,
          3
         ]
        },
        {
         "hoverinfo": "skip",
         "line": {
          "color": "green",
          "width": 2
         },
         "mode": "lines",
         "showlegend": false,
         "type": "scatter3d",
         "x": [
          0,
          4
         ],
         "y": [
          3,
          3
         ],
         "z": [
          3,
          3
         ]
        },
        {
         "hoverinfo": "skip",
         "line": {
          "color": "green",
          "width": 2
         },
         "mode": "lines",
         "showlegend": false,
         "type": "scatter3d",
         "x": [
          0,
          5
         ],
         "y": [
          3,
          3
         ],
         "z": [
          3,
          3
         ]
        },
        {
         "hoverinfo": "skip",
         "line": {
          "color": "green",
          "width": 2
         },
         "mode": "lines",
         "showlegend": false,
         "type": "scatter3d",
         "x": [
          0,
          0
         ],
         "y": [
          3,
          3
         ],
         "z": [
          4,
          5
         ]
        },
        {
         "hoverinfo": "skip",
         "line": {
          "color": "green",
          "width": 2
         },
         "mode": "lines",
         "showlegend": false,
         "type": "scatter3d",
         "x": [
          0,
          0
         ],
         "y": [
          3,
          3
         ],
         "z": [
          4,
          6
         ]
        },
        {
         "hoverinfo": "skip",
         "line": {
          "color": "green",
          "width": 2
         },
         "mode": "lines",
         "showlegend": false,
         "type": "scatter3d",
         "x": [
          0,
          0
         ],
         "y": [
          3,
          3
         ],
         "z": [
          4,
          7
         ]
        },
        {
         "hoverinfo": "skip",
         "line": {
          "color": "green",
          "width": 2
         },
         "mode": "lines",
         "showlegend": false,
         "type": "scatter3d",
         "x": [
          0,
          0
         ],
         "y": [
          3,
          4
         ],
         "z": [
          4,
          4
         ]
        },
        {
         "hoverinfo": "skip",
         "line": {
          "color": "green",
          "width": 2
         },
         "mode": "lines",
         "showlegend": false,
         "type": "scatter3d",
         "x": [
          0,
          0
         ],
         "y": [
          3,
          5
         ],
         "z": [
          4,
          4
         ]
        },
        {
         "hoverinfo": "skip",
         "line": {
          "color": "green",
          "width": 2
         },
         "mode": "lines",
         "showlegend": false,
         "type": "scatter3d",
         "x": [
          0,
          1
         ],
         "y": [
          3,
          3
         ],
         "z": [
          4,
          4
         ]
        },
        {
         "hoverinfo": "skip",
         "line": {
          "color": "green",
          "width": 2
         },
         "mode": "lines",
         "showlegend": false,
         "type": "scatter3d",
         "x": [
          0,
          2
         ],
         "y": [
          3,
          3
         ],
         "z": [
          4,
          4
         ]
        },
        {
         "hoverinfo": "skip",
         "line": {
          "color": "green",
          "width": 2
         },
         "mode": "lines",
         "showlegend": false,
         "type": "scatter3d",
         "x": [
          0,
          3
         ],
         "y": [
          3,
          3
         ],
         "z": [
          4,
          4
         ]
        },
        {
         "hoverinfo": "skip",
         "line": {
          "color": "green",
          "width": 2
         },
         "mode": "lines",
         "showlegend": false,
         "type": "scatter3d",
         "x": [
          0,
          4
         ],
         "y": [
          3,
          3
         ],
         "z": [
          4,
          4
         ]
        },
        {
         "hoverinfo": "skip",
         "line": {
          "color": "green",
          "width": 2
         },
         "mode": "lines",
         "showlegend": false,
         "type": "scatter3d",
         "x": [
          0,
          5
         ],
         "y": [
          3,
          3
         ],
         "z": [
          4,
          4
         ]
        },
        {
         "hoverinfo": "skip",
         "line": {
          "color": "green",
          "width": 2
         },
         "mode": "lines",
         "showlegend": false,
         "type": "scatter3d",
         "x": [
          0,
          0
         ],
         "y": [
          3,
          3
         ],
         "z": [
          5,
          6
         ]
        },
        {
         "hoverinfo": "skip",
         "line": {
          "color": "green",
          "width": 2
         },
         "mode": "lines",
         "showlegend": false,
         "type": "scatter3d",
         "x": [
          0,
          0
         ],
         "y": [
          3,
          3
         ],
         "z": [
          5,
          7
         ]
        },
        {
         "hoverinfo": "skip",
         "line": {
          "color": "green",
          "width": 2
         },
         "mode": "lines",
         "showlegend": false,
         "type": "scatter3d",
         "x": [
          0,
          0
         ],
         "y": [
          3,
          4
         ],
         "z": [
          5,
          5
         ]
        },
        {
         "hoverinfo": "skip",
         "line": {
          "color": "green",
          "width": 2
         },
         "mode": "lines",
         "showlegend": false,
         "type": "scatter3d",
         "x": [
          0,
          0
         ],
         "y": [
          3,
          5
         ],
         "z": [
          5,
          5
         ]
        },
        {
         "hoverinfo": "skip",
         "line": {
          "color": "green",
          "width": 2
         },
         "mode": "lines",
         "showlegend": false,
         "type": "scatter3d",
         "x": [
          0,
          1
         ],
         "y": [
          3,
          3
         ],
         "z": [
          5,
          5
         ]
        },
        {
         "hoverinfo": "skip",
         "line": {
          "color": "green",
          "width": 2
         },
         "mode": "lines",
         "showlegend": false,
         "type": "scatter3d",
         "x": [
          0,
          2
         ],
         "y": [
          3,
          3
         ],
         "z": [
          5,
          5
         ]
        },
        {
         "hoverinfo": "skip",
         "line": {
          "color": "green",
          "width": 2
         },
         "mode": "lines",
         "showlegend": false,
         "type": "scatter3d",
         "x": [
          0,
          3
         ],
         "y": [
          3,
          3
         ],
         "z": [
          5,
          5
         ]
        },
        {
         "hoverinfo": "skip",
         "line": {
          "color": "green",
          "width": 2
         },
         "mode": "lines",
         "showlegend": false,
         "type": "scatter3d",
         "x": [
          0,
          4
         ],
         "y": [
          3,
          3
         ],
         "z": [
          5,
          5
         ]
        },
        {
         "hoverinfo": "skip",
         "line": {
          "color": "green",
          "width": 2
         },
         "mode": "lines",
         "showlegend": false,
         "type": "scatter3d",
         "x": [
          0,
          5
         ],
         "y": [
          3,
          3
         ],
         "z": [
          5,
          5
         ]
        },
        {
         "hoverinfo": "skip",
         "line": {
          "color": "green",
          "width": 2
         },
         "mode": "lines",
         "showlegend": false,
         "type": "scatter3d",
         "x": [
          0,
          0
         ],
         "y": [
          3,
          3
         ],
         "z": [
          6,
          7
         ]
        },
        {
         "hoverinfo": "skip",
         "line": {
          "color": "green",
          "width": 2
         },
         "mode": "lines",
         "showlegend": false,
         "type": "scatter3d",
         "x": [
          0,
          0
         ],
         "y": [
          3,
          4
         ],
         "z": [
          6,
          6
         ]
        },
        {
         "hoverinfo": "skip",
         "line": {
          "color": "green",
          "width": 2
         },
         "mode": "lines",
         "showlegend": false,
         "type": "scatter3d",
         "x": [
          0,
          0
         ],
         "y": [
          3,
          5
         ],
         "z": [
          6,
          6
         ]
        },
        {
         "hoverinfo": "skip",
         "line": {
          "color": "green",
          "width": 2
         },
         "mode": "lines",
         "showlegend": false,
         "type": "scatter3d",
         "x": [
          0,
          1
         ],
         "y": [
          3,
          3
         ],
         "z": [
          6,
          6
         ]
        },
        {
         "hoverinfo": "skip",
         "line": {
          "color": "green",
          "width": 2
         },
         "mode": "lines",
         "showlegend": false,
         "type": "scatter3d",
         "x": [
          0,
          2
         ],
         "y": [
          3,
          3
         ],
         "z": [
          6,
          6
         ]
        },
        {
         "hoverinfo": "skip",
         "line": {
          "color": "green",
          "width": 2
         },
         "mode": "lines",
         "showlegend": false,
         "type": "scatter3d",
         "x": [
          0,
          3
         ],
         "y": [
          3,
          3
         ],
         "z": [
          6,
          6
         ]
        },
        {
         "hoverinfo": "skip",
         "line": {
          "color": "green",
          "width": 2
         },
         "mode": "lines",
         "showlegend": false,
         "type": "scatter3d",
         "x": [
          0,
          4
         ],
         "y": [
          3,
          3
         ],
         "z": [
          6,
          6
         ]
        },
        {
         "hoverinfo": "skip",
         "line": {
          "color": "green",
          "width": 2
         },
         "mode": "lines",
         "showlegend": false,
         "type": "scatter3d",
         "x": [
          0,
          5
         ],
         "y": [
          3,
          3
         ],
         "z": [
          6,
          6
         ]
        },
        {
         "hoverinfo": "skip",
         "line": {
          "color": "green",
          "width": 2
         },
         "mode": "lines",
         "showlegend": false,
         "type": "scatter3d",
         "x": [
          0,
          0
         ],
         "y": [
          3,
          4
         ],
         "z": [
          7,
          7
         ]
        },
        {
         "hoverinfo": "skip",
         "line": {
          "color": "green",
          "width": 2
         },
         "mode": "lines",
         "showlegend": false,
         "type": "scatter3d",
         "x": [
          0,
          0
         ],
         "y": [
          3,
          5
         ],
         "z": [
          7,
          7
         ]
        },
        {
         "hoverinfo": "skip",
         "line": {
          "color": "green",
          "width": 2
         },
         "mode": "lines",
         "showlegend": false,
         "type": "scatter3d",
         "x": [
          0,
          1
         ],
         "y": [
          3,
          3
         ],
         "z": [
          7,
          7
         ]
        },
        {
         "hoverinfo": "skip",
         "line": {
          "color": "green",
          "width": 2
         },
         "mode": "lines",
         "showlegend": false,
         "type": "scatter3d",
         "x": [
          0,
          2
         ],
         "y": [
          3,
          3
         ],
         "z": [
          7,
          7
         ]
        },
        {
         "hoverinfo": "skip",
         "line": {
          "color": "green",
          "width": 2
         },
         "mode": "lines",
         "showlegend": false,
         "type": "scatter3d",
         "x": [
          0,
          3
         ],
         "y": [
          3,
          3
         ],
         "z": [
          7,
          7
         ]
        },
        {
         "hoverinfo": "skip",
         "line": {
          "color": "green",
          "width": 2
         },
         "mode": "lines",
         "showlegend": false,
         "type": "scatter3d",
         "x": [
          0,
          4
         ],
         "y": [
          3,
          3
         ],
         "z": [
          7,
          7
         ]
        },
        {
         "hoverinfo": "skip",
         "line": {
          "color": "green",
          "width": 2
         },
         "mode": "lines",
         "showlegend": false,
         "type": "scatter3d",
         "x": [
          0,
          5
         ],
         "y": [
          3,
          3
         ],
         "z": [
          7,
          7
         ]
        },
        {
         "hoverinfo": "skip",
         "line": {
          "color": "green",
          "width": 2
         },
         "mode": "lines",
         "showlegend": false,
         "type": "scatter3d",
         "x": [
          0,
          0
         ],
         "y": [
          4,
          4
         ],
         "z": [
          0,
          1
         ]
        },
        {
         "hoverinfo": "skip",
         "line": {
          "color": "green",
          "width": 2
         },
         "mode": "lines",
         "showlegend": false,
         "type": "scatter3d",
         "x": [
          0,
          0
         ],
         "y": [
          4,
          4
         ],
         "z": [
          0,
          2
         ]
        },
        {
         "hoverinfo": "skip",
         "line": {
          "color": "green",
          "width": 2
         },
         "mode": "lines",
         "showlegend": false,
         "type": "scatter3d",
         "x": [
          0,
          0
         ],
         "y": [
          4,
          4
         ],
         "z": [
          0,
          3
         ]
        },
        {
         "hoverinfo": "skip",
         "line": {
          "color": "green",
          "width": 2
         },
         "mode": "lines",
         "showlegend": false,
         "type": "scatter3d",
         "x": [
          0,
          0
         ],
         "y": [
          4,
          4
         ],
         "z": [
          0,
          4
         ]
        },
        {
         "hoverinfo": "skip",
         "line": {
          "color": "green",
          "width": 2
         },
         "mode": "lines",
         "showlegend": false,
         "type": "scatter3d",
         "x": [
          0,
          0
         ],
         "y": [
          4,
          4
         ],
         "z": [
          0,
          5
         ]
        },
        {
         "hoverinfo": "skip",
         "line": {
          "color": "green",
          "width": 2
         },
         "mode": "lines",
         "showlegend": false,
         "type": "scatter3d",
         "x": [
          0,
          0
         ],
         "y": [
          4,
          4
         ],
         "z": [
          0,
          6
         ]
        },
        {
         "hoverinfo": "skip",
         "line": {
          "color": "green",
          "width": 2
         },
         "mode": "lines",
         "showlegend": false,
         "type": "scatter3d",
         "x": [
          0,
          0
         ],
         "y": [
          4,
          4
         ],
         "z": [
          0,
          7
         ]
        },
        {
         "hoverinfo": "skip",
         "line": {
          "color": "green",
          "width": 2
         },
         "mode": "lines",
         "showlegend": false,
         "type": "scatter3d",
         "x": [
          0,
          0
         ],
         "y": [
          4,
          5
         ],
         "z": [
          0,
          0
         ]
        },
        {
         "hoverinfo": "skip",
         "line": {
          "color": "green",
          "width": 2
         },
         "mode": "lines",
         "showlegend": false,
         "type": "scatter3d",
         "x": [
          0,
          1
         ],
         "y": [
          4,
          4
         ],
         "z": [
          0,
          0
         ]
        },
        {
         "hoverinfo": "skip",
         "line": {
          "color": "green",
          "width": 2
         },
         "mode": "lines",
         "showlegend": false,
         "type": "scatter3d",
         "x": [
          0,
          2
         ],
         "y": [
          4,
          4
         ],
         "z": [
          0,
          0
         ]
        },
        {
         "hoverinfo": "skip",
         "line": {
          "color": "green",
          "width": 2
         },
         "mode": "lines",
         "showlegend": false,
         "type": "scatter3d",
         "x": [
          0,
          3
         ],
         "y": [
          4,
          4
         ],
         "z": [
          0,
          0
         ]
        },
        {
         "hoverinfo": "skip",
         "line": {
          "color": "green",
          "width": 2
         },
         "mode": "lines",
         "showlegend": false,
         "type": "scatter3d",
         "x": [
          0,
          4
         ],
         "y": [
          4,
          4
         ],
         "z": [
          0,
          0
         ]
        },
        {
         "hoverinfo": "skip",
         "line": {
          "color": "green",
          "width": 2
         },
         "mode": "lines",
         "showlegend": false,
         "type": "scatter3d",
         "x": [
          0,
          5
         ],
         "y": [
          4,
          4
         ],
         "z": [
          0,
          0
         ]
        },
        {
         "hoverinfo": "skip",
         "line": {
          "color": "green",
          "width": 2
         },
         "mode": "lines",
         "showlegend": false,
         "type": "scatter3d",
         "x": [
          0,
          0
         ],
         "y": [
          4,
          4
         ],
         "z": [
          1,
          2
         ]
        },
        {
         "hoverinfo": "skip",
         "line": {
          "color": "green",
          "width": 2
         },
         "mode": "lines",
         "showlegend": false,
         "type": "scatter3d",
         "x": [
          0,
          0
         ],
         "y": [
          4,
          4
         ],
         "z": [
          1,
          3
         ]
        },
        {
         "hoverinfo": "skip",
         "line": {
          "color": "green",
          "width": 2
         },
         "mode": "lines",
         "showlegend": false,
         "type": "scatter3d",
         "x": [
          0,
          0
         ],
         "y": [
          4,
          4
         ],
         "z": [
          1,
          4
         ]
        },
        {
         "hoverinfo": "skip",
         "line": {
          "color": "green",
          "width": 2
         },
         "mode": "lines",
         "showlegend": false,
         "type": "scatter3d",
         "x": [
          0,
          0
         ],
         "y": [
          4,
          4
         ],
         "z": [
          1,
          5
         ]
        },
        {
         "hoverinfo": "skip",
         "line": {
          "color": "green",
          "width": 2
         },
         "mode": "lines",
         "showlegend": false,
         "type": "scatter3d",
         "x": [
          0,
          0
         ],
         "y": [
          4,
          4
         ],
         "z": [
          1,
          6
         ]
        },
        {
         "hoverinfo": "skip",
         "line": {
          "color": "green",
          "width": 2
         },
         "mode": "lines",
         "showlegend": false,
         "type": "scatter3d",
         "x": [
          0,
          0
         ],
         "y": [
          4,
          4
         ],
         "z": [
          1,
          7
         ]
        },
        {
         "hoverinfo": "skip",
         "line": {
          "color": "green",
          "width": 2
         },
         "mode": "lines",
         "showlegend": false,
         "type": "scatter3d",
         "x": [
          0,
          0
         ],
         "y": [
          4,
          5
         ],
         "z": [
          1,
          1
         ]
        },
        {
         "hoverinfo": "skip",
         "line": {
          "color": "green",
          "width": 2
         },
         "mode": "lines",
         "showlegend": false,
         "type": "scatter3d",
         "x": [
          0,
          1
         ],
         "y": [
          4,
          4
         ],
         "z": [
          1,
          1
         ]
        },
        {
         "hoverinfo": "skip",
         "line": {
          "color": "green",
          "width": 2
         },
         "mode": "lines",
         "showlegend": false,
         "type": "scatter3d",
         "x": [
          0,
          2
         ],
         "y": [
          4,
          4
         ],
         "z": [
          1,
          1
         ]
        },
        {
         "hoverinfo": "skip",
         "line": {
          "color": "green",
          "width": 2
         },
         "mode": "lines",
         "showlegend": false,
         "type": "scatter3d",
         "x": [
          0,
          3
         ],
         "y": [
          4,
          4
         ],
         "z": [
          1,
          1
         ]
        },
        {
         "hoverinfo": "skip",
         "line": {
          "color": "green",
          "width": 2
         },
         "mode": "lines",
         "showlegend": false,
         "type": "scatter3d",
         "x": [
          0,
          4
         ],
         "y": [
          4,
          4
         ],
         "z": [
          1,
          1
         ]
        },
        {
         "hoverinfo": "skip",
         "line": {
          "color": "green",
          "width": 2
         },
         "mode": "lines",
         "showlegend": false,
         "type": "scatter3d",
         "x": [
          0,
          5
         ],
         "y": [
          4,
          4
         ],
         "z": [
          1,
          1
         ]
        },
        {
         "hoverinfo": "skip",
         "line": {
          "color": "green",
          "width": 2
         },
         "mode": "lines",
         "showlegend": false,
         "type": "scatter3d",
         "x": [
          0,
          0
         ],
         "y": [
          4,
          4
         ],
         "z": [
          2,
          3
         ]
        },
        {
         "hoverinfo": "skip",
         "line": {
          "color": "green",
          "width": 2
         },
         "mode": "lines",
         "showlegend": false,
         "type": "scatter3d",
         "x": [
          0,
          0
         ],
         "y": [
          4,
          4
         ],
         "z": [
          2,
          4
         ]
        },
        {
         "hoverinfo": "skip",
         "line": {
          "color": "green",
          "width": 2
         },
         "mode": "lines",
         "showlegend": false,
         "type": "scatter3d",
         "x": [
          0,
          0
         ],
         "y": [
          4,
          4
         ],
         "z": [
          2,
          5
         ]
        },
        {
         "hoverinfo": "skip",
         "line": {
          "color": "green",
          "width": 2
         },
         "mode": "lines",
         "showlegend": false,
         "type": "scatter3d",
         "x": [
          0,
          0
         ],
         "y": [
          4,
          4
         ],
         "z": [
          2,
          6
         ]
        },
        {
         "hoverinfo": "skip",
         "line": {
          "color": "green",
          "width": 2
         },
         "mode": "lines",
         "showlegend": false,
         "type": "scatter3d",
         "x": [
          0,
          0
         ],
         "y": [
          4,
          4
         ],
         "z": [
          2,
          7
         ]
        },
        {
         "hoverinfo": "skip",
         "line": {
          "color": "green",
          "width": 2
         },
         "mode": "lines",
         "showlegend": false,
         "type": "scatter3d",
         "x": [
          0,
          0
         ],
         "y": [
          4,
          5
         ],
         "z": [
          2,
          2
         ]
        },
        {
         "hoverinfo": "skip",
         "line": {
          "color": "green",
          "width": 2
         },
         "mode": "lines",
         "showlegend": false,
         "type": "scatter3d",
         "x": [
          0,
          1
         ],
         "y": [
          4,
          4
         ],
         "z": [
          2,
          2
         ]
        },
        {
         "hoverinfo": "skip",
         "line": {
          "color": "green",
          "width": 2
         },
         "mode": "lines",
         "showlegend": false,
         "type": "scatter3d",
         "x": [
          0,
          2
         ],
         "y": [
          4,
          4
         ],
         "z": [
          2,
          2
         ]
        },
        {
         "hoverinfo": "skip",
         "line": {
          "color": "green",
          "width": 2
         },
         "mode": "lines",
         "showlegend": false,
         "type": "scatter3d",
         "x": [
          0,
          3
         ],
         "y": [
          4,
          4
         ],
         "z": [
          2,
          2
         ]
        },
        {
         "hoverinfo": "skip",
         "line": {
          "color": "green",
          "width": 2
         },
         "mode": "lines",
         "showlegend": false,
         "type": "scatter3d",
         "x": [
          0,
          4
         ],
         "y": [
          4,
          4
         ],
         "z": [
          2,
          2
         ]
        },
        {
         "hoverinfo": "skip",
         "line": {
          "color": "green",
          "width": 2
         },
         "mode": "lines",
         "showlegend": false,
         "type": "scatter3d",
         "x": [
          0,
          5
         ],
         "y": [
          4,
          4
         ],
         "z": [
          2,
          2
         ]
        },
        {
         "hoverinfo": "skip",
         "line": {
          "color": "green",
          "width": 2
         },
         "mode": "lines",
         "showlegend": false,
         "type": "scatter3d",
         "x": [
          0,
          0
         ],
         "y": [
          4,
          4
         ],
         "z": [
          3,
          4
         ]
        },
        {
         "hoverinfo": "skip",
         "line": {
          "color": "green",
          "width": 2
         },
         "mode": "lines",
         "showlegend": false,
         "type": "scatter3d",
         "x": [
          0,
          0
         ],
         "y": [
          4,
          4
         ],
         "z": [
          3,
          5
         ]
        },
        {
         "hoverinfo": "skip",
         "line": {
          "color": "green",
          "width": 2
         },
         "mode": "lines",
         "showlegend": false,
         "type": "scatter3d",
         "x": [
          0,
          0
         ],
         "y": [
          4,
          4
         ],
         "z": [
          3,
          6
         ]
        },
        {
         "hoverinfo": "skip",
         "line": {
          "color": "green",
          "width": 2
         },
         "mode": "lines",
         "showlegend": false,
         "type": "scatter3d",
         "x": [
          0,
          0
         ],
         "y": [
          4,
          4
         ],
         "z": [
          3,
          7
         ]
        },
        {
         "hoverinfo": "skip",
         "line": {
          "color": "green",
          "width": 2
         },
         "mode": "lines",
         "showlegend": false,
         "type": "scatter3d",
         "x": [
          0,
          0
         ],
         "y": [
          4,
          5
         ],
         "z": [
          3,
          3
         ]
        },
        {
         "hoverinfo": "skip",
         "line": {
          "color": "green",
          "width": 2
         },
         "mode": "lines",
         "showlegend": false,
         "type": "scatter3d",
         "x": [
          0,
          1
         ],
         "y": [
          4,
          4
         ],
         "z": [
          3,
          3
         ]
        },
        {
         "hoverinfo": "skip",
         "line": {
          "color": "green",
          "width": 2
         },
         "mode": "lines",
         "showlegend": false,
         "type": "scatter3d",
         "x": [
          0,
          2
         ],
         "y": [
          4,
          4
         ],
         "z": [
          3,
          3
         ]
        },
        {
         "hoverinfo": "skip",
         "line": {
          "color": "green",
          "width": 2
         },
         "mode": "lines",
         "showlegend": false,
         "type": "scatter3d",
         "x": [
          0,
          3
         ],
         "y": [
          4,
          4
         ],
         "z": [
          3,
          3
         ]
        },
        {
         "hoverinfo": "skip",
         "line": {
          "color": "green",
          "width": 2
         },
         "mode": "lines",
         "showlegend": false,
         "type": "scatter3d",
         "x": [
          0,
          4
         ],
         "y": [
          4,
          4
         ],
         "z": [
          3,
          3
         ]
        },
        {
         "hoverinfo": "skip",
         "line": {
          "color": "green",
          "width": 2
         },
         "mode": "lines",
         "showlegend": false,
         "type": "scatter3d",
         "x": [
          0,
          5
         ],
         "y": [
          4,
          4
         ],
         "z": [
          3,
          3
         ]
        },
        {
         "hoverinfo": "skip",
         "line": {
          "color": "green",
          "width": 2
         },
         "mode": "lines",
         "showlegend": false,
         "type": "scatter3d",
         "x": [
          0,
          0
         ],
         "y": [
          4,
          4
         ],
         "z": [
          4,
          5
         ]
        },
        {
         "hoverinfo": "skip",
         "line": {
          "color": "green",
          "width": 2
         },
         "mode": "lines",
         "showlegend": false,
         "type": "scatter3d",
         "x": [
          0,
          0
         ],
         "y": [
          4,
          4
         ],
         "z": [
          4,
          6
         ]
        },
        {
         "hoverinfo": "skip",
         "line": {
          "color": "green",
          "width": 2
         },
         "mode": "lines",
         "showlegend": false,
         "type": "scatter3d",
         "x": [
          0,
          0
         ],
         "y": [
          4,
          4
         ],
         "z": [
          4,
          7
         ]
        },
        {
         "hoverinfo": "skip",
         "line": {
          "color": "green",
          "width": 2
         },
         "mode": "lines",
         "showlegend": false,
         "type": "scatter3d",
         "x": [
          0,
          0
         ],
         "y": [
          4,
          5
         ],
         "z": [
          4,
          4
         ]
        },
        {
         "hoverinfo": "skip",
         "line": {
          "color": "green",
          "width": 2
         },
         "mode": "lines",
         "showlegend": false,
         "type": "scatter3d",
         "x": [
          0,
          1
         ],
         "y": [
          4,
          4
         ],
         "z": [
          4,
          4
         ]
        },
        {
         "hoverinfo": "skip",
         "line": {
          "color": "green",
          "width": 2
         },
         "mode": "lines",
         "showlegend": false,
         "type": "scatter3d",
         "x": [
          0,
          2
         ],
         "y": [
          4,
          4
         ],
         "z": [
          4,
          4
         ]
        },
        {
         "hoverinfo": "skip",
         "line": {
          "color": "green",
          "width": 2
         },
         "mode": "lines",
         "showlegend": false,
         "type": "scatter3d",
         "x": [
          0,
          3
         ],
         "y": [
          4,
          4
         ],
         "z": [
          4,
          4
         ]
        },
        {
         "hoverinfo": "skip",
         "line": {
          "color": "green",
          "width": 2
         },
         "mode": "lines",
         "showlegend": false,
         "type": "scatter3d",
         "x": [
          0,
          4
         ],
         "y": [
          4,
          4
         ],
         "z": [
          4,
          4
         ]
        },
        {
         "hoverinfo": "skip",
         "line": {
          "color": "green",
          "width": 2
         },
         "mode": "lines",
         "showlegend": false,
         "type": "scatter3d",
         "x": [
          0,
          5
         ],
         "y": [
          4,
          4
         ],
         "z": [
          4,
          4
         ]
        },
        {
         "hoverinfo": "skip",
         "line": {
          "color": "green",
          "width": 2
         },
         "mode": "lines",
         "showlegend": false,
         "type": "scatter3d",
         "x": [
          0,
          0
         ],
         "y": [
          4,
          4
         ],
         "z": [
          5,
          6
         ]
        },
        {
         "hoverinfo": "skip",
         "line": {
          "color": "green",
          "width": 2
         },
         "mode": "lines",
         "showlegend": false,
         "type": "scatter3d",
         "x": [
          0,
          0
         ],
         "y": [
          4,
          4
         ],
         "z": [
          5,
          7
         ]
        },
        {
         "hoverinfo": "skip",
         "line": {
          "color": "green",
          "width": 2
         },
         "mode": "lines",
         "showlegend": false,
         "type": "scatter3d",
         "x": [
          0,
          0
         ],
         "y": [
          4,
          5
         ],
         "z": [
          5,
          5
         ]
        },
        {
         "hoverinfo": "skip",
         "line": {
          "color": "green",
          "width": 2
         },
         "mode": "lines",
         "showlegend": false,
         "type": "scatter3d",
         "x": [
          0,
          1
         ],
         "y": [
          4,
          4
         ],
         "z": [
          5,
          5
         ]
        },
        {
         "hoverinfo": "skip",
         "line": {
          "color": "green",
          "width": 2
         },
         "mode": "lines",
         "showlegend": false,
         "type": "scatter3d",
         "x": [
          0,
          2
         ],
         "y": [
          4,
          4
         ],
         "z": [
          5,
          5
         ]
        },
        {
         "hoverinfo": "skip",
         "line": {
          "color": "green",
          "width": 2
         },
         "mode": "lines",
         "showlegend": false,
         "type": "scatter3d",
         "x": [
          0,
          3
         ],
         "y": [
          4,
          4
         ],
         "z": [
          5,
          5
         ]
        },
        {
         "hoverinfo": "skip",
         "line": {
          "color": "green",
          "width": 2
         },
         "mode": "lines",
         "showlegend": false,
         "type": "scatter3d",
         "x": [
          0,
          4
         ],
         "y": [
          4,
          4
         ],
         "z": [
          5,
          5
         ]
        },
        {
         "hoverinfo": "skip",
         "line": {
          "color": "green",
          "width": 2
         },
         "mode": "lines",
         "showlegend": false,
         "type": "scatter3d",
         "x": [
          0,
          5
         ],
         "y": [
          4,
          4
         ],
         "z": [
          5,
          5
         ]
        },
        {
         "hoverinfo": "skip",
         "line": {
          "color": "green",
          "width": 2
         },
         "mode": "lines",
         "showlegend": false,
         "type": "scatter3d",
         "x": [
          0,
          0
         ],
         "y": [
          4,
          4
         ],
         "z": [
          6,
          7
         ]
        },
        {
         "hoverinfo": "skip",
         "line": {
          "color": "green",
          "width": 2
         },
         "mode": "lines",
         "showlegend": false,
         "type": "scatter3d",
         "x": [
          0,
          0
         ],
         "y": [
          4,
          5
         ],
         "z": [
          6,
          6
         ]
        },
        {
         "hoverinfo": "skip",
         "line": {
          "color": "green",
          "width": 2
         },
         "mode": "lines",
         "showlegend": false,
         "type": "scatter3d",
         "x": [
          0,
          1
         ],
         "y": [
          4,
          4
         ],
         "z": [
          6,
          6
         ]
        },
        {
         "hoverinfo": "skip",
         "line": {
          "color": "green",
          "width": 2
         },
         "mode": "lines",
         "showlegend": false,
         "type": "scatter3d",
         "x": [
          0,
          2
         ],
         "y": [
          4,
          4
         ],
         "z": [
          6,
          6
         ]
        },
        {
         "hoverinfo": "skip",
         "line": {
          "color": "green",
          "width": 2
         },
         "mode": "lines",
         "showlegend": false,
         "type": "scatter3d",
         "x": [
          0,
          3
         ],
         "y": [
          4,
          4
         ],
         "z": [
          6,
          6
         ]
        },
        {
         "hoverinfo": "skip",
         "line": {
          "color": "green",
          "width": 2
         },
         "mode": "lines",
         "showlegend": false,
         "type": "scatter3d",
         "x": [
          0,
          4
         ],
         "y": [
          4,
          4
         ],
         "z": [
          6,
          6
         ]
        },
        {
         "hoverinfo": "skip",
         "line": {
          "color": "green",
          "width": 2
         },
         "mode": "lines",
         "showlegend": false,
         "type": "scatter3d",
         "x": [
          0,
          5
         ],
         "y": [
          4,
          4
         ],
         "z": [
          6,
          6
         ]
        },
        {
         "hoverinfo": "skip",
         "line": {
          "color": "green",
          "width": 2
         },
         "mode": "lines",
         "showlegend": false,
         "type": "scatter3d",
         "x": [
          0,
          0
         ],
         "y": [
          4,
          5
         ],
         "z": [
          7,
          7
         ]
        },
        {
         "hoverinfo": "skip",
         "line": {
          "color": "green",
          "width": 2
         },
         "mode": "lines",
         "showlegend": false,
         "type": "scatter3d",
         "x": [
          0,
          1
         ],
         "y": [
          4,
          4
         ],
         "z": [
          7,
          7
         ]
        },
        {
         "hoverinfo": "skip",
         "line": {
          "color": "green",
          "width": 2
         },
         "mode": "lines",
         "showlegend": false,
         "type": "scatter3d",
         "x": [
          0,
          2
         ],
         "y": [
          4,
          4
         ],
         "z": [
          7,
          7
         ]
        },
        {
         "hoverinfo": "skip",
         "line": {
          "color": "green",
          "width": 2
         },
         "mode": "lines",
         "showlegend": false,
         "type": "scatter3d",
         "x": [
          0,
          3
         ],
         "y": [
          4,
          4
         ],
         "z": [
          7,
          7
         ]
        },
        {
         "hoverinfo": "skip",
         "line": {
          "color": "green",
          "width": 2
         },
         "mode": "lines",
         "showlegend": false,
         "type": "scatter3d",
         "x": [
          0,
          4
         ],
         "y": [
          4,
          4
         ],
         "z": [
          7,
          7
         ]
        },
        {
         "hoverinfo": "skip",
         "line": {
          "color": "green",
          "width": 2
         },
         "mode": "lines",
         "showlegend": false,
         "type": "scatter3d",
         "x": [
          0,
          5
         ],
         "y": [
          4,
          4
         ],
         "z": [
          7,
          7
         ]
        },
        {
         "hoverinfo": "skip",
         "line": {
          "color": "green",
          "width": 2
         },
         "mode": "lines",
         "showlegend": false,
         "type": "scatter3d",
         "x": [
          0,
          0
         ],
         "y": [
          5,
          5
         ],
         "z": [
          0,
          1
         ]
        },
        {
         "hoverinfo": "skip",
         "line": {
          "color": "green",
          "width": 2
         },
         "mode": "lines",
         "showlegend": false,
         "type": "scatter3d",
         "x": [
          0,
          0
         ],
         "y": [
          5,
          5
         ],
         "z": [
          0,
          2
         ]
        },
        {
         "hoverinfo": "skip",
         "line": {
          "color": "green",
          "width": 2
         },
         "mode": "lines",
         "showlegend": false,
         "type": "scatter3d",
         "x": [
          0,
          0
         ],
         "y": [
          5,
          5
         ],
         "z": [
          0,
          3
         ]
        },
        {
         "hoverinfo": "skip",
         "line": {
          "color": "green",
          "width": 2
         },
         "mode": "lines",
         "showlegend": false,
         "type": "scatter3d",
         "x": [
          0,
          0
         ],
         "y": [
          5,
          5
         ],
         "z": [
          0,
          4
         ]
        },
        {
         "hoverinfo": "skip",
         "line": {
          "color": "green",
          "width": 2
         },
         "mode": "lines",
         "showlegend": false,
         "type": "scatter3d",
         "x": [
          0,
          0
         ],
         "y": [
          5,
          5
         ],
         "z": [
          0,
          5
         ]
        },
        {
         "hoverinfo": "skip",
         "line": {
          "color": "green",
          "width": 2
         },
         "mode": "lines",
         "showlegend": false,
         "type": "scatter3d",
         "x": [
          0,
          0
         ],
         "y": [
          5,
          5
         ],
         "z": [
          0,
          6
         ]
        },
        {
         "hoverinfo": "skip",
         "line": {
          "color": "green",
          "width": 2
         },
         "mode": "lines",
         "showlegend": false,
         "type": "scatter3d",
         "x": [
          0,
          0
         ],
         "y": [
          5,
          5
         ],
         "z": [
          0,
          7
         ]
        },
        {
         "hoverinfo": "skip",
         "line": {
          "color": "green",
          "width": 2
         },
         "mode": "lines",
         "showlegend": false,
         "type": "scatter3d",
         "x": [
          0,
          1
         ],
         "y": [
          5,
          5
         ],
         "z": [
          0,
          0
         ]
        },
        {
         "hoverinfo": "skip",
         "line": {
          "color": "green",
          "width": 2
         },
         "mode": "lines",
         "showlegend": false,
         "type": "scatter3d",
         "x": [
          0,
          2
         ],
         "y": [
          5,
          5
         ],
         "z": [
          0,
          0
         ]
        },
        {
         "hoverinfo": "skip",
         "line": {
          "color": "green",
          "width": 2
         },
         "mode": "lines",
         "showlegend": false,
         "type": "scatter3d",
         "x": [
          0,
          3
         ],
         "y": [
          5,
          5
         ],
         "z": [
          0,
          0
         ]
        },
        {
         "hoverinfo": "skip",
         "line": {
          "color": "green",
          "width": 2
         },
         "mode": "lines",
         "showlegend": false,
         "type": "scatter3d",
         "x": [
          0,
          4
         ],
         "y": [
          5,
          5
         ],
         "z": [
          0,
          0
         ]
        },
        {
         "hoverinfo": "skip",
         "line": {
          "color": "green",
          "width": 2
         },
         "mode": "lines",
         "showlegend": false,
         "type": "scatter3d",
         "x": [
          0,
          5
         ],
         "y": [
          5,
          5
         ],
         "z": [
          0,
          0
         ]
        },
        {
         "hoverinfo": "skip",
         "line": {
          "color": "green",
          "width": 2
         },
         "mode": "lines",
         "showlegend": false,
         "type": "scatter3d",
         "x": [
          0,
          0
         ],
         "y": [
          5,
          5
         ],
         "z": [
          1,
          2
         ]
        },
        {
         "hoverinfo": "skip",
         "line": {
          "color": "green",
          "width": 2
         },
         "mode": "lines",
         "showlegend": false,
         "type": "scatter3d",
         "x": [
          0,
          0
         ],
         "y": [
          5,
          5
         ],
         "z": [
          1,
          3
         ]
        },
        {
         "hoverinfo": "skip",
         "line": {
          "color": "green",
          "width": 2
         },
         "mode": "lines",
         "showlegend": false,
         "type": "scatter3d",
         "x": [
          0,
          0
         ],
         "y": [
          5,
          5
         ],
         "z": [
          1,
          4
         ]
        },
        {
         "hoverinfo": "skip",
         "line": {
          "color": "green",
          "width": 2
         },
         "mode": "lines",
         "showlegend": false,
         "type": "scatter3d",
         "x": [
          0,
          0
         ],
         "y": [
          5,
          5
         ],
         "z": [
          1,
          5
         ]
        },
        {
         "hoverinfo": "skip",
         "line": {
          "color": "green",
          "width": 2
         },
         "mode": "lines",
         "showlegend": false,
         "type": "scatter3d",
         "x": [
          0,
          0
         ],
         "y": [
          5,
          5
         ],
         "z": [
          1,
          6
         ]
        },
        {
         "hoverinfo": "skip",
         "line": {
          "color": "green",
          "width": 2
         },
         "mode": "lines",
         "showlegend": false,
         "type": "scatter3d",
         "x": [
          0,
          0
         ],
         "y": [
          5,
          5
         ],
         "z": [
          1,
          7
         ]
        },
        {
         "hoverinfo": "skip",
         "line": {
          "color": "green",
          "width": 2
         },
         "mode": "lines",
         "showlegend": false,
         "type": "scatter3d",
         "x": [
          0,
          1
         ],
         "y": [
          5,
          5
         ],
         "z": [
          1,
          1
         ]
        },
        {
         "hoverinfo": "skip",
         "line": {
          "color": "green",
          "width": 2
         },
         "mode": "lines",
         "showlegend": false,
         "type": "scatter3d",
         "x": [
          0,
          2
         ],
         "y": [
          5,
          5
         ],
         "z": [
          1,
          1
         ]
        },
        {
         "hoverinfo": "skip",
         "line": {
          "color": "green",
          "width": 2
         },
         "mode": "lines",
         "showlegend": false,
         "type": "scatter3d",
         "x": [
          0,
          3
         ],
         "y": [
          5,
          5
         ],
         "z": [
          1,
          1
         ]
        },
        {
         "hoverinfo": "skip",
         "line": {
          "color": "green",
          "width": 2
         },
         "mode": "lines",
         "showlegend": false,
         "type": "scatter3d",
         "x": [
          0,
          4
         ],
         "y": [
          5,
          5
         ],
         "z": [
          1,
          1
         ]
        },
        {
         "hoverinfo": "skip",
         "line": {
          "color": "green",
          "width": 2
         },
         "mode": "lines",
         "showlegend": false,
         "type": "scatter3d",
         "x": [
          0,
          5
         ],
         "y": [
          5,
          5
         ],
         "z": [
          1,
          1
         ]
        },
        {
         "hoverinfo": "skip",
         "line": {
          "color": "green",
          "width": 2
         },
         "mode": "lines",
         "showlegend": false,
         "type": "scatter3d",
         "x": [
          0,
          0
         ],
         "y": [
          5,
          5
         ],
         "z": [
          2,
          3
         ]
        },
        {
         "hoverinfo": "skip",
         "line": {
          "color": "green",
          "width": 2
         },
         "mode": "lines",
         "showlegend": false,
         "type": "scatter3d",
         "x": [
          0,
          0
         ],
         "y": [
          5,
          5
         ],
         "z": [
          2,
          4
         ]
        },
        {
         "hoverinfo": "skip",
         "line": {
          "color": "green",
          "width": 2
         },
         "mode": "lines",
         "showlegend": false,
         "type": "scatter3d",
         "x": [
          0,
          0
         ],
         "y": [
          5,
          5
         ],
         "z": [
          2,
          5
         ]
        },
        {
         "hoverinfo": "skip",
         "line": {
          "color": "green",
          "width": 2
         },
         "mode": "lines",
         "showlegend": false,
         "type": "scatter3d",
         "x": [
          0,
          0
         ],
         "y": [
          5,
          5
         ],
         "z": [
          2,
          6
         ]
        },
        {
         "hoverinfo": "skip",
         "line": {
          "color": "green",
          "width": 2
         },
         "mode": "lines",
         "showlegend": false,
         "type": "scatter3d",
         "x": [
          0,
          0
         ],
         "y": [
          5,
          5
         ],
         "z": [
          2,
          7
         ]
        },
        {
         "hoverinfo": "skip",
         "line": {
          "color": "green",
          "width": 2
         },
         "mode": "lines",
         "showlegend": false,
         "type": "scatter3d",
         "x": [
          0,
          1
         ],
         "y": [
          5,
          5
         ],
         "z": [
          2,
          2
         ]
        },
        {
         "hoverinfo": "skip",
         "line": {
          "color": "green",
          "width": 2
         },
         "mode": "lines",
         "showlegend": false,
         "type": "scatter3d",
         "x": [
          0,
          2
         ],
         "y": [
          5,
          5
         ],
         "z": [
          2,
          2
         ]
        },
        {
         "hoverinfo": "skip",
         "line": {
          "color": "green",
          "width": 2
         },
         "mode": "lines",
         "showlegend": false,
         "type": "scatter3d",
         "x": [
          0,
          3
         ],
         "y": [
          5,
          5
         ],
         "z": [
          2,
          2
         ]
        },
        {
         "hoverinfo": "skip",
         "line": {
          "color": "green",
          "width": 2
         },
         "mode": "lines",
         "showlegend": false,
         "type": "scatter3d",
         "x": [
          0,
          4
         ],
         "y": [
          5,
          5
         ],
         "z": [
          2,
          2
         ]
        },
        {
         "hoverinfo": "skip",
         "line": {
          "color": "green",
          "width": 2
         },
         "mode": "lines",
         "showlegend": false,
         "type": "scatter3d",
         "x": [
          0,
          5
         ],
         "y": [
          5,
          5
         ],
         "z": [
          2,
          2
         ]
        },
        {
         "hoverinfo": "skip",
         "line": {
          "color": "green",
          "width": 2
         },
         "mode": "lines",
         "showlegend": false,
         "type": "scatter3d",
         "x": [
          0,
          0
         ],
         "y": [
          5,
          5
         ],
         "z": [
          3,
          4
         ]
        },
        {
         "hoverinfo": "skip",
         "line": {
          "color": "green",
          "width": 2
         },
         "mode": "lines",
         "showlegend": false,
         "type": "scatter3d",
         "x": [
          0,
          0
         ],
         "y": [
          5,
          5
         ],
         "z": [
          3,
          5
         ]
        },
        {
         "hoverinfo": "skip",
         "line": {
          "color": "green",
          "width": 2
         },
         "mode": "lines",
         "showlegend": false,
         "type": "scatter3d",
         "x": [
          0,
          0
         ],
         "y": [
          5,
          5
         ],
         "z": [
          3,
          6
         ]
        },
        {
         "hoverinfo": "skip",
         "line": {
          "color": "green",
          "width": 2
         },
         "mode": "lines",
         "showlegend": false,
         "type": "scatter3d",
         "x": [
          0,
          0
         ],
         "y": [
          5,
          5
         ],
         "z": [
          3,
          7
         ]
        },
        {
         "hoverinfo": "skip",
         "line": {
          "color": "green",
          "width": 2
         },
         "mode": "lines",
         "showlegend": false,
         "type": "scatter3d",
         "x": [
          0,
          1
         ],
         "y": [
          5,
          5
         ],
         "z": [
          3,
          3
         ]
        },
        {
         "hoverinfo": "skip",
         "line": {
          "color": "green",
          "width": 2
         },
         "mode": "lines",
         "showlegend": false,
         "type": "scatter3d",
         "x": [
          0,
          2
         ],
         "y": [
          5,
          5
         ],
         "z": [
          3,
          3
         ]
        },
        {
         "hoverinfo": "skip",
         "line": {
          "color": "green",
          "width": 2
         },
         "mode": "lines",
         "showlegend": false,
         "type": "scatter3d",
         "x": [
          0,
          3
         ],
         "y": [
          5,
          5
         ],
         "z": [
          3,
          3
         ]
        },
        {
         "hoverinfo": "skip",
         "line": {
          "color": "green",
          "width": 2
         },
         "mode": "lines",
         "showlegend": false,
         "type": "scatter3d",
         "x": [
          0,
          4
         ],
         "y": [
          5,
          5
         ],
         "z": [
          3,
          3
         ]
        },
        {
         "hoverinfo": "skip",
         "line": {
          "color": "green",
          "width": 2
         },
         "mode": "lines",
         "showlegend": false,
         "type": "scatter3d",
         "x": [
          0,
          5
         ],
         "y": [
          5,
          5
         ],
         "z": [
          3,
          3
         ]
        },
        {
         "hoverinfo": "skip",
         "line": {
          "color": "green",
          "width": 2
         },
         "mode": "lines",
         "showlegend": false,
         "type": "scatter3d",
         "x": [
          0,
          0
         ],
         "y": [
          5,
          5
         ],
         "z": [
          4,
          5
         ]
        },
        {
         "hoverinfo": "skip",
         "line": {
          "color": "green",
          "width": 2
         },
         "mode": "lines",
         "showlegend": false,
         "type": "scatter3d",
         "x": [
          0,
          0
         ],
         "y": [
          5,
          5
         ],
         "z": [
          4,
          6
         ]
        },
        {
         "hoverinfo": "skip",
         "line": {
          "color": "green",
          "width": 2
         },
         "mode": "lines",
         "showlegend": false,
         "type": "scatter3d",
         "x": [
          0,
          0
         ],
         "y": [
          5,
          5
         ],
         "z": [
          4,
          7
         ]
        },
        {
         "hoverinfo": "skip",
         "line": {
          "color": "green",
          "width": 2
         },
         "mode": "lines",
         "showlegend": false,
         "type": "scatter3d",
         "x": [
          0,
          1
         ],
         "y": [
          5,
          5
         ],
         "z": [
          4,
          4
         ]
        },
        {
         "hoverinfo": "skip",
         "line": {
          "color": "green",
          "width": 2
         },
         "mode": "lines",
         "showlegend": false,
         "type": "scatter3d",
         "x": [
          0,
          2
         ],
         "y": [
          5,
          5
         ],
         "z": [
          4,
          4
         ]
        },
        {
         "hoverinfo": "skip",
         "line": {
          "color": "green",
          "width": 2
         },
         "mode": "lines",
         "showlegend": false,
         "type": "scatter3d",
         "x": [
          0,
          3
         ],
         "y": [
          5,
          5
         ],
         "z": [
          4,
          4
         ]
        },
        {
         "hoverinfo": "skip",
         "line": {
          "color": "green",
          "width": 2
         },
         "mode": "lines",
         "showlegend": false,
         "type": "scatter3d",
         "x": [
          0,
          4
         ],
         "y": [
          5,
          5
         ],
         "z": [
          4,
          4
         ]
        },
        {
         "hoverinfo": "skip",
         "line": {
          "color": "green",
          "width": 2
         },
         "mode": "lines",
         "showlegend": false,
         "type": "scatter3d",
         "x": [
          0,
          5
         ],
         "y": [
          5,
          5
         ],
         "z": [
          4,
          4
         ]
        },
        {
         "hoverinfo": "skip",
         "line": {
          "color": "green",
          "width": 2
         },
         "mode": "lines",
         "showlegend": false,
         "type": "scatter3d",
         "x": [
          0,
          0
         ],
         "y": [
          5,
          5
         ],
         "z": [
          5,
          6
         ]
        },
        {
         "hoverinfo": "skip",
         "line": {
          "color": "green",
          "width": 2
         },
         "mode": "lines",
         "showlegend": false,
         "type": "scatter3d",
         "x": [
          0,
          0
         ],
         "y": [
          5,
          5
         ],
         "z": [
          5,
          7
         ]
        },
        {
         "hoverinfo": "skip",
         "line": {
          "color": "green",
          "width": 2
         },
         "mode": "lines",
         "showlegend": false,
         "type": "scatter3d",
         "x": [
          0,
          1
         ],
         "y": [
          5,
          5
         ],
         "z": [
          5,
          5
         ]
        },
        {
         "hoverinfo": "skip",
         "line": {
          "color": "green",
          "width": 2
         },
         "mode": "lines",
         "showlegend": false,
         "type": "scatter3d",
         "x": [
          0,
          2
         ],
         "y": [
          5,
          5
         ],
         "z": [
          5,
          5
         ]
        },
        {
         "hoverinfo": "skip",
         "line": {
          "color": "green",
          "width": 2
         },
         "mode": "lines",
         "showlegend": false,
         "type": "scatter3d",
         "x": [
          0,
          3
         ],
         "y": [
          5,
          5
         ],
         "z": [
          5,
          5
         ]
        },
        {
         "hoverinfo": "skip",
         "line": {
          "color": "green",
          "width": 2
         },
         "mode": "lines",
         "showlegend": false,
         "type": "scatter3d",
         "x": [
          0,
          4
         ],
         "y": [
          5,
          5
         ],
         "z": [
          5,
          5
         ]
        },
        {
         "hoverinfo": "skip",
         "line": {
          "color": "green",
          "width": 2
         },
         "mode": "lines",
         "showlegend": false,
         "type": "scatter3d",
         "x": [
          0,
          5
         ],
         "y": [
          5,
          5
         ],
         "z": [
          5,
          5
         ]
        },
        {
         "hoverinfo": "skip",
         "line": {
          "color": "green",
          "width": 2
         },
         "mode": "lines",
         "showlegend": false,
         "type": "scatter3d",
         "x": [
          0,
          0
         ],
         "y": [
          5,
          5
         ],
         "z": [
          6,
          7
         ]
        },
        {
         "hoverinfo": "skip",
         "line": {
          "color": "green",
          "width": 2
         },
         "mode": "lines",
         "showlegend": false,
         "type": "scatter3d",
         "x": [
          0,
          1
         ],
         "y": [
          5,
          5
         ],
         "z": [
          6,
          6
         ]
        },
        {
         "hoverinfo": "skip",
         "line": {
          "color": "green",
          "width": 2
         },
         "mode": "lines",
         "showlegend": false,
         "type": "scatter3d",
         "x": [
          0,
          2
         ],
         "y": [
          5,
          5
         ],
         "z": [
          6,
          6
         ]
        },
        {
         "hoverinfo": "skip",
         "line": {
          "color": "green",
          "width": 2
         },
         "mode": "lines",
         "showlegend": false,
         "type": "scatter3d",
         "x": [
          0,
          3
         ],
         "y": [
          5,
          5
         ],
         "z": [
          6,
          6
         ]
        },
        {
         "hoverinfo": "skip",
         "line": {
          "color": "green",
          "width": 2
         },
         "mode": "lines",
         "showlegend": false,
         "type": "scatter3d",
         "x": [
          0,
          4
         ],
         "y": [
          5,
          5
         ],
         "z": [
          6,
          6
         ]
        },
        {
         "hoverinfo": "skip",
         "line": {
          "color": "green",
          "width": 2
         },
         "mode": "lines",
         "showlegend": false,
         "type": "scatter3d",
         "x": [
          0,
          5
         ],
         "y": [
          5,
          5
         ],
         "z": [
          6,
          6
         ]
        },
        {
         "hoverinfo": "skip",
         "line": {
          "color": "green",
          "width": 2
         },
         "mode": "lines",
         "showlegend": false,
         "type": "scatter3d",
         "x": [
          0,
          1
         ],
         "y": [
          5,
          5
         ],
         "z": [
          7,
          7
         ]
        },
        {
         "hoverinfo": "skip",
         "line": {
          "color": "green",
          "width": 2
         },
         "mode": "lines",
         "showlegend": false,
         "type": "scatter3d",
         "x": [
          0,
          2
         ],
         "y": [
          5,
          5
         ],
         "z": [
          7,
          7
         ]
        },
        {
         "hoverinfo": "skip",
         "line": {
          "color": "green",
          "width": 2
         },
         "mode": "lines",
         "showlegend": false,
         "type": "scatter3d",
         "x": [
          0,
          3
         ],
         "y": [
          5,
          5
         ],
         "z": [
          7,
          7
         ]
        },
        {
         "hoverinfo": "skip",
         "line": {
          "color": "green",
          "width": 2
         },
         "mode": "lines",
         "showlegend": false,
         "type": "scatter3d",
         "x": [
          0,
          4
         ],
         "y": [
          5,
          5
         ],
         "z": [
          7,
          7
         ]
        },
        {
         "hoverinfo": "skip",
         "line": {
          "color": "green",
          "width": 2
         },
         "mode": "lines",
         "showlegend": false,
         "type": "scatter3d",
         "x": [
          0,
          5
         ],
         "y": [
          5,
          5
         ],
         "z": [
          7,
          7
         ]
        },
        {
         "hoverinfo": "skip",
         "line": {
          "color": "green",
          "width": 2
         },
         "mode": "lines",
         "showlegend": false,
         "type": "scatter3d",
         "x": [
          1,
          1
         ],
         "y": [
          0,
          0
         ],
         "z": [
          0,
          1
         ]
        },
        {
         "hoverinfo": "skip",
         "line": {
          "color": "green",
          "width": 2
         },
         "mode": "lines",
         "showlegend": false,
         "type": "scatter3d",
         "x": [
          1,
          1
         ],
         "y": [
          0,
          0
         ],
         "z": [
          0,
          2
         ]
        },
        {
         "hoverinfo": "skip",
         "line": {
          "color": "green",
          "width": 2
         },
         "mode": "lines",
         "showlegend": false,
         "type": "scatter3d",
         "x": [
          1,
          1
         ],
         "y": [
          0,
          0
         ],
         "z": [
          0,
          3
         ]
        },
        {
         "hoverinfo": "skip",
         "line": {
          "color": "green",
          "width": 2
         },
         "mode": "lines",
         "showlegend": false,
         "type": "scatter3d",
         "x": [
          1,
          1
         ],
         "y": [
          0,
          0
         ],
         "z": [
          0,
          4
         ]
        },
        {
         "hoverinfo": "skip",
         "line": {
          "color": "green",
          "width": 2
         },
         "mode": "lines",
         "showlegend": false,
         "type": "scatter3d",
         "x": [
          1,
          1
         ],
         "y": [
          0,
          0
         ],
         "z": [
          0,
          5
         ]
        },
        {
         "hoverinfo": "skip",
         "line": {
          "color": "green",
          "width": 2
         },
         "mode": "lines",
         "showlegend": false,
         "type": "scatter3d",
         "x": [
          1,
          1
         ],
         "y": [
          0,
          0
         ],
         "z": [
          0,
          6
         ]
        },
        {
         "hoverinfo": "skip",
         "line": {
          "color": "green",
          "width": 2
         },
         "mode": "lines",
         "showlegend": false,
         "type": "scatter3d",
         "x": [
          1,
          1
         ],
         "y": [
          0,
          0
         ],
         "z": [
          0,
          7
         ]
        },
        {
         "hoverinfo": "skip",
         "line": {
          "color": "green",
          "width": 2
         },
         "mode": "lines",
         "showlegend": false,
         "type": "scatter3d",
         "x": [
          1,
          1
         ],
         "y": [
          0,
          1
         ],
         "z": [
          0,
          0
         ]
        },
        {
         "hoverinfo": "skip",
         "line": {
          "color": "green",
          "width": 2
         },
         "mode": "lines",
         "showlegend": false,
         "type": "scatter3d",
         "x": [
          1,
          1
         ],
         "y": [
          0,
          2
         ],
         "z": [
          0,
          0
         ]
        },
        {
         "hoverinfo": "skip",
         "line": {
          "color": "green",
          "width": 2
         },
         "mode": "lines",
         "showlegend": false,
         "type": "scatter3d",
         "x": [
          1,
          1
         ],
         "y": [
          0,
          3
         ],
         "z": [
          0,
          0
         ]
        },
        {
         "hoverinfo": "skip",
         "line": {
          "color": "green",
          "width": 2
         },
         "mode": "lines",
         "showlegend": false,
         "type": "scatter3d",
         "x": [
          1,
          1
         ],
         "y": [
          0,
          4
         ],
         "z": [
          0,
          0
         ]
        },
        {
         "hoverinfo": "skip",
         "line": {
          "color": "green",
          "width": 2
         },
         "mode": "lines",
         "showlegend": false,
         "type": "scatter3d",
         "x": [
          1,
          1
         ],
         "y": [
          0,
          5
         ],
         "z": [
          0,
          0
         ]
        },
        {
         "hoverinfo": "skip",
         "line": {
          "color": "green",
          "width": 2
         },
         "mode": "lines",
         "showlegend": false,
         "type": "scatter3d",
         "x": [
          1,
          2
         ],
         "y": [
          0,
          0
         ],
         "z": [
          0,
          0
         ]
        },
        {
         "hoverinfo": "skip",
         "line": {
          "color": "green",
          "width": 2
         },
         "mode": "lines",
         "showlegend": false,
         "type": "scatter3d",
         "x": [
          1,
          3
         ],
         "y": [
          0,
          0
         ],
         "z": [
          0,
          0
         ]
        },
        {
         "hoverinfo": "skip",
         "line": {
          "color": "green",
          "width": 2
         },
         "mode": "lines",
         "showlegend": false,
         "type": "scatter3d",
         "x": [
          1,
          4
         ],
         "y": [
          0,
          0
         ],
         "z": [
          0,
          0
         ]
        },
        {
         "hoverinfo": "skip",
         "line": {
          "color": "green",
          "width": 2
         },
         "mode": "lines",
         "showlegend": false,
         "type": "scatter3d",
         "x": [
          1,
          5
         ],
         "y": [
          0,
          0
         ],
         "z": [
          0,
          0
         ]
        },
        {
         "hoverinfo": "skip",
         "line": {
          "color": "green",
          "width": 2
         },
         "mode": "lines",
         "showlegend": false,
         "type": "scatter3d",
         "x": [
          1,
          1
         ],
         "y": [
          0,
          0
         ],
         "z": [
          1,
          2
         ]
        },
        {
         "hoverinfo": "skip",
         "line": {
          "color": "green",
          "width": 2
         },
         "mode": "lines",
         "showlegend": false,
         "type": "scatter3d",
         "x": [
          1,
          1
         ],
         "y": [
          0,
          0
         ],
         "z": [
          1,
          3
         ]
        },
        {
         "hoverinfo": "skip",
         "line": {
          "color": "green",
          "width": 2
         },
         "mode": "lines",
         "showlegend": false,
         "type": "scatter3d",
         "x": [
          1,
          1
         ],
         "y": [
          0,
          0
         ],
         "z": [
          1,
          4
         ]
        },
        {
         "hoverinfo": "skip",
         "line": {
          "color": "green",
          "width": 2
         },
         "mode": "lines",
         "showlegend": false,
         "type": "scatter3d",
         "x": [
          1,
          1
         ],
         "y": [
          0,
          0
         ],
         "z": [
          1,
          5
         ]
        },
        {
         "hoverinfo": "skip",
         "line": {
          "color": "green",
          "width": 2
         },
         "mode": "lines",
         "showlegend": false,
         "type": "scatter3d",
         "x": [
          1,
          1
         ],
         "y": [
          0,
          0
         ],
         "z": [
          1,
          6
         ]
        },
        {
         "hoverinfo": "skip",
         "line": {
          "color": "green",
          "width": 2
         },
         "mode": "lines",
         "showlegend": false,
         "type": "scatter3d",
         "x": [
          1,
          1
         ],
         "y": [
          0,
          0
         ],
         "z": [
          1,
          7
         ]
        },
        {
         "hoverinfo": "skip",
         "line": {
          "color": "green",
          "width": 2
         },
         "mode": "lines",
         "showlegend": false,
         "type": "scatter3d",
         "x": [
          1,
          1
         ],
         "y": [
          0,
          1
         ],
         "z": [
          1,
          1
         ]
        },
        {
         "hoverinfo": "skip",
         "line": {
          "color": "green",
          "width": 2
         },
         "mode": "lines",
         "showlegend": false,
         "type": "scatter3d",
         "x": [
          1,
          1
         ],
         "y": [
          0,
          2
         ],
         "z": [
          1,
          1
         ]
        },
        {
         "hoverinfo": "skip",
         "line": {
          "color": "green",
          "width": 2
         },
         "mode": "lines",
         "showlegend": false,
         "type": "scatter3d",
         "x": [
          1,
          1
         ],
         "y": [
          0,
          3
         ],
         "z": [
          1,
          1
         ]
        },
        {
         "hoverinfo": "skip",
         "line": {
          "color": "green",
          "width": 2
         },
         "mode": "lines",
         "showlegend": false,
         "type": "scatter3d",
         "x": [
          1,
          1
         ],
         "y": [
          0,
          4
         ],
         "z": [
          1,
          1
         ]
        },
        {
         "hoverinfo": "skip",
         "line": {
          "color": "green",
          "width": 2
         },
         "mode": "lines",
         "showlegend": false,
         "type": "scatter3d",
         "x": [
          1,
          1
         ],
         "y": [
          0,
          5
         ],
         "z": [
          1,
          1
         ]
        },
        {
         "hoverinfo": "skip",
         "line": {
          "color": "green",
          "width": 2
         },
         "mode": "lines",
         "showlegend": false,
         "type": "scatter3d",
         "x": [
          1,
          2
         ],
         "y": [
          0,
          0
         ],
         "z": [
          1,
          1
         ]
        },
        {
         "hoverinfo": "skip",
         "line": {
          "color": "green",
          "width": 2
         },
         "mode": "lines",
         "showlegend": false,
         "type": "scatter3d",
         "x": [
          1,
          3
         ],
         "y": [
          0,
          0
         ],
         "z": [
          1,
          1
         ]
        },
        {
         "hoverinfo": "skip",
         "line": {
          "color": "green",
          "width": 2
         },
         "mode": "lines",
         "showlegend": false,
         "type": "scatter3d",
         "x": [
          1,
          4
         ],
         "y": [
          0,
          0
         ],
         "z": [
          1,
          1
         ]
        },
        {
         "hoverinfo": "skip",
         "line": {
          "color": "green",
          "width": 2
         },
         "mode": "lines",
         "showlegend": false,
         "type": "scatter3d",
         "x": [
          1,
          5
         ],
         "y": [
          0,
          0
         ],
         "z": [
          1,
          1
         ]
        },
        {
         "hoverinfo": "skip",
         "line": {
          "color": "green",
          "width": 2
         },
         "mode": "lines",
         "showlegend": false,
         "type": "scatter3d",
         "x": [
          1,
          1
         ],
         "y": [
          0,
          0
         ],
         "z": [
          2,
          3
         ]
        },
        {
         "hoverinfo": "skip",
         "line": {
          "color": "green",
          "width": 2
         },
         "mode": "lines",
         "showlegend": false,
         "type": "scatter3d",
         "x": [
          1,
          1
         ],
         "y": [
          0,
          0
         ],
         "z": [
          2,
          4
         ]
        },
        {
         "hoverinfo": "skip",
         "line": {
          "color": "green",
          "width": 2
         },
         "mode": "lines",
         "showlegend": false,
         "type": "scatter3d",
         "x": [
          1,
          1
         ],
         "y": [
          0,
          0
         ],
         "z": [
          2,
          5
         ]
        },
        {
         "hoverinfo": "skip",
         "line": {
          "color": "green",
          "width": 2
         },
         "mode": "lines",
         "showlegend": false,
         "type": "scatter3d",
         "x": [
          1,
          1
         ],
         "y": [
          0,
          0
         ],
         "z": [
          2,
          6
         ]
        },
        {
         "hoverinfo": "skip",
         "line": {
          "color": "green",
          "width": 2
         },
         "mode": "lines",
         "showlegend": false,
         "type": "scatter3d",
         "x": [
          1,
          1
         ],
         "y": [
          0,
          0
         ],
         "z": [
          2,
          7
         ]
        },
        {
         "hoverinfo": "skip",
         "line": {
          "color": "green",
          "width": 2
         },
         "mode": "lines",
         "showlegend": false,
         "type": "scatter3d",
         "x": [
          1,
          1
         ],
         "y": [
          0,
          1
         ],
         "z": [
          2,
          2
         ]
        },
        {
         "hoverinfo": "skip",
         "line": {
          "color": "green",
          "width": 2
         },
         "mode": "lines",
         "showlegend": false,
         "type": "scatter3d",
         "x": [
          1,
          1
         ],
         "y": [
          0,
          2
         ],
         "z": [
          2,
          2
         ]
        },
        {
         "hoverinfo": "skip",
         "line": {
          "color": "green",
          "width": 2
         },
         "mode": "lines",
         "showlegend": false,
         "type": "scatter3d",
         "x": [
          1,
          1
         ],
         "y": [
          0,
          3
         ],
         "z": [
          2,
          2
         ]
        },
        {
         "hoverinfo": "skip",
         "line": {
          "color": "green",
          "width": 2
         },
         "mode": "lines",
         "showlegend": false,
         "type": "scatter3d",
         "x": [
          1,
          1
         ],
         "y": [
          0,
          4
         ],
         "z": [
          2,
          2
         ]
        },
        {
         "hoverinfo": "skip",
         "line": {
          "color": "green",
          "width": 2
         },
         "mode": "lines",
         "showlegend": false,
         "type": "scatter3d",
         "x": [
          1,
          1
         ],
         "y": [
          0,
          5
         ],
         "z": [
          2,
          2
         ]
        },
        {
         "hoverinfo": "skip",
         "line": {
          "color": "green",
          "width": 2
         },
         "mode": "lines",
         "showlegend": false,
         "type": "scatter3d",
         "x": [
          1,
          2
         ],
         "y": [
          0,
          0
         ],
         "z": [
          2,
          2
         ]
        },
        {
         "hoverinfo": "skip",
         "line": {
          "color": "green",
          "width": 2
         },
         "mode": "lines",
         "showlegend": false,
         "type": "scatter3d",
         "x": [
          1,
          3
         ],
         "y": [
          0,
          0
         ],
         "z": [
          2,
          2
         ]
        },
        {
         "hoverinfo": "skip",
         "line": {
          "color": "green",
          "width": 2
         },
         "mode": "lines",
         "showlegend": false,
         "type": "scatter3d",
         "x": [
          1,
          4
         ],
         "y": [
          0,
          0
         ],
         "z": [
          2,
          2
         ]
        },
        {
         "hoverinfo": "skip",
         "line": {
          "color": "green",
          "width": 2
         },
         "mode": "lines",
         "showlegend": false,
         "type": "scatter3d",
         "x": [
          1,
          5
         ],
         "y": [
          0,
          0
         ],
         "z": [
          2,
          2
         ]
        },
        {
         "hoverinfo": "skip",
         "line": {
          "color": "green",
          "width": 2
         },
         "mode": "lines",
         "showlegend": false,
         "type": "scatter3d",
         "x": [
          1,
          1
         ],
         "y": [
          0,
          0
         ],
         "z": [
          3,
          4
         ]
        },
        {
         "hoverinfo": "skip",
         "line": {
          "color": "green",
          "width": 2
         },
         "mode": "lines",
         "showlegend": false,
         "type": "scatter3d",
         "x": [
          1,
          1
         ],
         "y": [
          0,
          0
         ],
         "z": [
          3,
          5
         ]
        },
        {
         "hoverinfo": "skip",
         "line": {
          "color": "green",
          "width": 2
         },
         "mode": "lines",
         "showlegend": false,
         "type": "scatter3d",
         "x": [
          1,
          1
         ],
         "y": [
          0,
          0
         ],
         "z": [
          3,
          6
         ]
        },
        {
         "hoverinfo": "skip",
         "line": {
          "color": "green",
          "width": 2
         },
         "mode": "lines",
         "showlegend": false,
         "type": "scatter3d",
         "x": [
          1,
          1
         ],
         "y": [
          0,
          0
         ],
         "z": [
          3,
          7
         ]
        },
        {
         "hoverinfo": "skip",
         "line": {
          "color": "green",
          "width": 2
         },
         "mode": "lines",
         "showlegend": false,
         "type": "scatter3d",
         "x": [
          1,
          1
         ],
         "y": [
          0,
          1
         ],
         "z": [
          3,
          3
         ]
        },
        {
         "hoverinfo": "skip",
         "line": {
          "color": "green",
          "width": 2
         },
         "mode": "lines",
         "showlegend": false,
         "type": "scatter3d",
         "x": [
          1,
          1
         ],
         "y": [
          0,
          2
         ],
         "z": [
          3,
          3
         ]
        },
        {
         "hoverinfo": "skip",
         "line": {
          "color": "green",
          "width": 2
         },
         "mode": "lines",
         "showlegend": false,
         "type": "scatter3d",
         "x": [
          1,
          1
         ],
         "y": [
          0,
          3
         ],
         "z": [
          3,
          3
         ]
        },
        {
         "hoverinfo": "skip",
         "line": {
          "color": "green",
          "width": 2
         },
         "mode": "lines",
         "showlegend": false,
         "type": "scatter3d",
         "x": [
          1,
          1
         ],
         "y": [
          0,
          4
         ],
         "z": [
          3,
          3
         ]
        },
        {
         "hoverinfo": "skip",
         "line": {
          "color": "green",
          "width": 2
         },
         "mode": "lines",
         "showlegend": false,
         "type": "scatter3d",
         "x": [
          1,
          1
         ],
         "y": [
          0,
          5
         ],
         "z": [
          3,
          3
         ]
        },
        {
         "hoverinfo": "skip",
         "line": {
          "color": "green",
          "width": 2
         },
         "mode": "lines",
         "showlegend": false,
         "type": "scatter3d",
         "x": [
          1,
          2
         ],
         "y": [
          0,
          0
         ],
         "z": [
          3,
          3
         ]
        },
        {
         "hoverinfo": "skip",
         "line": {
          "color": "green",
          "width": 2
         },
         "mode": "lines",
         "showlegend": false,
         "type": "scatter3d",
         "x": [
          1,
          3
         ],
         "y": [
          0,
          0
         ],
         "z": [
          3,
          3
         ]
        },
        {
         "hoverinfo": "skip",
         "line": {
          "color": "green",
          "width": 2
         },
         "mode": "lines",
         "showlegend": false,
         "type": "scatter3d",
         "x": [
          1,
          4
         ],
         "y": [
          0,
          0
         ],
         "z": [
          3,
          3
         ]
        },
        {
         "hoverinfo": "skip",
         "line": {
          "color": "green",
          "width": 2
         },
         "mode": "lines",
         "showlegend": false,
         "type": "scatter3d",
         "x": [
          1,
          5
         ],
         "y": [
          0,
          0
         ],
         "z": [
          3,
          3
         ]
        },
        {
         "hoverinfo": "skip",
         "line": {
          "color": "green",
          "width": 2
         },
         "mode": "lines",
         "showlegend": false,
         "type": "scatter3d",
         "x": [
          1,
          1
         ],
         "y": [
          0,
          0
         ],
         "z": [
          4,
          5
         ]
        },
        {
         "hoverinfo": "skip",
         "line": {
          "color": "green",
          "width": 2
         },
         "mode": "lines",
         "showlegend": false,
         "type": "scatter3d",
         "x": [
          1,
          1
         ],
         "y": [
          0,
          0
         ],
         "z": [
          4,
          6
         ]
        },
        {
         "hoverinfo": "skip",
         "line": {
          "color": "green",
          "width": 2
         },
         "mode": "lines",
         "showlegend": false,
         "type": "scatter3d",
         "x": [
          1,
          1
         ],
         "y": [
          0,
          0
         ],
         "z": [
          4,
          7
         ]
        },
        {
         "hoverinfo": "skip",
         "line": {
          "color": "green",
          "width": 2
         },
         "mode": "lines",
         "showlegend": false,
         "type": "scatter3d",
         "x": [
          1,
          1
         ],
         "y": [
          0,
          1
         ],
         "z": [
          4,
          4
         ]
        },
        {
         "hoverinfo": "skip",
         "line": {
          "color": "green",
          "width": 2
         },
         "mode": "lines",
         "showlegend": false,
         "type": "scatter3d",
         "x": [
          1,
          1
         ],
         "y": [
          0,
          2
         ],
         "z": [
          4,
          4
         ]
        },
        {
         "hoverinfo": "skip",
         "line": {
          "color": "green",
          "width": 2
         },
         "mode": "lines",
         "showlegend": false,
         "type": "scatter3d",
         "x": [
          1,
          1
         ],
         "y": [
          0,
          3
         ],
         "z": [
          4,
          4
         ]
        },
        {
         "hoverinfo": "skip",
         "line": {
          "color": "green",
          "width": 2
         },
         "mode": "lines",
         "showlegend": false,
         "type": "scatter3d",
         "x": [
          1,
          1
         ],
         "y": [
          0,
          4
         ],
         "z": [
          4,
          4
         ]
        },
        {
         "hoverinfo": "skip",
         "line": {
          "color": "green",
          "width": 2
         },
         "mode": "lines",
         "showlegend": false,
         "type": "scatter3d",
         "x": [
          1,
          1
         ],
         "y": [
          0,
          5
         ],
         "z": [
          4,
          4
         ]
        },
        {
         "hoverinfo": "skip",
         "line": {
          "color": "green",
          "width": 2
         },
         "mode": "lines",
         "showlegend": false,
         "type": "scatter3d",
         "x": [
          1,
          2
         ],
         "y": [
          0,
          0
         ],
         "z": [
          4,
          4
         ]
        },
        {
         "hoverinfo": "skip",
         "line": {
          "color": "green",
          "width": 2
         },
         "mode": "lines",
         "showlegend": false,
         "type": "scatter3d",
         "x": [
          1,
          3
         ],
         "y": [
          0,
          0
         ],
         "z": [
          4,
          4
         ]
        },
        {
         "hoverinfo": "skip",
         "line": {
          "color": "green",
          "width": 2
         },
         "mode": "lines",
         "showlegend": false,
         "type": "scatter3d",
         "x": [
          1,
          4
         ],
         "y": [
          0,
          0
         ],
         "z": [
          4,
          4
         ]
        },
        {
         "hoverinfo": "skip",
         "line": {
          "color": "green",
          "width": 2
         },
         "mode": "lines",
         "showlegend": false,
         "type": "scatter3d",
         "x": [
          1,
          5
         ],
         "y": [
          0,
          0
         ],
         "z": [
          4,
          4
         ]
        },
        {
         "hoverinfo": "skip",
         "line": {
          "color": "green",
          "width": 2
         },
         "mode": "lines",
         "showlegend": false,
         "type": "scatter3d",
         "x": [
          1,
          1
         ],
         "y": [
          0,
          0
         ],
         "z": [
          5,
          6
         ]
        },
        {
         "hoverinfo": "skip",
         "line": {
          "color": "green",
          "width": 2
         },
         "mode": "lines",
         "showlegend": false,
         "type": "scatter3d",
         "x": [
          1,
          1
         ],
         "y": [
          0,
          0
         ],
         "z": [
          5,
          7
         ]
        },
        {
         "hoverinfo": "skip",
         "line": {
          "color": "green",
          "width": 2
         },
         "mode": "lines",
         "showlegend": false,
         "type": "scatter3d",
         "x": [
          1,
          1
         ],
         "y": [
          0,
          1
         ],
         "z": [
          5,
          5
         ]
        },
        {
         "hoverinfo": "skip",
         "line": {
          "color": "green",
          "width": 2
         },
         "mode": "lines",
         "showlegend": false,
         "type": "scatter3d",
         "x": [
          1,
          1
         ],
         "y": [
          0,
          2
         ],
         "z": [
          5,
          5
         ]
        },
        {
         "hoverinfo": "skip",
         "line": {
          "color": "green",
          "width": 2
         },
         "mode": "lines",
         "showlegend": false,
         "type": "scatter3d",
         "x": [
          1,
          1
         ],
         "y": [
          0,
          3
         ],
         "z": [
          5,
          5
         ]
        },
        {
         "hoverinfo": "skip",
         "line": {
          "color": "green",
          "width": 2
         },
         "mode": "lines",
         "showlegend": false,
         "type": "scatter3d",
         "x": [
          1,
          1
         ],
         "y": [
          0,
          4
         ],
         "z": [
          5,
          5
         ]
        },
        {
         "hoverinfo": "skip",
         "line": {
          "color": "green",
          "width": 2
         },
         "mode": "lines",
         "showlegend": false,
         "type": "scatter3d",
         "x": [
          1,
          1
         ],
         "y": [
          0,
          5
         ],
         "z": [
          5,
          5
         ]
        },
        {
         "hoverinfo": "skip",
         "line": {
          "color": "green",
          "width": 2
         },
         "mode": "lines",
         "showlegend": false,
         "type": "scatter3d",
         "x": [
          1,
          2
         ],
         "y": [
          0,
          0
         ],
         "z": [
          5,
          5
         ]
        },
        {
         "hoverinfo": "skip",
         "line": {
          "color": "green",
          "width": 2
         },
         "mode": "lines",
         "showlegend": false,
         "type": "scatter3d",
         "x": [
          1,
          3
         ],
         "y": [
          0,
          0
         ],
         "z": [
          5,
          5
         ]
        },
        {
         "hoverinfo": "skip",
         "line": {
          "color": "green",
          "width": 2
         },
         "mode": "lines",
         "showlegend": false,
         "type": "scatter3d",
         "x": [
          1,
          4
         ],
         "y": [
          0,
          0
         ],
         "z": [
          5,
          5
         ]
        },
        {
         "hoverinfo": "skip",
         "line": {
          "color": "green",
          "width": 2
         },
         "mode": "lines",
         "showlegend": false,
         "type": "scatter3d",
         "x": [
          1,
          5
         ],
         "y": [
          0,
          0
         ],
         "z": [
          5,
          5
         ]
        },
        {
         "hoverinfo": "skip",
         "line": {
          "color": "green",
          "width": 2
         },
         "mode": "lines",
         "showlegend": false,
         "type": "scatter3d",
         "x": [
          1,
          1
         ],
         "y": [
          0,
          0
         ],
         "z": [
          6,
          7
         ]
        },
        {
         "hoverinfo": "skip",
         "line": {
          "color": "green",
          "width": 2
         },
         "mode": "lines",
         "showlegend": false,
         "type": "scatter3d",
         "x": [
          1,
          1
         ],
         "y": [
          0,
          1
         ],
         "z": [
          6,
          6
         ]
        },
        {
         "hoverinfo": "skip",
         "line": {
          "color": "green",
          "width": 2
         },
         "mode": "lines",
         "showlegend": false,
         "type": "scatter3d",
         "x": [
          1,
          1
         ],
         "y": [
          0,
          2
         ],
         "z": [
          6,
          6
         ]
        },
        {
         "hoverinfo": "skip",
         "line": {
          "color": "green",
          "width": 2
         },
         "mode": "lines",
         "showlegend": false,
         "type": "scatter3d",
         "x": [
          1,
          1
         ],
         "y": [
          0,
          3
         ],
         "z": [
          6,
          6
         ]
        },
        {
         "hoverinfo": "skip",
         "line": {
          "color": "green",
          "width": 2
         },
         "mode": "lines",
         "showlegend": false,
         "type": "scatter3d",
         "x": [
          1,
          1
         ],
         "y": [
          0,
          4
         ],
         "z": [
          6,
          6
         ]
        },
        {
         "hoverinfo": "skip",
         "line": {
          "color": "green",
          "width": 2
         },
         "mode": "lines",
         "showlegend": false,
         "type": "scatter3d",
         "x": [
          1,
          1
         ],
         "y": [
          0,
          5
         ],
         "z": [
          6,
          6
         ]
        },
        {
         "hoverinfo": "skip",
         "line": {
          "color": "green",
          "width": 2
         },
         "mode": "lines",
         "showlegend": false,
         "type": "scatter3d",
         "x": [
          1,
          2
         ],
         "y": [
          0,
          0
         ],
         "z": [
          6,
          6
         ]
        },
        {
         "hoverinfo": "skip",
         "line": {
          "color": "green",
          "width": 2
         },
         "mode": "lines",
         "showlegend": false,
         "type": "scatter3d",
         "x": [
          1,
          3
         ],
         "y": [
          0,
          0
         ],
         "z": [
          6,
          6
         ]
        },
        {
         "hoverinfo": "skip",
         "line": {
          "color": "green",
          "width": 2
         },
         "mode": "lines",
         "showlegend": false,
         "type": "scatter3d",
         "x": [
          1,
          4
         ],
         "y": [
          0,
          0
         ],
         "z": [
          6,
          6
         ]
        },
        {
         "hoverinfo": "skip",
         "line": {
          "color": "green",
          "width": 2
         },
         "mode": "lines",
         "showlegend": false,
         "type": "scatter3d",
         "x": [
          1,
          5
         ],
         "y": [
          0,
          0
         ],
         "z": [
          6,
          6
         ]
        },
        {
         "hoverinfo": "skip",
         "line": {
          "color": "green",
          "width": 2
         },
         "mode": "lines",
         "showlegend": false,
         "type": "scatter3d",
         "x": [
          1,
          1
         ],
         "y": [
          0,
          1
         ],
         "z": [
          7,
          7
         ]
        },
        {
         "hoverinfo": "skip",
         "line": {
          "color": "green",
          "width": 2
         },
         "mode": "lines",
         "showlegend": false,
         "type": "scatter3d",
         "x": [
          1,
          1
         ],
         "y": [
          0,
          2
         ],
         "z": [
          7,
          7
         ]
        },
        {
         "hoverinfo": "skip",
         "line": {
          "color": "green",
          "width": 2
         },
         "mode": "lines",
         "showlegend": false,
         "type": "scatter3d",
         "x": [
          1,
          1
         ],
         "y": [
          0,
          3
         ],
         "z": [
          7,
          7
         ]
        },
        {
         "hoverinfo": "skip",
         "line": {
          "color": "green",
          "width": 2
         },
         "mode": "lines",
         "showlegend": false,
         "type": "scatter3d",
         "x": [
          1,
          1
         ],
         "y": [
          0,
          4
         ],
         "z": [
          7,
          7
         ]
        },
        {
         "hoverinfo": "skip",
         "line": {
          "color": "green",
          "width": 2
         },
         "mode": "lines",
         "showlegend": false,
         "type": "scatter3d",
         "x": [
          1,
          1
         ],
         "y": [
          0,
          5
         ],
         "z": [
          7,
          7
         ]
        },
        {
         "hoverinfo": "skip",
         "line": {
          "color": "green",
          "width": 2
         },
         "mode": "lines",
         "showlegend": false,
         "type": "scatter3d",
         "x": [
          1,
          2
         ],
         "y": [
          0,
          0
         ],
         "z": [
          7,
          7
         ]
        },
        {
         "hoverinfo": "skip",
         "line": {
          "color": "green",
          "width": 2
         },
         "mode": "lines",
         "showlegend": false,
         "type": "scatter3d",
         "x": [
          1,
          3
         ],
         "y": [
          0,
          0
         ],
         "z": [
          7,
          7
         ]
        },
        {
         "hoverinfo": "skip",
         "line": {
          "color": "green",
          "width": 2
         },
         "mode": "lines",
         "showlegend": false,
         "type": "scatter3d",
         "x": [
          1,
          4
         ],
         "y": [
          0,
          0
         ],
         "z": [
          7,
          7
         ]
        },
        {
         "hoverinfo": "skip",
         "line": {
          "color": "green",
          "width": 2
         },
         "mode": "lines",
         "showlegend": false,
         "type": "scatter3d",
         "x": [
          1,
          5
         ],
         "y": [
          0,
          0
         ],
         "z": [
          7,
          7
         ]
        },
        {
         "hoverinfo": "skip",
         "line": {
          "color": "green",
          "width": 2
         },
         "mode": "lines",
         "showlegend": false,
         "type": "scatter3d",
         "x": [
          1,
          1
         ],
         "y": [
          1,
          1
         ],
         "z": [
          0,
          1
         ]
        },
        {
         "hoverinfo": "skip",
         "line": {
          "color": "green",
          "width": 2
         },
         "mode": "lines",
         "showlegend": false,
         "type": "scatter3d",
         "x": [
          1,
          1
         ],
         "y": [
          1,
          1
         ],
         "z": [
          0,
          2
         ]
        },
        {
         "hoverinfo": "skip",
         "line": {
          "color": "green",
          "width": 2
         },
         "mode": "lines",
         "showlegend": false,
         "type": "scatter3d",
         "x": [
          1,
          1
         ],
         "y": [
          1,
          1
         ],
         "z": [
          0,
          3
         ]
        },
        {
         "hoverinfo": "skip",
         "line": {
          "color": "green",
          "width": 2
         },
         "mode": "lines",
         "showlegend": false,
         "type": "scatter3d",
         "x": [
          1,
          1
         ],
         "y": [
          1,
          1
         ],
         "z": [
          0,
          4
         ]
        },
        {
         "hoverinfo": "skip",
         "line": {
          "color": "green",
          "width": 2
         },
         "mode": "lines",
         "showlegend": false,
         "type": "scatter3d",
         "x": [
          1,
          1
         ],
         "y": [
          1,
          1
         ],
         "z": [
          0,
          5
         ]
        },
        {
         "hoverinfo": "skip",
         "line": {
          "color": "green",
          "width": 2
         },
         "mode": "lines",
         "showlegend": false,
         "type": "scatter3d",
         "x": [
          1,
          1
         ],
         "y": [
          1,
          1
         ],
         "z": [
          0,
          6
         ]
        },
        {
         "hoverinfo": "skip",
         "line": {
          "color": "green",
          "width": 2
         },
         "mode": "lines",
         "showlegend": false,
         "type": "scatter3d",
         "x": [
          1,
          1
         ],
         "y": [
          1,
          1
         ],
         "z": [
          0,
          7
         ]
        },
        {
         "hoverinfo": "skip",
         "line": {
          "color": "green",
          "width": 2
         },
         "mode": "lines",
         "showlegend": false,
         "type": "scatter3d",
         "x": [
          1,
          1
         ],
         "y": [
          1,
          2
         ],
         "z": [
          0,
          0
         ]
        },
        {
         "hoverinfo": "skip",
         "line": {
          "color": "green",
          "width": 2
         },
         "mode": "lines",
         "showlegend": false,
         "type": "scatter3d",
         "x": [
          1,
          1
         ],
         "y": [
          1,
          3
         ],
         "z": [
          0,
          0
         ]
        },
        {
         "hoverinfo": "skip",
         "line": {
          "color": "green",
          "width": 2
         },
         "mode": "lines",
         "showlegend": false,
         "type": "scatter3d",
         "x": [
          1,
          1
         ],
         "y": [
          1,
          4
         ],
         "z": [
          0,
          0
         ]
        },
        {
         "hoverinfo": "skip",
         "line": {
          "color": "green",
          "width": 2
         },
         "mode": "lines",
         "showlegend": false,
         "type": "scatter3d",
         "x": [
          1,
          1
         ],
         "y": [
          1,
          5
         ],
         "z": [
          0,
          0
         ]
        },
        {
         "hoverinfo": "skip",
         "line": {
          "color": "green",
          "width": 2
         },
         "mode": "lines",
         "showlegend": false,
         "type": "scatter3d",
         "x": [
          1,
          2
         ],
         "y": [
          1,
          1
         ],
         "z": [
          0,
          0
         ]
        },
        {
         "hoverinfo": "skip",
         "line": {
          "color": "green",
          "width": 2
         },
         "mode": "lines",
         "showlegend": false,
         "type": "scatter3d",
         "x": [
          1,
          3
         ],
         "y": [
          1,
          1
         ],
         "z": [
          0,
          0
         ]
        },
        {
         "hoverinfo": "skip",
         "line": {
          "color": "green",
          "width": 2
         },
         "mode": "lines",
         "showlegend": false,
         "type": "scatter3d",
         "x": [
          1,
          4
         ],
         "y": [
          1,
          1
         ],
         "z": [
          0,
          0
         ]
        },
        {
         "hoverinfo": "skip",
         "line": {
          "color": "green",
          "width": 2
         },
         "mode": "lines",
         "showlegend": false,
         "type": "scatter3d",
         "x": [
          1,
          5
         ],
         "y": [
          1,
          1
         ],
         "z": [
          0,
          0
         ]
        },
        {
         "hoverinfo": "skip",
         "line": {
          "color": "green",
          "width": 2
         },
         "mode": "lines",
         "showlegend": false,
         "type": "scatter3d",
         "x": [
          1,
          1
         ],
         "y": [
          1,
          1
         ],
         "z": [
          1,
          2
         ]
        },
        {
         "hoverinfo": "skip",
         "line": {
          "color": "green",
          "width": 2
         },
         "mode": "lines",
         "showlegend": false,
         "type": "scatter3d",
         "x": [
          1,
          1
         ],
         "y": [
          1,
          1
         ],
         "z": [
          1,
          3
         ]
        },
        {
         "hoverinfo": "skip",
         "line": {
          "color": "green",
          "width": 2
         },
         "mode": "lines",
         "showlegend": false,
         "type": "scatter3d",
         "x": [
          1,
          1
         ],
         "y": [
          1,
          1
         ],
         "z": [
          1,
          4
         ]
        },
        {
         "hoverinfo": "skip",
         "line": {
          "color": "green",
          "width": 2
         },
         "mode": "lines",
         "showlegend": false,
         "type": "scatter3d",
         "x": [
          1,
          1
         ],
         "y": [
          1,
          1
         ],
         "z": [
          1,
          5
         ]
        },
        {
         "hoverinfo": "skip",
         "line": {
          "color": "green",
          "width": 2
         },
         "mode": "lines",
         "showlegend": false,
         "type": "scatter3d",
         "x": [
          1,
          1
         ],
         "y": [
          1,
          1
         ],
         "z": [
          1,
          6
         ]
        },
        {
         "hoverinfo": "skip",
         "line": {
          "color": "green",
          "width": 2
         },
         "mode": "lines",
         "showlegend": false,
         "type": "scatter3d",
         "x": [
          1,
          1
         ],
         "y": [
          1,
          1
         ],
         "z": [
          1,
          7
         ]
        },
        {
         "hoverinfo": "skip",
         "line": {
          "color": "green",
          "width": 2
         },
         "mode": "lines",
         "showlegend": false,
         "type": "scatter3d",
         "x": [
          1,
          1
         ],
         "y": [
          1,
          2
         ],
         "z": [
          1,
          1
         ]
        },
        {
         "hoverinfo": "skip",
         "line": {
          "color": "green",
          "width": 2
         },
         "mode": "lines",
         "showlegend": false,
         "type": "scatter3d",
         "x": [
          1,
          1
         ],
         "y": [
          1,
          3
         ],
         "z": [
          1,
          1
         ]
        },
        {
         "hoverinfo": "skip",
         "line": {
          "color": "green",
          "width": 2
         },
         "mode": "lines",
         "showlegend": false,
         "type": "scatter3d",
         "x": [
          1,
          1
         ],
         "y": [
          1,
          4
         ],
         "z": [
          1,
          1
         ]
        },
        {
         "hoverinfo": "skip",
         "line": {
          "color": "green",
          "width": 2
         },
         "mode": "lines",
         "showlegend": false,
         "type": "scatter3d",
         "x": [
          1,
          1
         ],
         "y": [
          1,
          5
         ],
         "z": [
          1,
          1
         ]
        },
        {
         "hoverinfo": "skip",
         "line": {
          "color": "green",
          "width": 2
         },
         "mode": "lines",
         "showlegend": false,
         "type": "scatter3d",
         "x": [
          1,
          2
         ],
         "y": [
          1,
          1
         ],
         "z": [
          1,
          1
         ]
        },
        {
         "hoverinfo": "skip",
         "line": {
          "color": "green",
          "width": 2
         },
         "mode": "lines",
         "showlegend": false,
         "type": "scatter3d",
         "x": [
          1,
          3
         ],
         "y": [
          1,
          1
         ],
         "z": [
          1,
          1
         ]
        },
        {
         "hoverinfo": "skip",
         "line": {
          "color": "green",
          "width": 2
         },
         "mode": "lines",
         "showlegend": false,
         "type": "scatter3d",
         "x": [
          1,
          4
         ],
         "y": [
          1,
          1
         ],
         "z": [
          1,
          1
         ]
        },
        {
         "hoverinfo": "skip",
         "line": {
          "color": "green",
          "width": 2
         },
         "mode": "lines",
         "showlegend": false,
         "type": "scatter3d",
         "x": [
          1,
          5
         ],
         "y": [
          1,
          1
         ],
         "z": [
          1,
          1
         ]
        },
        {
         "hoverinfo": "skip",
         "line": {
          "color": "green",
          "width": 2
         },
         "mode": "lines",
         "showlegend": false,
         "type": "scatter3d",
         "x": [
          1,
          1
         ],
         "y": [
          1,
          1
         ],
         "z": [
          2,
          3
         ]
        },
        {
         "hoverinfo": "skip",
         "line": {
          "color": "green",
          "width": 2
         },
         "mode": "lines",
         "showlegend": false,
         "type": "scatter3d",
         "x": [
          1,
          1
         ],
         "y": [
          1,
          1
         ],
         "z": [
          2,
          4
         ]
        },
        {
         "hoverinfo": "skip",
         "line": {
          "color": "green",
          "width": 2
         },
         "mode": "lines",
         "showlegend": false,
         "type": "scatter3d",
         "x": [
          1,
          1
         ],
         "y": [
          1,
          1
         ],
         "z": [
          2,
          5
         ]
        },
        {
         "hoverinfo": "skip",
         "line": {
          "color": "green",
          "width": 2
         },
         "mode": "lines",
         "showlegend": false,
         "type": "scatter3d",
         "x": [
          1,
          1
         ],
         "y": [
          1,
          1
         ],
         "z": [
          2,
          6
         ]
        },
        {
         "hoverinfo": "skip",
         "line": {
          "color": "green",
          "width": 2
         },
         "mode": "lines",
         "showlegend": false,
         "type": "scatter3d",
         "x": [
          1,
          1
         ],
         "y": [
          1,
          1
         ],
         "z": [
          2,
          7
         ]
        },
        {
         "hoverinfo": "skip",
         "line": {
          "color": "green",
          "width": 2
         },
         "mode": "lines",
         "showlegend": false,
         "type": "scatter3d",
         "x": [
          1,
          1
         ],
         "y": [
          1,
          2
         ],
         "z": [
          2,
          2
         ]
        },
        {
         "hoverinfo": "skip",
         "line": {
          "color": "green",
          "width": 2
         },
         "mode": "lines",
         "showlegend": false,
         "type": "scatter3d",
         "x": [
          1,
          1
         ],
         "y": [
          1,
          3
         ],
         "z": [
          2,
          2
         ]
        },
        {
         "hoverinfo": "skip",
         "line": {
          "color": "green",
          "width": 2
         },
         "mode": "lines",
         "showlegend": false,
         "type": "scatter3d",
         "x": [
          1,
          1
         ],
         "y": [
          1,
          4
         ],
         "z": [
          2,
          2
         ]
        },
        {
         "hoverinfo": "skip",
         "line": {
          "color": "green",
          "width": 2
         },
         "mode": "lines",
         "showlegend": false,
         "type": "scatter3d",
         "x": [
          1,
          1
         ],
         "y": [
          1,
          5
         ],
         "z": [
          2,
          2
         ]
        },
        {
         "hoverinfo": "skip",
         "line": {
          "color": "green",
          "width": 2
         },
         "mode": "lines",
         "showlegend": false,
         "type": "scatter3d",
         "x": [
          1,
          2
         ],
         "y": [
          1,
          1
         ],
         "z": [
          2,
          2
         ]
        },
        {
         "hoverinfo": "skip",
         "line": {
          "color": "green",
          "width": 2
         },
         "mode": "lines",
         "showlegend": false,
         "type": "scatter3d",
         "x": [
          1,
          3
         ],
         "y": [
          1,
          1
         ],
         "z": [
          2,
          2
         ]
        },
        {
         "hoverinfo": "skip",
         "line": {
          "color": "green",
          "width": 2
         },
         "mode": "lines",
         "showlegend": false,
         "type": "scatter3d",
         "x": [
          1,
          4
         ],
         "y": [
          1,
          1
         ],
         "z": [
          2,
          2
         ]
        },
        {
         "hoverinfo": "skip",
         "line": {
          "color": "green",
          "width": 2
         },
         "mode": "lines",
         "showlegend": false,
         "type": "scatter3d",
         "x": [
          1,
          5
         ],
         "y": [
          1,
          1
         ],
         "z": [
          2,
          2
         ]
        },
        {
         "hoverinfo": "skip",
         "line": {
          "color": "green",
          "width": 2
         },
         "mode": "lines",
         "showlegend": false,
         "type": "scatter3d",
         "x": [
          1,
          1
         ],
         "y": [
          1,
          1
         ],
         "z": [
          3,
          4
         ]
        },
        {
         "hoverinfo": "skip",
         "line": {
          "color": "green",
          "width": 2
         },
         "mode": "lines",
         "showlegend": false,
         "type": "scatter3d",
         "x": [
          1,
          1
         ],
         "y": [
          1,
          1
         ],
         "z": [
          3,
          5
         ]
        },
        {
         "hoverinfo": "skip",
         "line": {
          "color": "green",
          "width": 2
         },
         "mode": "lines",
         "showlegend": false,
         "type": "scatter3d",
         "x": [
          1,
          1
         ],
         "y": [
          1,
          1
         ],
         "z": [
          3,
          6
         ]
        },
        {
         "hoverinfo": "skip",
         "line": {
          "color": "green",
          "width": 2
         },
         "mode": "lines",
         "showlegend": false,
         "type": "scatter3d",
         "x": [
          1,
          1
         ],
         "y": [
          1,
          1
         ],
         "z": [
          3,
          7
         ]
        },
        {
         "hoverinfo": "skip",
         "line": {
          "color": "green",
          "width": 2
         },
         "mode": "lines",
         "showlegend": false,
         "type": "scatter3d",
         "x": [
          1,
          1
         ],
         "y": [
          1,
          2
         ],
         "z": [
          3,
          3
         ]
        },
        {
         "hoverinfo": "skip",
         "line": {
          "color": "green",
          "width": 2
         },
         "mode": "lines",
         "showlegend": false,
         "type": "scatter3d",
         "x": [
          1,
          1
         ],
         "y": [
          1,
          3
         ],
         "z": [
          3,
          3
         ]
        },
        {
         "hoverinfo": "skip",
         "line": {
          "color": "green",
          "width": 2
         },
         "mode": "lines",
         "showlegend": false,
         "type": "scatter3d",
         "x": [
          1,
          1
         ],
         "y": [
          1,
          4
         ],
         "z": [
          3,
          3
         ]
        },
        {
         "hoverinfo": "skip",
         "line": {
          "color": "green",
          "width": 2
         },
         "mode": "lines",
         "showlegend": false,
         "type": "scatter3d",
         "x": [
          1,
          1
         ],
         "y": [
          1,
          5
         ],
         "z": [
          3,
          3
         ]
        },
        {
         "hoverinfo": "skip",
         "line": {
          "color": "green",
          "width": 2
         },
         "mode": "lines",
         "showlegend": false,
         "type": "scatter3d",
         "x": [
          1,
          2
         ],
         "y": [
          1,
          1
         ],
         "z": [
          3,
          3
         ]
        },
        {
         "hoverinfo": "skip",
         "line": {
          "color": "green",
          "width": 2
         },
         "mode": "lines",
         "showlegend": false,
         "type": "scatter3d",
         "x": [
          1,
          3
         ],
         "y": [
          1,
          1
         ],
         "z": [
          3,
          3
         ]
        },
        {
         "hoverinfo": "skip",
         "line": {
          "color": "green",
          "width": 2
         },
         "mode": "lines",
         "showlegend": false,
         "type": "scatter3d",
         "x": [
          1,
          4
         ],
         "y": [
          1,
          1
         ],
         "z": [
          3,
          3
         ]
        },
        {
         "hoverinfo": "skip",
         "line": {
          "color": "green",
          "width": 2
         },
         "mode": "lines",
         "showlegend": false,
         "type": "scatter3d",
         "x": [
          1,
          5
         ],
         "y": [
          1,
          1
         ],
         "z": [
          3,
          3
         ]
        },
        {
         "hoverinfo": "skip",
         "line": {
          "color": "green",
          "width": 2
         },
         "mode": "lines",
         "showlegend": false,
         "type": "scatter3d",
         "x": [
          1,
          1
         ],
         "y": [
          1,
          1
         ],
         "z": [
          4,
          5
         ]
        },
        {
         "hoverinfo": "skip",
         "line": {
          "color": "green",
          "width": 2
         },
         "mode": "lines",
         "showlegend": false,
         "type": "scatter3d",
         "x": [
          1,
          1
         ],
         "y": [
          1,
          1
         ],
         "z": [
          4,
          6
         ]
        },
        {
         "hoverinfo": "skip",
         "line": {
          "color": "green",
          "width": 2
         },
         "mode": "lines",
         "showlegend": false,
         "type": "scatter3d",
         "x": [
          1,
          1
         ],
         "y": [
          1,
          1
         ],
         "z": [
          4,
          7
         ]
        },
        {
         "hoverinfo": "skip",
         "line": {
          "color": "green",
          "width": 2
         },
         "mode": "lines",
         "showlegend": false,
         "type": "scatter3d",
         "x": [
          1,
          1
         ],
         "y": [
          1,
          2
         ],
         "z": [
          4,
          4
         ]
        },
        {
         "hoverinfo": "skip",
         "line": {
          "color": "green",
          "width": 2
         },
         "mode": "lines",
         "showlegend": false,
         "type": "scatter3d",
         "x": [
          1,
          1
         ],
         "y": [
          1,
          3
         ],
         "z": [
          4,
          4
         ]
        },
        {
         "hoverinfo": "skip",
         "line": {
          "color": "green",
          "width": 2
         },
         "mode": "lines",
         "showlegend": false,
         "type": "scatter3d",
         "x": [
          1,
          1
         ],
         "y": [
          1,
          4
         ],
         "z": [
          4,
          4
         ]
        },
        {
         "hoverinfo": "skip",
         "line": {
          "color": "green",
          "width": 2
         },
         "mode": "lines",
         "showlegend": false,
         "type": "scatter3d",
         "x": [
          1,
          1
         ],
         "y": [
          1,
          5
         ],
         "z": [
          4,
          4
         ]
        },
        {
         "hoverinfo": "skip",
         "line": {
          "color": "green",
          "width": 2
         },
         "mode": "lines",
         "showlegend": false,
         "type": "scatter3d",
         "x": [
          1,
          2
         ],
         "y": [
          1,
          1
         ],
         "z": [
          4,
          4
         ]
        },
        {
         "hoverinfo": "skip",
         "line": {
          "color": "green",
          "width": 2
         },
         "mode": "lines",
         "showlegend": false,
         "type": "scatter3d",
         "x": [
          1,
          3
         ],
         "y": [
          1,
          1
         ],
         "z": [
          4,
          4
         ]
        },
        {
         "hoverinfo": "skip",
         "line": {
          "color": "green",
          "width": 2
         },
         "mode": "lines",
         "showlegend": false,
         "type": "scatter3d",
         "x": [
          1,
          4
         ],
         "y": [
          1,
          1
         ],
         "z": [
          4,
          4
         ]
        },
        {
         "hoverinfo": "skip",
         "line": {
          "color": "green",
          "width": 2
         },
         "mode": "lines",
         "showlegend": false,
         "type": "scatter3d",
         "x": [
          1,
          5
         ],
         "y": [
          1,
          1
         ],
         "z": [
          4,
          4
         ]
        },
        {
         "hoverinfo": "skip",
         "line": {
          "color": "green",
          "width": 2
         },
         "mode": "lines",
         "showlegend": false,
         "type": "scatter3d",
         "x": [
          1,
          1
         ],
         "y": [
          1,
          1
         ],
         "z": [
          5,
          6
         ]
        },
        {
         "hoverinfo": "skip",
         "line": {
          "color": "green",
          "width": 2
         },
         "mode": "lines",
         "showlegend": false,
         "type": "scatter3d",
         "x": [
          1,
          1
         ],
         "y": [
          1,
          1
         ],
         "z": [
          5,
          7
         ]
        },
        {
         "hoverinfo": "skip",
         "line": {
          "color": "green",
          "width": 2
         },
         "mode": "lines",
         "showlegend": false,
         "type": "scatter3d",
         "x": [
          1,
          1
         ],
         "y": [
          1,
          2
         ],
         "z": [
          5,
          5
         ]
        },
        {
         "hoverinfo": "skip",
         "line": {
          "color": "green",
          "width": 2
         },
         "mode": "lines",
         "showlegend": false,
         "type": "scatter3d",
         "x": [
          1,
          1
         ],
         "y": [
          1,
          3
         ],
         "z": [
          5,
          5
         ]
        },
        {
         "hoverinfo": "skip",
         "line": {
          "color": "green",
          "width": 2
         },
         "mode": "lines",
         "showlegend": false,
         "type": "scatter3d",
         "x": [
          1,
          1
         ],
         "y": [
          1,
          4
         ],
         "z": [
          5,
          5
         ]
        },
        {
         "hoverinfo": "skip",
         "line": {
          "color": "green",
          "width": 2
         },
         "mode": "lines",
         "showlegend": false,
         "type": "scatter3d",
         "x": [
          1,
          1
         ],
         "y": [
          1,
          5
         ],
         "z": [
          5,
          5
         ]
        },
        {
         "hoverinfo": "skip",
         "line": {
          "color": "green",
          "width": 2
         },
         "mode": "lines",
         "showlegend": false,
         "type": "scatter3d",
         "x": [
          1,
          2
         ],
         "y": [
          1,
          1
         ],
         "z": [
          5,
          5
         ]
        },
        {
         "hoverinfo": "skip",
         "line": {
          "color": "green",
          "width": 2
         },
         "mode": "lines",
         "showlegend": false,
         "type": "scatter3d",
         "x": [
          1,
          3
         ],
         "y": [
          1,
          1
         ],
         "z": [
          5,
          5
         ]
        },
        {
         "hoverinfo": "skip",
         "line": {
          "color": "green",
          "width": 2
         },
         "mode": "lines",
         "showlegend": false,
         "type": "scatter3d",
         "x": [
          1,
          4
         ],
         "y": [
          1,
          1
         ],
         "z": [
          5,
          5
         ]
        },
        {
         "hoverinfo": "skip",
         "line": {
          "color": "green",
          "width": 2
         },
         "mode": "lines",
         "showlegend": false,
         "type": "scatter3d",
         "x": [
          1,
          5
         ],
         "y": [
          1,
          1
         ],
         "z": [
          5,
          5
         ]
        },
        {
         "hoverinfo": "skip",
         "line": {
          "color": "green",
          "width": 2
         },
         "mode": "lines",
         "showlegend": false,
         "type": "scatter3d",
         "x": [
          1,
          1
         ],
         "y": [
          1,
          1
         ],
         "z": [
          6,
          7
         ]
        },
        {
         "hoverinfo": "skip",
         "line": {
          "color": "green",
          "width": 2
         },
         "mode": "lines",
         "showlegend": false,
         "type": "scatter3d",
         "x": [
          1,
          1
         ],
         "y": [
          1,
          2
         ],
         "z": [
          6,
          6
         ]
        },
        {
         "hoverinfo": "skip",
         "line": {
          "color": "green",
          "width": 2
         },
         "mode": "lines",
         "showlegend": false,
         "type": "scatter3d",
         "x": [
          1,
          1
         ],
         "y": [
          1,
          3
         ],
         "z": [
          6,
          6
         ]
        },
        {
         "hoverinfo": "skip",
         "line": {
          "color": "green",
          "width": 2
         },
         "mode": "lines",
         "showlegend": false,
         "type": "scatter3d",
         "x": [
          1,
          1
         ],
         "y": [
          1,
          4
         ],
         "z": [
          6,
          6
         ]
        },
        {
         "hoverinfo": "skip",
         "line": {
          "color": "green",
          "width": 2
         },
         "mode": "lines",
         "showlegend": false,
         "type": "scatter3d",
         "x": [
          1,
          1
         ],
         "y": [
          1,
          5
         ],
         "z": [
          6,
          6
         ]
        },
        {
         "hoverinfo": "skip",
         "line": {
          "color": "green",
          "width": 2
         },
         "mode": "lines",
         "showlegend": false,
         "type": "scatter3d",
         "x": [
          1,
          2
         ],
         "y": [
          1,
          1
         ],
         "z": [
          6,
          6
         ]
        },
        {
         "hoverinfo": "skip",
         "line": {
          "color": "green",
          "width": 2
         },
         "mode": "lines",
         "showlegend": false,
         "type": "scatter3d",
         "x": [
          1,
          3
         ],
         "y": [
          1,
          1
         ],
         "z": [
          6,
          6
         ]
        },
        {
         "hoverinfo": "skip",
         "line": {
          "color": "green",
          "width": 2
         },
         "mode": "lines",
         "showlegend": false,
         "type": "scatter3d",
         "x": [
          1,
          4
         ],
         "y": [
          1,
          1
         ],
         "z": [
          6,
          6
         ]
        },
        {
         "hoverinfo": "skip",
         "line": {
          "color": "green",
          "width": 2
         },
         "mode": "lines",
         "showlegend": false,
         "type": "scatter3d",
         "x": [
          1,
          5
         ],
         "y": [
          1,
          1
         ],
         "z": [
          6,
          6
         ]
        },
        {
         "hoverinfo": "skip",
         "line": {
          "color": "green",
          "width": 2
         },
         "mode": "lines",
         "showlegend": false,
         "type": "scatter3d",
         "x": [
          1,
          1
         ],
         "y": [
          1,
          2
         ],
         "z": [
          7,
          7
         ]
        },
        {
         "hoverinfo": "skip",
         "line": {
          "color": "green",
          "width": 2
         },
         "mode": "lines",
         "showlegend": false,
         "type": "scatter3d",
         "x": [
          1,
          1
         ],
         "y": [
          1,
          3
         ],
         "z": [
          7,
          7
         ]
        },
        {
         "hoverinfo": "skip",
         "line": {
          "color": "green",
          "width": 2
         },
         "mode": "lines",
         "showlegend": false,
         "type": "scatter3d",
         "x": [
          1,
          1
         ],
         "y": [
          1,
          4
         ],
         "z": [
          7,
          7
         ]
        },
        {
         "hoverinfo": "skip",
         "line": {
          "color": "green",
          "width": 2
         },
         "mode": "lines",
         "showlegend": false,
         "type": "scatter3d",
         "x": [
          1,
          1
         ],
         "y": [
          1,
          5
         ],
         "z": [
          7,
          7
         ]
        },
        {
         "hoverinfo": "skip",
         "line": {
          "color": "green",
          "width": 2
         },
         "mode": "lines",
         "showlegend": false,
         "type": "scatter3d",
         "x": [
          1,
          2
         ],
         "y": [
          1,
          1
         ],
         "z": [
          7,
          7
         ]
        },
        {
         "hoverinfo": "skip",
         "line": {
          "color": "green",
          "width": 2
         },
         "mode": "lines",
         "showlegend": false,
         "type": "scatter3d",
         "x": [
          1,
          3
         ],
         "y": [
          1,
          1
         ],
         "z": [
          7,
          7
         ]
        },
        {
         "hoverinfo": "skip",
         "line": {
          "color": "green",
          "width": 2
         },
         "mode": "lines",
         "showlegend": false,
         "type": "scatter3d",
         "x": [
          1,
          4
         ],
         "y": [
          1,
          1
         ],
         "z": [
          7,
          7
         ]
        },
        {
         "hoverinfo": "skip",
         "line": {
          "color": "green",
          "width": 2
         },
         "mode": "lines",
         "showlegend": false,
         "type": "scatter3d",
         "x": [
          1,
          5
         ],
         "y": [
          1,
          1
         ],
         "z": [
          7,
          7
         ]
        },
        {
         "hoverinfo": "skip",
         "line": {
          "color": "green",
          "width": 2
         },
         "mode": "lines",
         "showlegend": false,
         "type": "scatter3d",
         "x": [
          1,
          1
         ],
         "y": [
          2,
          2
         ],
         "z": [
          0,
          1
         ]
        },
        {
         "hoverinfo": "skip",
         "line": {
          "color": "green",
          "width": 2
         },
         "mode": "lines",
         "showlegend": false,
         "type": "scatter3d",
         "x": [
          1,
          1
         ],
         "y": [
          2,
          2
         ],
         "z": [
          0,
          2
         ]
        },
        {
         "hoverinfo": "skip",
         "line": {
          "color": "green",
          "width": 2
         },
         "mode": "lines",
         "showlegend": false,
         "type": "scatter3d",
         "x": [
          1,
          1
         ],
         "y": [
          2,
          2
         ],
         "z": [
          0,
          3
         ]
        },
        {
         "hoverinfo": "skip",
         "line": {
          "color": "green",
          "width": 2
         },
         "mode": "lines",
         "showlegend": false,
         "type": "scatter3d",
         "x": [
          1,
          1
         ],
         "y": [
          2,
          2
         ],
         "z": [
          0,
          4
         ]
        },
        {
         "hoverinfo": "skip",
         "line": {
          "color": "green",
          "width": 2
         },
         "mode": "lines",
         "showlegend": false,
         "type": "scatter3d",
         "x": [
          1,
          1
         ],
         "y": [
          2,
          2
         ],
         "z": [
          0,
          5
         ]
        },
        {
         "hoverinfo": "skip",
         "line": {
          "color": "green",
          "width": 2
         },
         "mode": "lines",
         "showlegend": false,
         "type": "scatter3d",
         "x": [
          1,
          1
         ],
         "y": [
          2,
          2
         ],
         "z": [
          0,
          6
         ]
        },
        {
         "hoverinfo": "skip",
         "line": {
          "color": "green",
          "width": 2
         },
         "mode": "lines",
         "showlegend": false,
         "type": "scatter3d",
         "x": [
          1,
          1
         ],
         "y": [
          2,
          2
         ],
         "z": [
          0,
          7
         ]
        },
        {
         "hoverinfo": "skip",
         "line": {
          "color": "green",
          "width": 2
         },
         "mode": "lines",
         "showlegend": false,
         "type": "scatter3d",
         "x": [
          1,
          1
         ],
         "y": [
          2,
          3
         ],
         "z": [
          0,
          0
         ]
        },
        {
         "hoverinfo": "skip",
         "line": {
          "color": "green",
          "width": 2
         },
         "mode": "lines",
         "showlegend": false,
         "type": "scatter3d",
         "x": [
          1,
          1
         ],
         "y": [
          2,
          4
         ],
         "z": [
          0,
          0
         ]
        },
        {
         "hoverinfo": "skip",
         "line": {
          "color": "green",
          "width": 2
         },
         "mode": "lines",
         "showlegend": false,
         "type": "scatter3d",
         "x": [
          1,
          1
         ],
         "y": [
          2,
          5
         ],
         "z": [
          0,
          0
         ]
        },
        {
         "hoverinfo": "skip",
         "line": {
          "color": "green",
          "width": 2
         },
         "mode": "lines",
         "showlegend": false,
         "type": "scatter3d",
         "x": [
          1,
          2
         ],
         "y": [
          2,
          2
         ],
         "z": [
          0,
          0
         ]
        },
        {
         "hoverinfo": "skip",
         "line": {
          "color": "green",
          "width": 2
         },
         "mode": "lines",
         "showlegend": false,
         "type": "scatter3d",
         "x": [
          1,
          3
         ],
         "y": [
          2,
          2
         ],
         "z": [
          0,
          0
         ]
        },
        {
         "hoverinfo": "skip",
         "line": {
          "color": "green",
          "width": 2
         },
         "mode": "lines",
         "showlegend": false,
         "type": "scatter3d",
         "x": [
          1,
          4
         ],
         "y": [
          2,
          2
         ],
         "z": [
          0,
          0
         ]
        },
        {
         "hoverinfo": "skip",
         "line": {
          "color": "green",
          "width": 2
         },
         "mode": "lines",
         "showlegend": false,
         "type": "scatter3d",
         "x": [
          1,
          5
         ],
         "y": [
          2,
          2
         ],
         "z": [
          0,
          0
         ]
        },
        {
         "hoverinfo": "skip",
         "line": {
          "color": "green",
          "width": 2
         },
         "mode": "lines",
         "showlegend": false,
         "type": "scatter3d",
         "x": [
          1,
          1
         ],
         "y": [
          2,
          2
         ],
         "z": [
          1,
          2
         ]
        },
        {
         "hoverinfo": "skip",
         "line": {
          "color": "green",
          "width": 2
         },
         "mode": "lines",
         "showlegend": false,
         "type": "scatter3d",
         "x": [
          1,
          1
         ],
         "y": [
          2,
          2
         ],
         "z": [
          1,
          3
         ]
        },
        {
         "hoverinfo": "skip",
         "line": {
          "color": "green",
          "width": 2
         },
         "mode": "lines",
         "showlegend": false,
         "type": "scatter3d",
         "x": [
          1,
          1
         ],
         "y": [
          2,
          2
         ],
         "z": [
          1,
          4
         ]
        },
        {
         "hoverinfo": "skip",
         "line": {
          "color": "green",
          "width": 2
         },
         "mode": "lines",
         "showlegend": false,
         "type": "scatter3d",
         "x": [
          1,
          1
         ],
         "y": [
          2,
          2
         ],
         "z": [
          1,
          5
         ]
        },
        {
         "hoverinfo": "skip",
         "line": {
          "color": "green",
          "width": 2
         },
         "mode": "lines",
         "showlegend": false,
         "type": "scatter3d",
         "x": [
          1,
          1
         ],
         "y": [
          2,
          2
         ],
         "z": [
          1,
          6
         ]
        },
        {
         "hoverinfo": "skip",
         "line": {
          "color": "green",
          "width": 2
         },
         "mode": "lines",
         "showlegend": false,
         "type": "scatter3d",
         "x": [
          1,
          1
         ],
         "y": [
          2,
          2
         ],
         "z": [
          1,
          7
         ]
        },
        {
         "hoverinfo": "skip",
         "line": {
          "color": "green",
          "width": 2
         },
         "mode": "lines",
         "showlegend": false,
         "type": "scatter3d",
         "x": [
          1,
          1
         ],
         "y": [
          2,
          3
         ],
         "z": [
          1,
          1
         ]
        },
        {
         "hoverinfo": "skip",
         "line": {
          "color": "green",
          "width": 2
         },
         "mode": "lines",
         "showlegend": false,
         "type": "scatter3d",
         "x": [
          1,
          1
         ],
         "y": [
          2,
          4
         ],
         "z": [
          1,
          1
         ]
        },
        {
         "hoverinfo": "skip",
         "line": {
          "color": "green",
          "width": 2
         },
         "mode": "lines",
         "showlegend": false,
         "type": "scatter3d",
         "x": [
          1,
          1
         ],
         "y": [
          2,
          5
         ],
         "z": [
          1,
          1
         ]
        },
        {
         "hoverinfo": "skip",
         "line": {
          "color": "green",
          "width": 2
         },
         "mode": "lines",
         "showlegend": false,
         "type": "scatter3d",
         "x": [
          1,
          2
         ],
         "y": [
          2,
          2
         ],
         "z": [
          1,
          1
         ]
        },
        {
         "hoverinfo": "skip",
         "line": {
          "color": "green",
          "width": 2
         },
         "mode": "lines",
         "showlegend": false,
         "type": "scatter3d",
         "x": [
          1,
          3
         ],
         "y": [
          2,
          2
         ],
         "z": [
          1,
          1
         ]
        },
        {
         "hoverinfo": "skip",
         "line": {
          "color": "green",
          "width": 2
         },
         "mode": "lines",
         "showlegend": false,
         "type": "scatter3d",
         "x": [
          1,
          4
         ],
         "y": [
          2,
          2
         ],
         "z": [
          1,
          1
         ]
        },
        {
         "hoverinfo": "skip",
         "line": {
          "color": "green",
          "width": 2
         },
         "mode": "lines",
         "showlegend": false,
         "type": "scatter3d",
         "x": [
          1,
          5
         ],
         "y": [
          2,
          2
         ],
         "z": [
          1,
          1
         ]
        },
        {
         "hoverinfo": "skip",
         "line": {
          "color": "green",
          "width": 2
         },
         "mode": "lines",
         "showlegend": false,
         "type": "scatter3d",
         "x": [
          1,
          1
         ],
         "y": [
          2,
          2
         ],
         "z": [
          2,
          3
         ]
        },
        {
         "hoverinfo": "skip",
         "line": {
          "color": "green",
          "width": 2
         },
         "mode": "lines",
         "showlegend": false,
         "type": "scatter3d",
         "x": [
          1,
          1
         ],
         "y": [
          2,
          2
         ],
         "z": [
          2,
          4
         ]
        },
        {
         "hoverinfo": "skip",
         "line": {
          "color": "green",
          "width": 2
         },
         "mode": "lines",
         "showlegend": false,
         "type": "scatter3d",
         "x": [
          1,
          1
         ],
         "y": [
          2,
          2
         ],
         "z": [
          2,
          5
         ]
        },
        {
         "hoverinfo": "skip",
         "line": {
          "color": "green",
          "width": 2
         },
         "mode": "lines",
         "showlegend": false,
         "type": "scatter3d",
         "x": [
          1,
          1
         ],
         "y": [
          2,
          2
         ],
         "z": [
          2,
          6
         ]
        },
        {
         "hoverinfo": "skip",
         "line": {
          "color": "green",
          "width": 2
         },
         "mode": "lines",
         "showlegend": false,
         "type": "scatter3d",
         "x": [
          1,
          1
         ],
         "y": [
          2,
          2
         ],
         "z": [
          2,
          7
         ]
        },
        {
         "hoverinfo": "skip",
         "line": {
          "color": "green",
          "width": 2
         },
         "mode": "lines",
         "showlegend": false,
         "type": "scatter3d",
         "x": [
          1,
          1
         ],
         "y": [
          2,
          3
         ],
         "z": [
          2,
          2
         ]
        },
        {
         "hoverinfo": "skip",
         "line": {
          "color": "green",
          "width": 2
         },
         "mode": "lines",
         "showlegend": false,
         "type": "scatter3d",
         "x": [
          1,
          1
         ],
         "y": [
          2,
          4
         ],
         "z": [
          2,
          2
         ]
        },
        {
         "hoverinfo": "skip",
         "line": {
          "color": "green",
          "width": 2
         },
         "mode": "lines",
         "showlegend": false,
         "type": "scatter3d",
         "x": [
          1,
          1
         ],
         "y": [
          2,
          5
         ],
         "z": [
          2,
          2
         ]
        },
        {
         "hoverinfo": "skip",
         "line": {
          "color": "green",
          "width": 2
         },
         "mode": "lines",
         "showlegend": false,
         "type": "scatter3d",
         "x": [
          1,
          2
         ],
         "y": [
          2,
          2
         ],
         "z": [
          2,
          2
         ]
        },
        {
         "hoverinfo": "skip",
         "line": {
          "color": "green",
          "width": 2
         },
         "mode": "lines",
         "showlegend": false,
         "type": "scatter3d",
         "x": [
          1,
          3
         ],
         "y": [
          2,
          2
         ],
         "z": [
          2,
          2
         ]
        },
        {
         "hoverinfo": "skip",
         "line": {
          "color": "green",
          "width": 2
         },
         "mode": "lines",
         "showlegend": false,
         "type": "scatter3d",
         "x": [
          1,
          4
         ],
         "y": [
          2,
          2
         ],
         "z": [
          2,
          2
         ]
        },
        {
         "hoverinfo": "skip",
         "line": {
          "color": "green",
          "width": 2
         },
         "mode": "lines",
         "showlegend": false,
         "type": "scatter3d",
         "x": [
          1,
          5
         ],
         "y": [
          2,
          2
         ],
         "z": [
          2,
          2
         ]
        },
        {
         "hoverinfo": "skip",
         "line": {
          "color": "green",
          "width": 2
         },
         "mode": "lines",
         "showlegend": false,
         "type": "scatter3d",
         "x": [
          1,
          1
         ],
         "y": [
          2,
          2
         ],
         "z": [
          3,
          4
         ]
        },
        {
         "hoverinfo": "skip",
         "line": {
          "color": "green",
          "width": 2
         },
         "mode": "lines",
         "showlegend": false,
         "type": "scatter3d",
         "x": [
          1,
          1
         ],
         "y": [
          2,
          2
         ],
         "z": [
          3,
          5
         ]
        },
        {
         "hoverinfo": "skip",
         "line": {
          "color": "green",
          "width": 2
         },
         "mode": "lines",
         "showlegend": false,
         "type": "scatter3d",
         "x": [
          1,
          1
         ],
         "y": [
          2,
          2
         ],
         "z": [
          3,
          6
         ]
        },
        {
         "hoverinfo": "skip",
         "line": {
          "color": "green",
          "width": 2
         },
         "mode": "lines",
         "showlegend": false,
         "type": "scatter3d",
         "x": [
          1,
          1
         ],
         "y": [
          2,
          2
         ],
         "z": [
          3,
          7
         ]
        },
        {
         "hoverinfo": "skip",
         "line": {
          "color": "green",
          "width": 2
         },
         "mode": "lines",
         "showlegend": false,
         "type": "scatter3d",
         "x": [
          1,
          1
         ],
         "y": [
          2,
          3
         ],
         "z": [
          3,
          3
         ]
        },
        {
         "hoverinfo": "skip",
         "line": {
          "color": "green",
          "width": 2
         },
         "mode": "lines",
         "showlegend": false,
         "type": "scatter3d",
         "x": [
          1,
          1
         ],
         "y": [
          2,
          4
         ],
         "z": [
          3,
          3
         ]
        },
        {
         "hoverinfo": "skip",
         "line": {
          "color": "green",
          "width": 2
         },
         "mode": "lines",
         "showlegend": false,
         "type": "scatter3d",
         "x": [
          1,
          1
         ],
         "y": [
          2,
          5
         ],
         "z": [
          3,
          3
         ]
        },
        {
         "hoverinfo": "skip",
         "line": {
          "color": "green",
          "width": 2
         },
         "mode": "lines",
         "showlegend": false,
         "type": "scatter3d",
         "x": [
          1,
          2
         ],
         "y": [
          2,
          2
         ],
         "z": [
          3,
          3
         ]
        },
        {
         "hoverinfo": "skip",
         "line": {
          "color": "green",
          "width": 2
         },
         "mode": "lines",
         "showlegend": false,
         "type": "scatter3d",
         "x": [
          1,
          3
         ],
         "y": [
          2,
          2
         ],
         "z": [
          3,
          3
         ]
        },
        {
         "hoverinfo": "skip",
         "line": {
          "color": "green",
          "width": 2
         },
         "mode": "lines",
         "showlegend": false,
         "type": "scatter3d",
         "x": [
          1,
          4
         ],
         "y": [
          2,
          2
         ],
         "z": [
          3,
          3
         ]
        },
        {
         "hoverinfo": "skip",
         "line": {
          "color": "green",
          "width": 2
         },
         "mode": "lines",
         "showlegend": false,
         "type": "scatter3d",
         "x": [
          1,
          5
         ],
         "y": [
          2,
          2
         ],
         "z": [
          3,
          3
         ]
        },
        {
         "hoverinfo": "skip",
         "line": {
          "color": "green",
          "width": 2
         },
         "mode": "lines",
         "showlegend": false,
         "type": "scatter3d",
         "x": [
          1,
          1
         ],
         "y": [
          2,
          2
         ],
         "z": [
          4,
          5
         ]
        },
        {
         "hoverinfo": "skip",
         "line": {
          "color": "green",
          "width": 2
         },
         "mode": "lines",
         "showlegend": false,
         "type": "scatter3d",
         "x": [
          1,
          1
         ],
         "y": [
          2,
          2
         ],
         "z": [
          4,
          6
         ]
        },
        {
         "hoverinfo": "skip",
         "line": {
          "color": "green",
          "width": 2
         },
         "mode": "lines",
         "showlegend": false,
         "type": "scatter3d",
         "x": [
          1,
          1
         ],
         "y": [
          2,
          2
         ],
         "z": [
          4,
          7
         ]
        },
        {
         "hoverinfo": "skip",
         "line": {
          "color": "green",
          "width": 2
         },
         "mode": "lines",
         "showlegend": false,
         "type": "scatter3d",
         "x": [
          1,
          1
         ],
         "y": [
          2,
          3
         ],
         "z": [
          4,
          4
         ]
        },
        {
         "hoverinfo": "skip",
         "line": {
          "color": "green",
          "width": 2
         },
         "mode": "lines",
         "showlegend": false,
         "type": "scatter3d",
         "x": [
          1,
          1
         ],
         "y": [
          2,
          4
         ],
         "z": [
          4,
          4
         ]
        },
        {
         "hoverinfo": "skip",
         "line": {
          "color": "green",
          "width": 2
         },
         "mode": "lines",
         "showlegend": false,
         "type": "scatter3d",
         "x": [
          1,
          1
         ],
         "y": [
          2,
          5
         ],
         "z": [
          4,
          4
         ]
        },
        {
         "hoverinfo": "skip",
         "line": {
          "color": "green",
          "width": 2
         },
         "mode": "lines",
         "showlegend": false,
         "type": "scatter3d",
         "x": [
          1,
          2
         ],
         "y": [
          2,
          2
         ],
         "z": [
          4,
          4
         ]
        },
        {
         "hoverinfo": "skip",
         "line": {
          "color": "green",
          "width": 2
         },
         "mode": "lines",
         "showlegend": false,
         "type": "scatter3d",
         "x": [
          1,
          3
         ],
         "y": [
          2,
          2
         ],
         "z": [
          4,
          4
         ]
        },
        {
         "hoverinfo": "skip",
         "line": {
          "color": "green",
          "width": 2
         },
         "mode": "lines",
         "showlegend": false,
         "type": "scatter3d",
         "x": [
          1,
          4
         ],
         "y": [
          2,
          2
         ],
         "z": [
          4,
          4
         ]
        },
        {
         "hoverinfo": "skip",
         "line": {
          "color": "green",
          "width": 2
         },
         "mode": "lines",
         "showlegend": false,
         "type": "scatter3d",
         "x": [
          1,
          5
         ],
         "y": [
          2,
          2
         ],
         "z": [
          4,
          4
         ]
        },
        {
         "hoverinfo": "skip",
         "line": {
          "color": "green",
          "width": 2
         },
         "mode": "lines",
         "showlegend": false,
         "type": "scatter3d",
         "x": [
          1,
          1
         ],
         "y": [
          2,
          2
         ],
         "z": [
          5,
          6
         ]
        },
        {
         "hoverinfo": "skip",
         "line": {
          "color": "green",
          "width": 2
         },
         "mode": "lines",
         "showlegend": false,
         "type": "scatter3d",
         "x": [
          1,
          1
         ],
         "y": [
          2,
          2
         ],
         "z": [
          5,
          7
         ]
        },
        {
         "hoverinfo": "skip",
         "line": {
          "color": "green",
          "width": 2
         },
         "mode": "lines",
         "showlegend": false,
         "type": "scatter3d",
         "x": [
          1,
          1
         ],
         "y": [
          2,
          3
         ],
         "z": [
          5,
          5
         ]
        },
        {
         "hoverinfo": "skip",
         "line": {
          "color": "green",
          "width": 2
         },
         "mode": "lines",
         "showlegend": false,
         "type": "scatter3d",
         "x": [
          1,
          1
         ],
         "y": [
          2,
          4
         ],
         "z": [
          5,
          5
         ]
        },
        {
         "hoverinfo": "skip",
         "line": {
          "color": "green",
          "width": 2
         },
         "mode": "lines",
         "showlegend": false,
         "type": "scatter3d",
         "x": [
          1,
          1
         ],
         "y": [
          2,
          5
         ],
         "z": [
          5,
          5
         ]
        },
        {
         "hoverinfo": "skip",
         "line": {
          "color": "green",
          "width": 2
         },
         "mode": "lines",
         "showlegend": false,
         "type": "scatter3d",
         "x": [
          1,
          2
         ],
         "y": [
          2,
          2
         ],
         "z": [
          5,
          5
         ]
        },
        {
         "hoverinfo": "skip",
         "line": {
          "color": "green",
          "width": 2
         },
         "mode": "lines",
         "showlegend": false,
         "type": "scatter3d",
         "x": [
          1,
          3
         ],
         "y": [
          2,
          2
         ],
         "z": [
          5,
          5
         ]
        },
        {
         "hoverinfo": "skip",
         "line": {
          "color": "green",
          "width": 2
         },
         "mode": "lines",
         "showlegend": false,
         "type": "scatter3d",
         "x": [
          1,
          4
         ],
         "y": [
          2,
          2
         ],
         "z": [
          5,
          5
         ]
        },
        {
         "hoverinfo": "skip",
         "line": {
          "color": "green",
          "width": 2
         },
         "mode": "lines",
         "showlegend": false,
         "type": "scatter3d",
         "x": [
          1,
          5
         ],
         "y": [
          2,
          2
         ],
         "z": [
          5,
          5
         ]
        },
        {
         "hoverinfo": "skip",
         "line": {
          "color": "green",
          "width": 2
         },
         "mode": "lines",
         "showlegend": false,
         "type": "scatter3d",
         "x": [
          1,
          1
         ],
         "y": [
          2,
          2
         ],
         "z": [
          6,
          7
         ]
        },
        {
         "hoverinfo": "skip",
         "line": {
          "color": "green",
          "width": 2
         },
         "mode": "lines",
         "showlegend": false,
         "type": "scatter3d",
         "x": [
          1,
          1
         ],
         "y": [
          2,
          3
         ],
         "z": [
          6,
          6
         ]
        },
        {
         "hoverinfo": "skip",
         "line": {
          "color": "green",
          "width": 2
         },
         "mode": "lines",
         "showlegend": false,
         "type": "scatter3d",
         "x": [
          1,
          1
         ],
         "y": [
          2,
          4
         ],
         "z": [
          6,
          6
         ]
        },
        {
         "hoverinfo": "skip",
         "line": {
          "color": "green",
          "width": 2
         },
         "mode": "lines",
         "showlegend": false,
         "type": "scatter3d",
         "x": [
          1,
          1
         ],
         "y": [
          2,
          5
         ],
         "z": [
          6,
          6
         ]
        },
        {
         "hoverinfo": "skip",
         "line": {
          "color": "green",
          "width": 2
         },
         "mode": "lines",
         "showlegend": false,
         "type": "scatter3d",
         "x": [
          1,
          2
         ],
         "y": [
          2,
          2
         ],
         "z": [
          6,
          6
         ]
        },
        {
         "hoverinfo": "skip",
         "line": {
          "color": "green",
          "width": 2
         },
         "mode": "lines",
         "showlegend": false,
         "type": "scatter3d",
         "x": [
          1,
          3
         ],
         "y": [
          2,
          2
         ],
         "z": [
          6,
          6
         ]
        },
        {
         "hoverinfo": "skip",
         "line": {
          "color": "green",
          "width": 2
         },
         "mode": "lines",
         "showlegend": false,
         "type": "scatter3d",
         "x": [
          1,
          4
         ],
         "y": [
          2,
          2
         ],
         "z": [
          6,
          6
         ]
        },
        {
         "hoverinfo": "skip",
         "line": {
          "color": "green",
          "width": 2
         },
         "mode": "lines",
         "showlegend": false,
         "type": "scatter3d",
         "x": [
          1,
          5
         ],
         "y": [
          2,
          2
         ],
         "z": [
          6,
          6
         ]
        },
        {
         "hoverinfo": "skip",
         "line": {
          "color": "green",
          "width": 2
         },
         "mode": "lines",
         "showlegend": false,
         "type": "scatter3d",
         "x": [
          1,
          1
         ],
         "y": [
          2,
          3
         ],
         "z": [
          7,
          7
         ]
        },
        {
         "hoverinfo": "skip",
         "line": {
          "color": "green",
          "width": 2
         },
         "mode": "lines",
         "showlegend": false,
         "type": "scatter3d",
         "x": [
          1,
          1
         ],
         "y": [
          2,
          4
         ],
         "z": [
          7,
          7
         ]
        },
        {
         "hoverinfo": "skip",
         "line": {
          "color": "green",
          "width": 2
         },
         "mode": "lines",
         "showlegend": false,
         "type": "scatter3d",
         "x": [
          1,
          1
         ],
         "y": [
          2,
          5
         ],
         "z": [
          7,
          7
         ]
        },
        {
         "hoverinfo": "skip",
         "line": {
          "color": "green",
          "width": 2
         },
         "mode": "lines",
         "showlegend": false,
         "type": "scatter3d",
         "x": [
          1,
          2
         ],
         "y": [
          2,
          2
         ],
         "z": [
          7,
          7
         ]
        },
        {
         "hoverinfo": "skip",
         "line": {
          "color": "green",
          "width": 2
         },
         "mode": "lines",
         "showlegend": false,
         "type": "scatter3d",
         "x": [
          1,
          3
         ],
         "y": [
          2,
          2
         ],
         "z": [
          7,
          7
         ]
        },
        {
         "hoverinfo": "skip",
         "line": {
          "color": "green",
          "width": 2
         },
         "mode": "lines",
         "showlegend": false,
         "type": "scatter3d",
         "x": [
          1,
          4
         ],
         "y": [
          2,
          2
         ],
         "z": [
          7,
          7
         ]
        },
        {
         "hoverinfo": "skip",
         "line": {
          "color": "green",
          "width": 2
         },
         "mode": "lines",
         "showlegend": false,
         "type": "scatter3d",
         "x": [
          1,
          5
         ],
         "y": [
          2,
          2
         ],
         "z": [
          7,
          7
         ]
        },
        {
         "hoverinfo": "skip",
         "line": {
          "color": "green",
          "width": 2
         },
         "mode": "lines",
         "showlegend": false,
         "type": "scatter3d",
         "x": [
          1,
          1
         ],
         "y": [
          3,
          3
         ],
         "z": [
          0,
          1
         ]
        },
        {
         "hoverinfo": "skip",
         "line": {
          "color": "green",
          "width": 2
         },
         "mode": "lines",
         "showlegend": false,
         "type": "scatter3d",
         "x": [
          1,
          1
         ],
         "y": [
          3,
          3
         ],
         "z": [
          0,
          2
         ]
        },
        {
         "hoverinfo": "skip",
         "line": {
          "color": "green",
          "width": 2
         },
         "mode": "lines",
         "showlegend": false,
         "type": "scatter3d",
         "x": [
          1,
          1
         ],
         "y": [
          3,
          3
         ],
         "z": [
          0,
          3
         ]
        },
        {
         "hoverinfo": "skip",
         "line": {
          "color": "green",
          "width": 2
         },
         "mode": "lines",
         "showlegend": false,
         "type": "scatter3d",
         "x": [
          1,
          1
         ],
         "y": [
          3,
          3
         ],
         "z": [
          0,
          4
         ]
        },
        {
         "hoverinfo": "skip",
         "line": {
          "color": "green",
          "width": 2
         },
         "mode": "lines",
         "showlegend": false,
         "type": "scatter3d",
         "x": [
          1,
          1
         ],
         "y": [
          3,
          3
         ],
         "z": [
          0,
          5
         ]
        },
        {
         "hoverinfo": "skip",
         "line": {
          "color": "green",
          "width": 2
         },
         "mode": "lines",
         "showlegend": false,
         "type": "scatter3d",
         "x": [
          1,
          1
         ],
         "y": [
          3,
          3
         ],
         "z": [
          0,
          6
         ]
        },
        {
         "hoverinfo": "skip",
         "line": {
          "color": "green",
          "width": 2
         },
         "mode": "lines",
         "showlegend": false,
         "type": "scatter3d",
         "x": [
          1,
          1
         ],
         "y": [
          3,
          3
         ],
         "z": [
          0,
          7
         ]
        },
        {
         "hoverinfo": "skip",
         "line": {
          "color": "green",
          "width": 2
         },
         "mode": "lines",
         "showlegend": false,
         "type": "scatter3d",
         "x": [
          1,
          1
         ],
         "y": [
          3,
          4
         ],
         "z": [
          0,
          0
         ]
        },
        {
         "hoverinfo": "skip",
         "line": {
          "color": "green",
          "width": 2
         },
         "mode": "lines",
         "showlegend": false,
         "type": "scatter3d",
         "x": [
          1,
          1
         ],
         "y": [
          3,
          5
         ],
         "z": [
          0,
          0
         ]
        },
        {
         "hoverinfo": "skip",
         "line": {
          "color": "green",
          "width": 2
         },
         "mode": "lines",
         "showlegend": false,
         "type": "scatter3d",
         "x": [
          1,
          2
         ],
         "y": [
          3,
          3
         ],
         "z": [
          0,
          0
         ]
        },
        {
         "hoverinfo": "skip",
         "line": {
          "color": "green",
          "width": 2
         },
         "mode": "lines",
         "showlegend": false,
         "type": "scatter3d",
         "x": [
          1,
          3
         ],
         "y": [
          3,
          3
         ],
         "z": [
          0,
          0
         ]
        },
        {
         "hoverinfo": "skip",
         "line": {
          "color": "green",
          "width": 2
         },
         "mode": "lines",
         "showlegend": false,
         "type": "scatter3d",
         "x": [
          1,
          4
         ],
         "y": [
          3,
          3
         ],
         "z": [
          0,
          0
         ]
        },
        {
         "hoverinfo": "skip",
         "line": {
          "color": "green",
          "width": 2
         },
         "mode": "lines",
         "showlegend": false,
         "type": "scatter3d",
         "x": [
          1,
          5
         ],
         "y": [
          3,
          3
         ],
         "z": [
          0,
          0
         ]
        },
        {
         "hoverinfo": "skip",
         "line": {
          "color": "green",
          "width": 2
         },
         "mode": "lines",
         "showlegend": false,
         "type": "scatter3d",
         "x": [
          1,
          1
         ],
         "y": [
          3,
          3
         ],
         "z": [
          1,
          2
         ]
        },
        {
         "hoverinfo": "skip",
         "line": {
          "color": "green",
          "width": 2
         },
         "mode": "lines",
         "showlegend": false,
         "type": "scatter3d",
         "x": [
          1,
          1
         ],
         "y": [
          3,
          3
         ],
         "z": [
          1,
          3
         ]
        },
        {
         "hoverinfo": "skip",
         "line": {
          "color": "green",
          "width": 2
         },
         "mode": "lines",
         "showlegend": false,
         "type": "scatter3d",
         "x": [
          1,
          1
         ],
         "y": [
          3,
          3
         ],
         "z": [
          1,
          4
         ]
        },
        {
         "hoverinfo": "skip",
         "line": {
          "color": "green",
          "width": 2
         },
         "mode": "lines",
         "showlegend": false,
         "type": "scatter3d",
         "x": [
          1,
          1
         ],
         "y": [
          3,
          3
         ],
         "z": [
          1,
          5
         ]
        },
        {
         "hoverinfo": "skip",
         "line": {
          "color": "green",
          "width": 2
         },
         "mode": "lines",
         "showlegend": false,
         "type": "scatter3d",
         "x": [
          1,
          1
         ],
         "y": [
          3,
          3
         ],
         "z": [
          1,
          6
         ]
        },
        {
         "hoverinfo": "skip",
         "line": {
          "color": "green",
          "width": 2
         },
         "mode": "lines",
         "showlegend": false,
         "type": "scatter3d",
         "x": [
          1,
          1
         ],
         "y": [
          3,
          3
         ],
         "z": [
          1,
          7
         ]
        },
        {
         "hoverinfo": "skip",
         "line": {
          "color": "green",
          "width": 2
         },
         "mode": "lines",
         "showlegend": false,
         "type": "scatter3d",
         "x": [
          1,
          1
         ],
         "y": [
          3,
          4
         ],
         "z": [
          1,
          1
         ]
        },
        {
         "hoverinfo": "skip",
         "line": {
          "color": "green",
          "width": 2
         },
         "mode": "lines",
         "showlegend": false,
         "type": "scatter3d",
         "x": [
          1,
          1
         ],
         "y": [
          3,
          5
         ],
         "z": [
          1,
          1
         ]
        },
        {
         "hoverinfo": "skip",
         "line": {
          "color": "green",
          "width": 2
         },
         "mode": "lines",
         "showlegend": false,
         "type": "scatter3d",
         "x": [
          1,
          2
         ],
         "y": [
          3,
          3
         ],
         "z": [
          1,
          1
         ]
        },
        {
         "hoverinfo": "skip",
         "line": {
          "color": "green",
          "width": 2
         },
         "mode": "lines",
         "showlegend": false,
         "type": "scatter3d",
         "x": [
          1,
          3
         ],
         "y": [
          3,
          3
         ],
         "z": [
          1,
          1
         ]
        },
        {
         "hoverinfo": "skip",
         "line": {
          "color": "green",
          "width": 2
         },
         "mode": "lines",
         "showlegend": false,
         "type": "scatter3d",
         "x": [
          1,
          4
         ],
         "y": [
          3,
          3
         ],
         "z": [
          1,
          1
         ]
        },
        {
         "hoverinfo": "skip",
         "line": {
          "color": "green",
          "width": 2
         },
         "mode": "lines",
         "showlegend": false,
         "type": "scatter3d",
         "x": [
          1,
          5
         ],
         "y": [
          3,
          3
         ],
         "z": [
          1,
          1
         ]
        },
        {
         "hoverinfo": "skip",
         "line": {
          "color": "green",
          "width": 2
         },
         "mode": "lines",
         "showlegend": false,
         "type": "scatter3d",
         "x": [
          1,
          1
         ],
         "y": [
          3,
          3
         ],
         "z": [
          2,
          3
         ]
        },
        {
         "hoverinfo": "skip",
         "line": {
          "color": "green",
          "width": 2
         },
         "mode": "lines",
         "showlegend": false,
         "type": "scatter3d",
         "x": [
          1,
          1
         ],
         "y": [
          3,
          3
         ],
         "z": [
          2,
          4
         ]
        },
        {
         "hoverinfo": "skip",
         "line": {
          "color": "green",
          "width": 2
         },
         "mode": "lines",
         "showlegend": false,
         "type": "scatter3d",
         "x": [
          1,
          1
         ],
         "y": [
          3,
          3
         ],
         "z": [
          2,
          5
         ]
        },
        {
         "hoverinfo": "skip",
         "line": {
          "color": "green",
          "width": 2
         },
         "mode": "lines",
         "showlegend": false,
         "type": "scatter3d",
         "x": [
          1,
          1
         ],
         "y": [
          3,
          3
         ],
         "z": [
          2,
          6
         ]
        },
        {
         "hoverinfo": "skip",
         "line": {
          "color": "green",
          "width": 2
         },
         "mode": "lines",
         "showlegend": false,
         "type": "scatter3d",
         "x": [
          1,
          1
         ],
         "y": [
          3,
          3
         ],
         "z": [
          2,
          7
         ]
        },
        {
         "hoverinfo": "skip",
         "line": {
          "color": "green",
          "width": 2
         },
         "mode": "lines",
         "showlegend": false,
         "type": "scatter3d",
         "x": [
          1,
          1
         ],
         "y": [
          3,
          4
         ],
         "z": [
          2,
          2
         ]
        },
        {
         "hoverinfo": "skip",
         "line": {
          "color": "green",
          "width": 2
         },
         "mode": "lines",
         "showlegend": false,
         "type": "scatter3d",
         "x": [
          1,
          1
         ],
         "y": [
          3,
          5
         ],
         "z": [
          2,
          2
         ]
        },
        {
         "hoverinfo": "skip",
         "line": {
          "color": "green",
          "width": 2
         },
         "mode": "lines",
         "showlegend": false,
         "type": "scatter3d",
         "x": [
          1,
          2
         ],
         "y": [
          3,
          3
         ],
         "z": [
          2,
          2
         ]
        },
        {
         "hoverinfo": "skip",
         "line": {
          "color": "green",
          "width": 2
         },
         "mode": "lines",
         "showlegend": false,
         "type": "scatter3d",
         "x": [
          1,
          3
         ],
         "y": [
          3,
          3
         ],
         "z": [
          2,
          2
         ]
        },
        {
         "hoverinfo": "skip",
         "line": {
          "color": "green",
          "width": 2
         },
         "mode": "lines",
         "showlegend": false,
         "type": "scatter3d",
         "x": [
          1,
          4
         ],
         "y": [
          3,
          3
         ],
         "z": [
          2,
          2
         ]
        },
        {
         "hoverinfo": "skip",
         "line": {
          "color": "green",
          "width": 2
         },
         "mode": "lines",
         "showlegend": false,
         "type": "scatter3d",
         "x": [
          1,
          5
         ],
         "y": [
          3,
          3
         ],
         "z": [
          2,
          2
         ]
        },
        {
         "hoverinfo": "skip",
         "line": {
          "color": "green",
          "width": 2
         },
         "mode": "lines",
         "showlegend": false,
         "type": "scatter3d",
         "x": [
          1,
          1
         ],
         "y": [
          3,
          3
         ],
         "z": [
          3,
          4
         ]
        },
        {
         "hoverinfo": "skip",
         "line": {
          "color": "green",
          "width": 2
         },
         "mode": "lines",
         "showlegend": false,
         "type": "scatter3d",
         "x": [
          1,
          1
         ],
         "y": [
          3,
          3
         ],
         "z": [
          3,
          5
         ]
        },
        {
         "hoverinfo": "skip",
         "line": {
          "color": "green",
          "width": 2
         },
         "mode": "lines",
         "showlegend": false,
         "type": "scatter3d",
         "x": [
          1,
          1
         ],
         "y": [
          3,
          3
         ],
         "z": [
          3,
          6
         ]
        },
        {
         "hoverinfo": "skip",
         "line": {
          "color": "green",
          "width": 2
         },
         "mode": "lines",
         "showlegend": false,
         "type": "scatter3d",
         "x": [
          1,
          1
         ],
         "y": [
          3,
          3
         ],
         "z": [
          3,
          7
         ]
        },
        {
         "hoverinfo": "skip",
         "line": {
          "color": "green",
          "width": 2
         },
         "mode": "lines",
         "showlegend": false,
         "type": "scatter3d",
         "x": [
          1,
          1
         ],
         "y": [
          3,
          4
         ],
         "z": [
          3,
          3
         ]
        },
        {
         "hoverinfo": "skip",
         "line": {
          "color": "green",
          "width": 2
         },
         "mode": "lines",
         "showlegend": false,
         "type": "scatter3d",
         "x": [
          1,
          1
         ],
         "y": [
          3,
          5
         ],
         "z": [
          3,
          3
         ]
        },
        {
         "hoverinfo": "skip",
         "line": {
          "color": "green",
          "width": 2
         },
         "mode": "lines",
         "showlegend": false,
         "type": "scatter3d",
         "x": [
          1,
          2
         ],
         "y": [
          3,
          3
         ],
         "z": [
          3,
          3
         ]
        },
        {
         "hoverinfo": "skip",
         "line": {
          "color": "green",
          "width": 2
         },
         "mode": "lines",
         "showlegend": false,
         "type": "scatter3d",
         "x": [
          1,
          3
         ],
         "y": [
          3,
          3
         ],
         "z": [
          3,
          3
         ]
        },
        {
         "hoverinfo": "skip",
         "line": {
          "color": "green",
          "width": 2
         },
         "mode": "lines",
         "showlegend": false,
         "type": "scatter3d",
         "x": [
          1,
          4
         ],
         "y": [
          3,
          3
         ],
         "z": [
          3,
          3
         ]
        },
        {
         "hoverinfo": "skip",
         "line": {
          "color": "green",
          "width": 2
         },
         "mode": "lines",
         "showlegend": false,
         "type": "scatter3d",
         "x": [
          1,
          5
         ],
         "y": [
          3,
          3
         ],
         "z": [
          3,
          3
         ]
        },
        {
         "hoverinfo": "skip",
         "line": {
          "color": "green",
          "width": 2
         },
         "mode": "lines",
         "showlegend": false,
         "type": "scatter3d",
         "x": [
          1,
          1
         ],
         "y": [
          3,
          3
         ],
         "z": [
          4,
          5
         ]
        },
        {
         "hoverinfo": "skip",
         "line": {
          "color": "green",
          "width": 2
         },
         "mode": "lines",
         "showlegend": false,
         "type": "scatter3d",
         "x": [
          1,
          1
         ],
         "y": [
          3,
          3
         ],
         "z": [
          4,
          6
         ]
        },
        {
         "hoverinfo": "skip",
         "line": {
          "color": "green",
          "width": 2
         },
         "mode": "lines",
         "showlegend": false,
         "type": "scatter3d",
         "x": [
          1,
          1
         ],
         "y": [
          3,
          3
         ],
         "z": [
          4,
          7
         ]
        },
        {
         "hoverinfo": "skip",
         "line": {
          "color": "green",
          "width": 2
         },
         "mode": "lines",
         "showlegend": false,
         "type": "scatter3d",
         "x": [
          1,
          1
         ],
         "y": [
          3,
          4
         ],
         "z": [
          4,
          4
         ]
        },
        {
         "hoverinfo": "skip",
         "line": {
          "color": "green",
          "width": 2
         },
         "mode": "lines",
         "showlegend": false,
         "type": "scatter3d",
         "x": [
          1,
          1
         ],
         "y": [
          3,
          5
         ],
         "z": [
          4,
          4
         ]
        },
        {
         "hoverinfo": "skip",
         "line": {
          "color": "green",
          "width": 2
         },
         "mode": "lines",
         "showlegend": false,
         "type": "scatter3d",
         "x": [
          1,
          2
         ],
         "y": [
          3,
          3
         ],
         "z": [
          4,
          4
         ]
        },
        {
         "hoverinfo": "skip",
         "line": {
          "color": "green",
          "width": 2
         },
         "mode": "lines",
         "showlegend": false,
         "type": "scatter3d",
         "x": [
          1,
          3
         ],
         "y": [
          3,
          3
         ],
         "z": [
          4,
          4
         ]
        },
        {
         "hoverinfo": "skip",
         "line": {
          "color": "green",
          "width": 2
         },
         "mode": "lines",
         "showlegend": false,
         "type": "scatter3d",
         "x": [
          1,
          4
         ],
         "y": [
          3,
          3
         ],
         "z": [
          4,
          4
         ]
        },
        {
         "hoverinfo": "skip",
         "line": {
          "color": "green",
          "width": 2
         },
         "mode": "lines",
         "showlegend": false,
         "type": "scatter3d",
         "x": [
          1,
          5
         ],
         "y": [
          3,
          3
         ],
         "z": [
          4,
          4
         ]
        },
        {
         "hoverinfo": "skip",
         "line": {
          "color": "green",
          "width": 2
         },
         "mode": "lines",
         "showlegend": false,
         "type": "scatter3d",
         "x": [
          1,
          1
         ],
         "y": [
          3,
          3
         ],
         "z": [
          5,
          6
         ]
        },
        {
         "hoverinfo": "skip",
         "line": {
          "color": "green",
          "width": 2
         },
         "mode": "lines",
         "showlegend": false,
         "type": "scatter3d",
         "x": [
          1,
          1
         ],
         "y": [
          3,
          3
         ],
         "z": [
          5,
          7
         ]
        },
        {
         "hoverinfo": "skip",
         "line": {
          "color": "green",
          "width": 2
         },
         "mode": "lines",
         "showlegend": false,
         "type": "scatter3d",
         "x": [
          1,
          1
         ],
         "y": [
          3,
          4
         ],
         "z": [
          5,
          5
         ]
        },
        {
         "hoverinfo": "skip",
         "line": {
          "color": "green",
          "width": 2
         },
         "mode": "lines",
         "showlegend": false,
         "type": "scatter3d",
         "x": [
          1,
          1
         ],
         "y": [
          3,
          5
         ],
         "z": [
          5,
          5
         ]
        },
        {
         "hoverinfo": "skip",
         "line": {
          "color": "green",
          "width": 2
         },
         "mode": "lines",
         "showlegend": false,
         "type": "scatter3d",
         "x": [
          1,
          2
         ],
         "y": [
          3,
          3
         ],
         "z": [
          5,
          5
         ]
        },
        {
         "hoverinfo": "skip",
         "line": {
          "color": "green",
          "width": 2
         },
         "mode": "lines",
         "showlegend": false,
         "type": "scatter3d",
         "x": [
          1,
          3
         ],
         "y": [
          3,
          3
         ],
         "z": [
          5,
          5
         ]
        },
        {
         "hoverinfo": "skip",
         "line": {
          "color": "green",
          "width": 2
         },
         "mode": "lines",
         "showlegend": false,
         "type": "scatter3d",
         "x": [
          1,
          4
         ],
         "y": [
          3,
          3
         ],
         "z": [
          5,
          5
         ]
        },
        {
         "hoverinfo": "skip",
         "line": {
          "color": "green",
          "width": 2
         },
         "mode": "lines",
         "showlegend": false,
         "type": "scatter3d",
         "x": [
          1,
          5
         ],
         "y": [
          3,
          3
         ],
         "z": [
          5,
          5
         ]
        },
        {
         "hoverinfo": "skip",
         "line": {
          "color": "green",
          "width": 2
         },
         "mode": "lines",
         "showlegend": false,
         "type": "scatter3d",
         "x": [
          1,
          1
         ],
         "y": [
          3,
          3
         ],
         "z": [
          6,
          7
         ]
        },
        {
         "hoverinfo": "skip",
         "line": {
          "color": "green",
          "width": 2
         },
         "mode": "lines",
         "showlegend": false,
         "type": "scatter3d",
         "x": [
          1,
          1
         ],
         "y": [
          3,
          4
         ],
         "z": [
          6,
          6
         ]
        },
        {
         "hoverinfo": "skip",
         "line": {
          "color": "green",
          "width": 2
         },
         "mode": "lines",
         "showlegend": false,
         "type": "scatter3d",
         "x": [
          1,
          1
         ],
         "y": [
          3,
          5
         ],
         "z": [
          6,
          6
         ]
        },
        {
         "hoverinfo": "skip",
         "line": {
          "color": "green",
          "width": 2
         },
         "mode": "lines",
         "showlegend": false,
         "type": "scatter3d",
         "x": [
          1,
          2
         ],
         "y": [
          3,
          3
         ],
         "z": [
          6,
          6
         ]
        },
        {
         "hoverinfo": "skip",
         "line": {
          "color": "green",
          "width": 2
         },
         "mode": "lines",
         "showlegend": false,
         "type": "scatter3d",
         "x": [
          1,
          3
         ],
         "y": [
          3,
          3
         ],
         "z": [
          6,
          6
         ]
        },
        {
         "hoverinfo": "skip",
         "line": {
          "color": "green",
          "width": 2
         },
         "mode": "lines",
         "showlegend": false,
         "type": "scatter3d",
         "x": [
          1,
          4
         ],
         "y": [
          3,
          3
         ],
         "z": [
          6,
          6
         ]
        },
        {
         "hoverinfo": "skip",
         "line": {
          "color": "green",
          "width": 2
         },
         "mode": "lines",
         "showlegend": false,
         "type": "scatter3d",
         "x": [
          1,
          5
         ],
         "y": [
          3,
          3
         ],
         "z": [
          6,
          6
         ]
        },
        {
         "hoverinfo": "skip",
         "line": {
          "color": "green",
          "width": 2
         },
         "mode": "lines",
         "showlegend": false,
         "type": "scatter3d",
         "x": [
          1,
          1
         ],
         "y": [
          3,
          4
         ],
         "z": [
          7,
          7
         ]
        },
        {
         "hoverinfo": "skip",
         "line": {
          "color": "green",
          "width": 2
         },
         "mode": "lines",
         "showlegend": false,
         "type": "scatter3d",
         "x": [
          1,
          1
         ],
         "y": [
          3,
          5
         ],
         "z": [
          7,
          7
         ]
        },
        {
         "hoverinfo": "skip",
         "line": {
          "color": "green",
          "width": 2
         },
         "mode": "lines",
         "showlegend": false,
         "type": "scatter3d",
         "x": [
          1,
          2
         ],
         "y": [
          3,
          3
         ],
         "z": [
          7,
          7
         ]
        },
        {
         "hoverinfo": "skip",
         "line": {
          "color": "green",
          "width": 2
         },
         "mode": "lines",
         "showlegend": false,
         "type": "scatter3d",
         "x": [
          1,
          3
         ],
         "y": [
          3,
          3
         ],
         "z": [
          7,
          7
         ]
        },
        {
         "hoverinfo": "skip",
         "line": {
          "color": "green",
          "width": 2
         },
         "mode": "lines",
         "showlegend": false,
         "type": "scatter3d",
         "x": [
          1,
          4
         ],
         "y": [
          3,
          3
         ],
         "z": [
          7,
          7
         ]
        },
        {
         "hoverinfo": "skip",
         "line": {
          "color": "green",
          "width": 2
         },
         "mode": "lines",
         "showlegend": false,
         "type": "scatter3d",
         "x": [
          1,
          5
         ],
         "y": [
          3,
          3
         ],
         "z": [
          7,
          7
         ]
        },
        {
         "hoverinfo": "skip",
         "line": {
          "color": "green",
          "width": 2
         },
         "mode": "lines",
         "showlegend": false,
         "type": "scatter3d",
         "x": [
          1,
          1
         ],
         "y": [
          4,
          4
         ],
         "z": [
          0,
          1
         ]
        },
        {
         "hoverinfo": "skip",
         "line": {
          "color": "green",
          "width": 2
         },
         "mode": "lines",
         "showlegend": false,
         "type": "scatter3d",
         "x": [
          1,
          1
         ],
         "y": [
          4,
          4
         ],
         "z": [
          0,
          2
         ]
        },
        {
         "hoverinfo": "skip",
         "line": {
          "color": "green",
          "width": 2
         },
         "mode": "lines",
         "showlegend": false,
         "type": "scatter3d",
         "x": [
          1,
          1
         ],
         "y": [
          4,
          4
         ],
         "z": [
          0,
          3
         ]
        },
        {
         "hoverinfo": "skip",
         "line": {
          "color": "green",
          "width": 2
         },
         "mode": "lines",
         "showlegend": false,
         "type": "scatter3d",
         "x": [
          1,
          1
         ],
         "y": [
          4,
          4
         ],
         "z": [
          0,
          4
         ]
        },
        {
         "hoverinfo": "skip",
         "line": {
          "color": "green",
          "width": 2
         },
         "mode": "lines",
         "showlegend": false,
         "type": "scatter3d",
         "x": [
          1,
          1
         ],
         "y": [
          4,
          4
         ],
         "z": [
          0,
          5
         ]
        },
        {
         "hoverinfo": "skip",
         "line": {
          "color": "green",
          "width": 2
         },
         "mode": "lines",
         "showlegend": false,
         "type": "scatter3d",
         "x": [
          1,
          1
         ],
         "y": [
          4,
          4
         ],
         "z": [
          0,
          6
         ]
        },
        {
         "hoverinfo": "skip",
         "line": {
          "color": "green",
          "width": 2
         },
         "mode": "lines",
         "showlegend": false,
         "type": "scatter3d",
         "x": [
          1,
          1
         ],
         "y": [
          4,
          4
         ],
         "z": [
          0,
          7
         ]
        },
        {
         "hoverinfo": "skip",
         "line": {
          "color": "green",
          "width": 2
         },
         "mode": "lines",
         "showlegend": false,
         "type": "scatter3d",
         "x": [
          1,
          1
         ],
         "y": [
          4,
          5
         ],
         "z": [
          0,
          0
         ]
        },
        {
         "hoverinfo": "skip",
         "line": {
          "color": "green",
          "width": 2
         },
         "mode": "lines",
         "showlegend": false,
         "type": "scatter3d",
         "x": [
          1,
          2
         ],
         "y": [
          4,
          4
         ],
         "z": [
          0,
          0
         ]
        },
        {
         "hoverinfo": "skip",
         "line": {
          "color": "green",
          "width": 2
         },
         "mode": "lines",
         "showlegend": false,
         "type": "scatter3d",
         "x": [
          1,
          3
         ],
         "y": [
          4,
          4
         ],
         "z": [
          0,
          0
         ]
        },
        {
         "hoverinfo": "skip",
         "line": {
          "color": "green",
          "width": 2
         },
         "mode": "lines",
         "showlegend": false,
         "type": "scatter3d",
         "x": [
          1,
          4
         ],
         "y": [
          4,
          4
         ],
         "z": [
          0,
          0
         ]
        },
        {
         "hoverinfo": "skip",
         "line": {
          "color": "green",
          "width": 2
         },
         "mode": "lines",
         "showlegend": false,
         "type": "scatter3d",
         "x": [
          1,
          5
         ],
         "y": [
          4,
          4
         ],
         "z": [
          0,
          0
         ]
        },
        {
         "hoverinfo": "skip",
         "line": {
          "color": "green",
          "width": 2
         },
         "mode": "lines",
         "showlegend": false,
         "type": "scatter3d",
         "x": [
          1,
          1
         ],
         "y": [
          4,
          4
         ],
         "z": [
          1,
          2
         ]
        },
        {
         "hoverinfo": "skip",
         "line": {
          "color": "green",
          "width": 2
         },
         "mode": "lines",
         "showlegend": false,
         "type": "scatter3d",
         "x": [
          1,
          1
         ],
         "y": [
          4,
          4
         ],
         "z": [
          1,
          3
         ]
        },
        {
         "hoverinfo": "skip",
         "line": {
          "color": "green",
          "width": 2
         },
         "mode": "lines",
         "showlegend": false,
         "type": "scatter3d",
         "x": [
          1,
          1
         ],
         "y": [
          4,
          4
         ],
         "z": [
          1,
          4
         ]
        },
        {
         "hoverinfo": "skip",
         "line": {
          "color": "green",
          "width": 2
         },
         "mode": "lines",
         "showlegend": false,
         "type": "scatter3d",
         "x": [
          1,
          1
         ],
         "y": [
          4,
          4
         ],
         "z": [
          1,
          5
         ]
        },
        {
         "hoverinfo": "skip",
         "line": {
          "color": "green",
          "width": 2
         },
         "mode": "lines",
         "showlegend": false,
         "type": "scatter3d",
         "x": [
          1,
          1
         ],
         "y": [
          4,
          4
         ],
         "z": [
          1,
          6
         ]
        },
        {
         "hoverinfo": "skip",
         "line": {
          "color": "green",
          "width": 2
         },
         "mode": "lines",
         "showlegend": false,
         "type": "scatter3d",
         "x": [
          1,
          1
         ],
         "y": [
          4,
          4
         ],
         "z": [
          1,
          7
         ]
        },
        {
         "hoverinfo": "skip",
         "line": {
          "color": "green",
          "width": 2
         },
         "mode": "lines",
         "showlegend": false,
         "type": "scatter3d",
         "x": [
          1,
          1
         ],
         "y": [
          4,
          5
         ],
         "z": [
          1,
          1
         ]
        },
        {
         "hoverinfo": "skip",
         "line": {
          "color": "green",
          "width": 2
         },
         "mode": "lines",
         "showlegend": false,
         "type": "scatter3d",
         "x": [
          1,
          2
         ],
         "y": [
          4,
          4
         ],
         "z": [
          1,
          1
         ]
        },
        {
         "hoverinfo": "skip",
         "line": {
          "color": "green",
          "width": 2
         },
         "mode": "lines",
         "showlegend": false,
         "type": "scatter3d",
         "x": [
          1,
          3
         ],
         "y": [
          4,
          4
         ],
         "z": [
          1,
          1
         ]
        },
        {
         "hoverinfo": "skip",
         "line": {
          "color": "green",
          "width": 2
         },
         "mode": "lines",
         "showlegend": false,
         "type": "scatter3d",
         "x": [
          1,
          4
         ],
         "y": [
          4,
          4
         ],
         "z": [
          1,
          1
         ]
        },
        {
         "hoverinfo": "skip",
         "line": {
          "color": "green",
          "width": 2
         },
         "mode": "lines",
         "showlegend": false,
         "type": "scatter3d",
         "x": [
          1,
          5
         ],
         "y": [
          4,
          4
         ],
         "z": [
          1,
          1
         ]
        },
        {
         "hoverinfo": "skip",
         "line": {
          "color": "green",
          "width": 2
         },
         "mode": "lines",
         "showlegend": false,
         "type": "scatter3d",
         "x": [
          1,
          1
         ],
         "y": [
          4,
          4
         ],
         "z": [
          2,
          3
         ]
        },
        {
         "hoverinfo": "skip",
         "line": {
          "color": "green",
          "width": 2
         },
         "mode": "lines",
         "showlegend": false,
         "type": "scatter3d",
         "x": [
          1,
          1
         ],
         "y": [
          4,
          4
         ],
         "z": [
          2,
          4
         ]
        },
        {
         "hoverinfo": "skip",
         "line": {
          "color": "green",
          "width": 2
         },
         "mode": "lines",
         "showlegend": false,
         "type": "scatter3d",
         "x": [
          1,
          1
         ],
         "y": [
          4,
          4
         ],
         "z": [
          2,
          5
         ]
        },
        {
         "hoverinfo": "skip",
         "line": {
          "color": "green",
          "width": 2
         },
         "mode": "lines",
         "showlegend": false,
         "type": "scatter3d",
         "x": [
          1,
          1
         ],
         "y": [
          4,
          4
         ],
         "z": [
          2,
          6
         ]
        },
        {
         "hoverinfo": "skip",
         "line": {
          "color": "green",
          "width": 2
         },
         "mode": "lines",
         "showlegend": false,
         "type": "scatter3d",
         "x": [
          1,
          1
         ],
         "y": [
          4,
          4
         ],
         "z": [
          2,
          7
         ]
        },
        {
         "hoverinfo": "skip",
         "line": {
          "color": "green",
          "width": 2
         },
         "mode": "lines",
         "showlegend": false,
         "type": "scatter3d",
         "x": [
          1,
          1
         ],
         "y": [
          4,
          5
         ],
         "z": [
          2,
          2
         ]
        },
        {
         "hoverinfo": "skip",
         "line": {
          "color": "green",
          "width": 2
         },
         "mode": "lines",
         "showlegend": false,
         "type": "scatter3d",
         "x": [
          1,
          2
         ],
         "y": [
          4,
          4
         ],
         "z": [
          2,
          2
         ]
        },
        {
         "hoverinfo": "skip",
         "line": {
          "color": "green",
          "width": 2
         },
         "mode": "lines",
         "showlegend": false,
         "type": "scatter3d",
         "x": [
          1,
          3
         ],
         "y": [
          4,
          4
         ],
         "z": [
          2,
          2
         ]
        },
        {
         "hoverinfo": "skip",
         "line": {
          "color": "green",
          "width": 2
         },
         "mode": "lines",
         "showlegend": false,
         "type": "scatter3d",
         "x": [
          1,
          4
         ],
         "y": [
          4,
          4
         ],
         "z": [
          2,
          2
         ]
        },
        {
         "hoverinfo": "skip",
         "line": {
          "color": "green",
          "width": 2
         },
         "mode": "lines",
         "showlegend": false,
         "type": "scatter3d",
         "x": [
          1,
          5
         ],
         "y": [
          4,
          4
         ],
         "z": [
          2,
          2
         ]
        },
        {
         "hoverinfo": "skip",
         "line": {
          "color": "green",
          "width": 2
         },
         "mode": "lines",
         "showlegend": false,
         "type": "scatter3d",
         "x": [
          1,
          1
         ],
         "y": [
          4,
          4
         ],
         "z": [
          3,
          4
         ]
        },
        {
         "hoverinfo": "skip",
         "line": {
          "color": "green",
          "width": 2
         },
         "mode": "lines",
         "showlegend": false,
         "type": "scatter3d",
         "x": [
          1,
          1
         ],
         "y": [
          4,
          4
         ],
         "z": [
          3,
          5
         ]
        },
        {
         "hoverinfo": "skip",
         "line": {
          "color": "green",
          "width": 2
         },
         "mode": "lines",
         "showlegend": false,
         "type": "scatter3d",
         "x": [
          1,
          1
         ],
         "y": [
          4,
          4
         ],
         "z": [
          3,
          6
         ]
        },
        {
         "hoverinfo": "skip",
         "line": {
          "color": "green",
          "width": 2
         },
         "mode": "lines",
         "showlegend": false,
         "type": "scatter3d",
         "x": [
          1,
          1
         ],
         "y": [
          4,
          4
         ],
         "z": [
          3,
          7
         ]
        },
        {
         "hoverinfo": "skip",
         "line": {
          "color": "green",
          "width": 2
         },
         "mode": "lines",
         "showlegend": false,
         "type": "scatter3d",
         "x": [
          1,
          1
         ],
         "y": [
          4,
          5
         ],
         "z": [
          3,
          3
         ]
        },
        {
         "hoverinfo": "skip",
         "line": {
          "color": "green",
          "width": 2
         },
         "mode": "lines",
         "showlegend": false,
         "type": "scatter3d",
         "x": [
          1,
          2
         ],
         "y": [
          4,
          4
         ],
         "z": [
          3,
          3
         ]
        },
        {
         "hoverinfo": "skip",
         "line": {
          "color": "green",
          "width": 2
         },
         "mode": "lines",
         "showlegend": false,
         "type": "scatter3d",
         "x": [
          1,
          3
         ],
         "y": [
          4,
          4
         ],
         "z": [
          3,
          3
         ]
        },
        {
         "hoverinfo": "skip",
         "line": {
          "color": "green",
          "width": 2
         },
         "mode": "lines",
         "showlegend": false,
         "type": "scatter3d",
         "x": [
          1,
          4
         ],
         "y": [
          4,
          4
         ],
         "z": [
          3,
          3
         ]
        },
        {
         "hoverinfo": "skip",
         "line": {
          "color": "green",
          "width": 2
         },
         "mode": "lines",
         "showlegend": false,
         "type": "scatter3d",
         "x": [
          1,
          5
         ],
         "y": [
          4,
          4
         ],
         "z": [
          3,
          3
         ]
        },
        {
         "hoverinfo": "skip",
         "line": {
          "color": "green",
          "width": 2
         },
         "mode": "lines",
         "showlegend": false,
         "type": "scatter3d",
         "x": [
          1,
          1
         ],
         "y": [
          4,
          4
         ],
         "z": [
          4,
          5
         ]
        },
        {
         "hoverinfo": "skip",
         "line": {
          "color": "green",
          "width": 2
         },
         "mode": "lines",
         "showlegend": false,
         "type": "scatter3d",
         "x": [
          1,
          1
         ],
         "y": [
          4,
          4
         ],
         "z": [
          4,
          6
         ]
        },
        {
         "hoverinfo": "skip",
         "line": {
          "color": "green",
          "width": 2
         },
         "mode": "lines",
         "showlegend": false,
         "type": "scatter3d",
         "x": [
          1,
          1
         ],
         "y": [
          4,
          4
         ],
         "z": [
          4,
          7
         ]
        },
        {
         "hoverinfo": "skip",
         "line": {
          "color": "green",
          "width": 2
         },
         "mode": "lines",
         "showlegend": false,
         "type": "scatter3d",
         "x": [
          1,
          1
         ],
         "y": [
          4,
          5
         ],
         "z": [
          4,
          4
         ]
        },
        {
         "hoverinfo": "skip",
         "line": {
          "color": "green",
          "width": 2
         },
         "mode": "lines",
         "showlegend": false,
         "type": "scatter3d",
         "x": [
          1,
          2
         ],
         "y": [
          4,
          4
         ],
         "z": [
          4,
          4
         ]
        },
        {
         "hoverinfo": "skip",
         "line": {
          "color": "green",
          "width": 2
         },
         "mode": "lines",
         "showlegend": false,
         "type": "scatter3d",
         "x": [
          1,
          3
         ],
         "y": [
          4,
          4
         ],
         "z": [
          4,
          4
         ]
        },
        {
         "hoverinfo": "skip",
         "line": {
          "color": "green",
          "width": 2
         },
         "mode": "lines",
         "showlegend": false,
         "type": "scatter3d",
         "x": [
          1,
          4
         ],
         "y": [
          4,
          4
         ],
         "z": [
          4,
          4
         ]
        },
        {
         "hoverinfo": "skip",
         "line": {
          "color": "green",
          "width": 2
         },
         "mode": "lines",
         "showlegend": false,
         "type": "scatter3d",
         "x": [
          1,
          5
         ],
         "y": [
          4,
          4
         ],
         "z": [
          4,
          4
         ]
        },
        {
         "hoverinfo": "skip",
         "line": {
          "color": "green",
          "width": 2
         },
         "mode": "lines",
         "showlegend": false,
         "type": "scatter3d",
         "x": [
          1,
          1
         ],
         "y": [
          4,
          4
         ],
         "z": [
          5,
          6
         ]
        },
        {
         "hoverinfo": "skip",
         "line": {
          "color": "green",
          "width": 2
         },
         "mode": "lines",
         "showlegend": false,
         "type": "scatter3d",
         "x": [
          1,
          1
         ],
         "y": [
          4,
          4
         ],
         "z": [
          5,
          7
         ]
        },
        {
         "hoverinfo": "skip",
         "line": {
          "color": "green",
          "width": 2
         },
         "mode": "lines",
         "showlegend": false,
         "type": "scatter3d",
         "x": [
          1,
          1
         ],
         "y": [
          4,
          5
         ],
         "z": [
          5,
          5
         ]
        },
        {
         "hoverinfo": "skip",
         "line": {
          "color": "green",
          "width": 2
         },
         "mode": "lines",
         "showlegend": false,
         "type": "scatter3d",
         "x": [
          1,
          2
         ],
         "y": [
          4,
          4
         ],
         "z": [
          5,
          5
         ]
        },
        {
         "hoverinfo": "skip",
         "line": {
          "color": "green",
          "width": 2
         },
         "mode": "lines",
         "showlegend": false,
         "type": "scatter3d",
         "x": [
          1,
          3
         ],
         "y": [
          4,
          4
         ],
         "z": [
          5,
          5
         ]
        },
        {
         "hoverinfo": "skip",
         "line": {
          "color": "green",
          "width": 2
         },
         "mode": "lines",
         "showlegend": false,
         "type": "scatter3d",
         "x": [
          1,
          4
         ],
         "y": [
          4,
          4
         ],
         "z": [
          5,
          5
         ]
        },
        {
         "hoverinfo": "skip",
         "line": {
          "color": "green",
          "width": 2
         },
         "mode": "lines",
         "showlegend": false,
         "type": "scatter3d",
         "x": [
          1,
          5
         ],
         "y": [
          4,
          4
         ],
         "z": [
          5,
          5
         ]
        },
        {
         "hoverinfo": "skip",
         "line": {
          "color": "green",
          "width": 2
         },
         "mode": "lines",
         "showlegend": false,
         "type": "scatter3d",
         "x": [
          1,
          1
         ],
         "y": [
          4,
          4
         ],
         "z": [
          6,
          7
         ]
        },
        {
         "hoverinfo": "skip",
         "line": {
          "color": "green",
          "width": 2
         },
         "mode": "lines",
         "showlegend": false,
         "type": "scatter3d",
         "x": [
          1,
          1
         ],
         "y": [
          4,
          5
         ],
         "z": [
          6,
          6
         ]
        },
        {
         "hoverinfo": "skip",
         "line": {
          "color": "green",
          "width": 2
         },
         "mode": "lines",
         "showlegend": false,
         "type": "scatter3d",
         "x": [
          1,
          2
         ],
         "y": [
          4,
          4
         ],
         "z": [
          6,
          6
         ]
        },
        {
         "hoverinfo": "skip",
         "line": {
          "color": "green",
          "width": 2
         },
         "mode": "lines",
         "showlegend": false,
         "type": "scatter3d",
         "x": [
          1,
          3
         ],
         "y": [
          4,
          4
         ],
         "z": [
          6,
          6
         ]
        },
        {
         "hoverinfo": "skip",
         "line": {
          "color": "green",
          "width": 2
         },
         "mode": "lines",
         "showlegend": false,
         "type": "scatter3d",
         "x": [
          1,
          4
         ],
         "y": [
          4,
          4
         ],
         "z": [
          6,
          6
         ]
        },
        {
         "hoverinfo": "skip",
         "line": {
          "color": "green",
          "width": 2
         },
         "mode": "lines",
         "showlegend": false,
         "type": "scatter3d",
         "x": [
          1,
          5
         ],
         "y": [
          4,
          4
         ],
         "z": [
          6,
          6
         ]
        },
        {
         "hoverinfo": "skip",
         "line": {
          "color": "green",
          "width": 2
         },
         "mode": "lines",
         "showlegend": false,
         "type": "scatter3d",
         "x": [
          1,
          1
         ],
         "y": [
          4,
          5
         ],
         "z": [
          7,
          7
         ]
        },
        {
         "hoverinfo": "skip",
         "line": {
          "color": "green",
          "width": 2
         },
         "mode": "lines",
         "showlegend": false,
         "type": "scatter3d",
         "x": [
          1,
          2
         ],
         "y": [
          4,
          4
         ],
         "z": [
          7,
          7
         ]
        },
        {
         "hoverinfo": "skip",
         "line": {
          "color": "green",
          "width": 2
         },
         "mode": "lines",
         "showlegend": false,
         "type": "scatter3d",
         "x": [
          1,
          3
         ],
         "y": [
          4,
          4
         ],
         "z": [
          7,
          7
         ]
        },
        {
         "hoverinfo": "skip",
         "line": {
          "color": "green",
          "width": 2
         },
         "mode": "lines",
         "showlegend": false,
         "type": "scatter3d",
         "x": [
          1,
          4
         ],
         "y": [
          4,
          4
         ],
         "z": [
          7,
          7
         ]
        },
        {
         "hoverinfo": "skip",
         "line": {
          "color": "green",
          "width": 2
         },
         "mode": "lines",
         "showlegend": false,
         "type": "scatter3d",
         "x": [
          1,
          5
         ],
         "y": [
          4,
          4
         ],
         "z": [
          7,
          7
         ]
        },
        {
         "hoverinfo": "skip",
         "line": {
          "color": "green",
          "width": 2
         },
         "mode": "lines",
         "showlegend": false,
         "type": "scatter3d",
         "x": [
          1,
          1
         ],
         "y": [
          5,
          5
         ],
         "z": [
          0,
          1
         ]
        },
        {
         "hoverinfo": "skip",
         "line": {
          "color": "green",
          "width": 2
         },
         "mode": "lines",
         "showlegend": false,
         "type": "scatter3d",
         "x": [
          1,
          1
         ],
         "y": [
          5,
          5
         ],
         "z": [
          0,
          2
         ]
        },
        {
         "hoverinfo": "skip",
         "line": {
          "color": "green",
          "width": 2
         },
         "mode": "lines",
         "showlegend": false,
         "type": "scatter3d",
         "x": [
          1,
          1
         ],
         "y": [
          5,
          5
         ],
         "z": [
          0,
          3
         ]
        },
        {
         "hoverinfo": "skip",
         "line": {
          "color": "green",
          "width": 2
         },
         "mode": "lines",
         "showlegend": false,
         "type": "scatter3d",
         "x": [
          1,
          1
         ],
         "y": [
          5,
          5
         ],
         "z": [
          0,
          4
         ]
        },
        {
         "hoverinfo": "skip",
         "line": {
          "color": "green",
          "width": 2
         },
         "mode": "lines",
         "showlegend": false,
         "type": "scatter3d",
         "x": [
          1,
          1
         ],
         "y": [
          5,
          5
         ],
         "z": [
          0,
          5
         ]
        },
        {
         "hoverinfo": "skip",
         "line": {
          "color": "green",
          "width": 2
         },
         "mode": "lines",
         "showlegend": false,
         "type": "scatter3d",
         "x": [
          1,
          1
         ],
         "y": [
          5,
          5
         ],
         "z": [
          0,
          6
         ]
        },
        {
         "hoverinfo": "skip",
         "line": {
          "color": "green",
          "width": 2
         },
         "mode": "lines",
         "showlegend": false,
         "type": "scatter3d",
         "x": [
          1,
          1
         ],
         "y": [
          5,
          5
         ],
         "z": [
          0,
          7
         ]
        },
        {
         "hoverinfo": "skip",
         "line": {
          "color": "green",
          "width": 2
         },
         "mode": "lines",
         "showlegend": false,
         "type": "scatter3d",
         "x": [
          1,
          2
         ],
         "y": [
          5,
          5
         ],
         "z": [
          0,
          0
         ]
        },
        {
         "hoverinfo": "skip",
         "line": {
          "color": "green",
          "width": 2
         },
         "mode": "lines",
         "showlegend": false,
         "type": "scatter3d",
         "x": [
          1,
          3
         ],
         "y": [
          5,
          5
         ],
         "z": [
          0,
          0
         ]
        },
        {
         "hoverinfo": "skip",
         "line": {
          "color": "green",
          "width": 2
         },
         "mode": "lines",
         "showlegend": false,
         "type": "scatter3d",
         "x": [
          1,
          4
         ],
         "y": [
          5,
          5
         ],
         "z": [
          0,
          0
         ]
        },
        {
         "hoverinfo": "skip",
         "line": {
          "color": "green",
          "width": 2
         },
         "mode": "lines",
         "showlegend": false,
         "type": "scatter3d",
         "x": [
          1,
          5
         ],
         "y": [
          5,
          5
         ],
         "z": [
          0,
          0
         ]
        },
        {
         "hoverinfo": "skip",
         "line": {
          "color": "green",
          "width": 2
         },
         "mode": "lines",
         "showlegend": false,
         "type": "scatter3d",
         "x": [
          1,
          1
         ],
         "y": [
          5,
          5
         ],
         "z": [
          1,
          2
         ]
        },
        {
         "hoverinfo": "skip",
         "line": {
          "color": "green",
          "width": 2
         },
         "mode": "lines",
         "showlegend": false,
         "type": "scatter3d",
         "x": [
          1,
          1
         ],
         "y": [
          5,
          5
         ],
         "z": [
          1,
          3
         ]
        },
        {
         "hoverinfo": "skip",
         "line": {
          "color": "green",
          "width": 2
         },
         "mode": "lines",
         "showlegend": false,
         "type": "scatter3d",
         "x": [
          1,
          1
         ],
         "y": [
          5,
          5
         ],
         "z": [
          1,
          4
         ]
        },
        {
         "hoverinfo": "skip",
         "line": {
          "color": "green",
          "width": 2
         },
         "mode": "lines",
         "showlegend": false,
         "type": "scatter3d",
         "x": [
          1,
          1
         ],
         "y": [
          5,
          5
         ],
         "z": [
          1,
          5
         ]
        },
        {
         "hoverinfo": "skip",
         "line": {
          "color": "green",
          "width": 2
         },
         "mode": "lines",
         "showlegend": false,
         "type": "scatter3d",
         "x": [
          1,
          1
         ],
         "y": [
          5,
          5
         ],
         "z": [
          1,
          6
         ]
        },
        {
         "hoverinfo": "skip",
         "line": {
          "color": "green",
          "width": 2
         },
         "mode": "lines",
         "showlegend": false,
         "type": "scatter3d",
         "x": [
          1,
          1
         ],
         "y": [
          5,
          5
         ],
         "z": [
          1,
          7
         ]
        },
        {
         "hoverinfo": "skip",
         "line": {
          "color": "green",
          "width": 2
         },
         "mode": "lines",
         "showlegend": false,
         "type": "scatter3d",
         "x": [
          1,
          2
         ],
         "y": [
          5,
          5
         ],
         "z": [
          1,
          1
         ]
        },
        {
         "hoverinfo": "skip",
         "line": {
          "color": "green",
          "width": 2
         },
         "mode": "lines",
         "showlegend": false,
         "type": "scatter3d",
         "x": [
          1,
          3
         ],
         "y": [
          5,
          5
         ],
         "z": [
          1,
          1
         ]
        },
        {
         "hoverinfo": "skip",
         "line": {
          "color": "green",
          "width": 2
         },
         "mode": "lines",
         "showlegend": false,
         "type": "scatter3d",
         "x": [
          1,
          4
         ],
         "y": [
          5,
          5
         ],
         "z": [
          1,
          1
         ]
        },
        {
         "hoverinfo": "skip",
         "line": {
          "color": "green",
          "width": 2
         },
         "mode": "lines",
         "showlegend": false,
         "type": "scatter3d",
         "x": [
          1,
          5
         ],
         "y": [
          5,
          5
         ],
         "z": [
          1,
          1
         ]
        },
        {
         "hoverinfo": "skip",
         "line": {
          "color": "green",
          "width": 2
         },
         "mode": "lines",
         "showlegend": false,
         "type": "scatter3d",
         "x": [
          1,
          1
         ],
         "y": [
          5,
          5
         ],
         "z": [
          2,
          3
         ]
        },
        {
         "hoverinfo": "skip",
         "line": {
          "color": "green",
          "width": 2
         },
         "mode": "lines",
         "showlegend": false,
         "type": "scatter3d",
         "x": [
          1,
          1
         ],
         "y": [
          5,
          5
         ],
         "z": [
          2,
          4
         ]
        },
        {
         "hoverinfo": "skip",
         "line": {
          "color": "green",
          "width": 2
         },
         "mode": "lines",
         "showlegend": false,
         "type": "scatter3d",
         "x": [
          1,
          1
         ],
         "y": [
          5,
          5
         ],
         "z": [
          2,
          5
         ]
        },
        {
         "hoverinfo": "skip",
         "line": {
          "color": "green",
          "width": 2
         },
         "mode": "lines",
         "showlegend": false,
         "type": "scatter3d",
         "x": [
          1,
          1
         ],
         "y": [
          5,
          5
         ],
         "z": [
          2,
          6
         ]
        },
        {
         "hoverinfo": "skip",
         "line": {
          "color": "green",
          "width": 2
         },
         "mode": "lines",
         "showlegend": false,
         "type": "scatter3d",
         "x": [
          1,
          1
         ],
         "y": [
          5,
          5
         ],
         "z": [
          2,
          7
         ]
        },
        {
         "hoverinfo": "skip",
         "line": {
          "color": "green",
          "width": 2
         },
         "mode": "lines",
         "showlegend": false,
         "type": "scatter3d",
         "x": [
          1,
          2
         ],
         "y": [
          5,
          5
         ],
         "z": [
          2,
          2
         ]
        },
        {
         "hoverinfo": "skip",
         "line": {
          "color": "green",
          "width": 2
         },
         "mode": "lines",
         "showlegend": false,
         "type": "scatter3d",
         "x": [
          1,
          3
         ],
         "y": [
          5,
          5
         ],
         "z": [
          2,
          2
         ]
        },
        {
         "hoverinfo": "skip",
         "line": {
          "color": "green",
          "width": 2
         },
         "mode": "lines",
         "showlegend": false,
         "type": "scatter3d",
         "x": [
          1,
          4
         ],
         "y": [
          5,
          5
         ],
         "z": [
          2,
          2
         ]
        },
        {
         "hoverinfo": "skip",
         "line": {
          "color": "green",
          "width": 2
         },
         "mode": "lines",
         "showlegend": false,
         "type": "scatter3d",
         "x": [
          1,
          5
         ],
         "y": [
          5,
          5
         ],
         "z": [
          2,
          2
         ]
        },
        {
         "hoverinfo": "skip",
         "line": {
          "color": "green",
          "width": 2
         },
         "mode": "lines",
         "showlegend": false,
         "type": "scatter3d",
         "x": [
          1,
          1
         ],
         "y": [
          5,
          5
         ],
         "z": [
          3,
          4
         ]
        },
        {
         "hoverinfo": "skip",
         "line": {
          "color": "green",
          "width": 2
         },
         "mode": "lines",
         "showlegend": false,
         "type": "scatter3d",
         "x": [
          1,
          1
         ],
         "y": [
          5,
          5
         ],
         "z": [
          3,
          5
         ]
        },
        {
         "hoverinfo": "skip",
         "line": {
          "color": "green",
          "width": 2
         },
         "mode": "lines",
         "showlegend": false,
         "type": "scatter3d",
         "x": [
          1,
          1
         ],
         "y": [
          5,
          5
         ],
         "z": [
          3,
          6
         ]
        },
        {
         "hoverinfo": "skip",
         "line": {
          "color": "green",
          "width": 2
         },
         "mode": "lines",
         "showlegend": false,
         "type": "scatter3d",
         "x": [
          1,
          1
         ],
         "y": [
          5,
          5
         ],
         "z": [
          3,
          7
         ]
        },
        {
         "hoverinfo": "skip",
         "line": {
          "color": "green",
          "width": 2
         },
         "mode": "lines",
         "showlegend": false,
         "type": "scatter3d",
         "x": [
          1,
          2
         ],
         "y": [
          5,
          5
         ],
         "z": [
          3,
          3
         ]
        },
        {
         "hoverinfo": "skip",
         "line": {
          "color": "green",
          "width": 2
         },
         "mode": "lines",
         "showlegend": false,
         "type": "scatter3d",
         "x": [
          1,
          3
         ],
         "y": [
          5,
          5
         ],
         "z": [
          3,
          3
         ]
        },
        {
         "hoverinfo": "skip",
         "line": {
          "color": "green",
          "width": 2
         },
         "mode": "lines",
         "showlegend": false,
         "type": "scatter3d",
         "x": [
          1,
          4
         ],
         "y": [
          5,
          5
         ],
         "z": [
          3,
          3
         ]
        },
        {
         "hoverinfo": "skip",
         "line": {
          "color": "green",
          "width": 2
         },
         "mode": "lines",
         "showlegend": false,
         "type": "scatter3d",
         "x": [
          1,
          5
         ],
         "y": [
          5,
          5
         ],
         "z": [
          3,
          3
         ]
        },
        {
         "hoverinfo": "skip",
         "line": {
          "color": "green",
          "width": 2
         },
         "mode": "lines",
         "showlegend": false,
         "type": "scatter3d",
         "x": [
          1,
          1
         ],
         "y": [
          5,
          5
         ],
         "z": [
          4,
          5
         ]
        },
        {
         "hoverinfo": "skip",
         "line": {
          "color": "green",
          "width": 2
         },
         "mode": "lines",
         "showlegend": false,
         "type": "scatter3d",
         "x": [
          1,
          1
         ],
         "y": [
          5,
          5
         ],
         "z": [
          4,
          6
         ]
        },
        {
         "hoverinfo": "skip",
         "line": {
          "color": "green",
          "width": 2
         },
         "mode": "lines",
         "showlegend": false,
         "type": "scatter3d",
         "x": [
          1,
          1
         ],
         "y": [
          5,
          5
         ],
         "z": [
          4,
          7
         ]
        },
        {
         "hoverinfo": "skip",
         "line": {
          "color": "green",
          "width": 2
         },
         "mode": "lines",
         "showlegend": false,
         "type": "scatter3d",
         "x": [
          1,
          2
         ],
         "y": [
          5,
          5
         ],
         "z": [
          4,
          4
         ]
        },
        {
         "hoverinfo": "skip",
         "line": {
          "color": "green",
          "width": 2
         },
         "mode": "lines",
         "showlegend": false,
         "type": "scatter3d",
         "x": [
          1,
          3
         ],
         "y": [
          5,
          5
         ],
         "z": [
          4,
          4
         ]
        },
        {
         "hoverinfo": "skip",
         "line": {
          "color": "green",
          "width": 2
         },
         "mode": "lines",
         "showlegend": false,
         "type": "scatter3d",
         "x": [
          1,
          4
         ],
         "y": [
          5,
          5
         ],
         "z": [
          4,
          4
         ]
        },
        {
         "hoverinfo": "skip",
         "line": {
          "color": "green",
          "width": 2
         },
         "mode": "lines",
         "showlegend": false,
         "type": "scatter3d",
         "x": [
          1,
          5
         ],
         "y": [
          5,
          5
         ],
         "z": [
          4,
          4
         ]
        },
        {
         "hoverinfo": "skip",
         "line": {
          "color": "green",
          "width": 2
         },
         "mode": "lines",
         "showlegend": false,
         "type": "scatter3d",
         "x": [
          1,
          1
         ],
         "y": [
          5,
          5
         ],
         "z": [
          5,
          6
         ]
        },
        {
         "hoverinfo": "skip",
         "line": {
          "color": "green",
          "width": 2
         },
         "mode": "lines",
         "showlegend": false,
         "type": "scatter3d",
         "x": [
          1,
          1
         ],
         "y": [
          5,
          5
         ],
         "z": [
          5,
          7
         ]
        },
        {
         "hoverinfo": "skip",
         "line": {
          "color": "green",
          "width": 2
         },
         "mode": "lines",
         "showlegend": false,
         "type": "scatter3d",
         "x": [
          1,
          2
         ],
         "y": [
          5,
          5
         ],
         "z": [
          5,
          5
         ]
        },
        {
         "hoverinfo": "skip",
         "line": {
          "color": "green",
          "width": 2
         },
         "mode": "lines",
         "showlegend": false,
         "type": "scatter3d",
         "x": [
          1,
          3
         ],
         "y": [
          5,
          5
         ],
         "z": [
          5,
          5
         ]
        },
        {
         "hoverinfo": "skip",
         "line": {
          "color": "green",
          "width": 2
         },
         "mode": "lines",
         "showlegend": false,
         "type": "scatter3d",
         "x": [
          1,
          4
         ],
         "y": [
          5,
          5
         ],
         "z": [
          5,
          5
         ]
        },
        {
         "hoverinfo": "skip",
         "line": {
          "color": "green",
          "width": 2
         },
         "mode": "lines",
         "showlegend": false,
         "type": "scatter3d",
         "x": [
          1,
          5
         ],
         "y": [
          5,
          5
         ],
         "z": [
          5,
          5
         ]
        },
        {
         "hoverinfo": "skip",
         "line": {
          "color": "green",
          "width": 2
         },
         "mode": "lines",
         "showlegend": false,
         "type": "scatter3d",
         "x": [
          1,
          1
         ],
         "y": [
          5,
          5
         ],
         "z": [
          6,
          7
         ]
        },
        {
         "hoverinfo": "skip",
         "line": {
          "color": "green",
          "width": 2
         },
         "mode": "lines",
         "showlegend": false,
         "type": "scatter3d",
         "x": [
          1,
          2
         ],
         "y": [
          5,
          5
         ],
         "z": [
          6,
          6
         ]
        },
        {
         "hoverinfo": "skip",
         "line": {
          "color": "green",
          "width": 2
         },
         "mode": "lines",
         "showlegend": false,
         "type": "scatter3d",
         "x": [
          1,
          3
         ],
         "y": [
          5,
          5
         ],
         "z": [
          6,
          6
         ]
        },
        {
         "hoverinfo": "skip",
         "line": {
          "color": "green",
          "width": 2
         },
         "mode": "lines",
         "showlegend": false,
         "type": "scatter3d",
         "x": [
          1,
          4
         ],
         "y": [
          5,
          5
         ],
         "z": [
          6,
          6
         ]
        },
        {
         "hoverinfo": "skip",
         "line": {
          "color": "green",
          "width": 2
         },
         "mode": "lines",
         "showlegend": false,
         "type": "scatter3d",
         "x": [
          1,
          5
         ],
         "y": [
          5,
          5
         ],
         "z": [
          6,
          6
         ]
        },
        {
         "hoverinfo": "skip",
         "line": {
          "color": "green",
          "width": 2
         },
         "mode": "lines",
         "showlegend": false,
         "type": "scatter3d",
         "x": [
          1,
          2
         ],
         "y": [
          5,
          5
         ],
         "z": [
          7,
          7
         ]
        },
        {
         "hoverinfo": "skip",
         "line": {
          "color": "green",
          "width": 2
         },
         "mode": "lines",
         "showlegend": false,
         "type": "scatter3d",
         "x": [
          1,
          3
         ],
         "y": [
          5,
          5
         ],
         "z": [
          7,
          7
         ]
        },
        {
         "hoverinfo": "skip",
         "line": {
          "color": "green",
          "width": 2
         },
         "mode": "lines",
         "showlegend": false,
         "type": "scatter3d",
         "x": [
          1,
          4
         ],
         "y": [
          5,
          5
         ],
         "z": [
          7,
          7
         ]
        },
        {
         "hoverinfo": "skip",
         "line": {
          "color": "green",
          "width": 2
         },
         "mode": "lines",
         "showlegend": false,
         "type": "scatter3d",
         "x": [
          1,
          5
         ],
         "y": [
          5,
          5
         ],
         "z": [
          7,
          7
         ]
        },
        {
         "hoverinfo": "skip",
         "line": {
          "color": "green",
          "width": 2
         },
         "mode": "lines",
         "showlegend": false,
         "type": "scatter3d",
         "x": [
          2,
          2
         ],
         "y": [
          0,
          0
         ],
         "z": [
          0,
          1
         ]
        },
        {
         "hoverinfo": "skip",
         "line": {
          "color": "green",
          "width": 2
         },
         "mode": "lines",
         "showlegend": false,
         "type": "scatter3d",
         "x": [
          2,
          2
         ],
         "y": [
          0,
          0
         ],
         "z": [
          0,
          2
         ]
        },
        {
         "hoverinfo": "skip",
         "line": {
          "color": "green",
          "width": 2
         },
         "mode": "lines",
         "showlegend": false,
         "type": "scatter3d",
         "x": [
          2,
          2
         ],
         "y": [
          0,
          0
         ],
         "z": [
          0,
          3
         ]
        },
        {
         "hoverinfo": "skip",
         "line": {
          "color": "green",
          "width": 2
         },
         "mode": "lines",
         "showlegend": false,
         "type": "scatter3d",
         "x": [
          2,
          2
         ],
         "y": [
          0,
          0
         ],
         "z": [
          0,
          4
         ]
        },
        {
         "hoverinfo": "skip",
         "line": {
          "color": "green",
          "width": 2
         },
         "mode": "lines",
         "showlegend": false,
         "type": "scatter3d",
         "x": [
          2,
          2
         ],
         "y": [
          0,
          0
         ],
         "z": [
          0,
          5
         ]
        },
        {
         "hoverinfo": "skip",
         "line": {
          "color": "green",
          "width": 2
         },
         "mode": "lines",
         "showlegend": false,
         "type": "scatter3d",
         "x": [
          2,
          2
         ],
         "y": [
          0,
          0
         ],
         "z": [
          0,
          6
         ]
        },
        {
         "hoverinfo": "skip",
         "line": {
          "color": "green",
          "width": 2
         },
         "mode": "lines",
         "showlegend": false,
         "type": "scatter3d",
         "x": [
          2,
          2
         ],
         "y": [
          0,
          0
         ],
         "z": [
          0,
          7
         ]
        },
        {
         "hoverinfo": "skip",
         "line": {
          "color": "green",
          "width": 2
         },
         "mode": "lines",
         "showlegend": false,
         "type": "scatter3d",
         "x": [
          2,
          2
         ],
         "y": [
          0,
          1
         ],
         "z": [
          0,
          0
         ]
        },
        {
         "hoverinfo": "skip",
         "line": {
          "color": "green",
          "width": 2
         },
         "mode": "lines",
         "showlegend": false,
         "type": "scatter3d",
         "x": [
          2,
          2
         ],
         "y": [
          0,
          2
         ],
         "z": [
          0,
          0
         ]
        },
        {
         "hoverinfo": "skip",
         "line": {
          "color": "green",
          "width": 2
         },
         "mode": "lines",
         "showlegend": false,
         "type": "scatter3d",
         "x": [
          2,
          2
         ],
         "y": [
          0,
          3
         ],
         "z": [
          0,
          0
         ]
        },
        {
         "hoverinfo": "skip",
         "line": {
          "color": "green",
          "width": 2
         },
         "mode": "lines",
         "showlegend": false,
         "type": "scatter3d",
         "x": [
          2,
          2
         ],
         "y": [
          0,
          4
         ],
         "z": [
          0,
          0
         ]
        },
        {
         "hoverinfo": "skip",
         "line": {
          "color": "green",
          "width": 2
         },
         "mode": "lines",
         "showlegend": false,
         "type": "scatter3d",
         "x": [
          2,
          2
         ],
         "y": [
          0,
          5
         ],
         "z": [
          0,
          0
         ]
        },
        {
         "hoverinfo": "skip",
         "line": {
          "color": "green",
          "width": 2
         },
         "mode": "lines",
         "showlegend": false,
         "type": "scatter3d",
         "x": [
          2,
          3
         ],
         "y": [
          0,
          0
         ],
         "z": [
          0,
          0
         ]
        },
        {
         "hoverinfo": "skip",
         "line": {
          "color": "green",
          "width": 2
         },
         "mode": "lines",
         "showlegend": false,
         "type": "scatter3d",
         "x": [
          2,
          4
         ],
         "y": [
          0,
          0
         ],
         "z": [
          0,
          0
         ]
        },
        {
         "hoverinfo": "skip",
         "line": {
          "color": "green",
          "width": 2
         },
         "mode": "lines",
         "showlegend": false,
         "type": "scatter3d",
         "x": [
          2,
          5
         ],
         "y": [
          0,
          0
         ],
         "z": [
          0,
          0
         ]
        },
        {
         "hoverinfo": "skip",
         "line": {
          "color": "green",
          "width": 2
         },
         "mode": "lines",
         "showlegend": false,
         "type": "scatter3d",
         "x": [
          2,
          2
         ],
         "y": [
          0,
          0
         ],
         "z": [
          1,
          2
         ]
        },
        {
         "hoverinfo": "skip",
         "line": {
          "color": "green",
          "width": 2
         },
         "mode": "lines",
         "showlegend": false,
         "type": "scatter3d",
         "x": [
          2,
          2
         ],
         "y": [
          0,
          0
         ],
         "z": [
          1,
          3
         ]
        },
        {
         "hoverinfo": "skip",
         "line": {
          "color": "green",
          "width": 2
         },
         "mode": "lines",
         "showlegend": false,
         "type": "scatter3d",
         "x": [
          2,
          2
         ],
         "y": [
          0,
          0
         ],
         "z": [
          1,
          4
         ]
        },
        {
         "hoverinfo": "skip",
         "line": {
          "color": "green",
          "width": 2
         },
         "mode": "lines",
         "showlegend": false,
         "type": "scatter3d",
         "x": [
          2,
          2
         ],
         "y": [
          0,
          0
         ],
         "z": [
          1,
          5
         ]
        },
        {
         "hoverinfo": "skip",
         "line": {
          "color": "green",
          "width": 2
         },
         "mode": "lines",
         "showlegend": false,
         "type": "scatter3d",
         "x": [
          2,
          2
         ],
         "y": [
          0,
          0
         ],
         "z": [
          1,
          6
         ]
        },
        {
         "hoverinfo": "skip",
         "line": {
          "color": "green",
          "width": 2
         },
         "mode": "lines",
         "showlegend": false,
         "type": "scatter3d",
         "x": [
          2,
          2
         ],
         "y": [
          0,
          0
         ],
         "z": [
          1,
          7
         ]
        },
        {
         "hoverinfo": "skip",
         "line": {
          "color": "green",
          "width": 2
         },
         "mode": "lines",
         "showlegend": false,
         "type": "scatter3d",
         "x": [
          2,
          2
         ],
         "y": [
          0,
          1
         ],
         "z": [
          1,
          1
         ]
        },
        {
         "hoverinfo": "skip",
         "line": {
          "color": "green",
          "width": 2
         },
         "mode": "lines",
         "showlegend": false,
         "type": "scatter3d",
         "x": [
          2,
          2
         ],
         "y": [
          0,
          2
         ],
         "z": [
          1,
          1
         ]
        },
        {
         "hoverinfo": "skip",
         "line": {
          "color": "green",
          "width": 2
         },
         "mode": "lines",
         "showlegend": false,
         "type": "scatter3d",
         "x": [
          2,
          2
         ],
         "y": [
          0,
          3
         ],
         "z": [
          1,
          1
         ]
        },
        {
         "hoverinfo": "skip",
         "line": {
          "color": "green",
          "width": 2
         },
         "mode": "lines",
         "showlegend": false,
         "type": "scatter3d",
         "x": [
          2,
          2
         ],
         "y": [
          0,
          4
         ],
         "z": [
          1,
          1
         ]
        },
        {
         "hoverinfo": "skip",
         "line": {
          "color": "green",
          "width": 2
         },
         "mode": "lines",
         "showlegend": false,
         "type": "scatter3d",
         "x": [
          2,
          2
         ],
         "y": [
          0,
          5
         ],
         "z": [
          1,
          1
         ]
        },
        {
         "hoverinfo": "skip",
         "line": {
          "color": "green",
          "width": 2
         },
         "mode": "lines",
         "showlegend": false,
         "type": "scatter3d",
         "x": [
          2,
          3
         ],
         "y": [
          0,
          0
         ],
         "z": [
          1,
          1
         ]
        },
        {
         "hoverinfo": "skip",
         "line": {
          "color": "green",
          "width": 2
         },
         "mode": "lines",
         "showlegend": false,
         "type": "scatter3d",
         "x": [
          2,
          4
         ],
         "y": [
          0,
          0
         ],
         "z": [
          1,
          1
         ]
        },
        {
         "hoverinfo": "skip",
         "line": {
          "color": "green",
          "width": 2
         },
         "mode": "lines",
         "showlegend": false,
         "type": "scatter3d",
         "x": [
          2,
          5
         ],
         "y": [
          0,
          0
         ],
         "z": [
          1,
          1
         ]
        },
        {
         "hoverinfo": "skip",
         "line": {
          "color": "green",
          "width": 2
         },
         "mode": "lines",
         "showlegend": false,
         "type": "scatter3d",
         "x": [
          2,
          2
         ],
         "y": [
          0,
          0
         ],
         "z": [
          2,
          3
         ]
        },
        {
         "hoverinfo": "skip",
         "line": {
          "color": "green",
          "width": 2
         },
         "mode": "lines",
         "showlegend": false,
         "type": "scatter3d",
         "x": [
          2,
          2
         ],
         "y": [
          0,
          0
         ],
         "z": [
          2,
          4
         ]
        },
        {
         "hoverinfo": "skip",
         "line": {
          "color": "green",
          "width": 2
         },
         "mode": "lines",
         "showlegend": false,
         "type": "scatter3d",
         "x": [
          2,
          2
         ],
         "y": [
          0,
          0
         ],
         "z": [
          2,
          5
         ]
        },
        {
         "hoverinfo": "skip",
         "line": {
          "color": "green",
          "width": 2
         },
         "mode": "lines",
         "showlegend": false,
         "type": "scatter3d",
         "x": [
          2,
          2
         ],
         "y": [
          0,
          0
         ],
         "z": [
          2,
          6
         ]
        },
        {
         "hoverinfo": "skip",
         "line": {
          "color": "green",
          "width": 2
         },
         "mode": "lines",
         "showlegend": false,
         "type": "scatter3d",
         "x": [
          2,
          2
         ],
         "y": [
          0,
          0
         ],
         "z": [
          2,
          7
         ]
        },
        {
         "hoverinfo": "skip",
         "line": {
          "color": "green",
          "width": 2
         },
         "mode": "lines",
         "showlegend": false,
         "type": "scatter3d",
         "x": [
          2,
          2
         ],
         "y": [
          0,
          1
         ],
         "z": [
          2,
          2
         ]
        },
        {
         "hoverinfo": "skip",
         "line": {
          "color": "green",
          "width": 2
         },
         "mode": "lines",
         "showlegend": false,
         "type": "scatter3d",
         "x": [
          2,
          2
         ],
         "y": [
          0,
          2
         ],
         "z": [
          2,
          2
         ]
        },
        {
         "hoverinfo": "skip",
         "line": {
          "color": "green",
          "width": 2
         },
         "mode": "lines",
         "showlegend": false,
         "type": "scatter3d",
         "x": [
          2,
          2
         ],
         "y": [
          0,
          3
         ],
         "z": [
          2,
          2
         ]
        },
        {
         "hoverinfo": "skip",
         "line": {
          "color": "green",
          "width": 2
         },
         "mode": "lines",
         "showlegend": false,
         "type": "scatter3d",
         "x": [
          2,
          2
         ],
         "y": [
          0,
          4
         ],
         "z": [
          2,
          2
         ]
        },
        {
         "hoverinfo": "skip",
         "line": {
          "color": "green",
          "width": 2
         },
         "mode": "lines",
         "showlegend": false,
         "type": "scatter3d",
         "x": [
          2,
          2
         ],
         "y": [
          0,
          5
         ],
         "z": [
          2,
          2
         ]
        },
        {
         "hoverinfo": "skip",
         "line": {
          "color": "green",
          "width": 2
         },
         "mode": "lines",
         "showlegend": false,
         "type": "scatter3d",
         "x": [
          2,
          3
         ],
         "y": [
          0,
          0
         ],
         "z": [
          2,
          2
         ]
        },
        {
         "hoverinfo": "skip",
         "line": {
          "color": "green",
          "width": 2
         },
         "mode": "lines",
         "showlegend": false,
         "type": "scatter3d",
         "x": [
          2,
          4
         ],
         "y": [
          0,
          0
         ],
         "z": [
          2,
          2
         ]
        },
        {
         "hoverinfo": "skip",
         "line": {
          "color": "green",
          "width": 2
         },
         "mode": "lines",
         "showlegend": false,
         "type": "scatter3d",
         "x": [
          2,
          5
         ],
         "y": [
          0,
          0
         ],
         "z": [
          2,
          2
         ]
        },
        {
         "hoverinfo": "skip",
         "line": {
          "color": "green",
          "width": 2
         },
         "mode": "lines",
         "showlegend": false,
         "type": "scatter3d",
         "x": [
          2,
          2
         ],
         "y": [
          0,
          0
         ],
         "z": [
          3,
          4
         ]
        },
        {
         "hoverinfo": "skip",
         "line": {
          "color": "green",
          "width": 2
         },
         "mode": "lines",
         "showlegend": false,
         "type": "scatter3d",
         "x": [
          2,
          2
         ],
         "y": [
          0,
          0
         ],
         "z": [
          3,
          5
         ]
        },
        {
         "hoverinfo": "skip",
         "line": {
          "color": "green",
          "width": 2
         },
         "mode": "lines",
         "showlegend": false,
         "type": "scatter3d",
         "x": [
          2,
          2
         ],
         "y": [
          0,
          0
         ],
         "z": [
          3,
          6
         ]
        },
        {
         "hoverinfo": "skip",
         "line": {
          "color": "green",
          "width": 2
         },
         "mode": "lines",
         "showlegend": false,
         "type": "scatter3d",
         "x": [
          2,
          2
         ],
         "y": [
          0,
          0
         ],
         "z": [
          3,
          7
         ]
        },
        {
         "hoverinfo": "skip",
         "line": {
          "color": "green",
          "width": 2
         },
         "mode": "lines",
         "showlegend": false,
         "type": "scatter3d",
         "x": [
          2,
          2
         ],
         "y": [
          0,
          1
         ],
         "z": [
          3,
          3
         ]
        },
        {
         "hoverinfo": "skip",
         "line": {
          "color": "green",
          "width": 2
         },
         "mode": "lines",
         "showlegend": false,
         "type": "scatter3d",
         "x": [
          2,
          2
         ],
         "y": [
          0,
          2
         ],
         "z": [
          3,
          3
         ]
        },
        {
         "hoverinfo": "skip",
         "line": {
          "color": "green",
          "width": 2
         },
         "mode": "lines",
         "showlegend": false,
         "type": "scatter3d",
         "x": [
          2,
          2
         ],
         "y": [
          0,
          3
         ],
         "z": [
          3,
          3
         ]
        },
        {
         "hoverinfo": "skip",
         "line": {
          "color": "green",
          "width": 2
         },
         "mode": "lines",
         "showlegend": false,
         "type": "scatter3d",
         "x": [
          2,
          2
         ],
         "y": [
          0,
          4
         ],
         "z": [
          3,
          3
         ]
        },
        {
         "hoverinfo": "skip",
         "line": {
          "color": "green",
          "width": 2
         },
         "mode": "lines",
         "showlegend": false,
         "type": "scatter3d",
         "x": [
          2,
          2
         ],
         "y": [
          0,
          5
         ],
         "z": [
          3,
          3
         ]
        },
        {
         "hoverinfo": "skip",
         "line": {
          "color": "green",
          "width": 2
         },
         "mode": "lines",
         "showlegend": false,
         "type": "scatter3d",
         "x": [
          2,
          3
         ],
         "y": [
          0,
          0
         ],
         "z": [
          3,
          3
         ]
        },
        {
         "hoverinfo": "skip",
         "line": {
          "color": "green",
          "width": 2
         },
         "mode": "lines",
         "showlegend": false,
         "type": "scatter3d",
         "x": [
          2,
          4
         ],
         "y": [
          0,
          0
         ],
         "z": [
          3,
          3
         ]
        },
        {
         "hoverinfo": "skip",
         "line": {
          "color": "green",
          "width": 2
         },
         "mode": "lines",
         "showlegend": false,
         "type": "scatter3d",
         "x": [
          2,
          5
         ],
         "y": [
          0,
          0
         ],
         "z": [
          3,
          3
         ]
        },
        {
         "hoverinfo": "skip",
         "line": {
          "color": "green",
          "width": 2
         },
         "mode": "lines",
         "showlegend": false,
         "type": "scatter3d",
         "x": [
          2,
          2
         ],
         "y": [
          0,
          0
         ],
         "z": [
          4,
          5
         ]
        },
        {
         "hoverinfo": "skip",
         "line": {
          "color": "green",
          "width": 2
         },
         "mode": "lines",
         "showlegend": false,
         "type": "scatter3d",
         "x": [
          2,
          2
         ],
         "y": [
          0,
          0
         ],
         "z": [
          4,
          6
         ]
        },
        {
         "hoverinfo": "skip",
         "line": {
          "color": "green",
          "width": 2
         },
         "mode": "lines",
         "showlegend": false,
         "type": "scatter3d",
         "x": [
          2,
          2
         ],
         "y": [
          0,
          0
         ],
         "z": [
          4,
          7
         ]
        },
        {
         "hoverinfo": "skip",
         "line": {
          "color": "green",
          "width": 2
         },
         "mode": "lines",
         "showlegend": false,
         "type": "scatter3d",
         "x": [
          2,
          2
         ],
         "y": [
          0,
          1
         ],
         "z": [
          4,
          4
         ]
        },
        {
         "hoverinfo": "skip",
         "line": {
          "color": "green",
          "width": 2
         },
         "mode": "lines",
         "showlegend": false,
         "type": "scatter3d",
         "x": [
          2,
          2
         ],
         "y": [
          0,
          2
         ],
         "z": [
          4,
          4
         ]
        },
        {
         "hoverinfo": "skip",
         "line": {
          "color": "green",
          "width": 2
         },
         "mode": "lines",
         "showlegend": false,
         "type": "scatter3d",
         "x": [
          2,
          2
         ],
         "y": [
          0,
          3
         ],
         "z": [
          4,
          4
         ]
        },
        {
         "hoverinfo": "skip",
         "line": {
          "color": "green",
          "width": 2
         },
         "mode": "lines",
         "showlegend": false,
         "type": "scatter3d",
         "x": [
          2,
          2
         ],
         "y": [
          0,
          4
         ],
         "z": [
          4,
          4
         ]
        },
        {
         "hoverinfo": "skip",
         "line": {
          "color": "green",
          "width": 2
         },
         "mode": "lines",
         "showlegend": false,
         "type": "scatter3d",
         "x": [
          2,
          2
         ],
         "y": [
          0,
          5
         ],
         "z": [
          4,
          4
         ]
        },
        {
         "hoverinfo": "skip",
         "line": {
          "color": "green",
          "width": 2
         },
         "mode": "lines",
         "showlegend": false,
         "type": "scatter3d",
         "x": [
          2,
          3
         ],
         "y": [
          0,
          0
         ],
         "z": [
          4,
          4
         ]
        },
        {
         "hoverinfo": "skip",
         "line": {
          "color": "green",
          "width": 2
         },
         "mode": "lines",
         "showlegend": false,
         "type": "scatter3d",
         "x": [
          2,
          4
         ],
         "y": [
          0,
          0
         ],
         "z": [
          4,
          4
         ]
        },
        {
         "hoverinfo": "skip",
         "line": {
          "color": "green",
          "width": 2
         },
         "mode": "lines",
         "showlegend": false,
         "type": "scatter3d",
         "x": [
          2,
          5
         ],
         "y": [
          0,
          0
         ],
         "z": [
          4,
          4
         ]
        },
        {
         "hoverinfo": "skip",
         "line": {
          "color": "green",
          "width": 2
         },
         "mode": "lines",
         "showlegend": false,
         "type": "scatter3d",
         "x": [
          2,
          2
         ],
         "y": [
          0,
          0
         ],
         "z": [
          5,
          6
         ]
        },
        {
         "hoverinfo": "skip",
         "line": {
          "color": "green",
          "width": 2
         },
         "mode": "lines",
         "showlegend": false,
         "type": "scatter3d",
         "x": [
          2,
          2
         ],
         "y": [
          0,
          0
         ],
         "z": [
          5,
          7
         ]
        },
        {
         "hoverinfo": "skip",
         "line": {
          "color": "green",
          "width": 2
         },
         "mode": "lines",
         "showlegend": false,
         "type": "scatter3d",
         "x": [
          2,
          2
         ],
         "y": [
          0,
          1
         ],
         "z": [
          5,
          5
         ]
        },
        {
         "hoverinfo": "skip",
         "line": {
          "color": "green",
          "width": 2
         },
         "mode": "lines",
         "showlegend": false,
         "type": "scatter3d",
         "x": [
          2,
          2
         ],
         "y": [
          0,
          2
         ],
         "z": [
          5,
          5
         ]
        },
        {
         "hoverinfo": "skip",
         "line": {
          "color": "green",
          "width": 2
         },
         "mode": "lines",
         "showlegend": false,
         "type": "scatter3d",
         "x": [
          2,
          2
         ],
         "y": [
          0,
          3
         ],
         "z": [
          5,
          5
         ]
        },
        {
         "hoverinfo": "skip",
         "line": {
          "color": "green",
          "width": 2
         },
         "mode": "lines",
         "showlegend": false,
         "type": "scatter3d",
         "x": [
          2,
          2
         ],
         "y": [
          0,
          4
         ],
         "z": [
          5,
          5
         ]
        },
        {
         "hoverinfo": "skip",
         "line": {
          "color": "green",
          "width": 2
         },
         "mode": "lines",
         "showlegend": false,
         "type": "scatter3d",
         "x": [
          2,
          2
         ],
         "y": [
          0,
          5
         ],
         "z": [
          5,
          5
         ]
        },
        {
         "hoverinfo": "skip",
         "line": {
          "color": "green",
          "width": 2
         },
         "mode": "lines",
         "showlegend": false,
         "type": "scatter3d",
         "x": [
          2,
          3
         ],
         "y": [
          0,
          0
         ],
         "z": [
          5,
          5
         ]
        },
        {
         "hoverinfo": "skip",
         "line": {
          "color": "green",
          "width": 2
         },
         "mode": "lines",
         "showlegend": false,
         "type": "scatter3d",
         "x": [
          2,
          4
         ],
         "y": [
          0,
          0
         ],
         "z": [
          5,
          5
         ]
        },
        {
         "hoverinfo": "skip",
         "line": {
          "color": "green",
          "width": 2
         },
         "mode": "lines",
         "showlegend": false,
         "type": "scatter3d",
         "x": [
          2,
          5
         ],
         "y": [
          0,
          0
         ],
         "z": [
          5,
          5
         ]
        },
        {
         "hoverinfo": "skip",
         "line": {
          "color": "green",
          "width": 2
         },
         "mode": "lines",
         "showlegend": false,
         "type": "scatter3d",
         "x": [
          2,
          2
         ],
         "y": [
          0,
          0
         ],
         "z": [
          6,
          7
         ]
        },
        {
         "hoverinfo": "skip",
         "line": {
          "color": "green",
          "width": 2
         },
         "mode": "lines",
         "showlegend": false,
         "type": "scatter3d",
         "x": [
          2,
          2
         ],
         "y": [
          0,
          1
         ],
         "z": [
          6,
          6
         ]
        },
        {
         "hoverinfo": "skip",
         "line": {
          "color": "green",
          "width": 2
         },
         "mode": "lines",
         "showlegend": false,
         "type": "scatter3d",
         "x": [
          2,
          2
         ],
         "y": [
          0,
          2
         ],
         "z": [
          6,
          6
         ]
        },
        {
         "hoverinfo": "skip",
         "line": {
          "color": "green",
          "width": 2
         },
         "mode": "lines",
         "showlegend": false,
         "type": "scatter3d",
         "x": [
          2,
          2
         ],
         "y": [
          0,
          3
         ],
         "z": [
          6,
          6
         ]
        },
        {
         "hoverinfo": "skip",
         "line": {
          "color": "green",
          "width": 2
         },
         "mode": "lines",
         "showlegend": false,
         "type": "scatter3d",
         "x": [
          2,
          2
         ],
         "y": [
          0,
          4
         ],
         "z": [
          6,
          6
         ]
        },
        {
         "hoverinfo": "skip",
         "line": {
          "color": "green",
          "width": 2
         },
         "mode": "lines",
         "showlegend": false,
         "type": "scatter3d",
         "x": [
          2,
          2
         ],
         "y": [
          0,
          5
         ],
         "z": [
          6,
          6
         ]
        },
        {
         "hoverinfo": "skip",
         "line": {
          "color": "green",
          "width": 2
         },
         "mode": "lines",
         "showlegend": false,
         "type": "scatter3d",
         "x": [
          2,
          3
         ],
         "y": [
          0,
          0
         ],
         "z": [
          6,
          6
         ]
        },
        {
         "hoverinfo": "skip",
         "line": {
          "color": "green",
          "width": 2
         },
         "mode": "lines",
         "showlegend": false,
         "type": "scatter3d",
         "x": [
          2,
          4
         ],
         "y": [
          0,
          0
         ],
         "z": [
          6,
          6
         ]
        },
        {
         "hoverinfo": "skip",
         "line": {
          "color": "green",
          "width": 2
         },
         "mode": "lines",
         "showlegend": false,
         "type": "scatter3d",
         "x": [
          2,
          5
         ],
         "y": [
          0,
          0
         ],
         "z": [
          6,
          6
         ]
        },
        {
         "hoverinfo": "skip",
         "line": {
          "color": "green",
          "width": 2
         },
         "mode": "lines",
         "showlegend": false,
         "type": "scatter3d",
         "x": [
          2,
          2
         ],
         "y": [
          0,
          1
         ],
         "z": [
          7,
          7
         ]
        },
        {
         "hoverinfo": "skip",
         "line": {
          "color": "green",
          "width": 2
         },
         "mode": "lines",
         "showlegend": false,
         "type": "scatter3d",
         "x": [
          2,
          2
         ],
         "y": [
          0,
          2
         ],
         "z": [
          7,
          7
         ]
        },
        {
         "hoverinfo": "skip",
         "line": {
          "color": "green",
          "width": 2
         },
         "mode": "lines",
         "showlegend": false,
         "type": "scatter3d",
         "x": [
          2,
          2
         ],
         "y": [
          0,
          3
         ],
         "z": [
          7,
          7
         ]
        },
        {
         "hoverinfo": "skip",
         "line": {
          "color": "green",
          "width": 2
         },
         "mode": "lines",
         "showlegend": false,
         "type": "scatter3d",
         "x": [
          2,
          2
         ],
         "y": [
          0,
          4
         ],
         "z": [
          7,
          7
         ]
        },
        {
         "hoverinfo": "skip",
         "line": {
          "color": "green",
          "width": 2
         },
         "mode": "lines",
         "showlegend": false,
         "type": "scatter3d",
         "x": [
          2,
          2
         ],
         "y": [
          0,
          5
         ],
         "z": [
          7,
          7
         ]
        },
        {
         "hoverinfo": "skip",
         "line": {
          "color": "green",
          "width": 2
         },
         "mode": "lines",
         "showlegend": false,
         "type": "scatter3d",
         "x": [
          2,
          3
         ],
         "y": [
          0,
          0
         ],
         "z": [
          7,
          7
         ]
        },
        {
         "hoverinfo": "skip",
         "line": {
          "color": "green",
          "width": 2
         },
         "mode": "lines",
         "showlegend": false,
         "type": "scatter3d",
         "x": [
          2,
          4
         ],
         "y": [
          0,
          0
         ],
         "z": [
          7,
          7
         ]
        },
        {
         "hoverinfo": "skip",
         "line": {
          "color": "green",
          "width": 2
         },
         "mode": "lines",
         "showlegend": false,
         "type": "scatter3d",
         "x": [
          2,
          5
         ],
         "y": [
          0,
          0
         ],
         "z": [
          7,
          7
         ]
        },
        {
         "hoverinfo": "skip",
         "line": {
          "color": "green",
          "width": 2
         },
         "mode": "lines",
         "showlegend": false,
         "type": "scatter3d",
         "x": [
          2,
          2
         ],
         "y": [
          1,
          1
         ],
         "z": [
          0,
          1
         ]
        },
        {
         "hoverinfo": "skip",
         "line": {
          "color": "green",
          "width": 2
         },
         "mode": "lines",
         "showlegend": false,
         "type": "scatter3d",
         "x": [
          2,
          2
         ],
         "y": [
          1,
          1
         ],
         "z": [
          0,
          2
         ]
        },
        {
         "hoverinfo": "skip",
         "line": {
          "color": "green",
          "width": 2
         },
         "mode": "lines",
         "showlegend": false,
         "type": "scatter3d",
         "x": [
          2,
          2
         ],
         "y": [
          1,
          1
         ],
         "z": [
          0,
          3
         ]
        },
        {
         "hoverinfo": "skip",
         "line": {
          "color": "green",
          "width": 2
         },
         "mode": "lines",
         "showlegend": false,
         "type": "scatter3d",
         "x": [
          2,
          2
         ],
         "y": [
          1,
          1
         ],
         "z": [
          0,
          4
         ]
        },
        {
         "hoverinfo": "skip",
         "line": {
          "color": "green",
          "width": 2
         },
         "mode": "lines",
         "showlegend": false,
         "type": "scatter3d",
         "x": [
          2,
          2
         ],
         "y": [
          1,
          1
         ],
         "z": [
          0,
          5
         ]
        },
        {
         "hoverinfo": "skip",
         "line": {
          "color": "green",
          "width": 2
         },
         "mode": "lines",
         "showlegend": false,
         "type": "scatter3d",
         "x": [
          2,
          2
         ],
         "y": [
          1,
          1
         ],
         "z": [
          0,
          6
         ]
        },
        {
         "hoverinfo": "skip",
         "line": {
          "color": "green",
          "width": 2
         },
         "mode": "lines",
         "showlegend": false,
         "type": "scatter3d",
         "x": [
          2,
          2
         ],
         "y": [
          1,
          1
         ],
         "z": [
          0,
          7
         ]
        },
        {
         "hoverinfo": "skip",
         "line": {
          "color": "green",
          "width": 2
         },
         "mode": "lines",
         "showlegend": false,
         "type": "scatter3d",
         "x": [
          2,
          2
         ],
         "y": [
          1,
          2
         ],
         "z": [
          0,
          0
         ]
        },
        {
         "hoverinfo": "skip",
         "line": {
          "color": "green",
          "width": 2
         },
         "mode": "lines",
         "showlegend": false,
         "type": "scatter3d",
         "x": [
          2,
          2
         ],
         "y": [
          1,
          3
         ],
         "z": [
          0,
          0
         ]
        },
        {
         "hoverinfo": "skip",
         "line": {
          "color": "green",
          "width": 2
         },
         "mode": "lines",
         "showlegend": false,
         "type": "scatter3d",
         "x": [
          2,
          2
         ],
         "y": [
          1,
          4
         ],
         "z": [
          0,
          0
         ]
        },
        {
         "hoverinfo": "skip",
         "line": {
          "color": "green",
          "width": 2
         },
         "mode": "lines",
         "showlegend": false,
         "type": "scatter3d",
         "x": [
          2,
          2
         ],
         "y": [
          1,
          5
         ],
         "z": [
          0,
          0
         ]
        },
        {
         "hoverinfo": "skip",
         "line": {
          "color": "green",
          "width": 2
         },
         "mode": "lines",
         "showlegend": false,
         "type": "scatter3d",
         "x": [
          2,
          3
         ],
         "y": [
          1,
          1
         ],
         "z": [
          0,
          0
         ]
        },
        {
         "hoverinfo": "skip",
         "line": {
          "color": "green",
          "width": 2
         },
         "mode": "lines",
         "showlegend": false,
         "type": "scatter3d",
         "x": [
          2,
          4
         ],
         "y": [
          1,
          1
         ],
         "z": [
          0,
          0
         ]
        },
        {
         "hoverinfo": "skip",
         "line": {
          "color": "green",
          "width": 2
         },
         "mode": "lines",
         "showlegend": false,
         "type": "scatter3d",
         "x": [
          2,
          5
         ],
         "y": [
          1,
          1
         ],
         "z": [
          0,
          0
         ]
        },
        {
         "hoverinfo": "skip",
         "line": {
          "color": "green",
          "width": 2
         },
         "mode": "lines",
         "showlegend": false,
         "type": "scatter3d",
         "x": [
          2,
          2
         ],
         "y": [
          1,
          1
         ],
         "z": [
          1,
          2
         ]
        },
        {
         "hoverinfo": "skip",
         "line": {
          "color": "green",
          "width": 2
         },
         "mode": "lines",
         "showlegend": false,
         "type": "scatter3d",
         "x": [
          2,
          2
         ],
         "y": [
          1,
          1
         ],
         "z": [
          1,
          3
         ]
        },
        {
         "hoverinfo": "skip",
         "line": {
          "color": "green",
          "width": 2
         },
         "mode": "lines",
         "showlegend": false,
         "type": "scatter3d",
         "x": [
          2,
          2
         ],
         "y": [
          1,
          1
         ],
         "z": [
          1,
          4
         ]
        },
        {
         "hoverinfo": "skip",
         "line": {
          "color": "green",
          "width": 2
         },
         "mode": "lines",
         "showlegend": false,
         "type": "scatter3d",
         "x": [
          2,
          2
         ],
         "y": [
          1,
          1
         ],
         "z": [
          1,
          5
         ]
        },
        {
         "hoverinfo": "skip",
         "line": {
          "color": "green",
          "width": 2
         },
         "mode": "lines",
         "showlegend": false,
         "type": "scatter3d",
         "x": [
          2,
          2
         ],
         "y": [
          1,
          1
         ],
         "z": [
          1,
          6
         ]
        },
        {
         "hoverinfo": "skip",
         "line": {
          "color": "green",
          "width": 2
         },
         "mode": "lines",
         "showlegend": false,
         "type": "scatter3d",
         "x": [
          2,
          2
         ],
         "y": [
          1,
          1
         ],
         "z": [
          1,
          7
         ]
        },
        {
         "hoverinfo": "skip",
         "line": {
          "color": "green",
          "width": 2
         },
         "mode": "lines",
         "showlegend": false,
         "type": "scatter3d",
         "x": [
          2,
          2
         ],
         "y": [
          1,
          2
         ],
         "z": [
          1,
          1
         ]
        },
        {
         "hoverinfo": "skip",
         "line": {
          "color": "green",
          "width": 2
         },
         "mode": "lines",
         "showlegend": false,
         "type": "scatter3d",
         "x": [
          2,
          2
         ],
         "y": [
          1,
          3
         ],
         "z": [
          1,
          1
         ]
        },
        {
         "hoverinfo": "skip",
         "line": {
          "color": "green",
          "width": 2
         },
         "mode": "lines",
         "showlegend": false,
         "type": "scatter3d",
         "x": [
          2,
          2
         ],
         "y": [
          1,
          4
         ],
         "z": [
          1,
          1
         ]
        },
        {
         "hoverinfo": "skip",
         "line": {
          "color": "green",
          "width": 2
         },
         "mode": "lines",
         "showlegend": false,
         "type": "scatter3d",
         "x": [
          2,
          2
         ],
         "y": [
          1,
          5
         ],
         "z": [
          1,
          1
         ]
        },
        {
         "hoverinfo": "skip",
         "line": {
          "color": "green",
          "width": 2
         },
         "mode": "lines",
         "showlegend": false,
         "type": "scatter3d",
         "x": [
          2,
          3
         ],
         "y": [
          1,
          1
         ],
         "z": [
          1,
          1
         ]
        },
        {
         "hoverinfo": "skip",
         "line": {
          "color": "green",
          "width": 2
         },
         "mode": "lines",
         "showlegend": false,
         "type": "scatter3d",
         "x": [
          2,
          4
         ],
         "y": [
          1,
          1
         ],
         "z": [
          1,
          1
         ]
        },
        {
         "hoverinfo": "skip",
         "line": {
          "color": "green",
          "width": 2
         },
         "mode": "lines",
         "showlegend": false,
         "type": "scatter3d",
         "x": [
          2,
          5
         ],
         "y": [
          1,
          1
         ],
         "z": [
          1,
          1
         ]
        },
        {
         "hoverinfo": "skip",
         "line": {
          "color": "green",
          "width": 2
         },
         "mode": "lines",
         "showlegend": false,
         "type": "scatter3d",
         "x": [
          2,
          2
         ],
         "y": [
          1,
          1
         ],
         "z": [
          2,
          3
         ]
        },
        {
         "hoverinfo": "skip",
         "line": {
          "color": "green",
          "width": 2
         },
         "mode": "lines",
         "showlegend": false,
         "type": "scatter3d",
         "x": [
          2,
          2
         ],
         "y": [
          1,
          1
         ],
         "z": [
          2,
          4
         ]
        },
        {
         "hoverinfo": "skip",
         "line": {
          "color": "green",
          "width": 2
         },
         "mode": "lines",
         "showlegend": false,
         "type": "scatter3d",
         "x": [
          2,
          2
         ],
         "y": [
          1,
          1
         ],
         "z": [
          2,
          5
         ]
        },
        {
         "hoverinfo": "skip",
         "line": {
          "color": "green",
          "width": 2
         },
         "mode": "lines",
         "showlegend": false,
         "type": "scatter3d",
         "x": [
          2,
          2
         ],
         "y": [
          1,
          1
         ],
         "z": [
          2,
          6
         ]
        },
        {
         "hoverinfo": "skip",
         "line": {
          "color": "green",
          "width": 2
         },
         "mode": "lines",
         "showlegend": false,
         "type": "scatter3d",
         "x": [
          2,
          2
         ],
         "y": [
          1,
          1
         ],
         "z": [
          2,
          7
         ]
        },
        {
         "hoverinfo": "skip",
         "line": {
          "color": "green",
          "width": 2
         },
         "mode": "lines",
         "showlegend": false,
         "type": "scatter3d",
         "x": [
          2,
          2
         ],
         "y": [
          1,
          2
         ],
         "z": [
          2,
          2
         ]
        },
        {
         "hoverinfo": "skip",
         "line": {
          "color": "green",
          "width": 2
         },
         "mode": "lines",
         "showlegend": false,
         "type": "scatter3d",
         "x": [
          2,
          2
         ],
         "y": [
          1,
          3
         ],
         "z": [
          2,
          2
         ]
        },
        {
         "hoverinfo": "skip",
         "line": {
          "color": "green",
          "width": 2
         },
         "mode": "lines",
         "showlegend": false,
         "type": "scatter3d",
         "x": [
          2,
          2
         ],
         "y": [
          1,
          4
         ],
         "z": [
          2,
          2
         ]
        },
        {
         "hoverinfo": "skip",
         "line": {
          "color": "green",
          "width": 2
         },
         "mode": "lines",
         "showlegend": false,
         "type": "scatter3d",
         "x": [
          2,
          2
         ],
         "y": [
          1,
          5
         ],
         "z": [
          2,
          2
         ]
        },
        {
         "hoverinfo": "skip",
         "line": {
          "color": "green",
          "width": 2
         },
         "mode": "lines",
         "showlegend": false,
         "type": "scatter3d",
         "x": [
          2,
          3
         ],
         "y": [
          1,
          1
         ],
         "z": [
          2,
          2
         ]
        },
        {
         "hoverinfo": "skip",
         "line": {
          "color": "green",
          "width": 2
         },
         "mode": "lines",
         "showlegend": false,
         "type": "scatter3d",
         "x": [
          2,
          4
         ],
         "y": [
          1,
          1
         ],
         "z": [
          2,
          2
         ]
        },
        {
         "hoverinfo": "skip",
         "line": {
          "color": "green",
          "width": 2
         },
         "mode": "lines",
         "showlegend": false,
         "type": "scatter3d",
         "x": [
          2,
          5
         ],
         "y": [
          1,
          1
         ],
         "z": [
          2,
          2
         ]
        },
        {
         "hoverinfo": "skip",
         "line": {
          "color": "green",
          "width": 2
         },
         "mode": "lines",
         "showlegend": false,
         "type": "scatter3d",
         "x": [
          2,
          2
         ],
         "y": [
          1,
          1
         ],
         "z": [
          3,
          4
         ]
        },
        {
         "hoverinfo": "skip",
         "line": {
          "color": "green",
          "width": 2
         },
         "mode": "lines",
         "showlegend": false,
         "type": "scatter3d",
         "x": [
          2,
          2
         ],
         "y": [
          1,
          1
         ],
         "z": [
          3,
          5
         ]
        },
        {
         "hoverinfo": "skip",
         "line": {
          "color": "green",
          "width": 2
         },
         "mode": "lines",
         "showlegend": false,
         "type": "scatter3d",
         "x": [
          2,
          2
         ],
         "y": [
          1,
          1
         ],
         "z": [
          3,
          6
         ]
        },
        {
         "hoverinfo": "skip",
         "line": {
          "color": "green",
          "width": 2
         },
         "mode": "lines",
         "showlegend": false,
         "type": "scatter3d",
         "x": [
          2,
          2
         ],
         "y": [
          1,
          1
         ],
         "z": [
          3,
          7
         ]
        },
        {
         "hoverinfo": "skip",
         "line": {
          "color": "green",
          "width": 2
         },
         "mode": "lines",
         "showlegend": false,
         "type": "scatter3d",
         "x": [
          2,
          2
         ],
         "y": [
          1,
          2
         ],
         "z": [
          3,
          3
         ]
        },
        {
         "hoverinfo": "skip",
         "line": {
          "color": "green",
          "width": 2
         },
         "mode": "lines",
         "showlegend": false,
         "type": "scatter3d",
         "x": [
          2,
          2
         ],
         "y": [
          1,
          3
         ],
         "z": [
          3,
          3
         ]
        },
        {
         "hoverinfo": "skip",
         "line": {
          "color": "green",
          "width": 2
         },
         "mode": "lines",
         "showlegend": false,
         "type": "scatter3d",
         "x": [
          2,
          2
         ],
         "y": [
          1,
          4
         ],
         "z": [
          3,
          3
         ]
        },
        {
         "hoverinfo": "skip",
         "line": {
          "color": "green",
          "width": 2
         },
         "mode": "lines",
         "showlegend": false,
         "type": "scatter3d",
         "x": [
          2,
          2
         ],
         "y": [
          1,
          5
         ],
         "z": [
          3,
          3
         ]
        },
        {
         "hoverinfo": "skip",
         "line": {
          "color": "green",
          "width": 2
         },
         "mode": "lines",
         "showlegend": false,
         "type": "scatter3d",
         "x": [
          2,
          3
         ],
         "y": [
          1,
          1
         ],
         "z": [
          3,
          3
         ]
        },
        {
         "hoverinfo": "skip",
         "line": {
          "color": "green",
          "width": 2
         },
         "mode": "lines",
         "showlegend": false,
         "type": "scatter3d",
         "x": [
          2,
          4
         ],
         "y": [
          1,
          1
         ],
         "z": [
          3,
          3
         ]
        },
        {
         "hoverinfo": "skip",
         "line": {
          "color": "green",
          "width": 2
         },
         "mode": "lines",
         "showlegend": false,
         "type": "scatter3d",
         "x": [
          2,
          5
         ],
         "y": [
          1,
          1
         ],
         "z": [
          3,
          3
         ]
        },
        {
         "hoverinfo": "skip",
         "line": {
          "color": "green",
          "width": 2
         },
         "mode": "lines",
         "showlegend": false,
         "type": "scatter3d",
         "x": [
          2,
          2
         ],
         "y": [
          1,
          1
         ],
         "z": [
          4,
          5
         ]
        },
        {
         "hoverinfo": "skip",
         "line": {
          "color": "green",
          "width": 2
         },
         "mode": "lines",
         "showlegend": false,
         "type": "scatter3d",
         "x": [
          2,
          2
         ],
         "y": [
          1,
          1
         ],
         "z": [
          4,
          6
         ]
        },
        {
         "hoverinfo": "skip",
         "line": {
          "color": "green",
          "width": 2
         },
         "mode": "lines",
         "showlegend": false,
         "type": "scatter3d",
         "x": [
          2,
          2
         ],
         "y": [
          1,
          1
         ],
         "z": [
          4,
          7
         ]
        },
        {
         "hoverinfo": "skip",
         "line": {
          "color": "green",
          "width": 2
         },
         "mode": "lines",
         "showlegend": false,
         "type": "scatter3d",
         "x": [
          2,
          2
         ],
         "y": [
          1,
          2
         ],
         "z": [
          4,
          4
         ]
        },
        {
         "hoverinfo": "skip",
         "line": {
          "color": "green",
          "width": 2
         },
         "mode": "lines",
         "showlegend": false,
         "type": "scatter3d",
         "x": [
          2,
          2
         ],
         "y": [
          1,
          3
         ],
         "z": [
          4,
          4
         ]
        },
        {
         "hoverinfo": "skip",
         "line": {
          "color": "green",
          "width": 2
         },
         "mode": "lines",
         "showlegend": false,
         "type": "scatter3d",
         "x": [
          2,
          2
         ],
         "y": [
          1,
          4
         ],
         "z": [
          4,
          4
         ]
        },
        {
         "hoverinfo": "skip",
         "line": {
          "color": "green",
          "width": 2
         },
         "mode": "lines",
         "showlegend": false,
         "type": "scatter3d",
         "x": [
          2,
          2
         ],
         "y": [
          1,
          5
         ],
         "z": [
          4,
          4
         ]
        },
        {
         "hoverinfo": "skip",
         "line": {
          "color": "green",
          "width": 2
         },
         "mode": "lines",
         "showlegend": false,
         "type": "scatter3d",
         "x": [
          2,
          3
         ],
         "y": [
          1,
          1
         ],
         "z": [
          4,
          4
         ]
        },
        {
         "hoverinfo": "skip",
         "line": {
          "color": "green",
          "width": 2
         },
         "mode": "lines",
         "showlegend": false,
         "type": "scatter3d",
         "x": [
          2,
          4
         ],
         "y": [
          1,
          1
         ],
         "z": [
          4,
          4
         ]
        },
        {
         "hoverinfo": "skip",
         "line": {
          "color": "green",
          "width": 2
         },
         "mode": "lines",
         "showlegend": false,
         "type": "scatter3d",
         "x": [
          2,
          5
         ],
         "y": [
          1,
          1
         ],
         "z": [
          4,
          4
         ]
        },
        {
         "hoverinfo": "skip",
         "line": {
          "color": "green",
          "width": 2
         },
         "mode": "lines",
         "showlegend": false,
         "type": "scatter3d",
         "x": [
          2,
          2
         ],
         "y": [
          1,
          1
         ],
         "z": [
          5,
          6
         ]
        },
        {
         "hoverinfo": "skip",
         "line": {
          "color": "green",
          "width": 2
         },
         "mode": "lines",
         "showlegend": false,
         "type": "scatter3d",
         "x": [
          2,
          2
         ],
         "y": [
          1,
          1
         ],
         "z": [
          5,
          7
         ]
        },
        {
         "hoverinfo": "skip",
         "line": {
          "color": "green",
          "width": 2
         },
         "mode": "lines",
         "showlegend": false,
         "type": "scatter3d",
         "x": [
          2,
          2
         ],
         "y": [
          1,
          2
         ],
         "z": [
          5,
          5
         ]
        },
        {
         "hoverinfo": "skip",
         "line": {
          "color": "green",
          "width": 2
         },
         "mode": "lines",
         "showlegend": false,
         "type": "scatter3d",
         "x": [
          2,
          2
         ],
         "y": [
          1,
          3
         ],
         "z": [
          5,
          5
         ]
        },
        {
         "hoverinfo": "skip",
         "line": {
          "color": "green",
          "width": 2
         },
         "mode": "lines",
         "showlegend": false,
         "type": "scatter3d",
         "x": [
          2,
          2
         ],
         "y": [
          1,
          4
         ],
         "z": [
          5,
          5
         ]
        },
        {
         "hoverinfo": "skip",
         "line": {
          "color": "green",
          "width": 2
         },
         "mode": "lines",
         "showlegend": false,
         "type": "scatter3d",
         "x": [
          2,
          2
         ],
         "y": [
          1,
          5
         ],
         "z": [
          5,
          5
         ]
        },
        {
         "hoverinfo": "skip",
         "line": {
          "color": "green",
          "width": 2
         },
         "mode": "lines",
         "showlegend": false,
         "type": "scatter3d",
         "x": [
          2,
          3
         ],
         "y": [
          1,
          1
         ],
         "z": [
          5,
          5
         ]
        },
        {
         "hoverinfo": "skip",
         "line": {
          "color": "green",
          "width": 2
         },
         "mode": "lines",
         "showlegend": false,
         "type": "scatter3d",
         "x": [
          2,
          4
         ],
         "y": [
          1,
          1
         ],
         "z": [
          5,
          5
         ]
        },
        {
         "hoverinfo": "skip",
         "line": {
          "color": "green",
          "width": 2
         },
         "mode": "lines",
         "showlegend": false,
         "type": "scatter3d",
         "x": [
          2,
          5
         ],
         "y": [
          1,
          1
         ],
         "z": [
          5,
          5
         ]
        },
        {
         "hoverinfo": "skip",
         "line": {
          "color": "green",
          "width": 2
         },
         "mode": "lines",
         "showlegend": false,
         "type": "scatter3d",
         "x": [
          2,
          2
         ],
         "y": [
          1,
          1
         ],
         "z": [
          6,
          7
         ]
        },
        {
         "hoverinfo": "skip",
         "line": {
          "color": "green",
          "width": 2
         },
         "mode": "lines",
         "showlegend": false,
         "type": "scatter3d",
         "x": [
          2,
          2
         ],
         "y": [
          1,
          2
         ],
         "z": [
          6,
          6
         ]
        },
        {
         "hoverinfo": "skip",
         "line": {
          "color": "green",
          "width": 2
         },
         "mode": "lines",
         "showlegend": false,
         "type": "scatter3d",
         "x": [
          2,
          2
         ],
         "y": [
          1,
          3
         ],
         "z": [
          6,
          6
         ]
        },
        {
         "hoverinfo": "skip",
         "line": {
          "color": "green",
          "width": 2
         },
         "mode": "lines",
         "showlegend": false,
         "type": "scatter3d",
         "x": [
          2,
          2
         ],
         "y": [
          1,
          4
         ],
         "z": [
          6,
          6
         ]
        },
        {
         "hoverinfo": "skip",
         "line": {
          "color": "green",
          "width": 2
         },
         "mode": "lines",
         "showlegend": false,
         "type": "scatter3d",
         "x": [
          2,
          2
         ],
         "y": [
          1,
          5
         ],
         "z": [
          6,
          6
         ]
        },
        {
         "hoverinfo": "skip",
         "line": {
          "color": "green",
          "width": 2
         },
         "mode": "lines",
         "showlegend": false,
         "type": "scatter3d",
         "x": [
          2,
          3
         ],
         "y": [
          1,
          1
         ],
         "z": [
          6,
          6
         ]
        },
        {
         "hoverinfo": "skip",
         "line": {
          "color": "green",
          "width": 2
         },
         "mode": "lines",
         "showlegend": false,
         "type": "scatter3d",
         "x": [
          2,
          4
         ],
         "y": [
          1,
          1
         ],
         "z": [
          6,
          6
         ]
        },
        {
         "hoverinfo": "skip",
         "line": {
          "color": "green",
          "width": 2
         },
         "mode": "lines",
         "showlegend": false,
         "type": "scatter3d",
         "x": [
          2,
          5
         ],
         "y": [
          1,
          1
         ],
         "z": [
          6,
          6
         ]
        },
        {
         "hoverinfo": "skip",
         "line": {
          "color": "green",
          "width": 2
         },
         "mode": "lines",
         "showlegend": false,
         "type": "scatter3d",
         "x": [
          2,
          2
         ],
         "y": [
          1,
          2
         ],
         "z": [
          7,
          7
         ]
        },
        {
         "hoverinfo": "skip",
         "line": {
          "color": "green",
          "width": 2
         },
         "mode": "lines",
         "showlegend": false,
         "type": "scatter3d",
         "x": [
          2,
          2
         ],
         "y": [
          1,
          3
         ],
         "z": [
          7,
          7
         ]
        },
        {
         "hoverinfo": "skip",
         "line": {
          "color": "green",
          "width": 2
         },
         "mode": "lines",
         "showlegend": false,
         "type": "scatter3d",
         "x": [
          2,
          2
         ],
         "y": [
          1,
          4
         ],
         "z": [
          7,
          7
         ]
        },
        {
         "hoverinfo": "skip",
         "line": {
          "color": "green",
          "width": 2
         },
         "mode": "lines",
         "showlegend": false,
         "type": "scatter3d",
         "x": [
          2,
          2
         ],
         "y": [
          1,
          5
         ],
         "z": [
          7,
          7
         ]
        },
        {
         "hoverinfo": "skip",
         "line": {
          "color": "green",
          "width": 2
         },
         "mode": "lines",
         "showlegend": false,
         "type": "scatter3d",
         "x": [
          2,
          3
         ],
         "y": [
          1,
          1
         ],
         "z": [
          7,
          7
         ]
        },
        {
         "hoverinfo": "skip",
         "line": {
          "color": "green",
          "width": 2
         },
         "mode": "lines",
         "showlegend": false,
         "type": "scatter3d",
         "x": [
          2,
          4
         ],
         "y": [
          1,
          1
         ],
         "z": [
          7,
          7
         ]
        },
        {
         "hoverinfo": "skip",
         "line": {
          "color": "green",
          "width": 2
         },
         "mode": "lines",
         "showlegend": false,
         "type": "scatter3d",
         "x": [
          2,
          5
         ],
         "y": [
          1,
          1
         ],
         "z": [
          7,
          7
         ]
        },
        {
         "hoverinfo": "skip",
         "line": {
          "color": "green",
          "width": 2
         },
         "mode": "lines",
         "showlegend": false,
         "type": "scatter3d",
         "x": [
          2,
          2
         ],
         "y": [
          2,
          2
         ],
         "z": [
          0,
          1
         ]
        },
        {
         "hoverinfo": "skip",
         "line": {
          "color": "green",
          "width": 2
         },
         "mode": "lines",
         "showlegend": false,
         "type": "scatter3d",
         "x": [
          2,
          2
         ],
         "y": [
          2,
          2
         ],
         "z": [
          0,
          2
         ]
        },
        {
         "hoverinfo": "skip",
         "line": {
          "color": "green",
          "width": 2
         },
         "mode": "lines",
         "showlegend": false,
         "type": "scatter3d",
         "x": [
          2,
          2
         ],
         "y": [
          2,
          2
         ],
         "z": [
          0,
          3
         ]
        },
        {
         "hoverinfo": "skip",
         "line": {
          "color": "green",
          "width": 2
         },
         "mode": "lines",
         "showlegend": false,
         "type": "scatter3d",
         "x": [
          2,
          2
         ],
         "y": [
          2,
          2
         ],
         "z": [
          0,
          4
         ]
        },
        {
         "hoverinfo": "skip",
         "line": {
          "color": "green",
          "width": 2
         },
         "mode": "lines",
         "showlegend": false,
         "type": "scatter3d",
         "x": [
          2,
          2
         ],
         "y": [
          2,
          2
         ],
         "z": [
          0,
          5
         ]
        },
        {
         "hoverinfo": "skip",
         "line": {
          "color": "green",
          "width": 2
         },
         "mode": "lines",
         "showlegend": false,
         "type": "scatter3d",
         "x": [
          2,
          2
         ],
         "y": [
          2,
          2
         ],
         "z": [
          0,
          6
         ]
        },
        {
         "hoverinfo": "skip",
         "line": {
          "color": "green",
          "width": 2
         },
         "mode": "lines",
         "showlegend": false,
         "type": "scatter3d",
         "x": [
          2,
          2
         ],
         "y": [
          2,
          2
         ],
         "z": [
          0,
          7
         ]
        },
        {
         "hoverinfo": "skip",
         "line": {
          "color": "green",
          "width": 2
         },
         "mode": "lines",
         "showlegend": false,
         "type": "scatter3d",
         "x": [
          2,
          2
         ],
         "y": [
          2,
          3
         ],
         "z": [
          0,
          0
         ]
        },
        {
         "hoverinfo": "skip",
         "line": {
          "color": "green",
          "width": 2
         },
         "mode": "lines",
         "showlegend": false,
         "type": "scatter3d",
         "x": [
          2,
          2
         ],
         "y": [
          2,
          4
         ],
         "z": [
          0,
          0
         ]
        },
        {
         "hoverinfo": "skip",
         "line": {
          "color": "green",
          "width": 2
         },
         "mode": "lines",
         "showlegend": false,
         "type": "scatter3d",
         "x": [
          2,
          2
         ],
         "y": [
          2,
          5
         ],
         "z": [
          0,
          0
         ]
        },
        {
         "hoverinfo": "skip",
         "line": {
          "color": "green",
          "width": 2
         },
         "mode": "lines",
         "showlegend": false,
         "type": "scatter3d",
         "x": [
          2,
          3
         ],
         "y": [
          2,
          2
         ],
         "z": [
          0,
          0
         ]
        },
        {
         "hoverinfo": "skip",
         "line": {
          "color": "green",
          "width": 2
         },
         "mode": "lines",
         "showlegend": false,
         "type": "scatter3d",
         "x": [
          2,
          4
         ],
         "y": [
          2,
          2
         ],
         "z": [
          0,
          0
         ]
        },
        {
         "hoverinfo": "skip",
         "line": {
          "color": "green",
          "width": 2
         },
         "mode": "lines",
         "showlegend": false,
         "type": "scatter3d",
         "x": [
          2,
          5
         ],
         "y": [
          2,
          2
         ],
         "z": [
          0,
          0
         ]
        },
        {
         "hoverinfo": "skip",
         "line": {
          "color": "green",
          "width": 2
         },
         "mode": "lines",
         "showlegend": false,
         "type": "scatter3d",
         "x": [
          2,
          2
         ],
         "y": [
          2,
          2
         ],
         "z": [
          1,
          2
         ]
        },
        {
         "hoverinfo": "skip",
         "line": {
          "color": "green",
          "width": 2
         },
         "mode": "lines",
         "showlegend": false,
         "type": "scatter3d",
         "x": [
          2,
          2
         ],
         "y": [
          2,
          2
         ],
         "z": [
          1,
          3
         ]
        },
        {
         "hoverinfo": "skip",
         "line": {
          "color": "green",
          "width": 2
         },
         "mode": "lines",
         "showlegend": false,
         "type": "scatter3d",
         "x": [
          2,
          2
         ],
         "y": [
          2,
          2
         ],
         "z": [
          1,
          4
         ]
        },
        {
         "hoverinfo": "skip",
         "line": {
          "color": "green",
          "width": 2
         },
         "mode": "lines",
         "showlegend": false,
         "type": "scatter3d",
         "x": [
          2,
          2
         ],
         "y": [
          2,
          2
         ],
         "z": [
          1,
          5
         ]
        },
        {
         "hoverinfo": "skip",
         "line": {
          "color": "green",
          "width": 2
         },
         "mode": "lines",
         "showlegend": false,
         "type": "scatter3d",
         "x": [
          2,
          2
         ],
         "y": [
          2,
          2
         ],
         "z": [
          1,
          6
         ]
        },
        {
         "hoverinfo": "skip",
         "line": {
          "color": "green",
          "width": 2
         },
         "mode": "lines",
         "showlegend": false,
         "type": "scatter3d",
         "x": [
          2,
          2
         ],
         "y": [
          2,
          2
         ],
         "z": [
          1,
          7
         ]
        },
        {
         "hoverinfo": "skip",
         "line": {
          "color": "green",
          "width": 2
         },
         "mode": "lines",
         "showlegend": false,
         "type": "scatter3d",
         "x": [
          2,
          2
         ],
         "y": [
          2,
          3
         ],
         "z": [
          1,
          1
         ]
        },
        {
         "hoverinfo": "skip",
         "line": {
          "color": "green",
          "width": 2
         },
         "mode": "lines",
         "showlegend": false,
         "type": "scatter3d",
         "x": [
          2,
          2
         ],
         "y": [
          2,
          4
         ],
         "z": [
          1,
          1
         ]
        },
        {
         "hoverinfo": "skip",
         "line": {
          "color": "green",
          "width": 2
         },
         "mode": "lines",
         "showlegend": false,
         "type": "scatter3d",
         "x": [
          2,
          2
         ],
         "y": [
          2,
          5
         ],
         "z": [
          1,
          1
         ]
        },
        {
         "hoverinfo": "skip",
         "line": {
          "color": "green",
          "width": 2
         },
         "mode": "lines",
         "showlegend": false,
         "type": "scatter3d",
         "x": [
          2,
          3
         ],
         "y": [
          2,
          2
         ],
         "z": [
          1,
          1
         ]
        },
        {
         "hoverinfo": "skip",
         "line": {
          "color": "green",
          "width": 2
         },
         "mode": "lines",
         "showlegend": false,
         "type": "scatter3d",
         "x": [
          2,
          4
         ],
         "y": [
          2,
          2
         ],
         "z": [
          1,
          1
         ]
        },
        {
         "hoverinfo": "skip",
         "line": {
          "color": "green",
          "width": 2
         },
         "mode": "lines",
         "showlegend": false,
         "type": "scatter3d",
         "x": [
          2,
          5
         ],
         "y": [
          2,
          2
         ],
         "z": [
          1,
          1
         ]
        },
        {
         "hoverinfo": "skip",
         "line": {
          "color": "green",
          "width": 2
         },
         "mode": "lines",
         "showlegend": false,
         "type": "scatter3d",
         "x": [
          2,
          2
         ],
         "y": [
          2,
          2
         ],
         "z": [
          2,
          3
         ]
        },
        {
         "hoverinfo": "skip",
         "line": {
          "color": "green",
          "width": 2
         },
         "mode": "lines",
         "showlegend": false,
         "type": "scatter3d",
         "x": [
          2,
          2
         ],
         "y": [
          2,
          2
         ],
         "z": [
          2,
          4
         ]
        },
        {
         "hoverinfo": "skip",
         "line": {
          "color": "green",
          "width": 2
         },
         "mode": "lines",
         "showlegend": false,
         "type": "scatter3d",
         "x": [
          2,
          2
         ],
         "y": [
          2,
          2
         ],
         "z": [
          2,
          5
         ]
        },
        {
         "hoverinfo": "skip",
         "line": {
          "color": "green",
          "width": 2
         },
         "mode": "lines",
         "showlegend": false,
         "type": "scatter3d",
         "x": [
          2,
          2
         ],
         "y": [
          2,
          2
         ],
         "z": [
          2,
          6
         ]
        },
        {
         "hoverinfo": "skip",
         "line": {
          "color": "green",
          "width": 2
         },
         "mode": "lines",
         "showlegend": false,
         "type": "scatter3d",
         "x": [
          2,
          2
         ],
         "y": [
          2,
          2
         ],
         "z": [
          2,
          7
         ]
        },
        {
         "hoverinfo": "skip",
         "line": {
          "color": "green",
          "width": 2
         },
         "mode": "lines",
         "showlegend": false,
         "type": "scatter3d",
         "x": [
          2,
          2
         ],
         "y": [
          2,
          3
         ],
         "z": [
          2,
          2
         ]
        },
        {
         "hoverinfo": "skip",
         "line": {
          "color": "green",
          "width": 2
         },
         "mode": "lines",
         "showlegend": false,
         "type": "scatter3d",
         "x": [
          2,
          2
         ],
         "y": [
          2,
          4
         ],
         "z": [
          2,
          2
         ]
        },
        {
         "hoverinfo": "skip",
         "line": {
          "color": "green",
          "width": 2
         },
         "mode": "lines",
         "showlegend": false,
         "type": "scatter3d",
         "x": [
          2,
          2
         ],
         "y": [
          2,
          5
         ],
         "z": [
          2,
          2
         ]
        },
        {
         "hoverinfo": "skip",
         "line": {
          "color": "green",
          "width": 2
         },
         "mode": "lines",
         "showlegend": false,
         "type": "scatter3d",
         "x": [
          2,
          3
         ],
         "y": [
          2,
          2
         ],
         "z": [
          2,
          2
         ]
        },
        {
         "hoverinfo": "skip",
         "line": {
          "color": "green",
          "width": 2
         },
         "mode": "lines",
         "showlegend": false,
         "type": "scatter3d",
         "x": [
          2,
          4
         ],
         "y": [
          2,
          2
         ],
         "z": [
          2,
          2
         ]
        },
        {
         "hoverinfo": "skip",
         "line": {
          "color": "green",
          "width": 2
         },
         "mode": "lines",
         "showlegend": false,
         "type": "scatter3d",
         "x": [
          2,
          5
         ],
         "y": [
          2,
          2
         ],
         "z": [
          2,
          2
         ]
        },
        {
         "hoverinfo": "skip",
         "line": {
          "color": "green",
          "width": 2
         },
         "mode": "lines",
         "showlegend": false,
         "type": "scatter3d",
         "x": [
          2,
          2
         ],
         "y": [
          2,
          2
         ],
         "z": [
          3,
          4
         ]
        },
        {
         "hoverinfo": "skip",
         "line": {
          "color": "green",
          "width": 2
         },
         "mode": "lines",
         "showlegend": false,
         "type": "scatter3d",
         "x": [
          2,
          2
         ],
         "y": [
          2,
          2
         ],
         "z": [
          3,
          5
         ]
        },
        {
         "hoverinfo": "skip",
         "line": {
          "color": "green",
          "width": 2
         },
         "mode": "lines",
         "showlegend": false,
         "type": "scatter3d",
         "x": [
          2,
          2
         ],
         "y": [
          2,
          2
         ],
         "z": [
          3,
          6
         ]
        },
        {
         "hoverinfo": "skip",
         "line": {
          "color": "green",
          "width": 2
         },
         "mode": "lines",
         "showlegend": false,
         "type": "scatter3d",
         "x": [
          2,
          2
         ],
         "y": [
          2,
          2
         ],
         "z": [
          3,
          7
         ]
        },
        {
         "hoverinfo": "skip",
         "line": {
          "color": "green",
          "width": 2
         },
         "mode": "lines",
         "showlegend": false,
         "type": "scatter3d",
         "x": [
          2,
          2
         ],
         "y": [
          2,
          3
         ],
         "z": [
          3,
          3
         ]
        },
        {
         "hoverinfo": "skip",
         "line": {
          "color": "green",
          "width": 2
         },
         "mode": "lines",
         "showlegend": false,
         "type": "scatter3d",
         "x": [
          2,
          2
         ],
         "y": [
          2,
          4
         ],
         "z": [
          3,
          3
         ]
        },
        {
         "hoverinfo": "skip",
         "line": {
          "color": "green",
          "width": 2
         },
         "mode": "lines",
         "showlegend": false,
         "type": "scatter3d",
         "x": [
          2,
          2
         ],
         "y": [
          2,
          5
         ],
         "z": [
          3,
          3
         ]
        },
        {
         "hoverinfo": "skip",
         "line": {
          "color": "green",
          "width": 2
         },
         "mode": "lines",
         "showlegend": false,
         "type": "scatter3d",
         "x": [
          2,
          3
         ],
         "y": [
          2,
          2
         ],
         "z": [
          3,
          3
         ]
        },
        {
         "hoverinfo": "skip",
         "line": {
          "color": "green",
          "width": 2
         },
         "mode": "lines",
         "showlegend": false,
         "type": "scatter3d",
         "x": [
          2,
          4
         ],
         "y": [
          2,
          2
         ],
         "z": [
          3,
          3
         ]
        },
        {
         "hoverinfo": "skip",
         "line": {
          "color": "green",
          "width": 2
         },
         "mode": "lines",
         "showlegend": false,
         "type": "scatter3d",
         "x": [
          2,
          5
         ],
         "y": [
          2,
          2
         ],
         "z": [
          3,
          3
         ]
        },
        {
         "hoverinfo": "skip",
         "line": {
          "color": "green",
          "width": 2
         },
         "mode": "lines",
         "showlegend": false,
         "type": "scatter3d",
         "x": [
          2,
          2
         ],
         "y": [
          2,
          2
         ],
         "z": [
          4,
          5
         ]
        },
        {
         "hoverinfo": "skip",
         "line": {
          "color": "green",
          "width": 2
         },
         "mode": "lines",
         "showlegend": false,
         "type": "scatter3d",
         "x": [
          2,
          2
         ],
         "y": [
          2,
          2
         ],
         "z": [
          4,
          6
         ]
        },
        {
         "hoverinfo": "skip",
         "line": {
          "color": "green",
          "width": 2
         },
         "mode": "lines",
         "showlegend": false,
         "type": "scatter3d",
         "x": [
          2,
          2
         ],
         "y": [
          2,
          2
         ],
         "z": [
          4,
          7
         ]
        },
        {
         "hoverinfo": "skip",
         "line": {
          "color": "green",
          "width": 2
         },
         "mode": "lines",
         "showlegend": false,
         "type": "scatter3d",
         "x": [
          2,
          2
         ],
         "y": [
          2,
          3
         ],
         "z": [
          4,
          4
         ]
        },
        {
         "hoverinfo": "skip",
         "line": {
          "color": "green",
          "width": 2
         },
         "mode": "lines",
         "showlegend": false,
         "type": "scatter3d",
         "x": [
          2,
          2
         ],
         "y": [
          2,
          4
         ],
         "z": [
          4,
          4
         ]
        },
        {
         "hoverinfo": "skip",
         "line": {
          "color": "green",
          "width": 2
         },
         "mode": "lines",
         "showlegend": false,
         "type": "scatter3d",
         "x": [
          2,
          2
         ],
         "y": [
          2,
          5
         ],
         "z": [
          4,
          4
         ]
        },
        {
         "hoverinfo": "skip",
         "line": {
          "color": "green",
          "width": 2
         },
         "mode": "lines",
         "showlegend": false,
         "type": "scatter3d",
         "x": [
          2,
          3
         ],
         "y": [
          2,
          2
         ],
         "z": [
          4,
          4
         ]
        },
        {
         "hoverinfo": "skip",
         "line": {
          "color": "green",
          "width": 2
         },
         "mode": "lines",
         "showlegend": false,
         "type": "scatter3d",
         "x": [
          2,
          4
         ],
         "y": [
          2,
          2
         ],
         "z": [
          4,
          4
         ]
        },
        {
         "hoverinfo": "skip",
         "line": {
          "color": "green",
          "width": 2
         },
         "mode": "lines",
         "showlegend": false,
         "type": "scatter3d",
         "x": [
          2,
          5
         ],
         "y": [
          2,
          2
         ],
         "z": [
          4,
          4
         ]
        },
        {
         "hoverinfo": "skip",
         "line": {
          "color": "green",
          "width": 2
         },
         "mode": "lines",
         "showlegend": false,
         "type": "scatter3d",
         "x": [
          2,
          2
         ],
         "y": [
          2,
          2
         ],
         "z": [
          5,
          6
         ]
        },
        {
         "hoverinfo": "skip",
         "line": {
          "color": "green",
          "width": 2
         },
         "mode": "lines",
         "showlegend": false,
         "type": "scatter3d",
         "x": [
          2,
          2
         ],
         "y": [
          2,
          2
         ],
         "z": [
          5,
          7
         ]
        },
        {
         "hoverinfo": "skip",
         "line": {
          "color": "green",
          "width": 2
         },
         "mode": "lines",
         "showlegend": false,
         "type": "scatter3d",
         "x": [
          2,
          2
         ],
         "y": [
          2,
          3
         ],
         "z": [
          5,
          5
         ]
        },
        {
         "hoverinfo": "skip",
         "line": {
          "color": "green",
          "width": 2
         },
         "mode": "lines",
         "showlegend": false,
         "type": "scatter3d",
         "x": [
          2,
          2
         ],
         "y": [
          2,
          4
         ],
         "z": [
          5,
          5
         ]
        },
        {
         "hoverinfo": "skip",
         "line": {
          "color": "green",
          "width": 2
         },
         "mode": "lines",
         "showlegend": false,
         "type": "scatter3d",
         "x": [
          2,
          2
         ],
         "y": [
          2,
          5
         ],
         "z": [
          5,
          5
         ]
        },
        {
         "hoverinfo": "skip",
         "line": {
          "color": "green",
          "width": 2
         },
         "mode": "lines",
         "showlegend": false,
         "type": "scatter3d",
         "x": [
          2,
          3
         ],
         "y": [
          2,
          2
         ],
         "z": [
          5,
          5
         ]
        },
        {
         "hoverinfo": "skip",
         "line": {
          "color": "green",
          "width": 2
         },
         "mode": "lines",
         "showlegend": false,
         "type": "scatter3d",
         "x": [
          2,
          4
         ],
         "y": [
          2,
          2
         ],
         "z": [
          5,
          5
         ]
        },
        {
         "hoverinfo": "skip",
         "line": {
          "color": "green",
          "width": 2
         },
         "mode": "lines",
         "showlegend": false,
         "type": "scatter3d",
         "x": [
          2,
          5
         ],
         "y": [
          2,
          2
         ],
         "z": [
          5,
          5
         ]
        },
        {
         "hoverinfo": "skip",
         "line": {
          "color": "green",
          "width": 2
         },
         "mode": "lines",
         "showlegend": false,
         "type": "scatter3d",
         "x": [
          2,
          2
         ],
         "y": [
          2,
          2
         ],
         "z": [
          6,
          7
         ]
        },
        {
         "hoverinfo": "skip",
         "line": {
          "color": "green",
          "width": 2
         },
         "mode": "lines",
         "showlegend": false,
         "type": "scatter3d",
         "x": [
          2,
          2
         ],
         "y": [
          2,
          3
         ],
         "z": [
          6,
          6
         ]
        },
        {
         "hoverinfo": "skip",
         "line": {
          "color": "green",
          "width": 2
         },
         "mode": "lines",
         "showlegend": false,
         "type": "scatter3d",
         "x": [
          2,
          2
         ],
         "y": [
          2,
          4
         ],
         "z": [
          6,
          6
         ]
        },
        {
         "hoverinfo": "skip",
         "line": {
          "color": "green",
          "width": 2
         },
         "mode": "lines",
         "showlegend": false,
         "type": "scatter3d",
         "x": [
          2,
          2
         ],
         "y": [
          2,
          5
         ],
         "z": [
          6,
          6
         ]
        },
        {
         "hoverinfo": "skip",
         "line": {
          "color": "green",
          "width": 2
         },
         "mode": "lines",
         "showlegend": false,
         "type": "scatter3d",
         "x": [
          2,
          3
         ],
         "y": [
          2,
          2
         ],
         "z": [
          6,
          6
         ]
        },
        {
         "hoverinfo": "skip",
         "line": {
          "color": "green",
          "width": 2
         },
         "mode": "lines",
         "showlegend": false,
         "type": "scatter3d",
         "x": [
          2,
          4
         ],
         "y": [
          2,
          2
         ],
         "z": [
          6,
          6
         ]
        },
        {
         "hoverinfo": "skip",
         "line": {
          "color": "green",
          "width": 2
         },
         "mode": "lines",
         "showlegend": false,
         "type": "scatter3d",
         "x": [
          2,
          5
         ],
         "y": [
          2,
          2
         ],
         "z": [
          6,
          6
         ]
        },
        {
         "hoverinfo": "skip",
         "line": {
          "color": "green",
          "width": 2
         },
         "mode": "lines",
         "showlegend": false,
         "type": "scatter3d",
         "x": [
          2,
          2
         ],
         "y": [
          2,
          3
         ],
         "z": [
          7,
          7
         ]
        },
        {
         "hoverinfo": "skip",
         "line": {
          "color": "green",
          "width": 2
         },
         "mode": "lines",
         "showlegend": false,
         "type": "scatter3d",
         "x": [
          2,
          2
         ],
         "y": [
          2,
          4
         ],
         "z": [
          7,
          7
         ]
        },
        {
         "hoverinfo": "skip",
         "line": {
          "color": "green",
          "width": 2
         },
         "mode": "lines",
         "showlegend": false,
         "type": "scatter3d",
         "x": [
          2,
          2
         ],
         "y": [
          2,
          5
         ],
         "z": [
          7,
          7
         ]
        },
        {
         "hoverinfo": "skip",
         "line": {
          "color": "green",
          "width": 2
         },
         "mode": "lines",
         "showlegend": false,
         "type": "scatter3d",
         "x": [
          2,
          3
         ],
         "y": [
          2,
          2
         ],
         "z": [
          7,
          7
         ]
        },
        {
         "hoverinfo": "skip",
         "line": {
          "color": "green",
          "width": 2
         },
         "mode": "lines",
         "showlegend": false,
         "type": "scatter3d",
         "x": [
          2,
          4
         ],
         "y": [
          2,
          2
         ],
         "z": [
          7,
          7
         ]
        },
        {
         "hoverinfo": "skip",
         "line": {
          "color": "green",
          "width": 2
         },
         "mode": "lines",
         "showlegend": false,
         "type": "scatter3d",
         "x": [
          2,
          5
         ],
         "y": [
          2,
          2
         ],
         "z": [
          7,
          7
         ]
        },
        {
         "hoverinfo": "skip",
         "line": {
          "color": "green",
          "width": 2
         },
         "mode": "lines",
         "showlegend": false,
         "type": "scatter3d",
         "x": [
          2,
          2
         ],
         "y": [
          3,
          3
         ],
         "z": [
          0,
          1
         ]
        },
        {
         "hoverinfo": "skip",
         "line": {
          "color": "green",
          "width": 2
         },
         "mode": "lines",
         "showlegend": false,
         "type": "scatter3d",
         "x": [
          2,
          2
         ],
         "y": [
          3,
          3
         ],
         "z": [
          0,
          2
         ]
        },
        {
         "hoverinfo": "skip",
         "line": {
          "color": "green",
          "width": 2
         },
         "mode": "lines",
         "showlegend": false,
         "type": "scatter3d",
         "x": [
          2,
          2
         ],
         "y": [
          3,
          3
         ],
         "z": [
          0,
          3
         ]
        },
        {
         "hoverinfo": "skip",
         "line": {
          "color": "green",
          "width": 2
         },
         "mode": "lines",
         "showlegend": false,
         "type": "scatter3d",
         "x": [
          2,
          2
         ],
         "y": [
          3,
          3
         ],
         "z": [
          0,
          4
         ]
        },
        {
         "hoverinfo": "skip",
         "line": {
          "color": "green",
          "width": 2
         },
         "mode": "lines",
         "showlegend": false,
         "type": "scatter3d",
         "x": [
          2,
          2
         ],
         "y": [
          3,
          3
         ],
         "z": [
          0,
          5
         ]
        },
        {
         "hoverinfo": "skip",
         "line": {
          "color": "green",
          "width": 2
         },
         "mode": "lines",
         "showlegend": false,
         "type": "scatter3d",
         "x": [
          2,
          2
         ],
         "y": [
          3,
          3
         ],
         "z": [
          0,
          6
         ]
        },
        {
         "hoverinfo": "skip",
         "line": {
          "color": "green",
          "width": 2
         },
         "mode": "lines",
         "showlegend": false,
         "type": "scatter3d",
         "x": [
          2,
          2
         ],
         "y": [
          3,
          3
         ],
         "z": [
          0,
          7
         ]
        },
        {
         "hoverinfo": "skip",
         "line": {
          "color": "green",
          "width": 2
         },
         "mode": "lines",
         "showlegend": false,
         "type": "scatter3d",
         "x": [
          2,
          2
         ],
         "y": [
          3,
          4
         ],
         "z": [
          0,
          0
         ]
        },
        {
         "hoverinfo": "skip",
         "line": {
          "color": "green",
          "width": 2
         },
         "mode": "lines",
         "showlegend": false,
         "type": "scatter3d",
         "x": [
          2,
          2
         ],
         "y": [
          3,
          5
         ],
         "z": [
          0,
          0
         ]
        },
        {
         "hoverinfo": "skip",
         "line": {
          "color": "green",
          "width": 2
         },
         "mode": "lines",
         "showlegend": false,
         "type": "scatter3d",
         "x": [
          2,
          3
         ],
         "y": [
          3,
          3
         ],
         "z": [
          0,
          0
         ]
        },
        {
         "hoverinfo": "skip",
         "line": {
          "color": "green",
          "width": 2
         },
         "mode": "lines",
         "showlegend": false,
         "type": "scatter3d",
         "x": [
          2,
          4
         ],
         "y": [
          3,
          3
         ],
         "z": [
          0,
          0
         ]
        },
        {
         "hoverinfo": "skip",
         "line": {
          "color": "green",
          "width": 2
         },
         "mode": "lines",
         "showlegend": false,
         "type": "scatter3d",
         "x": [
          2,
          5
         ],
         "y": [
          3,
          3
         ],
         "z": [
          0,
          0
         ]
        },
        {
         "hoverinfo": "skip",
         "line": {
          "color": "green",
          "width": 2
         },
         "mode": "lines",
         "showlegend": false,
         "type": "scatter3d",
         "x": [
          2,
          2
         ],
         "y": [
          3,
          3
         ],
         "z": [
          1,
          2
         ]
        },
        {
         "hoverinfo": "skip",
         "line": {
          "color": "green",
          "width": 2
         },
         "mode": "lines",
         "showlegend": false,
         "type": "scatter3d",
         "x": [
          2,
          2
         ],
         "y": [
          3,
          3
         ],
         "z": [
          1,
          3
         ]
        },
        {
         "hoverinfo": "skip",
         "line": {
          "color": "green",
          "width": 2
         },
         "mode": "lines",
         "showlegend": false,
         "type": "scatter3d",
         "x": [
          2,
          2
         ],
         "y": [
          3,
          3
         ],
         "z": [
          1,
          4
         ]
        },
        {
         "hoverinfo": "skip",
         "line": {
          "color": "green",
          "width": 2
         },
         "mode": "lines",
         "showlegend": false,
         "type": "scatter3d",
         "x": [
          2,
          2
         ],
         "y": [
          3,
          3
         ],
         "z": [
          1,
          5
         ]
        },
        {
         "hoverinfo": "skip",
         "line": {
          "color": "green",
          "width": 2
         },
         "mode": "lines",
         "showlegend": false,
         "type": "scatter3d",
         "x": [
          2,
          2
         ],
         "y": [
          3,
          3
         ],
         "z": [
          1,
          6
         ]
        },
        {
         "hoverinfo": "skip",
         "line": {
          "color": "green",
          "width": 2
         },
         "mode": "lines",
         "showlegend": false,
         "type": "scatter3d",
         "x": [
          2,
          2
         ],
         "y": [
          3,
          3
         ],
         "z": [
          1,
          7
         ]
        },
        {
         "hoverinfo": "skip",
         "line": {
          "color": "green",
          "width": 2
         },
         "mode": "lines",
         "showlegend": false,
         "type": "scatter3d",
         "x": [
          2,
          2
         ],
         "y": [
          3,
          4
         ],
         "z": [
          1,
          1
         ]
        },
        {
         "hoverinfo": "skip",
         "line": {
          "color": "green",
          "width": 2
         },
         "mode": "lines",
         "showlegend": false,
         "type": "scatter3d",
         "x": [
          2,
          2
         ],
         "y": [
          3,
          5
         ],
         "z": [
          1,
          1
         ]
        },
        {
         "hoverinfo": "skip",
         "line": {
          "color": "green",
          "width": 2
         },
         "mode": "lines",
         "showlegend": false,
         "type": "scatter3d",
         "x": [
          2,
          3
         ],
         "y": [
          3,
          3
         ],
         "z": [
          1,
          1
         ]
        },
        {
         "hoverinfo": "skip",
         "line": {
          "color": "green",
          "width": 2
         },
         "mode": "lines",
         "showlegend": false,
         "type": "scatter3d",
         "x": [
          2,
          4
         ],
         "y": [
          3,
          3
         ],
         "z": [
          1,
          1
         ]
        },
        {
         "hoverinfo": "skip",
         "line": {
          "color": "green",
          "width": 2
         },
         "mode": "lines",
         "showlegend": false,
         "type": "scatter3d",
         "x": [
          2,
          5
         ],
         "y": [
          3,
          3
         ],
         "z": [
          1,
          1
         ]
        },
        {
         "hoverinfo": "skip",
         "line": {
          "color": "green",
          "width": 2
         },
         "mode": "lines",
         "showlegend": false,
         "type": "scatter3d",
         "x": [
          2,
          2
         ],
         "y": [
          3,
          3
         ],
         "z": [
          2,
          3
         ]
        },
        {
         "hoverinfo": "skip",
         "line": {
          "color": "green",
          "width": 2
         },
         "mode": "lines",
         "showlegend": false,
         "type": "scatter3d",
         "x": [
          2,
          2
         ],
         "y": [
          3,
          3
         ],
         "z": [
          2,
          4
         ]
        },
        {
         "hoverinfo": "skip",
         "line": {
          "color": "green",
          "width": 2
         },
         "mode": "lines",
         "showlegend": false,
         "type": "scatter3d",
         "x": [
          2,
          2
         ],
         "y": [
          3,
          3
         ],
         "z": [
          2,
          5
         ]
        },
        {
         "hoverinfo": "skip",
         "line": {
          "color": "green",
          "width": 2
         },
         "mode": "lines",
         "showlegend": false,
         "type": "scatter3d",
         "x": [
          2,
          2
         ],
         "y": [
          3,
          3
         ],
         "z": [
          2,
          6
         ]
        },
        {
         "hoverinfo": "skip",
         "line": {
          "color": "green",
          "width": 2
         },
         "mode": "lines",
         "showlegend": false,
         "type": "scatter3d",
         "x": [
          2,
          2
         ],
         "y": [
          3,
          3
         ],
         "z": [
          2,
          7
         ]
        },
        {
         "hoverinfo": "skip",
         "line": {
          "color": "green",
          "width": 2
         },
         "mode": "lines",
         "showlegend": false,
         "type": "scatter3d",
         "x": [
          2,
          2
         ],
         "y": [
          3,
          4
         ],
         "z": [
          2,
          2
         ]
        },
        {
         "hoverinfo": "skip",
         "line": {
          "color": "green",
          "width": 2
         },
         "mode": "lines",
         "showlegend": false,
         "type": "scatter3d",
         "x": [
          2,
          2
         ],
         "y": [
          3,
          5
         ],
         "z": [
          2,
          2
         ]
        },
        {
         "hoverinfo": "skip",
         "line": {
          "color": "green",
          "width": 2
         },
         "mode": "lines",
         "showlegend": false,
         "type": "scatter3d",
         "x": [
          2,
          3
         ],
         "y": [
          3,
          3
         ],
         "z": [
          2,
          2
         ]
        },
        {
         "hoverinfo": "skip",
         "line": {
          "color": "green",
          "width": 2
         },
         "mode": "lines",
         "showlegend": false,
         "type": "scatter3d",
         "x": [
          2,
          4
         ],
         "y": [
          3,
          3
         ],
         "z": [
          2,
          2
         ]
        },
        {
         "hoverinfo": "skip",
         "line": {
          "color": "green",
          "width": 2
         },
         "mode": "lines",
         "showlegend": false,
         "type": "scatter3d",
         "x": [
          2,
          5
         ],
         "y": [
          3,
          3
         ],
         "z": [
          2,
          2
         ]
        },
        {
         "hoverinfo": "skip",
         "line": {
          "color": "green",
          "width": 2
         },
         "mode": "lines",
         "showlegend": false,
         "type": "scatter3d",
         "x": [
          2,
          2
         ],
         "y": [
          3,
          3
         ],
         "z": [
          3,
          4
         ]
        },
        {
         "hoverinfo": "skip",
         "line": {
          "color": "green",
          "width": 2
         },
         "mode": "lines",
         "showlegend": false,
         "type": "scatter3d",
         "x": [
          2,
          2
         ],
         "y": [
          3,
          3
         ],
         "z": [
          3,
          5
         ]
        },
        {
         "hoverinfo": "skip",
         "line": {
          "color": "green",
          "width": 2
         },
         "mode": "lines",
         "showlegend": false,
         "type": "scatter3d",
         "x": [
          2,
          2
         ],
         "y": [
          3,
          3
         ],
         "z": [
          3,
          6
         ]
        },
        {
         "hoverinfo": "skip",
         "line": {
          "color": "green",
          "width": 2
         },
         "mode": "lines",
         "showlegend": false,
         "type": "scatter3d",
         "x": [
          2,
          2
         ],
         "y": [
          3,
          3
         ],
         "z": [
          3,
          7
         ]
        },
        {
         "hoverinfo": "skip",
         "line": {
          "color": "green",
          "width": 2
         },
         "mode": "lines",
         "showlegend": false,
         "type": "scatter3d",
         "x": [
          2,
          2
         ],
         "y": [
          3,
          4
         ],
         "z": [
          3,
          3
         ]
        },
        {
         "hoverinfo": "skip",
         "line": {
          "color": "green",
          "width": 2
         },
         "mode": "lines",
         "showlegend": false,
         "type": "scatter3d",
         "x": [
          2,
          2
         ],
         "y": [
          3,
          5
         ],
         "z": [
          3,
          3
         ]
        },
        {
         "hoverinfo": "skip",
         "line": {
          "color": "green",
          "width": 2
         },
         "mode": "lines",
         "showlegend": false,
         "type": "scatter3d",
         "x": [
          2,
          3
         ],
         "y": [
          3,
          3
         ],
         "z": [
          3,
          3
         ]
        },
        {
         "hoverinfo": "skip",
         "line": {
          "color": "green",
          "width": 2
         },
         "mode": "lines",
         "showlegend": false,
         "type": "scatter3d",
         "x": [
          2,
          4
         ],
         "y": [
          3,
          3
         ],
         "z": [
          3,
          3
         ]
        },
        {
         "hoverinfo": "skip",
         "line": {
          "color": "green",
          "width": 2
         },
         "mode": "lines",
         "showlegend": false,
         "type": "scatter3d",
         "x": [
          2,
          5
         ],
         "y": [
          3,
          3
         ],
         "z": [
          3,
          3
         ]
        },
        {
         "hoverinfo": "skip",
         "line": {
          "color": "green",
          "width": 2
         },
         "mode": "lines",
         "showlegend": false,
         "type": "scatter3d",
         "x": [
          2,
          2
         ],
         "y": [
          3,
          3
         ],
         "z": [
          4,
          5
         ]
        },
        {
         "hoverinfo": "skip",
         "line": {
          "color": "green",
          "width": 2
         },
         "mode": "lines",
         "showlegend": false,
         "type": "scatter3d",
         "x": [
          2,
          2
         ],
         "y": [
          3,
          3
         ],
         "z": [
          4,
          6
         ]
        },
        {
         "hoverinfo": "skip",
         "line": {
          "color": "green",
          "width": 2
         },
         "mode": "lines",
         "showlegend": false,
         "type": "scatter3d",
         "x": [
          2,
          2
         ],
         "y": [
          3,
          3
         ],
         "z": [
          4,
          7
         ]
        },
        {
         "hoverinfo": "skip",
         "line": {
          "color": "green",
          "width": 2
         },
         "mode": "lines",
         "showlegend": false,
         "type": "scatter3d",
         "x": [
          2,
          2
         ],
         "y": [
          3,
          4
         ],
         "z": [
          4,
          4
         ]
        },
        {
         "hoverinfo": "skip",
         "line": {
          "color": "green",
          "width": 2
         },
         "mode": "lines",
         "showlegend": false,
         "type": "scatter3d",
         "x": [
          2,
          2
         ],
         "y": [
          3,
          5
         ],
         "z": [
          4,
          4
         ]
        },
        {
         "hoverinfo": "skip",
         "line": {
          "color": "green",
          "width": 2
         },
         "mode": "lines",
         "showlegend": false,
         "type": "scatter3d",
         "x": [
          2,
          3
         ],
         "y": [
          3,
          3
         ],
         "z": [
          4,
          4
         ]
        },
        {
         "hoverinfo": "skip",
         "line": {
          "color": "green",
          "width": 2
         },
         "mode": "lines",
         "showlegend": false,
         "type": "scatter3d",
         "x": [
          2,
          4
         ],
         "y": [
          3,
          3
         ],
         "z": [
          4,
          4
         ]
        },
        {
         "hoverinfo": "skip",
         "line": {
          "color": "green",
          "width": 2
         },
         "mode": "lines",
         "showlegend": false,
         "type": "scatter3d",
         "x": [
          2,
          5
         ],
         "y": [
          3,
          3
         ],
         "z": [
          4,
          4
         ]
        },
        {
         "hoverinfo": "skip",
         "line": {
          "color": "green",
          "width": 2
         },
         "mode": "lines",
         "showlegend": false,
         "type": "scatter3d",
         "x": [
          2,
          2
         ],
         "y": [
          3,
          3
         ],
         "z": [
          5,
          6
         ]
        },
        {
         "hoverinfo": "skip",
         "line": {
          "color": "green",
          "width": 2
         },
         "mode": "lines",
         "showlegend": false,
         "type": "scatter3d",
         "x": [
          2,
          2
         ],
         "y": [
          3,
          3
         ],
         "z": [
          5,
          7
         ]
        },
        {
         "hoverinfo": "skip",
         "line": {
          "color": "green",
          "width": 2
         },
         "mode": "lines",
         "showlegend": false,
         "type": "scatter3d",
         "x": [
          2,
          2
         ],
         "y": [
          3,
          4
         ],
         "z": [
          5,
          5
         ]
        },
        {
         "hoverinfo": "skip",
         "line": {
          "color": "green",
          "width": 2
         },
         "mode": "lines",
         "showlegend": false,
         "type": "scatter3d",
         "x": [
          2,
          2
         ],
         "y": [
          3,
          5
         ],
         "z": [
          5,
          5
         ]
        },
        {
         "hoverinfo": "skip",
         "line": {
          "color": "green",
          "width": 2
         },
         "mode": "lines",
         "showlegend": false,
         "type": "scatter3d",
         "x": [
          2,
          3
         ],
         "y": [
          3,
          3
         ],
         "z": [
          5,
          5
         ]
        },
        {
         "hoverinfo": "skip",
         "line": {
          "color": "green",
          "width": 2
         },
         "mode": "lines",
         "showlegend": false,
         "type": "scatter3d",
         "x": [
          2,
          4
         ],
         "y": [
          3,
          3
         ],
         "z": [
          5,
          5
         ]
        },
        {
         "hoverinfo": "skip",
         "line": {
          "color": "green",
          "width": 2
         },
         "mode": "lines",
         "showlegend": false,
         "type": "scatter3d",
         "x": [
          2,
          5
         ],
         "y": [
          3,
          3
         ],
         "z": [
          5,
          5
         ]
        },
        {
         "hoverinfo": "skip",
         "line": {
          "color": "green",
          "width": 2
         },
         "mode": "lines",
         "showlegend": false,
         "type": "scatter3d",
         "x": [
          2,
          2
         ],
         "y": [
          3,
          3
         ],
         "z": [
          6,
          7
         ]
        },
        {
         "hoverinfo": "skip",
         "line": {
          "color": "green",
          "width": 2
         },
         "mode": "lines",
         "showlegend": false,
         "type": "scatter3d",
         "x": [
          2,
          2
         ],
         "y": [
          3,
          4
         ],
         "z": [
          6,
          6
         ]
        },
        {
         "hoverinfo": "skip",
         "line": {
          "color": "green",
          "width": 2
         },
         "mode": "lines",
         "showlegend": false,
         "type": "scatter3d",
         "x": [
          2,
          2
         ],
         "y": [
          3,
          5
         ],
         "z": [
          6,
          6
         ]
        },
        {
         "hoverinfo": "skip",
         "line": {
          "color": "green",
          "width": 2
         },
         "mode": "lines",
         "showlegend": false,
         "type": "scatter3d",
         "x": [
          2,
          3
         ],
         "y": [
          3,
          3
         ],
         "z": [
          6,
          6
         ]
        },
        {
         "hoverinfo": "skip",
         "line": {
          "color": "green",
          "width": 2
         },
         "mode": "lines",
         "showlegend": false,
         "type": "scatter3d",
         "x": [
          2,
          4
         ],
         "y": [
          3,
          3
         ],
         "z": [
          6,
          6
         ]
        },
        {
         "hoverinfo": "skip",
         "line": {
          "color": "green",
          "width": 2
         },
         "mode": "lines",
         "showlegend": false,
         "type": "scatter3d",
         "x": [
          2,
          5
         ],
         "y": [
          3,
          3
         ],
         "z": [
          6,
          6
         ]
        },
        {
         "hoverinfo": "skip",
         "line": {
          "color": "green",
          "width": 2
         },
         "mode": "lines",
         "showlegend": false,
         "type": "scatter3d",
         "x": [
          2,
          2
         ],
         "y": [
          3,
          4
         ],
         "z": [
          7,
          7
         ]
        },
        {
         "hoverinfo": "skip",
         "line": {
          "color": "green",
          "width": 2
         },
         "mode": "lines",
         "showlegend": false,
         "type": "scatter3d",
         "x": [
          2,
          2
         ],
         "y": [
          3,
          5
         ],
         "z": [
          7,
          7
         ]
        },
        {
         "hoverinfo": "skip",
         "line": {
          "color": "green",
          "width": 2
         },
         "mode": "lines",
         "showlegend": false,
         "type": "scatter3d",
         "x": [
          2,
          3
         ],
         "y": [
          3,
          3
         ],
         "z": [
          7,
          7
         ]
        },
        {
         "hoverinfo": "skip",
         "line": {
          "color": "green",
          "width": 2
         },
         "mode": "lines",
         "showlegend": false,
         "type": "scatter3d",
         "x": [
          2,
          4
         ],
         "y": [
          3,
          3
         ],
         "z": [
          7,
          7
         ]
        },
        {
         "hoverinfo": "skip",
         "line": {
          "color": "green",
          "width": 2
         },
         "mode": "lines",
         "showlegend": false,
         "type": "scatter3d",
         "x": [
          2,
          5
         ],
         "y": [
          3,
          3
         ],
         "z": [
          7,
          7
         ]
        },
        {
         "hoverinfo": "skip",
         "line": {
          "color": "green",
          "width": 2
         },
         "mode": "lines",
         "showlegend": false,
         "type": "scatter3d",
         "x": [
          2,
          2
         ],
         "y": [
          4,
          4
         ],
         "z": [
          0,
          1
         ]
        },
        {
         "hoverinfo": "skip",
         "line": {
          "color": "green",
          "width": 2
         },
         "mode": "lines",
         "showlegend": false,
         "type": "scatter3d",
         "x": [
          2,
          2
         ],
         "y": [
          4,
          4
         ],
         "z": [
          0,
          2
         ]
        },
        {
         "hoverinfo": "skip",
         "line": {
          "color": "green",
          "width": 2
         },
         "mode": "lines",
         "showlegend": false,
         "type": "scatter3d",
         "x": [
          2,
          2
         ],
         "y": [
          4,
          4
         ],
         "z": [
          0,
          3
         ]
        },
        {
         "hoverinfo": "skip",
         "line": {
          "color": "green",
          "width": 2
         },
         "mode": "lines",
         "showlegend": false,
         "type": "scatter3d",
         "x": [
          2,
          2
         ],
         "y": [
          4,
          4
         ],
         "z": [
          0,
          4
         ]
        },
        {
         "hoverinfo": "skip",
         "line": {
          "color": "green",
          "width": 2
         },
         "mode": "lines",
         "showlegend": false,
         "type": "scatter3d",
         "x": [
          2,
          2
         ],
         "y": [
          4,
          4
         ],
         "z": [
          0,
          5
         ]
        },
        {
         "hoverinfo": "skip",
         "line": {
          "color": "green",
          "width": 2
         },
         "mode": "lines",
         "showlegend": false,
         "type": "scatter3d",
         "x": [
          2,
          2
         ],
         "y": [
          4,
          4
         ],
         "z": [
          0,
          6
         ]
        },
        {
         "hoverinfo": "skip",
         "line": {
          "color": "green",
          "width": 2
         },
         "mode": "lines",
         "showlegend": false,
         "type": "scatter3d",
         "x": [
          2,
          2
         ],
         "y": [
          4,
          4
         ],
         "z": [
          0,
          7
         ]
        },
        {
         "hoverinfo": "skip",
         "line": {
          "color": "green",
          "width": 2
         },
         "mode": "lines",
         "showlegend": false,
         "type": "scatter3d",
         "x": [
          2,
          2
         ],
         "y": [
          4,
          5
         ],
         "z": [
          0,
          0
         ]
        },
        {
         "hoverinfo": "skip",
         "line": {
          "color": "green",
          "width": 2
         },
         "mode": "lines",
         "showlegend": false,
         "type": "scatter3d",
         "x": [
          2,
          3
         ],
         "y": [
          4,
          4
         ],
         "z": [
          0,
          0
         ]
        },
        {
         "hoverinfo": "skip",
         "line": {
          "color": "green",
          "width": 2
         },
         "mode": "lines",
         "showlegend": false,
         "type": "scatter3d",
         "x": [
          2,
          4
         ],
         "y": [
          4,
          4
         ],
         "z": [
          0,
          0
         ]
        },
        {
         "hoverinfo": "skip",
         "line": {
          "color": "green",
          "width": 2
         },
         "mode": "lines",
         "showlegend": false,
         "type": "scatter3d",
         "x": [
          2,
          5
         ],
         "y": [
          4,
          4
         ],
         "z": [
          0,
          0
         ]
        },
        {
         "hoverinfo": "skip",
         "line": {
          "color": "green",
          "width": 2
         },
         "mode": "lines",
         "showlegend": false,
         "type": "scatter3d",
         "x": [
          2,
          2
         ],
         "y": [
          4,
          4
         ],
         "z": [
          1,
          2
         ]
        },
        {
         "hoverinfo": "skip",
         "line": {
          "color": "green",
          "width": 2
         },
         "mode": "lines",
         "showlegend": false,
         "type": "scatter3d",
         "x": [
          2,
          2
         ],
         "y": [
          4,
          4
         ],
         "z": [
          1,
          3
         ]
        },
        {
         "hoverinfo": "skip",
         "line": {
          "color": "green",
          "width": 2
         },
         "mode": "lines",
         "showlegend": false,
         "type": "scatter3d",
         "x": [
          2,
          2
         ],
         "y": [
          4,
          4
         ],
         "z": [
          1,
          4
         ]
        },
        {
         "hoverinfo": "skip",
         "line": {
          "color": "green",
          "width": 2
         },
         "mode": "lines",
         "showlegend": false,
         "type": "scatter3d",
         "x": [
          2,
          2
         ],
         "y": [
          4,
          4
         ],
         "z": [
          1,
          5
         ]
        },
        {
         "hoverinfo": "skip",
         "line": {
          "color": "green",
          "width": 2
         },
         "mode": "lines",
         "showlegend": false,
         "type": "scatter3d",
         "x": [
          2,
          2
         ],
         "y": [
          4,
          4
         ],
         "z": [
          1,
          6
         ]
        },
        {
         "hoverinfo": "skip",
         "line": {
          "color": "green",
          "width": 2
         },
         "mode": "lines",
         "showlegend": false,
         "type": "scatter3d",
         "x": [
          2,
          2
         ],
         "y": [
          4,
          4
         ],
         "z": [
          1,
          7
         ]
        },
        {
         "hoverinfo": "skip",
         "line": {
          "color": "green",
          "width": 2
         },
         "mode": "lines",
         "showlegend": false,
         "type": "scatter3d",
         "x": [
          2,
          2
         ],
         "y": [
          4,
          5
         ],
         "z": [
          1,
          1
         ]
        },
        {
         "hoverinfo": "skip",
         "line": {
          "color": "green",
          "width": 2
         },
         "mode": "lines",
         "showlegend": false,
         "type": "scatter3d",
         "x": [
          2,
          3
         ],
         "y": [
          4,
          4
         ],
         "z": [
          1,
          1
         ]
        },
        {
         "hoverinfo": "skip",
         "line": {
          "color": "green",
          "width": 2
         },
         "mode": "lines",
         "showlegend": false,
         "type": "scatter3d",
         "x": [
          2,
          4
         ],
         "y": [
          4,
          4
         ],
         "z": [
          1,
          1
         ]
        },
        {
         "hoverinfo": "skip",
         "line": {
          "color": "green",
          "width": 2
         },
         "mode": "lines",
         "showlegend": false,
         "type": "scatter3d",
         "x": [
          2,
          5
         ],
         "y": [
          4,
          4
         ],
         "z": [
          1,
          1
         ]
        },
        {
         "hoverinfo": "skip",
         "line": {
          "color": "green",
          "width": 2
         },
         "mode": "lines",
         "showlegend": false,
         "type": "scatter3d",
         "x": [
          2,
          2
         ],
         "y": [
          4,
          4
         ],
         "z": [
          2,
          3
         ]
        },
        {
         "hoverinfo": "skip",
         "line": {
          "color": "green",
          "width": 2
         },
         "mode": "lines",
         "showlegend": false,
         "type": "scatter3d",
         "x": [
          2,
          2
         ],
         "y": [
          4,
          4
         ],
         "z": [
          2,
          4
         ]
        },
        {
         "hoverinfo": "skip",
         "line": {
          "color": "green",
          "width": 2
         },
         "mode": "lines",
         "showlegend": false,
         "type": "scatter3d",
         "x": [
          2,
          2
         ],
         "y": [
          4,
          4
         ],
         "z": [
          2,
          5
         ]
        },
        {
         "hoverinfo": "skip",
         "line": {
          "color": "green",
          "width": 2
         },
         "mode": "lines",
         "showlegend": false,
         "type": "scatter3d",
         "x": [
          2,
          2
         ],
         "y": [
          4,
          4
         ],
         "z": [
          2,
          6
         ]
        },
        {
         "hoverinfo": "skip",
         "line": {
          "color": "green",
          "width": 2
         },
         "mode": "lines",
         "showlegend": false,
         "type": "scatter3d",
         "x": [
          2,
          2
         ],
         "y": [
          4,
          4
         ],
         "z": [
          2,
          7
         ]
        },
        {
         "hoverinfo": "skip",
         "line": {
          "color": "green",
          "width": 2
         },
         "mode": "lines",
         "showlegend": false,
         "type": "scatter3d",
         "x": [
          2,
          2
         ],
         "y": [
          4,
          5
         ],
         "z": [
          2,
          2
         ]
        },
        {
         "hoverinfo": "skip",
         "line": {
          "color": "green",
          "width": 2
         },
         "mode": "lines",
         "showlegend": false,
         "type": "scatter3d",
         "x": [
          2,
          3
         ],
         "y": [
          4,
          4
         ],
         "z": [
          2,
          2
         ]
        },
        {
         "hoverinfo": "skip",
         "line": {
          "color": "green",
          "width": 2
         },
         "mode": "lines",
         "showlegend": false,
         "type": "scatter3d",
         "x": [
          2,
          4
         ],
         "y": [
          4,
          4
         ],
         "z": [
          2,
          2
         ]
        },
        {
         "hoverinfo": "skip",
         "line": {
          "color": "green",
          "width": 2
         },
         "mode": "lines",
         "showlegend": false,
         "type": "scatter3d",
         "x": [
          2,
          5
         ],
         "y": [
          4,
          4
         ],
         "z": [
          2,
          2
         ]
        },
        {
         "hoverinfo": "skip",
         "line": {
          "color": "green",
          "width": 2
         },
         "mode": "lines",
         "showlegend": false,
         "type": "scatter3d",
         "x": [
          2,
          2
         ],
         "y": [
          4,
          4
         ],
         "z": [
          3,
          4
         ]
        },
        {
         "hoverinfo": "skip",
         "line": {
          "color": "green",
          "width": 2
         },
         "mode": "lines",
         "showlegend": false,
         "type": "scatter3d",
         "x": [
          2,
          2
         ],
         "y": [
          4,
          4
         ],
         "z": [
          3,
          5
         ]
        },
        {
         "hoverinfo": "skip",
         "line": {
          "color": "green",
          "width": 2
         },
         "mode": "lines",
         "showlegend": false,
         "type": "scatter3d",
         "x": [
          2,
          2
         ],
         "y": [
          4,
          4
         ],
         "z": [
          3,
          6
         ]
        },
        {
         "hoverinfo": "skip",
         "line": {
          "color": "green",
          "width": 2
         },
         "mode": "lines",
         "showlegend": false,
         "type": "scatter3d",
         "x": [
          2,
          2
         ],
         "y": [
          4,
          4
         ],
         "z": [
          3,
          7
         ]
        },
        {
         "hoverinfo": "skip",
         "line": {
          "color": "green",
          "width": 2
         },
         "mode": "lines",
         "showlegend": false,
         "type": "scatter3d",
         "x": [
          2,
          2
         ],
         "y": [
          4,
          5
         ],
         "z": [
          3,
          3
         ]
        },
        {
         "hoverinfo": "skip",
         "line": {
          "color": "green",
          "width": 2
         },
         "mode": "lines",
         "showlegend": false,
         "type": "scatter3d",
         "x": [
          2,
          3
         ],
         "y": [
          4,
          4
         ],
         "z": [
          3,
          3
         ]
        },
        {
         "hoverinfo": "skip",
         "line": {
          "color": "green",
          "width": 2
         },
         "mode": "lines",
         "showlegend": false,
         "type": "scatter3d",
         "x": [
          2,
          4
         ],
         "y": [
          4,
          4
         ],
         "z": [
          3,
          3
         ]
        },
        {
         "hoverinfo": "skip",
         "line": {
          "color": "green",
          "width": 2
         },
         "mode": "lines",
         "showlegend": false,
         "type": "scatter3d",
         "x": [
          2,
          5
         ],
         "y": [
          4,
          4
         ],
         "z": [
          3,
          3
         ]
        },
        {
         "hoverinfo": "skip",
         "line": {
          "color": "green",
          "width": 2
         },
         "mode": "lines",
         "showlegend": false,
         "type": "scatter3d",
         "x": [
          2,
          2
         ],
         "y": [
          4,
          4
         ],
         "z": [
          4,
          5
         ]
        },
        {
         "hoverinfo": "skip",
         "line": {
          "color": "green",
          "width": 2
         },
         "mode": "lines",
         "showlegend": false,
         "type": "scatter3d",
         "x": [
          2,
          2
         ],
         "y": [
          4,
          4
         ],
         "z": [
          4,
          6
         ]
        },
        {
         "hoverinfo": "skip",
         "line": {
          "color": "green",
          "width": 2
         },
         "mode": "lines",
         "showlegend": false,
         "type": "scatter3d",
         "x": [
          2,
          2
         ],
         "y": [
          4,
          4
         ],
         "z": [
          4,
          7
         ]
        },
        {
         "hoverinfo": "skip",
         "line": {
          "color": "green",
          "width": 2
         },
         "mode": "lines",
         "showlegend": false,
         "type": "scatter3d",
         "x": [
          2,
          2
         ],
         "y": [
          4,
          5
         ],
         "z": [
          4,
          4
         ]
        },
        {
         "hoverinfo": "skip",
         "line": {
          "color": "green",
          "width": 2
         },
         "mode": "lines",
         "showlegend": false,
         "type": "scatter3d",
         "x": [
          2,
          3
         ],
         "y": [
          4,
          4
         ],
         "z": [
          4,
          4
         ]
        },
        {
         "hoverinfo": "skip",
         "line": {
          "color": "green",
          "width": 2
         },
         "mode": "lines",
         "showlegend": false,
         "type": "scatter3d",
         "x": [
          2,
          4
         ],
         "y": [
          4,
          4
         ],
         "z": [
          4,
          4
         ]
        },
        {
         "hoverinfo": "skip",
         "line": {
          "color": "green",
          "width": 2
         },
         "mode": "lines",
         "showlegend": false,
         "type": "scatter3d",
         "x": [
          2,
          5
         ],
         "y": [
          4,
          4
         ],
         "z": [
          4,
          4
         ]
        },
        {
         "hoverinfo": "skip",
         "line": {
          "color": "green",
          "width": 2
         },
         "mode": "lines",
         "showlegend": false,
         "type": "scatter3d",
         "x": [
          2,
          2
         ],
         "y": [
          4,
          4
         ],
         "z": [
          5,
          6
         ]
        },
        {
         "hoverinfo": "skip",
         "line": {
          "color": "green",
          "width": 2
         },
         "mode": "lines",
         "showlegend": false,
         "type": "scatter3d",
         "x": [
          2,
          2
         ],
         "y": [
          4,
          4
         ],
         "z": [
          5,
          7
         ]
        },
        {
         "hoverinfo": "skip",
         "line": {
          "color": "green",
          "width": 2
         },
         "mode": "lines",
         "showlegend": false,
         "type": "scatter3d",
         "x": [
          2,
          2
         ],
         "y": [
          4,
          5
         ],
         "z": [
          5,
          5
         ]
        },
        {
         "hoverinfo": "skip",
         "line": {
          "color": "green",
          "width": 2
         },
         "mode": "lines",
         "showlegend": false,
         "type": "scatter3d",
         "x": [
          2,
          3
         ],
         "y": [
          4,
          4
         ],
         "z": [
          5,
          5
         ]
        },
        {
         "hoverinfo": "skip",
         "line": {
          "color": "green",
          "width": 2
         },
         "mode": "lines",
         "showlegend": false,
         "type": "scatter3d",
         "x": [
          2,
          4
         ],
         "y": [
          4,
          4
         ],
         "z": [
          5,
          5
         ]
        },
        {
         "hoverinfo": "skip",
         "line": {
          "color": "green",
          "width": 2
         },
         "mode": "lines",
         "showlegend": false,
         "type": "scatter3d",
         "x": [
          2,
          5
         ],
         "y": [
          4,
          4
         ],
         "z": [
          5,
          5
         ]
        },
        {
         "hoverinfo": "skip",
         "line": {
          "color": "green",
          "width": 2
         },
         "mode": "lines",
         "showlegend": false,
         "type": "scatter3d",
         "x": [
          2,
          2
         ],
         "y": [
          4,
          4
         ],
         "z": [
          6,
          7
         ]
        },
        {
         "hoverinfo": "skip",
         "line": {
          "color": "green",
          "width": 2
         },
         "mode": "lines",
         "showlegend": false,
         "type": "scatter3d",
         "x": [
          2,
          2
         ],
         "y": [
          4,
          5
         ],
         "z": [
          6,
          6
         ]
        },
        {
         "hoverinfo": "skip",
         "line": {
          "color": "green",
          "width": 2
         },
         "mode": "lines",
         "showlegend": false,
         "type": "scatter3d",
         "x": [
          2,
          3
         ],
         "y": [
          4,
          4
         ],
         "z": [
          6,
          6
         ]
        },
        {
         "hoverinfo": "skip",
         "line": {
          "color": "green",
          "width": 2
         },
         "mode": "lines",
         "showlegend": false,
         "type": "scatter3d",
         "x": [
          2,
          4
         ],
         "y": [
          4,
          4
         ],
         "z": [
          6,
          6
         ]
        },
        {
         "hoverinfo": "skip",
         "line": {
          "color": "green",
          "width": 2
         },
         "mode": "lines",
         "showlegend": false,
         "type": "scatter3d",
         "x": [
          2,
          5
         ],
         "y": [
          4,
          4
         ],
         "z": [
          6,
          6
         ]
        },
        {
         "hoverinfo": "skip",
         "line": {
          "color": "green",
          "width": 2
         },
         "mode": "lines",
         "showlegend": false,
         "type": "scatter3d",
         "x": [
          2,
          2
         ],
         "y": [
          4,
          5
         ],
         "z": [
          7,
          7
         ]
        },
        {
         "hoverinfo": "skip",
         "line": {
          "color": "green",
          "width": 2
         },
         "mode": "lines",
         "showlegend": false,
         "type": "scatter3d",
         "x": [
          2,
          3
         ],
         "y": [
          4,
          4
         ],
         "z": [
          7,
          7
         ]
        },
        {
         "hoverinfo": "skip",
         "line": {
          "color": "green",
          "width": 2
         },
         "mode": "lines",
         "showlegend": false,
         "type": "scatter3d",
         "x": [
          2,
          4
         ],
         "y": [
          4,
          4
         ],
         "z": [
          7,
          7
         ]
        },
        {
         "hoverinfo": "skip",
         "line": {
          "color": "green",
          "width": 2
         },
         "mode": "lines",
         "showlegend": false,
         "type": "scatter3d",
         "x": [
          2,
          5
         ],
         "y": [
          4,
          4
         ],
         "z": [
          7,
          7
         ]
        },
        {
         "hoverinfo": "skip",
         "line": {
          "color": "green",
          "width": 2
         },
         "mode": "lines",
         "showlegend": false,
         "type": "scatter3d",
         "x": [
          2,
          2
         ],
         "y": [
          5,
          5
         ],
         "z": [
          0,
          1
         ]
        },
        {
         "hoverinfo": "skip",
         "line": {
          "color": "green",
          "width": 2
         },
         "mode": "lines",
         "showlegend": false,
         "type": "scatter3d",
         "x": [
          2,
          2
         ],
         "y": [
          5,
          5
         ],
         "z": [
          0,
          2
         ]
        },
        {
         "hoverinfo": "skip",
         "line": {
          "color": "green",
          "width": 2
         },
         "mode": "lines",
         "showlegend": false,
         "type": "scatter3d",
         "x": [
          2,
          2
         ],
         "y": [
          5,
          5
         ],
         "z": [
          0,
          3
         ]
        },
        {
         "hoverinfo": "skip",
         "line": {
          "color": "green",
          "width": 2
         },
         "mode": "lines",
         "showlegend": false,
         "type": "scatter3d",
         "x": [
          2,
          2
         ],
         "y": [
          5,
          5
         ],
         "z": [
          0,
          4
         ]
        },
        {
         "hoverinfo": "skip",
         "line": {
          "color": "green",
          "width": 2
         },
         "mode": "lines",
         "showlegend": false,
         "type": "scatter3d",
         "x": [
          2,
          2
         ],
         "y": [
          5,
          5
         ],
         "z": [
          0,
          5
         ]
        },
        {
         "hoverinfo": "skip",
         "line": {
          "color": "green",
          "width": 2
         },
         "mode": "lines",
         "showlegend": false,
         "type": "scatter3d",
         "x": [
          2,
          2
         ],
         "y": [
          5,
          5
         ],
         "z": [
          0,
          6
         ]
        },
        {
         "hoverinfo": "skip",
         "line": {
          "color": "green",
          "width": 2
         },
         "mode": "lines",
         "showlegend": false,
         "type": "scatter3d",
         "x": [
          2,
          2
         ],
         "y": [
          5,
          5
         ],
         "z": [
          0,
          7
         ]
        },
        {
         "hoverinfo": "skip",
         "line": {
          "color": "green",
          "width": 2
         },
         "mode": "lines",
         "showlegend": false,
         "type": "scatter3d",
         "x": [
          2,
          3
         ],
         "y": [
          5,
          5
         ],
         "z": [
          0,
          0
         ]
        },
        {
         "hoverinfo": "skip",
         "line": {
          "color": "green",
          "width": 2
         },
         "mode": "lines",
         "showlegend": false,
         "type": "scatter3d",
         "x": [
          2,
          4
         ],
         "y": [
          5,
          5
         ],
         "z": [
          0,
          0
         ]
        },
        {
         "hoverinfo": "skip",
         "line": {
          "color": "green",
          "width": 2
         },
         "mode": "lines",
         "showlegend": false,
         "type": "scatter3d",
         "x": [
          2,
          5
         ],
         "y": [
          5,
          5
         ],
         "z": [
          0,
          0
         ]
        },
        {
         "hoverinfo": "skip",
         "line": {
          "color": "green",
          "width": 2
         },
         "mode": "lines",
         "showlegend": false,
         "type": "scatter3d",
         "x": [
          2,
          2
         ],
         "y": [
          5,
          5
         ],
         "z": [
          1,
          2
         ]
        },
        {
         "hoverinfo": "skip",
         "line": {
          "color": "green",
          "width": 2
         },
         "mode": "lines",
         "showlegend": false,
         "type": "scatter3d",
         "x": [
          2,
          2
         ],
         "y": [
          5,
          5
         ],
         "z": [
          1,
          3
         ]
        },
        {
         "hoverinfo": "skip",
         "line": {
          "color": "green",
          "width": 2
         },
         "mode": "lines",
         "showlegend": false,
         "type": "scatter3d",
         "x": [
          2,
          2
         ],
         "y": [
          5,
          5
         ],
         "z": [
          1,
          4
         ]
        },
        {
         "hoverinfo": "skip",
         "line": {
          "color": "green",
          "width": 2
         },
         "mode": "lines",
         "showlegend": false,
         "type": "scatter3d",
         "x": [
          2,
          2
         ],
         "y": [
          5,
          5
         ],
         "z": [
          1,
          5
         ]
        },
        {
         "hoverinfo": "skip",
         "line": {
          "color": "green",
          "width": 2
         },
         "mode": "lines",
         "showlegend": false,
         "type": "scatter3d",
         "x": [
          2,
          2
         ],
         "y": [
          5,
          5
         ],
         "z": [
          1,
          6
         ]
        },
        {
         "hoverinfo": "skip",
         "line": {
          "color": "green",
          "width": 2
         },
         "mode": "lines",
         "showlegend": false,
         "type": "scatter3d",
         "x": [
          2,
          2
         ],
         "y": [
          5,
          5
         ],
         "z": [
          1,
          7
         ]
        },
        {
         "hoverinfo": "skip",
         "line": {
          "color": "green",
          "width": 2
         },
         "mode": "lines",
         "showlegend": false,
         "type": "scatter3d",
         "x": [
          2,
          3
         ],
         "y": [
          5,
          5
         ],
         "z": [
          1,
          1
         ]
        },
        {
         "hoverinfo": "skip",
         "line": {
          "color": "green",
          "width": 2
         },
         "mode": "lines",
         "showlegend": false,
         "type": "scatter3d",
         "x": [
          2,
          4
         ],
         "y": [
          5,
          5
         ],
         "z": [
          1,
          1
         ]
        },
        {
         "hoverinfo": "skip",
         "line": {
          "color": "green",
          "width": 2
         },
         "mode": "lines",
         "showlegend": false,
         "type": "scatter3d",
         "x": [
          2,
          5
         ],
         "y": [
          5,
          5
         ],
         "z": [
          1,
          1
         ]
        },
        {
         "hoverinfo": "skip",
         "line": {
          "color": "green",
          "width": 2
         },
         "mode": "lines",
         "showlegend": false,
         "type": "scatter3d",
         "x": [
          2,
          2
         ],
         "y": [
          5,
          5
         ],
         "z": [
          2,
          3
         ]
        },
        {
         "hoverinfo": "skip",
         "line": {
          "color": "green",
          "width": 2
         },
         "mode": "lines",
         "showlegend": false,
         "type": "scatter3d",
         "x": [
          2,
          2
         ],
         "y": [
          5,
          5
         ],
         "z": [
          2,
          4
         ]
        },
        {
         "hoverinfo": "skip",
         "line": {
          "color": "green",
          "width": 2
         },
         "mode": "lines",
         "showlegend": false,
         "type": "scatter3d",
         "x": [
          2,
          2
         ],
         "y": [
          5,
          5
         ],
         "z": [
          2,
          5
         ]
        },
        {
         "hoverinfo": "skip",
         "line": {
          "color": "green",
          "width": 2
         },
         "mode": "lines",
         "showlegend": false,
         "type": "scatter3d",
         "x": [
          2,
          2
         ],
         "y": [
          5,
          5
         ],
         "z": [
          2,
          6
         ]
        },
        {
         "hoverinfo": "skip",
         "line": {
          "color": "green",
          "width": 2
         },
         "mode": "lines",
         "showlegend": false,
         "type": "scatter3d",
         "x": [
          2,
          2
         ],
         "y": [
          5,
          5
         ],
         "z": [
          2,
          7
         ]
        },
        {
         "hoverinfo": "skip",
         "line": {
          "color": "green",
          "width": 2
         },
         "mode": "lines",
         "showlegend": false,
         "type": "scatter3d",
         "x": [
          2,
          3
         ],
         "y": [
          5,
          5
         ],
         "z": [
          2,
          2
         ]
        },
        {
         "hoverinfo": "skip",
         "line": {
          "color": "green",
          "width": 2
         },
         "mode": "lines",
         "showlegend": false,
         "type": "scatter3d",
         "x": [
          2,
          4
         ],
         "y": [
          5,
          5
         ],
         "z": [
          2,
          2
         ]
        },
        {
         "hoverinfo": "skip",
         "line": {
          "color": "green",
          "width": 2
         },
         "mode": "lines",
         "showlegend": false,
         "type": "scatter3d",
         "x": [
          2,
          5
         ],
         "y": [
          5,
          5
         ],
         "z": [
          2,
          2
         ]
        },
        {
         "hoverinfo": "skip",
         "line": {
          "color": "green",
          "width": 2
         },
         "mode": "lines",
         "showlegend": false,
         "type": "scatter3d",
         "x": [
          2,
          2
         ],
         "y": [
          5,
          5
         ],
         "z": [
          3,
          4
         ]
        },
        {
         "hoverinfo": "skip",
         "line": {
          "color": "green",
          "width": 2
         },
         "mode": "lines",
         "showlegend": false,
         "type": "scatter3d",
         "x": [
          2,
          2
         ],
         "y": [
          5,
          5
         ],
         "z": [
          3,
          5
         ]
        },
        {
         "hoverinfo": "skip",
         "line": {
          "color": "green",
          "width": 2
         },
         "mode": "lines",
         "showlegend": false,
         "type": "scatter3d",
         "x": [
          2,
          2
         ],
         "y": [
          5,
          5
         ],
         "z": [
          3,
          6
         ]
        },
        {
         "hoverinfo": "skip",
         "line": {
          "color": "green",
          "width": 2
         },
         "mode": "lines",
         "showlegend": false,
         "type": "scatter3d",
         "x": [
          2,
          2
         ],
         "y": [
          5,
          5
         ],
         "z": [
          3,
          7
         ]
        },
        {
         "hoverinfo": "skip",
         "line": {
          "color": "green",
          "width": 2
         },
         "mode": "lines",
         "showlegend": false,
         "type": "scatter3d",
         "x": [
          2,
          3
         ],
         "y": [
          5,
          5
         ],
         "z": [
          3,
          3
         ]
        },
        {
         "hoverinfo": "skip",
         "line": {
          "color": "green",
          "width": 2
         },
         "mode": "lines",
         "showlegend": false,
         "type": "scatter3d",
         "x": [
          2,
          4
         ],
         "y": [
          5,
          5
         ],
         "z": [
          3,
          3
         ]
        },
        {
         "hoverinfo": "skip",
         "line": {
          "color": "green",
          "width": 2
         },
         "mode": "lines",
         "showlegend": false,
         "type": "scatter3d",
         "x": [
          2,
          5
         ],
         "y": [
          5,
          5
         ],
         "z": [
          3,
          3
         ]
        },
        {
         "hoverinfo": "skip",
         "line": {
          "color": "green",
          "width": 2
         },
         "mode": "lines",
         "showlegend": false,
         "type": "scatter3d",
         "x": [
          2,
          2
         ],
         "y": [
          5,
          5
         ],
         "z": [
          4,
          5
         ]
        },
        {
         "hoverinfo": "skip",
         "line": {
          "color": "green",
          "width": 2
         },
         "mode": "lines",
         "showlegend": false,
         "type": "scatter3d",
         "x": [
          2,
          2
         ],
         "y": [
          5,
          5
         ],
         "z": [
          4,
          6
         ]
        },
        {
         "hoverinfo": "skip",
         "line": {
          "color": "green",
          "width": 2
         },
         "mode": "lines",
         "showlegend": false,
         "type": "scatter3d",
         "x": [
          2,
          2
         ],
         "y": [
          5,
          5
         ],
         "z": [
          4,
          7
         ]
        },
        {
         "hoverinfo": "skip",
         "line": {
          "color": "green",
          "width": 2
         },
         "mode": "lines",
         "showlegend": false,
         "type": "scatter3d",
         "x": [
          2,
          3
         ],
         "y": [
          5,
          5
         ],
         "z": [
          4,
          4
         ]
        },
        {
         "hoverinfo": "skip",
         "line": {
          "color": "green",
          "width": 2
         },
         "mode": "lines",
         "showlegend": false,
         "type": "scatter3d",
         "x": [
          2,
          4
         ],
         "y": [
          5,
          5
         ],
         "z": [
          4,
          4
         ]
        },
        {
         "hoverinfo": "skip",
         "line": {
          "color": "green",
          "width": 2
         },
         "mode": "lines",
         "showlegend": false,
         "type": "scatter3d",
         "x": [
          2,
          5
         ],
         "y": [
          5,
          5
         ],
         "z": [
          4,
          4
         ]
        },
        {
         "hoverinfo": "skip",
         "line": {
          "color": "green",
          "width": 2
         },
         "mode": "lines",
         "showlegend": false,
         "type": "scatter3d",
         "x": [
          2,
          2
         ],
         "y": [
          5,
          5
         ],
         "z": [
          5,
          6
         ]
        },
        {
         "hoverinfo": "skip",
         "line": {
          "color": "green",
          "width": 2
         },
         "mode": "lines",
         "showlegend": false,
         "type": "scatter3d",
         "x": [
          2,
          2
         ],
         "y": [
          5,
          5
         ],
         "z": [
          5,
          7
         ]
        },
        {
         "hoverinfo": "skip",
         "line": {
          "color": "green",
          "width": 2
         },
         "mode": "lines",
         "showlegend": false,
         "type": "scatter3d",
         "x": [
          2,
          3
         ],
         "y": [
          5,
          5
         ],
         "z": [
          5,
          5
         ]
        },
        {
         "hoverinfo": "skip",
         "line": {
          "color": "green",
          "width": 2
         },
         "mode": "lines",
         "showlegend": false,
         "type": "scatter3d",
         "x": [
          2,
          4
         ],
         "y": [
          5,
          5
         ],
         "z": [
          5,
          5
         ]
        },
        {
         "hoverinfo": "skip",
         "line": {
          "color": "green",
          "width": 2
         },
         "mode": "lines",
         "showlegend": false,
         "type": "scatter3d",
         "x": [
          2,
          5
         ],
         "y": [
          5,
          5
         ],
         "z": [
          5,
          5
         ]
        },
        {
         "hoverinfo": "skip",
         "line": {
          "color": "green",
          "width": 2
         },
         "mode": "lines",
         "showlegend": false,
         "type": "scatter3d",
         "x": [
          2,
          2
         ],
         "y": [
          5,
          5
         ],
         "z": [
          6,
          7
         ]
        },
        {
         "hoverinfo": "skip",
         "line": {
          "color": "green",
          "width": 2
         },
         "mode": "lines",
         "showlegend": false,
         "type": "scatter3d",
         "x": [
          2,
          3
         ],
         "y": [
          5,
          5
         ],
         "z": [
          6,
          6
         ]
        },
        {
         "hoverinfo": "skip",
         "line": {
          "color": "green",
          "width": 2
         },
         "mode": "lines",
         "showlegend": false,
         "type": "scatter3d",
         "x": [
          2,
          4
         ],
         "y": [
          5,
          5
         ],
         "z": [
          6,
          6
         ]
        },
        {
         "hoverinfo": "skip",
         "line": {
          "color": "green",
          "width": 2
         },
         "mode": "lines",
         "showlegend": false,
         "type": "scatter3d",
         "x": [
          2,
          5
         ],
         "y": [
          5,
          5
         ],
         "z": [
          6,
          6
         ]
        },
        {
         "hoverinfo": "skip",
         "line": {
          "color": "green",
          "width": 2
         },
         "mode": "lines",
         "showlegend": false,
         "type": "scatter3d",
         "x": [
          2,
          3
         ],
         "y": [
          5,
          5
         ],
         "z": [
          7,
          7
         ]
        },
        {
         "hoverinfo": "skip",
         "line": {
          "color": "green",
          "width": 2
         },
         "mode": "lines",
         "showlegend": false,
         "type": "scatter3d",
         "x": [
          2,
          4
         ],
         "y": [
          5,
          5
         ],
         "z": [
          7,
          7
         ]
        },
        {
         "hoverinfo": "skip",
         "line": {
          "color": "green",
          "width": 2
         },
         "mode": "lines",
         "showlegend": false,
         "type": "scatter3d",
         "x": [
          2,
          5
         ],
         "y": [
          5,
          5
         ],
         "z": [
          7,
          7
         ]
        },
        {
         "hoverinfo": "skip",
         "line": {
          "color": "green",
          "width": 2
         },
         "mode": "lines",
         "showlegend": false,
         "type": "scatter3d",
         "x": [
          3,
          3
         ],
         "y": [
          0,
          0
         ],
         "z": [
          0,
          1
         ]
        },
        {
         "hoverinfo": "skip",
         "line": {
          "color": "green",
          "width": 2
         },
         "mode": "lines",
         "showlegend": false,
         "type": "scatter3d",
         "x": [
          3,
          3
         ],
         "y": [
          0,
          0
         ],
         "z": [
          0,
          2
         ]
        },
        {
         "hoverinfo": "skip",
         "line": {
          "color": "green",
          "width": 2
         },
         "mode": "lines",
         "showlegend": false,
         "type": "scatter3d",
         "x": [
          3,
          3
         ],
         "y": [
          0,
          0
         ],
         "z": [
          0,
          3
         ]
        },
        {
         "hoverinfo": "skip",
         "line": {
          "color": "green",
          "width": 2
         },
         "mode": "lines",
         "showlegend": false,
         "type": "scatter3d",
         "x": [
          3,
          3
         ],
         "y": [
          0,
          0
         ],
         "z": [
          0,
          4
         ]
        },
        {
         "hoverinfo": "skip",
         "line": {
          "color": "green",
          "width": 2
         },
         "mode": "lines",
         "showlegend": false,
         "type": "scatter3d",
         "x": [
          3,
          3
         ],
         "y": [
          0,
          0
         ],
         "z": [
          0,
          5
         ]
        },
        {
         "hoverinfo": "skip",
         "line": {
          "color": "green",
          "width": 2
         },
         "mode": "lines",
         "showlegend": false,
         "type": "scatter3d",
         "x": [
          3,
          3
         ],
         "y": [
          0,
          0
         ],
         "z": [
          0,
          6
         ]
        },
        {
         "hoverinfo": "skip",
         "line": {
          "color": "green",
          "width": 2
         },
         "mode": "lines",
         "showlegend": false,
         "type": "scatter3d",
         "x": [
          3,
          3
         ],
         "y": [
          0,
          0
         ],
         "z": [
          0,
          7
         ]
        },
        {
         "hoverinfo": "skip",
         "line": {
          "color": "green",
          "width": 2
         },
         "mode": "lines",
         "showlegend": false,
         "type": "scatter3d",
         "x": [
          3,
          3
         ],
         "y": [
          0,
          1
         ],
         "z": [
          0,
          0
         ]
        },
        {
         "hoverinfo": "skip",
         "line": {
          "color": "green",
          "width": 2
         },
         "mode": "lines",
         "showlegend": false,
         "type": "scatter3d",
         "x": [
          3,
          3
         ],
         "y": [
          0,
          2
         ],
         "z": [
          0,
          0
         ]
        },
        {
         "hoverinfo": "skip",
         "line": {
          "color": "green",
          "width": 2
         },
         "mode": "lines",
         "showlegend": false,
         "type": "scatter3d",
         "x": [
          3,
          3
         ],
         "y": [
          0,
          3
         ],
         "z": [
          0,
          0
         ]
        },
        {
         "hoverinfo": "skip",
         "line": {
          "color": "green",
          "width": 2
         },
         "mode": "lines",
         "showlegend": false,
         "type": "scatter3d",
         "x": [
          3,
          3
         ],
         "y": [
          0,
          4
         ],
         "z": [
          0,
          0
         ]
        },
        {
         "hoverinfo": "skip",
         "line": {
          "color": "green",
          "width": 2
         },
         "mode": "lines",
         "showlegend": false,
         "type": "scatter3d",
         "x": [
          3,
          3
         ],
         "y": [
          0,
          5
         ],
         "z": [
          0,
          0
         ]
        },
        {
         "hoverinfo": "skip",
         "line": {
          "color": "green",
          "width": 2
         },
         "mode": "lines",
         "showlegend": false,
         "type": "scatter3d",
         "x": [
          3,
          4
         ],
         "y": [
          0,
          0
         ],
         "z": [
          0,
          0
         ]
        },
        {
         "hoverinfo": "skip",
         "line": {
          "color": "green",
          "width": 2
         },
         "mode": "lines",
         "showlegend": false,
         "type": "scatter3d",
         "x": [
          3,
          5
         ],
         "y": [
          0,
          0
         ],
         "z": [
          0,
          0
         ]
        },
        {
         "hoverinfo": "skip",
         "line": {
          "color": "green",
          "width": 2
         },
         "mode": "lines",
         "showlegend": false,
         "type": "scatter3d",
         "x": [
          3,
          3
         ],
         "y": [
          0,
          0
         ],
         "z": [
          1,
          2
         ]
        },
        {
         "hoverinfo": "skip",
         "line": {
          "color": "green",
          "width": 2
         },
         "mode": "lines",
         "showlegend": false,
         "type": "scatter3d",
         "x": [
          3,
          3
         ],
         "y": [
          0,
          0
         ],
         "z": [
          1,
          3
         ]
        },
        {
         "hoverinfo": "skip",
         "line": {
          "color": "green",
          "width": 2
         },
         "mode": "lines",
         "showlegend": false,
         "type": "scatter3d",
         "x": [
          3,
          3
         ],
         "y": [
          0,
          0
         ],
         "z": [
          1,
          4
         ]
        },
        {
         "hoverinfo": "skip",
         "line": {
          "color": "green",
          "width": 2
         },
         "mode": "lines",
         "showlegend": false,
         "type": "scatter3d",
         "x": [
          3,
          3
         ],
         "y": [
          0,
          0
         ],
         "z": [
          1,
          5
         ]
        },
        {
         "hoverinfo": "skip",
         "line": {
          "color": "green",
          "width": 2
         },
         "mode": "lines",
         "showlegend": false,
         "type": "scatter3d",
         "x": [
          3,
          3
         ],
         "y": [
          0,
          0
         ],
         "z": [
          1,
          6
         ]
        },
        {
         "hoverinfo": "skip",
         "line": {
          "color": "green",
          "width": 2
         },
         "mode": "lines",
         "showlegend": false,
         "type": "scatter3d",
         "x": [
          3,
          3
         ],
         "y": [
          0,
          0
         ],
         "z": [
          1,
          7
         ]
        },
        {
         "hoverinfo": "skip",
         "line": {
          "color": "green",
          "width": 2
         },
         "mode": "lines",
         "showlegend": false,
         "type": "scatter3d",
         "x": [
          3,
          3
         ],
         "y": [
          0,
          1
         ],
         "z": [
          1,
          1
         ]
        },
        {
         "hoverinfo": "skip",
         "line": {
          "color": "green",
          "width": 2
         },
         "mode": "lines",
         "showlegend": false,
         "type": "scatter3d",
         "x": [
          3,
          3
         ],
         "y": [
          0,
          2
         ],
         "z": [
          1,
          1
         ]
        },
        {
         "hoverinfo": "skip",
         "line": {
          "color": "green",
          "width": 2
         },
         "mode": "lines",
         "showlegend": false,
         "type": "scatter3d",
         "x": [
          3,
          3
         ],
         "y": [
          0,
          3
         ],
         "z": [
          1,
          1
         ]
        },
        {
         "hoverinfo": "skip",
         "line": {
          "color": "green",
          "width": 2
         },
         "mode": "lines",
         "showlegend": false,
         "type": "scatter3d",
         "x": [
          3,
          3
         ],
         "y": [
          0,
          4
         ],
         "z": [
          1,
          1
         ]
        },
        {
         "hoverinfo": "skip",
         "line": {
          "color": "green",
          "width": 2
         },
         "mode": "lines",
         "showlegend": false,
         "type": "scatter3d",
         "x": [
          3,
          3
         ],
         "y": [
          0,
          5
         ],
         "z": [
          1,
          1
         ]
        },
        {
         "hoverinfo": "skip",
         "line": {
          "color": "green",
          "width": 2
         },
         "mode": "lines",
         "showlegend": false,
         "type": "scatter3d",
         "x": [
          3,
          4
         ],
         "y": [
          0,
          0
         ],
         "z": [
          1,
          1
         ]
        },
        {
         "hoverinfo": "skip",
         "line": {
          "color": "green",
          "width": 2
         },
         "mode": "lines",
         "showlegend": false,
         "type": "scatter3d",
         "x": [
          3,
          5
         ],
         "y": [
          0,
          0
         ],
         "z": [
          1,
          1
         ]
        },
        {
         "hoverinfo": "skip",
         "line": {
          "color": "green",
          "width": 2
         },
         "mode": "lines",
         "showlegend": false,
         "type": "scatter3d",
         "x": [
          3,
          3
         ],
         "y": [
          0,
          0
         ],
         "z": [
          2,
          3
         ]
        },
        {
         "hoverinfo": "skip",
         "line": {
          "color": "green",
          "width": 2
         },
         "mode": "lines",
         "showlegend": false,
         "type": "scatter3d",
         "x": [
          3,
          3
         ],
         "y": [
          0,
          0
         ],
         "z": [
          2,
          4
         ]
        },
        {
         "hoverinfo": "skip",
         "line": {
          "color": "green",
          "width": 2
         },
         "mode": "lines",
         "showlegend": false,
         "type": "scatter3d",
         "x": [
          3,
          3
         ],
         "y": [
          0,
          0
         ],
         "z": [
          2,
          5
         ]
        },
        {
         "hoverinfo": "skip",
         "line": {
          "color": "green",
          "width": 2
         },
         "mode": "lines",
         "showlegend": false,
         "type": "scatter3d",
         "x": [
          3,
          3
         ],
         "y": [
          0,
          0
         ],
         "z": [
          2,
          6
         ]
        },
        {
         "hoverinfo": "skip",
         "line": {
          "color": "green",
          "width": 2
         },
         "mode": "lines",
         "showlegend": false,
         "type": "scatter3d",
         "x": [
          3,
          3
         ],
         "y": [
          0,
          0
         ],
         "z": [
          2,
          7
         ]
        },
        {
         "hoverinfo": "skip",
         "line": {
          "color": "green",
          "width": 2
         },
         "mode": "lines",
         "showlegend": false,
         "type": "scatter3d",
         "x": [
          3,
          3
         ],
         "y": [
          0,
          1
         ],
         "z": [
          2,
          2
         ]
        },
        {
         "hoverinfo": "skip",
         "line": {
          "color": "green",
          "width": 2
         },
         "mode": "lines",
         "showlegend": false,
         "type": "scatter3d",
         "x": [
          3,
          3
         ],
         "y": [
          0,
          2
         ],
         "z": [
          2,
          2
         ]
        },
        {
         "hoverinfo": "skip",
         "line": {
          "color": "green",
          "width": 2
         },
         "mode": "lines",
         "showlegend": false,
         "type": "scatter3d",
         "x": [
          3,
          3
         ],
         "y": [
          0,
          3
         ],
         "z": [
          2,
          2
         ]
        },
        {
         "hoverinfo": "skip",
         "line": {
          "color": "green",
          "width": 2
         },
         "mode": "lines",
         "showlegend": false,
         "type": "scatter3d",
         "x": [
          3,
          3
         ],
         "y": [
          0,
          4
         ],
         "z": [
          2,
          2
         ]
        },
        {
         "hoverinfo": "skip",
         "line": {
          "color": "green",
          "width": 2
         },
         "mode": "lines",
         "showlegend": false,
         "type": "scatter3d",
         "x": [
          3,
          3
         ],
         "y": [
          0,
          5
         ],
         "z": [
          2,
          2
         ]
        },
        {
         "hoverinfo": "skip",
         "line": {
          "color": "green",
          "width": 2
         },
         "mode": "lines",
         "showlegend": false,
         "type": "scatter3d",
         "x": [
          3,
          4
         ],
         "y": [
          0,
          0
         ],
         "z": [
          2,
          2
         ]
        },
        {
         "hoverinfo": "skip",
         "line": {
          "color": "green",
          "width": 2
         },
         "mode": "lines",
         "showlegend": false,
         "type": "scatter3d",
         "x": [
          3,
          5
         ],
         "y": [
          0,
          0
         ],
         "z": [
          2,
          2
         ]
        },
        {
         "hoverinfo": "skip",
         "line": {
          "color": "green",
          "width": 2
         },
         "mode": "lines",
         "showlegend": false,
         "type": "scatter3d",
         "x": [
          3,
          3
         ],
         "y": [
          0,
          0
         ],
         "z": [
          3,
          4
         ]
        },
        {
         "hoverinfo": "skip",
         "line": {
          "color": "green",
          "width": 2
         },
         "mode": "lines",
         "showlegend": false,
         "type": "scatter3d",
         "x": [
          3,
          3
         ],
         "y": [
          0,
          0
         ],
         "z": [
          3,
          5
         ]
        },
        {
         "hoverinfo": "skip",
         "line": {
          "color": "green",
          "width": 2
         },
         "mode": "lines",
         "showlegend": false,
         "type": "scatter3d",
         "x": [
          3,
          3
         ],
         "y": [
          0,
          0
         ],
         "z": [
          3,
          6
         ]
        },
        {
         "hoverinfo": "skip",
         "line": {
          "color": "green",
          "width": 2
         },
         "mode": "lines",
         "showlegend": false,
         "type": "scatter3d",
         "x": [
          3,
          3
         ],
         "y": [
          0,
          0
         ],
         "z": [
          3,
          7
         ]
        },
        {
         "hoverinfo": "skip",
         "line": {
          "color": "green",
          "width": 2
         },
         "mode": "lines",
         "showlegend": false,
         "type": "scatter3d",
         "x": [
          3,
          3
         ],
         "y": [
          0,
          1
         ],
         "z": [
          3,
          3
         ]
        },
        {
         "hoverinfo": "skip",
         "line": {
          "color": "green",
          "width": 2
         },
         "mode": "lines",
         "showlegend": false,
         "type": "scatter3d",
         "x": [
          3,
          3
         ],
         "y": [
          0,
          2
         ],
         "z": [
          3,
          3
         ]
        },
        {
         "hoverinfo": "skip",
         "line": {
          "color": "green",
          "width": 2
         },
         "mode": "lines",
         "showlegend": false,
         "type": "scatter3d",
         "x": [
          3,
          3
         ],
         "y": [
          0,
          3
         ],
         "z": [
          3,
          3
         ]
        },
        {
         "hoverinfo": "skip",
         "line": {
          "color": "green",
          "width": 2
         },
         "mode": "lines",
         "showlegend": false,
         "type": "scatter3d",
         "x": [
          3,
          3
         ],
         "y": [
          0,
          4
         ],
         "z": [
          3,
          3
         ]
        },
        {
         "hoverinfo": "skip",
         "line": {
          "color": "green",
          "width": 2
         },
         "mode": "lines",
         "showlegend": false,
         "type": "scatter3d",
         "x": [
          3,
          3
         ],
         "y": [
          0,
          5
         ],
         "z": [
          3,
          3
         ]
        },
        {
         "hoverinfo": "skip",
         "line": {
          "color": "green",
          "width": 2
         },
         "mode": "lines",
         "showlegend": false,
         "type": "scatter3d",
         "x": [
          3,
          4
         ],
         "y": [
          0,
          0
         ],
         "z": [
          3,
          3
         ]
        },
        {
         "hoverinfo": "skip",
         "line": {
          "color": "green",
          "width": 2
         },
         "mode": "lines",
         "showlegend": false,
         "type": "scatter3d",
         "x": [
          3,
          5
         ],
         "y": [
          0,
          0
         ],
         "z": [
          3,
          3
         ]
        },
        {
         "hoverinfo": "skip",
         "line": {
          "color": "green",
          "width": 2
         },
         "mode": "lines",
         "showlegend": false,
         "type": "scatter3d",
         "x": [
          3,
          3
         ],
         "y": [
          0,
          0
         ],
         "z": [
          4,
          5
         ]
        },
        {
         "hoverinfo": "skip",
         "line": {
          "color": "green",
          "width": 2
         },
         "mode": "lines",
         "showlegend": false,
         "type": "scatter3d",
         "x": [
          3,
          3
         ],
         "y": [
          0,
          0
         ],
         "z": [
          4,
          6
         ]
        },
        {
         "hoverinfo": "skip",
         "line": {
          "color": "green",
          "width": 2
         },
         "mode": "lines",
         "showlegend": false,
         "type": "scatter3d",
         "x": [
          3,
          3
         ],
         "y": [
          0,
          0
         ],
         "z": [
          4,
          7
         ]
        },
        {
         "hoverinfo": "skip",
         "line": {
          "color": "green",
          "width": 2
         },
         "mode": "lines",
         "showlegend": false,
         "type": "scatter3d",
         "x": [
          3,
          3
         ],
         "y": [
          0,
          1
         ],
         "z": [
          4,
          4
         ]
        },
        {
         "hoverinfo": "skip",
         "line": {
          "color": "green",
          "width": 2
         },
         "mode": "lines",
         "showlegend": false,
         "type": "scatter3d",
         "x": [
          3,
          3
         ],
         "y": [
          0,
          2
         ],
         "z": [
          4,
          4
         ]
        },
        {
         "hoverinfo": "skip",
         "line": {
          "color": "green",
          "width": 2
         },
         "mode": "lines",
         "showlegend": false,
         "type": "scatter3d",
         "x": [
          3,
          3
         ],
         "y": [
          0,
          3
         ],
         "z": [
          4,
          4
         ]
        },
        {
         "hoverinfo": "skip",
         "line": {
          "color": "green",
          "width": 2
         },
         "mode": "lines",
         "showlegend": false,
         "type": "scatter3d",
         "x": [
          3,
          3
         ],
         "y": [
          0,
          4
         ],
         "z": [
          4,
          4
         ]
        },
        {
         "hoverinfo": "skip",
         "line": {
          "color": "green",
          "width": 2
         },
         "mode": "lines",
         "showlegend": false,
         "type": "scatter3d",
         "x": [
          3,
          3
         ],
         "y": [
          0,
          5
         ],
         "z": [
          4,
          4
         ]
        },
        {
         "hoverinfo": "skip",
         "line": {
          "color": "green",
          "width": 2
         },
         "mode": "lines",
         "showlegend": false,
         "type": "scatter3d",
         "x": [
          3,
          4
         ],
         "y": [
          0,
          0
         ],
         "z": [
          4,
          4
         ]
        },
        {
         "hoverinfo": "skip",
         "line": {
          "color": "green",
          "width": 2
         },
         "mode": "lines",
         "showlegend": false,
         "type": "scatter3d",
         "x": [
          3,
          5
         ],
         "y": [
          0,
          0
         ],
         "z": [
          4,
          4
         ]
        },
        {
         "hoverinfo": "skip",
         "line": {
          "color": "green",
          "width": 2
         },
         "mode": "lines",
         "showlegend": false,
         "type": "scatter3d",
         "x": [
          3,
          3
         ],
         "y": [
          0,
          0
         ],
         "z": [
          5,
          6
         ]
        },
        {
         "hoverinfo": "skip",
         "line": {
          "color": "green",
          "width": 2
         },
         "mode": "lines",
         "showlegend": false,
         "type": "scatter3d",
         "x": [
          3,
          3
         ],
         "y": [
          0,
          0
         ],
         "z": [
          5,
          7
         ]
        },
        {
         "hoverinfo": "skip",
         "line": {
          "color": "green",
          "width": 2
         },
         "mode": "lines",
         "showlegend": false,
         "type": "scatter3d",
         "x": [
          3,
          3
         ],
         "y": [
          0,
          1
         ],
         "z": [
          5,
          5
         ]
        },
        {
         "hoverinfo": "skip",
         "line": {
          "color": "green",
          "width": 2
         },
         "mode": "lines",
         "showlegend": false,
         "type": "scatter3d",
         "x": [
          3,
          3
         ],
         "y": [
          0,
          2
         ],
         "z": [
          5,
          5
         ]
        },
        {
         "hoverinfo": "skip",
         "line": {
          "color": "green",
          "width": 2
         },
         "mode": "lines",
         "showlegend": false,
         "type": "scatter3d",
         "x": [
          3,
          3
         ],
         "y": [
          0,
          3
         ],
         "z": [
          5,
          5
         ]
        },
        {
         "hoverinfo": "skip",
         "line": {
          "color": "green",
          "width": 2
         },
         "mode": "lines",
         "showlegend": false,
         "type": "scatter3d",
         "x": [
          3,
          3
         ],
         "y": [
          0,
          4
         ],
         "z": [
          5,
          5
         ]
        },
        {
         "hoverinfo": "skip",
         "line": {
          "color": "green",
          "width": 2
         },
         "mode": "lines",
         "showlegend": false,
         "type": "scatter3d",
         "x": [
          3,
          3
         ],
         "y": [
          0,
          5
         ],
         "z": [
          5,
          5
         ]
        },
        {
         "hoverinfo": "skip",
         "line": {
          "color": "green",
          "width": 2
         },
         "mode": "lines",
         "showlegend": false,
         "type": "scatter3d",
         "x": [
          3,
          4
         ],
         "y": [
          0,
          0
         ],
         "z": [
          5,
          5
         ]
        },
        {
         "hoverinfo": "skip",
         "line": {
          "color": "green",
          "width": 2
         },
         "mode": "lines",
         "showlegend": false,
         "type": "scatter3d",
         "x": [
          3,
          5
         ],
         "y": [
          0,
          0
         ],
         "z": [
          5,
          5
         ]
        },
        {
         "hoverinfo": "skip",
         "line": {
          "color": "green",
          "width": 2
         },
         "mode": "lines",
         "showlegend": false,
         "type": "scatter3d",
         "x": [
          3,
          3
         ],
         "y": [
          0,
          0
         ],
         "z": [
          6,
          7
         ]
        },
        {
         "hoverinfo": "skip",
         "line": {
          "color": "green",
          "width": 2
         },
         "mode": "lines",
         "showlegend": false,
         "type": "scatter3d",
         "x": [
          3,
          3
         ],
         "y": [
          0,
          1
         ],
         "z": [
          6,
          6
         ]
        },
        {
         "hoverinfo": "skip",
         "line": {
          "color": "green",
          "width": 2
         },
         "mode": "lines",
         "showlegend": false,
         "type": "scatter3d",
         "x": [
          3,
          3
         ],
         "y": [
          0,
          2
         ],
         "z": [
          6,
          6
         ]
        },
        {
         "hoverinfo": "skip",
         "line": {
          "color": "green",
          "width": 2
         },
         "mode": "lines",
         "showlegend": false,
         "type": "scatter3d",
         "x": [
          3,
          3
         ],
         "y": [
          0,
          3
         ],
         "z": [
          6,
          6
         ]
        },
        {
         "hoverinfo": "skip",
         "line": {
          "color": "green",
          "width": 2
         },
         "mode": "lines",
         "showlegend": false,
         "type": "scatter3d",
         "x": [
          3,
          3
         ],
         "y": [
          0,
          4
         ],
         "z": [
          6,
          6
         ]
        },
        {
         "hoverinfo": "skip",
         "line": {
          "color": "green",
          "width": 2
         },
         "mode": "lines",
         "showlegend": false,
         "type": "scatter3d",
         "x": [
          3,
          3
         ],
         "y": [
          0,
          5
         ],
         "z": [
          6,
          6
         ]
        },
        {
         "hoverinfo": "skip",
         "line": {
          "color": "green",
          "width": 2
         },
         "mode": "lines",
         "showlegend": false,
         "type": "scatter3d",
         "x": [
          3,
          4
         ],
         "y": [
          0,
          0
         ],
         "z": [
          6,
          6
         ]
        },
        {
         "hoverinfo": "skip",
         "line": {
          "color": "green",
          "width": 2
         },
         "mode": "lines",
         "showlegend": false,
         "type": "scatter3d",
         "x": [
          3,
          5
         ],
         "y": [
          0,
          0
         ],
         "z": [
          6,
          6
         ]
        },
        {
         "hoverinfo": "skip",
         "line": {
          "color": "green",
          "width": 2
         },
         "mode": "lines",
         "showlegend": false,
         "type": "scatter3d",
         "x": [
          3,
          3
         ],
         "y": [
          0,
          1
         ],
         "z": [
          7,
          7
         ]
        },
        {
         "hoverinfo": "skip",
         "line": {
          "color": "green",
          "width": 2
         },
         "mode": "lines",
         "showlegend": false,
         "type": "scatter3d",
         "x": [
          3,
          3
         ],
         "y": [
          0,
          2
         ],
         "z": [
          7,
          7
         ]
        },
        {
         "hoverinfo": "skip",
         "line": {
          "color": "green",
          "width": 2
         },
         "mode": "lines",
         "showlegend": false,
         "type": "scatter3d",
         "x": [
          3,
          3
         ],
         "y": [
          0,
          3
         ],
         "z": [
          7,
          7
         ]
        },
        {
         "hoverinfo": "skip",
         "line": {
          "color": "green",
          "width": 2
         },
         "mode": "lines",
         "showlegend": false,
         "type": "scatter3d",
         "x": [
          3,
          3
         ],
         "y": [
          0,
          4
         ],
         "z": [
          7,
          7
         ]
        },
        {
         "hoverinfo": "skip",
         "line": {
          "color": "green",
          "width": 2
         },
         "mode": "lines",
         "showlegend": false,
         "type": "scatter3d",
         "x": [
          3,
          3
         ],
         "y": [
          0,
          5
         ],
         "z": [
          7,
          7
         ]
        },
        {
         "hoverinfo": "skip",
         "line": {
          "color": "green",
          "width": 2
         },
         "mode": "lines",
         "showlegend": false,
         "type": "scatter3d",
         "x": [
          3,
          4
         ],
         "y": [
          0,
          0
         ],
         "z": [
          7,
          7
         ]
        },
        {
         "hoverinfo": "skip",
         "line": {
          "color": "green",
          "width": 2
         },
         "mode": "lines",
         "showlegend": false,
         "type": "scatter3d",
         "x": [
          3,
          5
         ],
         "y": [
          0,
          0
         ],
         "z": [
          7,
          7
         ]
        },
        {
         "hoverinfo": "skip",
         "line": {
          "color": "green",
          "width": 2
         },
         "mode": "lines",
         "showlegend": false,
         "type": "scatter3d",
         "x": [
          3,
          3
         ],
         "y": [
          1,
          1
         ],
         "z": [
          0,
          1
         ]
        },
        {
         "hoverinfo": "skip",
         "line": {
          "color": "green",
          "width": 2
         },
         "mode": "lines",
         "showlegend": false,
         "type": "scatter3d",
         "x": [
          3,
          3
         ],
         "y": [
          1,
          1
         ],
         "z": [
          0,
          2
         ]
        },
        {
         "hoverinfo": "skip",
         "line": {
          "color": "green",
          "width": 2
         },
         "mode": "lines",
         "showlegend": false,
         "type": "scatter3d",
         "x": [
          3,
          3
         ],
         "y": [
          1,
          1
         ],
         "z": [
          0,
          3
         ]
        },
        {
         "hoverinfo": "skip",
         "line": {
          "color": "green",
          "width": 2
         },
         "mode": "lines",
         "showlegend": false,
         "type": "scatter3d",
         "x": [
          3,
          3
         ],
         "y": [
          1,
          1
         ],
         "z": [
          0,
          4
         ]
        },
        {
         "hoverinfo": "skip",
         "line": {
          "color": "green",
          "width": 2
         },
         "mode": "lines",
         "showlegend": false,
         "type": "scatter3d",
         "x": [
          3,
          3
         ],
         "y": [
          1,
          1
         ],
         "z": [
          0,
          5
         ]
        },
        {
         "hoverinfo": "skip",
         "line": {
          "color": "green",
          "width": 2
         },
         "mode": "lines",
         "showlegend": false,
         "type": "scatter3d",
         "x": [
          3,
          3
         ],
         "y": [
          1,
          1
         ],
         "z": [
          0,
          6
         ]
        },
        {
         "hoverinfo": "skip",
         "line": {
          "color": "green",
          "width": 2
         },
         "mode": "lines",
         "showlegend": false,
         "type": "scatter3d",
         "x": [
          3,
          3
         ],
         "y": [
          1,
          1
         ],
         "z": [
          0,
          7
         ]
        },
        {
         "hoverinfo": "skip",
         "line": {
          "color": "green",
          "width": 2
         },
         "mode": "lines",
         "showlegend": false,
         "type": "scatter3d",
         "x": [
          3,
          3
         ],
         "y": [
          1,
          2
         ],
         "z": [
          0,
          0
         ]
        },
        {
         "hoverinfo": "skip",
         "line": {
          "color": "green",
          "width": 2
         },
         "mode": "lines",
         "showlegend": false,
         "type": "scatter3d",
         "x": [
          3,
          3
         ],
         "y": [
          1,
          3
         ],
         "z": [
          0,
          0
         ]
        },
        {
         "hoverinfo": "skip",
         "line": {
          "color": "green",
          "width": 2
         },
         "mode": "lines",
         "showlegend": false,
         "type": "scatter3d",
         "x": [
          3,
          3
         ],
         "y": [
          1,
          4
         ],
         "z": [
          0,
          0
         ]
        },
        {
         "hoverinfo": "skip",
         "line": {
          "color": "green",
          "width": 2
         },
         "mode": "lines",
         "showlegend": false,
         "type": "scatter3d",
         "x": [
          3,
          3
         ],
         "y": [
          1,
          5
         ],
         "z": [
          0,
          0
         ]
        },
        {
         "hoverinfo": "skip",
         "line": {
          "color": "green",
          "width": 2
         },
         "mode": "lines",
         "showlegend": false,
         "type": "scatter3d",
         "x": [
          3,
          4
         ],
         "y": [
          1,
          1
         ],
         "z": [
          0,
          0
         ]
        },
        {
         "hoverinfo": "skip",
         "line": {
          "color": "green",
          "width": 2
         },
         "mode": "lines",
         "showlegend": false,
         "type": "scatter3d",
         "x": [
          3,
          5
         ],
         "y": [
          1,
          1
         ],
         "z": [
          0,
          0
         ]
        },
        {
         "hoverinfo": "skip",
         "line": {
          "color": "green",
          "width": 2
         },
         "mode": "lines",
         "showlegend": false,
         "type": "scatter3d",
         "x": [
          3,
          3
         ],
         "y": [
          1,
          1
         ],
         "z": [
          1,
          2
         ]
        },
        {
         "hoverinfo": "skip",
         "line": {
          "color": "green",
          "width": 2
         },
         "mode": "lines",
         "showlegend": false,
         "type": "scatter3d",
         "x": [
          3,
          3
         ],
         "y": [
          1,
          1
         ],
         "z": [
          1,
          3
         ]
        },
        {
         "hoverinfo": "skip",
         "line": {
          "color": "green",
          "width": 2
         },
         "mode": "lines",
         "showlegend": false,
         "type": "scatter3d",
         "x": [
          3,
          3
         ],
         "y": [
          1,
          1
         ],
         "z": [
          1,
          4
         ]
        },
        {
         "hoverinfo": "skip",
         "line": {
          "color": "green",
          "width": 2
         },
         "mode": "lines",
         "showlegend": false,
         "type": "scatter3d",
         "x": [
          3,
          3
         ],
         "y": [
          1,
          1
         ],
         "z": [
          1,
          5
         ]
        },
        {
         "hoverinfo": "skip",
         "line": {
          "color": "green",
          "width": 2
         },
         "mode": "lines",
         "showlegend": false,
         "type": "scatter3d",
         "x": [
          3,
          3
         ],
         "y": [
          1,
          1
         ],
         "z": [
          1,
          6
         ]
        },
        {
         "hoverinfo": "skip",
         "line": {
          "color": "green",
          "width": 2
         },
         "mode": "lines",
         "showlegend": false,
         "type": "scatter3d",
         "x": [
          3,
          3
         ],
         "y": [
          1,
          1
         ],
         "z": [
          1,
          7
         ]
        },
        {
         "hoverinfo": "skip",
         "line": {
          "color": "green",
          "width": 2
         },
         "mode": "lines",
         "showlegend": false,
         "type": "scatter3d",
         "x": [
          3,
          3
         ],
         "y": [
          1,
          2
         ],
         "z": [
          1,
          1
         ]
        },
        {
         "hoverinfo": "skip",
         "line": {
          "color": "green",
          "width": 2
         },
         "mode": "lines",
         "showlegend": false,
         "type": "scatter3d",
         "x": [
          3,
          3
         ],
         "y": [
          1,
          3
         ],
         "z": [
          1,
          1
         ]
        },
        {
         "hoverinfo": "skip",
         "line": {
          "color": "green",
          "width": 2
         },
         "mode": "lines",
         "showlegend": false,
         "type": "scatter3d",
         "x": [
          3,
          3
         ],
         "y": [
          1,
          4
         ],
         "z": [
          1,
          1
         ]
        },
        {
         "hoverinfo": "skip",
         "line": {
          "color": "green",
          "width": 2
         },
         "mode": "lines",
         "showlegend": false,
         "type": "scatter3d",
         "x": [
          3,
          3
         ],
         "y": [
          1,
          5
         ],
         "z": [
          1,
          1
         ]
        },
        {
         "hoverinfo": "skip",
         "line": {
          "color": "green",
          "width": 2
         },
         "mode": "lines",
         "showlegend": false,
         "type": "scatter3d",
         "x": [
          3,
          4
         ],
         "y": [
          1,
          1
         ],
         "z": [
          1,
          1
         ]
        },
        {
         "hoverinfo": "skip",
         "line": {
          "color": "green",
          "width": 2
         },
         "mode": "lines",
         "showlegend": false,
         "type": "scatter3d",
         "x": [
          3,
          5
         ],
         "y": [
          1,
          1
         ],
         "z": [
          1,
          1
         ]
        },
        {
         "hoverinfo": "skip",
         "line": {
          "color": "green",
          "width": 2
         },
         "mode": "lines",
         "showlegend": false,
         "type": "scatter3d",
         "x": [
          3,
          3
         ],
         "y": [
          1,
          1
         ],
         "z": [
          2,
          3
         ]
        },
        {
         "hoverinfo": "skip",
         "line": {
          "color": "green",
          "width": 2
         },
         "mode": "lines",
         "showlegend": false,
         "type": "scatter3d",
         "x": [
          3,
          3
         ],
         "y": [
          1,
          1
         ],
         "z": [
          2,
          4
         ]
        },
        {
         "hoverinfo": "skip",
         "line": {
          "color": "green",
          "width": 2
         },
         "mode": "lines",
         "showlegend": false,
         "type": "scatter3d",
         "x": [
          3,
          3
         ],
         "y": [
          1,
          1
         ],
         "z": [
          2,
          5
         ]
        },
        {
         "hoverinfo": "skip",
         "line": {
          "color": "green",
          "width": 2
         },
         "mode": "lines",
         "showlegend": false,
         "type": "scatter3d",
         "x": [
          3,
          3
         ],
         "y": [
          1,
          1
         ],
         "z": [
          2,
          6
         ]
        },
        {
         "hoverinfo": "skip",
         "line": {
          "color": "green",
          "width": 2
         },
         "mode": "lines",
         "showlegend": false,
         "type": "scatter3d",
         "x": [
          3,
          3
         ],
         "y": [
          1,
          1
         ],
         "z": [
          2,
          7
         ]
        },
        {
         "hoverinfo": "skip",
         "line": {
          "color": "green",
          "width": 2
         },
         "mode": "lines",
         "showlegend": false,
         "type": "scatter3d",
         "x": [
          3,
          3
         ],
         "y": [
          1,
          2
         ],
         "z": [
          2,
          2
         ]
        },
        {
         "hoverinfo": "skip",
         "line": {
          "color": "green",
          "width": 2
         },
         "mode": "lines",
         "showlegend": false,
         "type": "scatter3d",
         "x": [
          3,
          3
         ],
         "y": [
          1,
          3
         ],
         "z": [
          2,
          2
         ]
        },
        {
         "hoverinfo": "skip",
         "line": {
          "color": "green",
          "width": 2
         },
         "mode": "lines",
         "showlegend": false,
         "type": "scatter3d",
         "x": [
          3,
          3
         ],
         "y": [
          1,
          4
         ],
         "z": [
          2,
          2
         ]
        },
        {
         "hoverinfo": "skip",
         "line": {
          "color": "green",
          "width": 2
         },
         "mode": "lines",
         "showlegend": false,
         "type": "scatter3d",
         "x": [
          3,
          3
         ],
         "y": [
          1,
          5
         ],
         "z": [
          2,
          2
         ]
        },
        {
         "hoverinfo": "skip",
         "line": {
          "color": "green",
          "width": 2
         },
         "mode": "lines",
         "showlegend": false,
         "type": "scatter3d",
         "x": [
          3,
          4
         ],
         "y": [
          1,
          1
         ],
         "z": [
          2,
          2
         ]
        },
        {
         "hoverinfo": "skip",
         "line": {
          "color": "green",
          "width": 2
         },
         "mode": "lines",
         "showlegend": false,
         "type": "scatter3d",
         "x": [
          3,
          5
         ],
         "y": [
          1,
          1
         ],
         "z": [
          2,
          2
         ]
        },
        {
         "hoverinfo": "skip",
         "line": {
          "color": "green",
          "width": 2
         },
         "mode": "lines",
         "showlegend": false,
         "type": "scatter3d",
         "x": [
          3,
          3
         ],
         "y": [
          1,
          1
         ],
         "z": [
          3,
          4
         ]
        },
        {
         "hoverinfo": "skip",
         "line": {
          "color": "green",
          "width": 2
         },
         "mode": "lines",
         "showlegend": false,
         "type": "scatter3d",
         "x": [
          3,
          3
         ],
         "y": [
          1,
          1
         ],
         "z": [
          3,
          5
         ]
        },
        {
         "hoverinfo": "skip",
         "line": {
          "color": "green",
          "width": 2
         },
         "mode": "lines",
         "showlegend": false,
         "type": "scatter3d",
         "x": [
          3,
          3
         ],
         "y": [
          1,
          1
         ],
         "z": [
          3,
          6
         ]
        },
        {
         "hoverinfo": "skip",
         "line": {
          "color": "green",
          "width": 2
         },
         "mode": "lines",
         "showlegend": false,
         "type": "scatter3d",
         "x": [
          3,
          3
         ],
         "y": [
          1,
          1
         ],
         "z": [
          3,
          7
         ]
        },
        {
         "hoverinfo": "skip",
         "line": {
          "color": "green",
          "width": 2
         },
         "mode": "lines",
         "showlegend": false,
         "type": "scatter3d",
         "x": [
          3,
          3
         ],
         "y": [
          1,
          2
         ],
         "z": [
          3,
          3
         ]
        },
        {
         "hoverinfo": "skip",
         "line": {
          "color": "green",
          "width": 2
         },
         "mode": "lines",
         "showlegend": false,
         "type": "scatter3d",
         "x": [
          3,
          3
         ],
         "y": [
          1,
          3
         ],
         "z": [
          3,
          3
         ]
        },
        {
         "hoverinfo": "skip",
         "line": {
          "color": "green",
          "width": 2
         },
         "mode": "lines",
         "showlegend": false,
         "type": "scatter3d",
         "x": [
          3,
          3
         ],
         "y": [
          1,
          4
         ],
         "z": [
          3,
          3
         ]
        },
        {
         "hoverinfo": "skip",
         "line": {
          "color": "green",
          "width": 2
         },
         "mode": "lines",
         "showlegend": false,
         "type": "scatter3d",
         "x": [
          3,
          3
         ],
         "y": [
          1,
          5
         ],
         "z": [
          3,
          3
         ]
        },
        {
         "hoverinfo": "skip",
         "line": {
          "color": "green",
          "width": 2
         },
         "mode": "lines",
         "showlegend": false,
         "type": "scatter3d",
         "x": [
          3,
          4
         ],
         "y": [
          1,
          1
         ],
         "z": [
          3,
          3
         ]
        },
        {
         "hoverinfo": "skip",
         "line": {
          "color": "green",
          "width": 2
         },
         "mode": "lines",
         "showlegend": false,
         "type": "scatter3d",
         "x": [
          3,
          5
         ],
         "y": [
          1,
          1
         ],
         "z": [
          3,
          3
         ]
        },
        {
         "hoverinfo": "skip",
         "line": {
          "color": "green",
          "width": 2
         },
         "mode": "lines",
         "showlegend": false,
         "type": "scatter3d",
         "x": [
          3,
          3
         ],
         "y": [
          1,
          1
         ],
         "z": [
          4,
          5
         ]
        },
        {
         "hoverinfo": "skip",
         "line": {
          "color": "green",
          "width": 2
         },
         "mode": "lines",
         "showlegend": false,
         "type": "scatter3d",
         "x": [
          3,
          3
         ],
         "y": [
          1,
          1
         ],
         "z": [
          4,
          6
         ]
        },
        {
         "hoverinfo": "skip",
         "line": {
          "color": "green",
          "width": 2
         },
         "mode": "lines",
         "showlegend": false,
         "type": "scatter3d",
         "x": [
          3,
          3
         ],
         "y": [
          1,
          1
         ],
         "z": [
          4,
          7
         ]
        },
        {
         "hoverinfo": "skip",
         "line": {
          "color": "green",
          "width": 2
         },
         "mode": "lines",
         "showlegend": false,
         "type": "scatter3d",
         "x": [
          3,
          3
         ],
         "y": [
          1,
          2
         ],
         "z": [
          4,
          4
         ]
        },
        {
         "hoverinfo": "skip",
         "line": {
          "color": "green",
          "width": 2
         },
         "mode": "lines",
         "showlegend": false,
         "type": "scatter3d",
         "x": [
          3,
          3
         ],
         "y": [
          1,
          3
         ],
         "z": [
          4,
          4
         ]
        },
        {
         "hoverinfo": "skip",
         "line": {
          "color": "green",
          "width": 2
         },
         "mode": "lines",
         "showlegend": false,
         "type": "scatter3d",
         "x": [
          3,
          3
         ],
         "y": [
          1,
          4
         ],
         "z": [
          4,
          4
         ]
        },
        {
         "hoverinfo": "skip",
         "line": {
          "color": "green",
          "width": 2
         },
         "mode": "lines",
         "showlegend": false,
         "type": "scatter3d",
         "x": [
          3,
          3
         ],
         "y": [
          1,
          5
         ],
         "z": [
          4,
          4
         ]
        },
        {
         "hoverinfo": "skip",
         "line": {
          "color": "green",
          "width": 2
         },
         "mode": "lines",
         "showlegend": false,
         "type": "scatter3d",
         "x": [
          3,
          4
         ],
         "y": [
          1,
          1
         ],
         "z": [
          4,
          4
         ]
        },
        {
         "hoverinfo": "skip",
         "line": {
          "color": "green",
          "width": 2
         },
         "mode": "lines",
         "showlegend": false,
         "type": "scatter3d",
         "x": [
          3,
          5
         ],
         "y": [
          1,
          1
         ],
         "z": [
          4,
          4
         ]
        },
        {
         "hoverinfo": "skip",
         "line": {
          "color": "green",
          "width": 2
         },
         "mode": "lines",
         "showlegend": false,
         "type": "scatter3d",
         "x": [
          3,
          3
         ],
         "y": [
          1,
          1
         ],
         "z": [
          5,
          6
         ]
        },
        {
         "hoverinfo": "skip",
         "line": {
          "color": "green",
          "width": 2
         },
         "mode": "lines",
         "showlegend": false,
         "type": "scatter3d",
         "x": [
          3,
          3
         ],
         "y": [
          1,
          1
         ],
         "z": [
          5,
          7
         ]
        },
        {
         "hoverinfo": "skip",
         "line": {
          "color": "green",
          "width": 2
         },
         "mode": "lines",
         "showlegend": false,
         "type": "scatter3d",
         "x": [
          3,
          3
         ],
         "y": [
          1,
          2
         ],
         "z": [
          5,
          5
         ]
        },
        {
         "hoverinfo": "skip",
         "line": {
          "color": "green",
          "width": 2
         },
         "mode": "lines",
         "showlegend": false,
         "type": "scatter3d",
         "x": [
          3,
          3
         ],
         "y": [
          1,
          3
         ],
         "z": [
          5,
          5
         ]
        },
        {
         "hoverinfo": "skip",
         "line": {
          "color": "green",
          "width": 2
         },
         "mode": "lines",
         "showlegend": false,
         "type": "scatter3d",
         "x": [
          3,
          3
         ],
         "y": [
          1,
          4
         ],
         "z": [
          5,
          5
         ]
        },
        {
         "hoverinfo": "skip",
         "line": {
          "color": "green",
          "width": 2
         },
         "mode": "lines",
         "showlegend": false,
         "type": "scatter3d",
         "x": [
          3,
          3
         ],
         "y": [
          1,
          5
         ],
         "z": [
          5,
          5
         ]
        },
        {
         "hoverinfo": "skip",
         "line": {
          "color": "green",
          "width": 2
         },
         "mode": "lines",
         "showlegend": false,
         "type": "scatter3d",
         "x": [
          3,
          4
         ],
         "y": [
          1,
          1
         ],
         "z": [
          5,
          5
         ]
        },
        {
         "hoverinfo": "skip",
         "line": {
          "color": "green",
          "width": 2
         },
         "mode": "lines",
         "showlegend": false,
         "type": "scatter3d",
         "x": [
          3,
          5
         ],
         "y": [
          1,
          1
         ],
         "z": [
          5,
          5
         ]
        },
        {
         "hoverinfo": "skip",
         "line": {
          "color": "green",
          "width": 2
         },
         "mode": "lines",
         "showlegend": false,
         "type": "scatter3d",
         "x": [
          3,
          3
         ],
         "y": [
          1,
          1
         ],
         "z": [
          6,
          7
         ]
        },
        {
         "hoverinfo": "skip",
         "line": {
          "color": "green",
          "width": 2
         },
         "mode": "lines",
         "showlegend": false,
         "type": "scatter3d",
         "x": [
          3,
          3
         ],
         "y": [
          1,
          2
         ],
         "z": [
          6,
          6
         ]
        },
        {
         "hoverinfo": "skip",
         "line": {
          "color": "green",
          "width": 2
         },
         "mode": "lines",
         "showlegend": false,
         "type": "scatter3d",
         "x": [
          3,
          3
         ],
         "y": [
          1,
          3
         ],
         "z": [
          6,
          6
         ]
        },
        {
         "hoverinfo": "skip",
         "line": {
          "color": "green",
          "width": 2
         },
         "mode": "lines",
         "showlegend": false,
         "type": "scatter3d",
         "x": [
          3,
          3
         ],
         "y": [
          1,
          4
         ],
         "z": [
          6,
          6
         ]
        },
        {
         "hoverinfo": "skip",
         "line": {
          "color": "green",
          "width": 2
         },
         "mode": "lines",
         "showlegend": false,
         "type": "scatter3d",
         "x": [
          3,
          3
         ],
         "y": [
          1,
          5
         ],
         "z": [
          6,
          6
         ]
        },
        {
         "hoverinfo": "skip",
         "line": {
          "color": "green",
          "width": 2
         },
         "mode": "lines",
         "showlegend": false,
         "type": "scatter3d",
         "x": [
          3,
          4
         ],
         "y": [
          1,
          1
         ],
         "z": [
          6,
          6
         ]
        },
        {
         "hoverinfo": "skip",
         "line": {
          "color": "green",
          "width": 2
         },
         "mode": "lines",
         "showlegend": false,
         "type": "scatter3d",
         "x": [
          3,
          5
         ],
         "y": [
          1,
          1
         ],
         "z": [
          6,
          6
         ]
        },
        {
         "hoverinfo": "skip",
         "line": {
          "color": "green",
          "width": 2
         },
         "mode": "lines",
         "showlegend": false,
         "type": "scatter3d",
         "x": [
          3,
          3
         ],
         "y": [
          1,
          2
         ],
         "z": [
          7,
          7
         ]
        },
        {
         "hoverinfo": "skip",
         "line": {
          "color": "green",
          "width": 2
         },
         "mode": "lines",
         "showlegend": false,
         "type": "scatter3d",
         "x": [
          3,
          3
         ],
         "y": [
          1,
          3
         ],
         "z": [
          7,
          7
         ]
        },
        {
         "hoverinfo": "skip",
         "line": {
          "color": "green",
          "width": 2
         },
         "mode": "lines",
         "showlegend": false,
         "type": "scatter3d",
         "x": [
          3,
          3
         ],
         "y": [
          1,
          4
         ],
         "z": [
          7,
          7
         ]
        },
        {
         "hoverinfo": "skip",
         "line": {
          "color": "green",
          "width": 2
         },
         "mode": "lines",
         "showlegend": false,
         "type": "scatter3d",
         "x": [
          3,
          3
         ],
         "y": [
          1,
          5
         ],
         "z": [
          7,
          7
         ]
        },
        {
         "hoverinfo": "skip",
         "line": {
          "color": "green",
          "width": 2
         },
         "mode": "lines",
         "showlegend": false,
         "type": "scatter3d",
         "x": [
          3,
          4
         ],
         "y": [
          1,
          1
         ],
         "z": [
          7,
          7
         ]
        },
        {
         "hoverinfo": "skip",
         "line": {
          "color": "green",
          "width": 2
         },
         "mode": "lines",
         "showlegend": false,
         "type": "scatter3d",
         "x": [
          3,
          5
         ],
         "y": [
          1,
          1
         ],
         "z": [
          7,
          7
         ]
        },
        {
         "hoverinfo": "skip",
         "line": {
          "color": "green",
          "width": 2
         },
         "mode": "lines",
         "showlegend": false,
         "type": "scatter3d",
         "x": [
          3,
          3
         ],
         "y": [
          2,
          2
         ],
         "z": [
          0,
          1
         ]
        },
        {
         "hoverinfo": "skip",
         "line": {
          "color": "green",
          "width": 2
         },
         "mode": "lines",
         "showlegend": false,
         "type": "scatter3d",
         "x": [
          3,
          3
         ],
         "y": [
          2,
          2
         ],
         "z": [
          0,
          2
         ]
        },
        {
         "hoverinfo": "skip",
         "line": {
          "color": "green",
          "width": 2
         },
         "mode": "lines",
         "showlegend": false,
         "type": "scatter3d",
         "x": [
          3,
          3
         ],
         "y": [
          2,
          2
         ],
         "z": [
          0,
          3
         ]
        },
        {
         "hoverinfo": "skip",
         "line": {
          "color": "green",
          "width": 2
         },
         "mode": "lines",
         "showlegend": false,
         "type": "scatter3d",
         "x": [
          3,
          3
         ],
         "y": [
          2,
          2
         ],
         "z": [
          0,
          4
         ]
        },
        {
         "hoverinfo": "skip",
         "line": {
          "color": "green",
          "width": 2
         },
         "mode": "lines",
         "showlegend": false,
         "type": "scatter3d",
         "x": [
          3,
          3
         ],
         "y": [
          2,
          2
         ],
         "z": [
          0,
          5
         ]
        },
        {
         "hoverinfo": "skip",
         "line": {
          "color": "green",
          "width": 2
         },
         "mode": "lines",
         "showlegend": false,
         "type": "scatter3d",
         "x": [
          3,
          3
         ],
         "y": [
          2,
          2
         ],
         "z": [
          0,
          6
         ]
        },
        {
         "hoverinfo": "skip",
         "line": {
          "color": "green",
          "width": 2
         },
         "mode": "lines",
         "showlegend": false,
         "type": "scatter3d",
         "x": [
          3,
          3
         ],
         "y": [
          2,
          2
         ],
         "z": [
          0,
          7
         ]
        },
        {
         "hoverinfo": "skip",
         "line": {
          "color": "green",
          "width": 2
         },
         "mode": "lines",
         "showlegend": false,
         "type": "scatter3d",
         "x": [
          3,
          3
         ],
         "y": [
          2,
          3
         ],
         "z": [
          0,
          0
         ]
        },
        {
         "hoverinfo": "skip",
         "line": {
          "color": "green",
          "width": 2
         },
         "mode": "lines",
         "showlegend": false,
         "type": "scatter3d",
         "x": [
          3,
          3
         ],
         "y": [
          2,
          4
         ],
         "z": [
          0,
          0
         ]
        },
        {
         "hoverinfo": "skip",
         "line": {
          "color": "green",
          "width": 2
         },
         "mode": "lines",
         "showlegend": false,
         "type": "scatter3d",
         "x": [
          3,
          3
         ],
         "y": [
          2,
          5
         ],
         "z": [
          0,
          0
         ]
        },
        {
         "hoverinfo": "skip",
         "line": {
          "color": "green",
          "width": 2
         },
         "mode": "lines",
         "showlegend": false,
         "type": "scatter3d",
         "x": [
          3,
          4
         ],
         "y": [
          2,
          2
         ],
         "z": [
          0,
          0
         ]
        },
        {
         "hoverinfo": "skip",
         "line": {
          "color": "green",
          "width": 2
         },
         "mode": "lines",
         "showlegend": false,
         "type": "scatter3d",
         "x": [
          3,
          5
         ],
         "y": [
          2,
          2
         ],
         "z": [
          0,
          0
         ]
        },
        {
         "hoverinfo": "skip",
         "line": {
          "color": "green",
          "width": 2
         },
         "mode": "lines",
         "showlegend": false,
         "type": "scatter3d",
         "x": [
          3,
          3
         ],
         "y": [
          2,
          2
         ],
         "z": [
          1,
          2
         ]
        },
        {
         "hoverinfo": "skip",
         "line": {
          "color": "green",
          "width": 2
         },
         "mode": "lines",
         "showlegend": false,
         "type": "scatter3d",
         "x": [
          3,
          3
         ],
         "y": [
          2,
          2
         ],
         "z": [
          1,
          3
         ]
        },
        {
         "hoverinfo": "skip",
         "line": {
          "color": "green",
          "width": 2
         },
         "mode": "lines",
         "showlegend": false,
         "type": "scatter3d",
         "x": [
          3,
          3
         ],
         "y": [
          2,
          2
         ],
         "z": [
          1,
          4
         ]
        },
        {
         "hoverinfo": "skip",
         "line": {
          "color": "green",
          "width": 2
         },
         "mode": "lines",
         "showlegend": false,
         "type": "scatter3d",
         "x": [
          3,
          3
         ],
         "y": [
          2,
          2
         ],
         "z": [
          1,
          5
         ]
        },
        {
         "hoverinfo": "skip",
         "line": {
          "color": "green",
          "width": 2
         },
         "mode": "lines",
         "showlegend": false,
         "type": "scatter3d",
         "x": [
          3,
          3
         ],
         "y": [
          2,
          2
         ],
         "z": [
          1,
          6
         ]
        },
        {
         "hoverinfo": "skip",
         "line": {
          "color": "green",
          "width": 2
         },
         "mode": "lines",
         "showlegend": false,
         "type": "scatter3d",
         "x": [
          3,
          3
         ],
         "y": [
          2,
          2
         ],
         "z": [
          1,
          7
         ]
        },
        {
         "hoverinfo": "skip",
         "line": {
          "color": "green",
          "width": 2
         },
         "mode": "lines",
         "showlegend": false,
         "type": "scatter3d",
         "x": [
          3,
          3
         ],
         "y": [
          2,
          3
         ],
         "z": [
          1,
          1
         ]
        },
        {
         "hoverinfo": "skip",
         "line": {
          "color": "green",
          "width": 2
         },
         "mode": "lines",
         "showlegend": false,
         "type": "scatter3d",
         "x": [
          3,
          3
         ],
         "y": [
          2,
          4
         ],
         "z": [
          1,
          1
         ]
        },
        {
         "hoverinfo": "skip",
         "line": {
          "color": "green",
          "width": 2
         },
         "mode": "lines",
         "showlegend": false,
         "type": "scatter3d",
         "x": [
          3,
          3
         ],
         "y": [
          2,
          5
         ],
         "z": [
          1,
          1
         ]
        },
        {
         "hoverinfo": "skip",
         "line": {
          "color": "green",
          "width": 2
         },
         "mode": "lines",
         "showlegend": false,
         "type": "scatter3d",
         "x": [
          3,
          4
         ],
         "y": [
          2,
          2
         ],
         "z": [
          1,
          1
         ]
        },
        {
         "hoverinfo": "skip",
         "line": {
          "color": "green",
          "width": 2
         },
         "mode": "lines",
         "showlegend": false,
         "type": "scatter3d",
         "x": [
          3,
          5
         ],
         "y": [
          2,
          2
         ],
         "z": [
          1,
          1
         ]
        },
        {
         "hoverinfo": "skip",
         "line": {
          "color": "green",
          "width": 2
         },
         "mode": "lines",
         "showlegend": false,
         "type": "scatter3d",
         "x": [
          3,
          3
         ],
         "y": [
          2,
          2
         ],
         "z": [
          2,
          3
         ]
        },
        {
         "hoverinfo": "skip",
         "line": {
          "color": "green",
          "width": 2
         },
         "mode": "lines",
         "showlegend": false,
         "type": "scatter3d",
         "x": [
          3,
          3
         ],
         "y": [
          2,
          2
         ],
         "z": [
          2,
          4
         ]
        },
        {
         "hoverinfo": "skip",
         "line": {
          "color": "green",
          "width": 2
         },
         "mode": "lines",
         "showlegend": false,
         "type": "scatter3d",
         "x": [
          3,
          3
         ],
         "y": [
          2,
          2
         ],
         "z": [
          2,
          5
         ]
        },
        {
         "hoverinfo": "skip",
         "line": {
          "color": "green",
          "width": 2
         },
         "mode": "lines",
         "showlegend": false,
         "type": "scatter3d",
         "x": [
          3,
          3
         ],
         "y": [
          2,
          2
         ],
         "z": [
          2,
          6
         ]
        },
        {
         "hoverinfo": "skip",
         "line": {
          "color": "green",
          "width": 2
         },
         "mode": "lines",
         "showlegend": false,
         "type": "scatter3d",
         "x": [
          3,
          3
         ],
         "y": [
          2,
          2
         ],
         "z": [
          2,
          7
         ]
        },
        {
         "hoverinfo": "skip",
         "line": {
          "color": "green",
          "width": 2
         },
         "mode": "lines",
         "showlegend": false,
         "type": "scatter3d",
         "x": [
          3,
          3
         ],
         "y": [
          2,
          3
         ],
         "z": [
          2,
          2
         ]
        },
        {
         "hoverinfo": "skip",
         "line": {
          "color": "green",
          "width": 2
         },
         "mode": "lines",
         "showlegend": false,
         "type": "scatter3d",
         "x": [
          3,
          3
         ],
         "y": [
          2,
          4
         ],
         "z": [
          2,
          2
         ]
        },
        {
         "hoverinfo": "skip",
         "line": {
          "color": "green",
          "width": 2
         },
         "mode": "lines",
         "showlegend": false,
         "type": "scatter3d",
         "x": [
          3,
          3
         ],
         "y": [
          2,
          5
         ],
         "z": [
          2,
          2
         ]
        },
        {
         "hoverinfo": "skip",
         "line": {
          "color": "green",
          "width": 2
         },
         "mode": "lines",
         "showlegend": false,
         "type": "scatter3d",
         "x": [
          3,
          4
         ],
         "y": [
          2,
          2
         ],
         "z": [
          2,
          2
         ]
        },
        {
         "hoverinfo": "skip",
         "line": {
          "color": "green",
          "width": 2
         },
         "mode": "lines",
         "showlegend": false,
         "type": "scatter3d",
         "x": [
          3,
          5
         ],
         "y": [
          2,
          2
         ],
         "z": [
          2,
          2
         ]
        },
        {
         "hoverinfo": "skip",
         "line": {
          "color": "green",
          "width": 2
         },
         "mode": "lines",
         "showlegend": false,
         "type": "scatter3d",
         "x": [
          3,
          3
         ],
         "y": [
          2,
          2
         ],
         "z": [
          3,
          4
         ]
        },
        {
         "hoverinfo": "skip",
         "line": {
          "color": "green",
          "width": 2
         },
         "mode": "lines",
         "showlegend": false,
         "type": "scatter3d",
         "x": [
          3,
          3
         ],
         "y": [
          2,
          2
         ],
         "z": [
          3,
          5
         ]
        },
        {
         "hoverinfo": "skip",
         "line": {
          "color": "green",
          "width": 2
         },
         "mode": "lines",
         "showlegend": false,
         "type": "scatter3d",
         "x": [
          3,
          3
         ],
         "y": [
          2,
          2
         ],
         "z": [
          3,
          6
         ]
        },
        {
         "hoverinfo": "skip",
         "line": {
          "color": "green",
          "width": 2
         },
         "mode": "lines",
         "showlegend": false,
         "type": "scatter3d",
         "x": [
          3,
          3
         ],
         "y": [
          2,
          2
         ],
         "z": [
          3,
          7
         ]
        },
        {
         "hoverinfo": "skip",
         "line": {
          "color": "green",
          "width": 2
         },
         "mode": "lines",
         "showlegend": false,
         "type": "scatter3d",
         "x": [
          3,
          3
         ],
         "y": [
          2,
          3
         ],
         "z": [
          3,
          3
         ]
        },
        {
         "hoverinfo": "skip",
         "line": {
          "color": "green",
          "width": 2
         },
         "mode": "lines",
         "showlegend": false,
         "type": "scatter3d",
         "x": [
          3,
          3
         ],
         "y": [
          2,
          4
         ],
         "z": [
          3,
          3
         ]
        },
        {
         "hoverinfo": "skip",
         "line": {
          "color": "green",
          "width": 2
         },
         "mode": "lines",
         "showlegend": false,
         "type": "scatter3d",
         "x": [
          3,
          3
         ],
         "y": [
          2,
          5
         ],
         "z": [
          3,
          3
         ]
        },
        {
         "hoverinfo": "skip",
         "line": {
          "color": "green",
          "width": 2
         },
         "mode": "lines",
         "showlegend": false,
         "type": "scatter3d",
         "x": [
          3,
          4
         ],
         "y": [
          2,
          2
         ],
         "z": [
          3,
          3
         ]
        },
        {
         "hoverinfo": "skip",
         "line": {
          "color": "green",
          "width": 2
         },
         "mode": "lines",
         "showlegend": false,
         "type": "scatter3d",
         "x": [
          3,
          5
         ],
         "y": [
          2,
          2
         ],
         "z": [
          3,
          3
         ]
        },
        {
         "hoverinfo": "skip",
         "line": {
          "color": "green",
          "width": 2
         },
         "mode": "lines",
         "showlegend": false,
         "type": "scatter3d",
         "x": [
          3,
          3
         ],
         "y": [
          2,
          2
         ],
         "z": [
          4,
          5
         ]
        },
        {
         "hoverinfo": "skip",
         "line": {
          "color": "green",
          "width": 2
         },
         "mode": "lines",
         "showlegend": false,
         "type": "scatter3d",
         "x": [
          3,
          3
         ],
         "y": [
          2,
          2
         ],
         "z": [
          4,
          6
         ]
        },
        {
         "hoverinfo": "skip",
         "line": {
          "color": "green",
          "width": 2
         },
         "mode": "lines",
         "showlegend": false,
         "type": "scatter3d",
         "x": [
          3,
          3
         ],
         "y": [
          2,
          2
         ],
         "z": [
          4,
          7
         ]
        },
        {
         "hoverinfo": "skip",
         "line": {
          "color": "green",
          "width": 2
         },
         "mode": "lines",
         "showlegend": false,
         "type": "scatter3d",
         "x": [
          3,
          3
         ],
         "y": [
          2,
          3
         ],
         "z": [
          4,
          4
         ]
        },
        {
         "hoverinfo": "skip",
         "line": {
          "color": "green",
          "width": 2
         },
         "mode": "lines",
         "showlegend": false,
         "type": "scatter3d",
         "x": [
          3,
          3
         ],
         "y": [
          2,
          4
         ],
         "z": [
          4,
          4
         ]
        },
        {
         "hoverinfo": "skip",
         "line": {
          "color": "green",
          "width": 2
         },
         "mode": "lines",
         "showlegend": false,
         "type": "scatter3d",
         "x": [
          3,
          3
         ],
         "y": [
          2,
          5
         ],
         "z": [
          4,
          4
         ]
        },
        {
         "hoverinfo": "skip",
         "line": {
          "color": "green",
          "width": 2
         },
         "mode": "lines",
         "showlegend": false,
         "type": "scatter3d",
         "x": [
          3,
          4
         ],
         "y": [
          2,
          2
         ],
         "z": [
          4,
          4
         ]
        },
        {
         "hoverinfo": "skip",
         "line": {
          "color": "green",
          "width": 2
         },
         "mode": "lines",
         "showlegend": false,
         "type": "scatter3d",
         "x": [
          3,
          5
         ],
         "y": [
          2,
          2
         ],
         "z": [
          4,
          4
         ]
        },
        {
         "hoverinfo": "skip",
         "line": {
          "color": "green",
          "width": 2
         },
         "mode": "lines",
         "showlegend": false,
         "type": "scatter3d",
         "x": [
          3,
          3
         ],
         "y": [
          2,
          2
         ],
         "z": [
          5,
          6
         ]
        },
        {
         "hoverinfo": "skip",
         "line": {
          "color": "green",
          "width": 2
         },
         "mode": "lines",
         "showlegend": false,
         "type": "scatter3d",
         "x": [
          3,
          3
         ],
         "y": [
          2,
          2
         ],
         "z": [
          5,
          7
         ]
        },
        {
         "hoverinfo": "skip",
         "line": {
          "color": "green",
          "width": 2
         },
         "mode": "lines",
         "showlegend": false,
         "type": "scatter3d",
         "x": [
          3,
          3
         ],
         "y": [
          2,
          3
         ],
         "z": [
          5,
          5
         ]
        },
        {
         "hoverinfo": "skip",
         "line": {
          "color": "green",
          "width": 2
         },
         "mode": "lines",
         "showlegend": false,
         "type": "scatter3d",
         "x": [
          3,
          3
         ],
         "y": [
          2,
          4
         ],
         "z": [
          5,
          5
         ]
        },
        {
         "hoverinfo": "skip",
         "line": {
          "color": "green",
          "width": 2
         },
         "mode": "lines",
         "showlegend": false,
         "type": "scatter3d",
         "x": [
          3,
          3
         ],
         "y": [
          2,
          5
         ],
         "z": [
          5,
          5
         ]
        },
        {
         "hoverinfo": "skip",
         "line": {
          "color": "green",
          "width": 2
         },
         "mode": "lines",
         "showlegend": false,
         "type": "scatter3d",
         "x": [
          3,
          4
         ],
         "y": [
          2,
          2
         ],
         "z": [
          5,
          5
         ]
        },
        {
         "hoverinfo": "skip",
         "line": {
          "color": "green",
          "width": 2
         },
         "mode": "lines",
         "showlegend": false,
         "type": "scatter3d",
         "x": [
          3,
          5
         ],
         "y": [
          2,
          2
         ],
         "z": [
          5,
          5
         ]
        },
        {
         "hoverinfo": "skip",
         "line": {
          "color": "green",
          "width": 2
         },
         "mode": "lines",
         "showlegend": false,
         "type": "scatter3d",
         "x": [
          3,
          3
         ],
         "y": [
          2,
          2
         ],
         "z": [
          6,
          7
         ]
        },
        {
         "hoverinfo": "skip",
         "line": {
          "color": "green",
          "width": 2
         },
         "mode": "lines",
         "showlegend": false,
         "type": "scatter3d",
         "x": [
          3,
          3
         ],
         "y": [
          2,
          3
         ],
         "z": [
          6,
          6
         ]
        },
        {
         "hoverinfo": "skip",
         "line": {
          "color": "green",
          "width": 2
         },
         "mode": "lines",
         "showlegend": false,
         "type": "scatter3d",
         "x": [
          3,
          3
         ],
         "y": [
          2,
          4
         ],
         "z": [
          6,
          6
         ]
        },
        {
         "hoverinfo": "skip",
         "line": {
          "color": "green",
          "width": 2
         },
         "mode": "lines",
         "showlegend": false,
         "type": "scatter3d",
         "x": [
          3,
          3
         ],
         "y": [
          2,
          5
         ],
         "z": [
          6,
          6
         ]
        },
        {
         "hoverinfo": "skip",
         "line": {
          "color": "green",
          "width": 2
         },
         "mode": "lines",
         "showlegend": false,
         "type": "scatter3d",
         "x": [
          3,
          4
         ],
         "y": [
          2,
          2
         ],
         "z": [
          6,
          6
         ]
        },
        {
         "hoverinfo": "skip",
         "line": {
          "color": "green",
          "width": 2
         },
         "mode": "lines",
         "showlegend": false,
         "type": "scatter3d",
         "x": [
          3,
          5
         ],
         "y": [
          2,
          2
         ],
         "z": [
          6,
          6
         ]
        },
        {
         "hoverinfo": "skip",
         "line": {
          "color": "green",
          "width": 2
         },
         "mode": "lines",
         "showlegend": false,
         "type": "scatter3d",
         "x": [
          3,
          3
         ],
         "y": [
          2,
          3
         ],
         "z": [
          7,
          7
         ]
        },
        {
         "hoverinfo": "skip",
         "line": {
          "color": "green",
          "width": 2
         },
         "mode": "lines",
         "showlegend": false,
         "type": "scatter3d",
         "x": [
          3,
          3
         ],
         "y": [
          2,
          4
         ],
         "z": [
          7,
          7
         ]
        },
        {
         "hoverinfo": "skip",
         "line": {
          "color": "green",
          "width": 2
         },
         "mode": "lines",
         "showlegend": false,
         "type": "scatter3d",
         "x": [
          3,
          3
         ],
         "y": [
          2,
          5
         ],
         "z": [
          7,
          7
         ]
        },
        {
         "hoverinfo": "skip",
         "line": {
          "color": "green",
          "width": 2
         },
         "mode": "lines",
         "showlegend": false,
         "type": "scatter3d",
         "x": [
          3,
          4
         ],
         "y": [
          2,
          2
         ],
         "z": [
          7,
          7
         ]
        },
        {
         "hoverinfo": "skip",
         "line": {
          "color": "green",
          "width": 2
         },
         "mode": "lines",
         "showlegend": false,
         "type": "scatter3d",
         "x": [
          3,
          5
         ],
         "y": [
          2,
          2
         ],
         "z": [
          7,
          7
         ]
        },
        {
         "hoverinfo": "skip",
         "line": {
          "color": "green",
          "width": 2
         },
         "mode": "lines",
         "showlegend": false,
         "type": "scatter3d",
         "x": [
          3,
          3
         ],
         "y": [
          3,
          3
         ],
         "z": [
          0,
          1
         ]
        },
        {
         "hoverinfo": "skip",
         "line": {
          "color": "green",
          "width": 2
         },
         "mode": "lines",
         "showlegend": false,
         "type": "scatter3d",
         "x": [
          3,
          3
         ],
         "y": [
          3,
          3
         ],
         "z": [
          0,
          2
         ]
        },
        {
         "hoverinfo": "skip",
         "line": {
          "color": "green",
          "width": 2
         },
         "mode": "lines",
         "showlegend": false,
         "type": "scatter3d",
         "x": [
          3,
          3
         ],
         "y": [
          3,
          3
         ],
         "z": [
          0,
          3
         ]
        },
        {
         "hoverinfo": "skip",
         "line": {
          "color": "green",
          "width": 2
         },
         "mode": "lines",
         "showlegend": false,
         "type": "scatter3d",
         "x": [
          3,
          3
         ],
         "y": [
          3,
          3
         ],
         "z": [
          0,
          4
         ]
        },
        {
         "hoverinfo": "skip",
         "line": {
          "color": "green",
          "width": 2
         },
         "mode": "lines",
         "showlegend": false,
         "type": "scatter3d",
         "x": [
          3,
          3
         ],
         "y": [
          3,
          3
         ],
         "z": [
          0,
          5
         ]
        },
        {
         "hoverinfo": "skip",
         "line": {
          "color": "green",
          "width": 2
         },
         "mode": "lines",
         "showlegend": false,
         "type": "scatter3d",
         "x": [
          3,
          3
         ],
         "y": [
          3,
          3
         ],
         "z": [
          0,
          6
         ]
        },
        {
         "hoverinfo": "skip",
         "line": {
          "color": "green",
          "width": 2
         },
         "mode": "lines",
         "showlegend": false,
         "type": "scatter3d",
         "x": [
          3,
          3
         ],
         "y": [
          3,
          3
         ],
         "z": [
          0,
          7
         ]
        },
        {
         "hoverinfo": "skip",
         "line": {
          "color": "green",
          "width": 2
         },
         "mode": "lines",
         "showlegend": false,
         "type": "scatter3d",
         "x": [
          3,
          3
         ],
         "y": [
          3,
          4
         ],
         "z": [
          0,
          0
         ]
        },
        {
         "hoverinfo": "skip",
         "line": {
          "color": "green",
          "width": 2
         },
         "mode": "lines",
         "showlegend": false,
         "type": "scatter3d",
         "x": [
          3,
          3
         ],
         "y": [
          3,
          5
         ],
         "z": [
          0,
          0
         ]
        },
        {
         "hoverinfo": "skip",
         "line": {
          "color": "green",
          "width": 2
         },
         "mode": "lines",
         "showlegend": false,
         "type": "scatter3d",
         "x": [
          3,
          4
         ],
         "y": [
          3,
          3
         ],
         "z": [
          0,
          0
         ]
        },
        {
         "hoverinfo": "skip",
         "line": {
          "color": "green",
          "width": 2
         },
         "mode": "lines",
         "showlegend": false,
         "type": "scatter3d",
         "x": [
          3,
          5
         ],
         "y": [
          3,
          3
         ],
         "z": [
          0,
          0
         ]
        },
        {
         "hoverinfo": "skip",
         "line": {
          "color": "green",
          "width": 2
         },
         "mode": "lines",
         "showlegend": false,
         "type": "scatter3d",
         "x": [
          3,
          3
         ],
         "y": [
          3,
          3
         ],
         "z": [
          1,
          2
         ]
        },
        {
         "hoverinfo": "skip",
         "line": {
          "color": "green",
          "width": 2
         },
         "mode": "lines",
         "showlegend": false,
         "type": "scatter3d",
         "x": [
          3,
          3
         ],
         "y": [
          3,
          3
         ],
         "z": [
          1,
          3
         ]
        },
        {
         "hoverinfo": "skip",
         "line": {
          "color": "green",
          "width": 2
         },
         "mode": "lines",
         "showlegend": false,
         "type": "scatter3d",
         "x": [
          3,
          3
         ],
         "y": [
          3,
          3
         ],
         "z": [
          1,
          4
         ]
        },
        {
         "hoverinfo": "skip",
         "line": {
          "color": "green",
          "width": 2
         },
         "mode": "lines",
         "showlegend": false,
         "type": "scatter3d",
         "x": [
          3,
          3
         ],
         "y": [
          3,
          3
         ],
         "z": [
          1,
          5
         ]
        },
        {
         "hoverinfo": "skip",
         "line": {
          "color": "green",
          "width": 2
         },
         "mode": "lines",
         "showlegend": false,
         "type": "scatter3d",
         "x": [
          3,
          3
         ],
         "y": [
          3,
          3
         ],
         "z": [
          1,
          6
         ]
        },
        {
         "hoverinfo": "skip",
         "line": {
          "color": "green",
          "width": 2
         },
         "mode": "lines",
         "showlegend": false,
         "type": "scatter3d",
         "x": [
          3,
          3
         ],
         "y": [
          3,
          3
         ],
         "z": [
          1,
          7
         ]
        },
        {
         "hoverinfo": "skip",
         "line": {
          "color": "green",
          "width": 2
         },
         "mode": "lines",
         "showlegend": false,
         "type": "scatter3d",
         "x": [
          3,
          3
         ],
         "y": [
          3,
          4
         ],
         "z": [
          1,
          1
         ]
        },
        {
         "hoverinfo": "skip",
         "line": {
          "color": "green",
          "width": 2
         },
         "mode": "lines",
         "showlegend": false,
         "type": "scatter3d",
         "x": [
          3,
          3
         ],
         "y": [
          3,
          5
         ],
         "z": [
          1,
          1
         ]
        },
        {
         "hoverinfo": "skip",
         "line": {
          "color": "green",
          "width": 2
         },
         "mode": "lines",
         "showlegend": false,
         "type": "scatter3d",
         "x": [
          3,
          4
         ],
         "y": [
          3,
          3
         ],
         "z": [
          1,
          1
         ]
        },
        {
         "hoverinfo": "skip",
         "line": {
          "color": "green",
          "width": 2
         },
         "mode": "lines",
         "showlegend": false,
         "type": "scatter3d",
         "x": [
          3,
          5
         ],
         "y": [
          3,
          3
         ],
         "z": [
          1,
          1
         ]
        },
        {
         "hoverinfo": "skip",
         "line": {
          "color": "green",
          "width": 2
         },
         "mode": "lines",
         "showlegend": false,
         "type": "scatter3d",
         "x": [
          3,
          3
         ],
         "y": [
          3,
          3
         ],
         "z": [
          2,
          3
         ]
        },
        {
         "hoverinfo": "skip",
         "line": {
          "color": "green",
          "width": 2
         },
         "mode": "lines",
         "showlegend": false,
         "type": "scatter3d",
         "x": [
          3,
          3
         ],
         "y": [
          3,
          3
         ],
         "z": [
          2,
          4
         ]
        },
        {
         "hoverinfo": "skip",
         "line": {
          "color": "green",
          "width": 2
         },
         "mode": "lines",
         "showlegend": false,
         "type": "scatter3d",
         "x": [
          3,
          3
         ],
         "y": [
          3,
          3
         ],
         "z": [
          2,
          5
         ]
        },
        {
         "hoverinfo": "skip",
         "line": {
          "color": "green",
          "width": 2
         },
         "mode": "lines",
         "showlegend": false,
         "type": "scatter3d",
         "x": [
          3,
          3
         ],
         "y": [
          3,
          3
         ],
         "z": [
          2,
          6
         ]
        },
        {
         "hoverinfo": "skip",
         "line": {
          "color": "green",
          "width": 2
         },
         "mode": "lines",
         "showlegend": false,
         "type": "scatter3d",
         "x": [
          3,
          3
         ],
         "y": [
          3,
          3
         ],
         "z": [
          2,
          7
         ]
        },
        {
         "hoverinfo": "skip",
         "line": {
          "color": "green",
          "width": 2
         },
         "mode": "lines",
         "showlegend": false,
         "type": "scatter3d",
         "x": [
          3,
          3
         ],
         "y": [
          3,
          4
         ],
         "z": [
          2,
          2
         ]
        },
        {
         "hoverinfo": "skip",
         "line": {
          "color": "green",
          "width": 2
         },
         "mode": "lines",
         "showlegend": false,
         "type": "scatter3d",
         "x": [
          3,
          3
         ],
         "y": [
          3,
          5
         ],
         "z": [
          2,
          2
         ]
        },
        {
         "hoverinfo": "skip",
         "line": {
          "color": "green",
          "width": 2
         },
         "mode": "lines",
         "showlegend": false,
         "type": "scatter3d",
         "x": [
          3,
          4
         ],
         "y": [
          3,
          3
         ],
         "z": [
          2,
          2
         ]
        },
        {
         "hoverinfo": "skip",
         "line": {
          "color": "green",
          "width": 2
         },
         "mode": "lines",
         "showlegend": false,
         "type": "scatter3d",
         "x": [
          3,
          5
         ],
         "y": [
          3,
          3
         ],
         "z": [
          2,
          2
         ]
        },
        {
         "hoverinfo": "skip",
         "line": {
          "color": "green",
          "width": 2
         },
         "mode": "lines",
         "showlegend": false,
         "type": "scatter3d",
         "x": [
          3,
          3
         ],
         "y": [
          3,
          3
         ],
         "z": [
          3,
          4
         ]
        },
        {
         "hoverinfo": "skip",
         "line": {
          "color": "green",
          "width": 2
         },
         "mode": "lines",
         "showlegend": false,
         "type": "scatter3d",
         "x": [
          3,
          3
         ],
         "y": [
          3,
          3
         ],
         "z": [
          3,
          5
         ]
        },
        {
         "hoverinfo": "skip",
         "line": {
          "color": "green",
          "width": 2
         },
         "mode": "lines",
         "showlegend": false,
         "type": "scatter3d",
         "x": [
          3,
          3
         ],
         "y": [
          3,
          3
         ],
         "z": [
          3,
          6
         ]
        },
        {
         "hoverinfo": "skip",
         "line": {
          "color": "green",
          "width": 2
         },
         "mode": "lines",
         "showlegend": false,
         "type": "scatter3d",
         "x": [
          3,
          3
         ],
         "y": [
          3,
          3
         ],
         "z": [
          3,
          7
         ]
        },
        {
         "hoverinfo": "skip",
         "line": {
          "color": "green",
          "width": 2
         },
         "mode": "lines",
         "showlegend": false,
         "type": "scatter3d",
         "x": [
          3,
          3
         ],
         "y": [
          3,
          4
         ],
         "z": [
          3,
          3
         ]
        },
        {
         "hoverinfo": "skip",
         "line": {
          "color": "green",
          "width": 2
         },
         "mode": "lines",
         "showlegend": false,
         "type": "scatter3d",
         "x": [
          3,
          3
         ],
         "y": [
          3,
          5
         ],
         "z": [
          3,
          3
         ]
        },
        {
         "hoverinfo": "skip",
         "line": {
          "color": "green",
          "width": 2
         },
         "mode": "lines",
         "showlegend": false,
         "type": "scatter3d",
         "x": [
          3,
          4
         ],
         "y": [
          3,
          3
         ],
         "z": [
          3,
          3
         ]
        },
        {
         "hoverinfo": "skip",
         "line": {
          "color": "green",
          "width": 2
         },
         "mode": "lines",
         "showlegend": false,
         "type": "scatter3d",
         "x": [
          3,
          5
         ],
         "y": [
          3,
          3
         ],
         "z": [
          3,
          3
         ]
        },
        {
         "hoverinfo": "skip",
         "line": {
          "color": "green",
          "width": 2
         },
         "mode": "lines",
         "showlegend": false,
         "type": "scatter3d",
         "x": [
          3,
          3
         ],
         "y": [
          3,
          3
         ],
         "z": [
          4,
          5
         ]
        },
        {
         "hoverinfo": "skip",
         "line": {
          "color": "green",
          "width": 2
         },
         "mode": "lines",
         "showlegend": false,
         "type": "scatter3d",
         "x": [
          3,
          3
         ],
         "y": [
          3,
          3
         ],
         "z": [
          4,
          6
         ]
        },
        {
         "hoverinfo": "skip",
         "line": {
          "color": "green",
          "width": 2
         },
         "mode": "lines",
         "showlegend": false,
         "type": "scatter3d",
         "x": [
          3,
          3
         ],
         "y": [
          3,
          3
         ],
         "z": [
          4,
          7
         ]
        },
        {
         "hoverinfo": "skip",
         "line": {
          "color": "green",
          "width": 2
         },
         "mode": "lines",
         "showlegend": false,
         "type": "scatter3d",
         "x": [
          3,
          3
         ],
         "y": [
          3,
          4
         ],
         "z": [
          4,
          4
         ]
        },
        {
         "hoverinfo": "skip",
         "line": {
          "color": "green",
          "width": 2
         },
         "mode": "lines",
         "showlegend": false,
         "type": "scatter3d",
         "x": [
          3,
          3
         ],
         "y": [
          3,
          5
         ],
         "z": [
          4,
          4
         ]
        },
        {
         "hoverinfo": "skip",
         "line": {
          "color": "green",
          "width": 2
         },
         "mode": "lines",
         "showlegend": false,
         "type": "scatter3d",
         "x": [
          3,
          4
         ],
         "y": [
          3,
          3
         ],
         "z": [
          4,
          4
         ]
        },
        {
         "hoverinfo": "skip",
         "line": {
          "color": "green",
          "width": 2
         },
         "mode": "lines",
         "showlegend": false,
         "type": "scatter3d",
         "x": [
          3,
          5
         ],
         "y": [
          3,
          3
         ],
         "z": [
          4,
          4
         ]
        },
        {
         "hoverinfo": "skip",
         "line": {
          "color": "green",
          "width": 2
         },
         "mode": "lines",
         "showlegend": false,
         "type": "scatter3d",
         "x": [
          3,
          3
         ],
         "y": [
          3,
          3
         ],
         "z": [
          5,
          6
         ]
        },
        {
         "hoverinfo": "skip",
         "line": {
          "color": "green",
          "width": 2
         },
         "mode": "lines",
         "showlegend": false,
         "type": "scatter3d",
         "x": [
          3,
          3
         ],
         "y": [
          3,
          3
         ],
         "z": [
          5,
          7
         ]
        },
        {
         "hoverinfo": "skip",
         "line": {
          "color": "green",
          "width": 2
         },
         "mode": "lines",
         "showlegend": false,
         "type": "scatter3d",
         "x": [
          3,
          3
         ],
         "y": [
          3,
          4
         ],
         "z": [
          5,
          5
         ]
        },
        {
         "hoverinfo": "skip",
         "line": {
          "color": "green",
          "width": 2
         },
         "mode": "lines",
         "showlegend": false,
         "type": "scatter3d",
         "x": [
          3,
          3
         ],
         "y": [
          3,
          5
         ],
         "z": [
          5,
          5
         ]
        },
        {
         "hoverinfo": "skip",
         "line": {
          "color": "green",
          "width": 2
         },
         "mode": "lines",
         "showlegend": false,
         "type": "scatter3d",
         "x": [
          3,
          4
         ],
         "y": [
          3,
          3
         ],
         "z": [
          5,
          5
         ]
        },
        {
         "hoverinfo": "skip",
         "line": {
          "color": "green",
          "width": 2
         },
         "mode": "lines",
         "showlegend": false,
         "type": "scatter3d",
         "x": [
          3,
          5
         ],
         "y": [
          3,
          3
         ],
         "z": [
          5,
          5
         ]
        },
        {
         "hoverinfo": "skip",
         "line": {
          "color": "green",
          "width": 2
         },
         "mode": "lines",
         "showlegend": false,
         "type": "scatter3d",
         "x": [
          3,
          3
         ],
         "y": [
          3,
          3
         ],
         "z": [
          6,
          7
         ]
        },
        {
         "hoverinfo": "skip",
         "line": {
          "color": "green",
          "width": 2
         },
         "mode": "lines",
         "showlegend": false,
         "type": "scatter3d",
         "x": [
          3,
          3
         ],
         "y": [
          3,
          4
         ],
         "z": [
          6,
          6
         ]
        },
        {
         "hoverinfo": "skip",
         "line": {
          "color": "green",
          "width": 2
         },
         "mode": "lines",
         "showlegend": false,
         "type": "scatter3d",
         "x": [
          3,
          3
         ],
         "y": [
          3,
          5
         ],
         "z": [
          6,
          6
         ]
        },
        {
         "hoverinfo": "skip",
         "line": {
          "color": "green",
          "width": 2
         },
         "mode": "lines",
         "showlegend": false,
         "type": "scatter3d",
         "x": [
          3,
          4
         ],
         "y": [
          3,
          3
         ],
         "z": [
          6,
          6
         ]
        },
        {
         "hoverinfo": "skip",
         "line": {
          "color": "green",
          "width": 2
         },
         "mode": "lines",
         "showlegend": false,
         "type": "scatter3d",
         "x": [
          3,
          5
         ],
         "y": [
          3,
          3
         ],
         "z": [
          6,
          6
         ]
        },
        {
         "hoverinfo": "skip",
         "line": {
          "color": "green",
          "width": 2
         },
         "mode": "lines",
         "showlegend": false,
         "type": "scatter3d",
         "x": [
          3,
          3
         ],
         "y": [
          3,
          4
         ],
         "z": [
          7,
          7
         ]
        },
        {
         "hoverinfo": "skip",
         "line": {
          "color": "green",
          "width": 2
         },
         "mode": "lines",
         "showlegend": false,
         "type": "scatter3d",
         "x": [
          3,
          3
         ],
         "y": [
          3,
          5
         ],
         "z": [
          7,
          7
         ]
        },
        {
         "hoverinfo": "skip",
         "line": {
          "color": "green",
          "width": 2
         },
         "mode": "lines",
         "showlegend": false,
         "type": "scatter3d",
         "x": [
          3,
          4
         ],
         "y": [
          3,
          3
         ],
         "z": [
          7,
          7
         ]
        },
        {
         "hoverinfo": "skip",
         "line": {
          "color": "green",
          "width": 2
         },
         "mode": "lines",
         "showlegend": false,
         "type": "scatter3d",
         "x": [
          3,
          5
         ],
         "y": [
          3,
          3
         ],
         "z": [
          7,
          7
         ]
        },
        {
         "hoverinfo": "skip",
         "line": {
          "color": "green",
          "width": 2
         },
         "mode": "lines",
         "showlegend": false,
         "type": "scatter3d",
         "x": [
          3,
          3
         ],
         "y": [
          4,
          4
         ],
         "z": [
          0,
          1
         ]
        },
        {
         "hoverinfo": "skip",
         "line": {
          "color": "green",
          "width": 2
         },
         "mode": "lines",
         "showlegend": false,
         "type": "scatter3d",
         "x": [
          3,
          3
         ],
         "y": [
          4,
          4
         ],
         "z": [
          0,
          2
         ]
        },
        {
         "hoverinfo": "skip",
         "line": {
          "color": "green",
          "width": 2
         },
         "mode": "lines",
         "showlegend": false,
         "type": "scatter3d",
         "x": [
          3,
          3
         ],
         "y": [
          4,
          4
         ],
         "z": [
          0,
          3
         ]
        },
        {
         "hoverinfo": "skip",
         "line": {
          "color": "green",
          "width": 2
         },
         "mode": "lines",
         "showlegend": false,
         "type": "scatter3d",
         "x": [
          3,
          3
         ],
         "y": [
          4,
          4
         ],
         "z": [
          0,
          4
         ]
        },
        {
         "hoverinfo": "skip",
         "line": {
          "color": "green",
          "width": 2
         },
         "mode": "lines",
         "showlegend": false,
         "type": "scatter3d",
         "x": [
          3,
          3
         ],
         "y": [
          4,
          4
         ],
         "z": [
          0,
          5
         ]
        },
        {
         "hoverinfo": "skip",
         "line": {
          "color": "green",
          "width": 2
         },
         "mode": "lines",
         "showlegend": false,
         "type": "scatter3d",
         "x": [
          3,
          3
         ],
         "y": [
          4,
          4
         ],
         "z": [
          0,
          6
         ]
        },
        {
         "hoverinfo": "skip",
         "line": {
          "color": "green",
          "width": 2
         },
         "mode": "lines",
         "showlegend": false,
         "type": "scatter3d",
         "x": [
          3,
          3
         ],
         "y": [
          4,
          4
         ],
         "z": [
          0,
          7
         ]
        },
        {
         "hoverinfo": "skip",
         "line": {
          "color": "green",
          "width": 2
         },
         "mode": "lines",
         "showlegend": false,
         "type": "scatter3d",
         "x": [
          3,
          3
         ],
         "y": [
          4,
          5
         ],
         "z": [
          0,
          0
         ]
        },
        {
         "hoverinfo": "skip",
         "line": {
          "color": "green",
          "width": 2
         },
         "mode": "lines",
         "showlegend": false,
         "type": "scatter3d",
         "x": [
          3,
          4
         ],
         "y": [
          4,
          4
         ],
         "z": [
          0,
          0
         ]
        },
        {
         "hoverinfo": "skip",
         "line": {
          "color": "green",
          "width": 2
         },
         "mode": "lines",
         "showlegend": false,
         "type": "scatter3d",
         "x": [
          3,
          5
         ],
         "y": [
          4,
          4
         ],
         "z": [
          0,
          0
         ]
        },
        {
         "hoverinfo": "skip",
         "line": {
          "color": "green",
          "width": 2
         },
         "mode": "lines",
         "showlegend": false,
         "type": "scatter3d",
         "x": [
          3,
          3
         ],
         "y": [
          4,
          4
         ],
         "z": [
          1,
          2
         ]
        },
        {
         "hoverinfo": "skip",
         "line": {
          "color": "green",
          "width": 2
         },
         "mode": "lines",
         "showlegend": false,
         "type": "scatter3d",
         "x": [
          3,
          3
         ],
         "y": [
          4,
          4
         ],
         "z": [
          1,
          3
         ]
        },
        {
         "hoverinfo": "skip",
         "line": {
          "color": "green",
          "width": 2
         },
         "mode": "lines",
         "showlegend": false,
         "type": "scatter3d",
         "x": [
          3,
          3
         ],
         "y": [
          4,
          4
         ],
         "z": [
          1,
          4
         ]
        },
        {
         "hoverinfo": "skip",
         "line": {
          "color": "green",
          "width": 2
         },
         "mode": "lines",
         "showlegend": false,
         "type": "scatter3d",
         "x": [
          3,
          3
         ],
         "y": [
          4,
          4
         ],
         "z": [
          1,
          5
         ]
        },
        {
         "hoverinfo": "skip",
         "line": {
          "color": "green",
          "width": 2
         },
         "mode": "lines",
         "showlegend": false,
         "type": "scatter3d",
         "x": [
          3,
          3
         ],
         "y": [
          4,
          4
         ],
         "z": [
          1,
          6
         ]
        },
        {
         "hoverinfo": "skip",
         "line": {
          "color": "green",
          "width": 2
         },
         "mode": "lines",
         "showlegend": false,
         "type": "scatter3d",
         "x": [
          3,
          3
         ],
         "y": [
          4,
          4
         ],
         "z": [
          1,
          7
         ]
        },
        {
         "hoverinfo": "skip",
         "line": {
          "color": "green",
          "width": 2
         },
         "mode": "lines",
         "showlegend": false,
         "type": "scatter3d",
         "x": [
          3,
          3
         ],
         "y": [
          4,
          5
         ],
         "z": [
          1,
          1
         ]
        },
        {
         "hoverinfo": "skip",
         "line": {
          "color": "green",
          "width": 2
         },
         "mode": "lines",
         "showlegend": false,
         "type": "scatter3d",
         "x": [
          3,
          4
         ],
         "y": [
          4,
          4
         ],
         "z": [
          1,
          1
         ]
        },
        {
         "hoverinfo": "skip",
         "line": {
          "color": "green",
          "width": 2
         },
         "mode": "lines",
         "showlegend": false,
         "type": "scatter3d",
         "x": [
          3,
          5
         ],
         "y": [
          4,
          4
         ],
         "z": [
          1,
          1
         ]
        },
        {
         "hoverinfo": "skip",
         "line": {
          "color": "green",
          "width": 2
         },
         "mode": "lines",
         "showlegend": false,
         "type": "scatter3d",
         "x": [
          3,
          3
         ],
         "y": [
          4,
          4
         ],
         "z": [
          2,
          3
         ]
        },
        {
         "hoverinfo": "skip",
         "line": {
          "color": "green",
          "width": 2
         },
         "mode": "lines",
         "showlegend": false,
         "type": "scatter3d",
         "x": [
          3,
          3
         ],
         "y": [
          4,
          4
         ],
         "z": [
          2,
          4
         ]
        },
        {
         "hoverinfo": "skip",
         "line": {
          "color": "green",
          "width": 2
         },
         "mode": "lines",
         "showlegend": false,
         "type": "scatter3d",
         "x": [
          3,
          3
         ],
         "y": [
          4,
          4
         ],
         "z": [
          2,
          5
         ]
        },
        {
         "hoverinfo": "skip",
         "line": {
          "color": "green",
          "width": 2
         },
         "mode": "lines",
         "showlegend": false,
         "type": "scatter3d",
         "x": [
          3,
          3
         ],
         "y": [
          4,
          4
         ],
         "z": [
          2,
          6
         ]
        },
        {
         "hoverinfo": "skip",
         "line": {
          "color": "green",
          "width": 2
         },
         "mode": "lines",
         "showlegend": false,
         "type": "scatter3d",
         "x": [
          3,
          3
         ],
         "y": [
          4,
          4
         ],
         "z": [
          2,
          7
         ]
        },
        {
         "hoverinfo": "skip",
         "line": {
          "color": "green",
          "width": 2
         },
         "mode": "lines",
         "showlegend": false,
         "type": "scatter3d",
         "x": [
          3,
          3
         ],
         "y": [
          4,
          5
         ],
         "z": [
          2,
          2
         ]
        },
        {
         "hoverinfo": "skip",
         "line": {
          "color": "green",
          "width": 2
         },
         "mode": "lines",
         "showlegend": false,
         "type": "scatter3d",
         "x": [
          3,
          4
         ],
         "y": [
          4,
          4
         ],
         "z": [
          2,
          2
         ]
        },
        {
         "hoverinfo": "skip",
         "line": {
          "color": "green",
          "width": 2
         },
         "mode": "lines",
         "showlegend": false,
         "type": "scatter3d",
         "x": [
          3,
          5
         ],
         "y": [
          4,
          4
         ],
         "z": [
          2,
          2
         ]
        },
        {
         "hoverinfo": "skip",
         "line": {
          "color": "green",
          "width": 2
         },
         "mode": "lines",
         "showlegend": false,
         "type": "scatter3d",
         "x": [
          3,
          3
         ],
         "y": [
          4,
          4
         ],
         "z": [
          3,
          4
         ]
        },
        {
         "hoverinfo": "skip",
         "line": {
          "color": "green",
          "width": 2
         },
         "mode": "lines",
         "showlegend": false,
         "type": "scatter3d",
         "x": [
          3,
          3
         ],
         "y": [
          4,
          4
         ],
         "z": [
          3,
          5
         ]
        },
        {
         "hoverinfo": "skip",
         "line": {
          "color": "green",
          "width": 2
         },
         "mode": "lines",
         "showlegend": false,
         "type": "scatter3d",
         "x": [
          3,
          3
         ],
         "y": [
          4,
          4
         ],
         "z": [
          3,
          6
         ]
        },
        {
         "hoverinfo": "skip",
         "line": {
          "color": "green",
          "width": 2
         },
         "mode": "lines",
         "showlegend": false,
         "type": "scatter3d",
         "x": [
          3,
          3
         ],
         "y": [
          4,
          4
         ],
         "z": [
          3,
          7
         ]
        },
        {
         "hoverinfo": "skip",
         "line": {
          "color": "green",
          "width": 2
         },
         "mode": "lines",
         "showlegend": false,
         "type": "scatter3d",
         "x": [
          3,
          3
         ],
         "y": [
          4,
          5
         ],
         "z": [
          3,
          3
         ]
        },
        {
         "hoverinfo": "skip",
         "line": {
          "color": "green",
          "width": 2
         },
         "mode": "lines",
         "showlegend": false,
         "type": "scatter3d",
         "x": [
          3,
          4
         ],
         "y": [
          4,
          4
         ],
         "z": [
          3,
          3
         ]
        },
        {
         "hoverinfo": "skip",
         "line": {
          "color": "green",
          "width": 2
         },
         "mode": "lines",
         "showlegend": false,
         "type": "scatter3d",
         "x": [
          3,
          5
         ],
         "y": [
          4,
          4
         ],
         "z": [
          3,
          3
         ]
        },
        {
         "hoverinfo": "skip",
         "line": {
          "color": "green",
          "width": 2
         },
         "mode": "lines",
         "showlegend": false,
         "type": "scatter3d",
         "x": [
          3,
          3
         ],
         "y": [
          4,
          4
         ],
         "z": [
          4,
          5
         ]
        },
        {
         "hoverinfo": "skip",
         "line": {
          "color": "green",
          "width": 2
         },
         "mode": "lines",
         "showlegend": false,
         "type": "scatter3d",
         "x": [
          3,
          3
         ],
         "y": [
          4,
          4
         ],
         "z": [
          4,
          6
         ]
        },
        {
         "hoverinfo": "skip",
         "line": {
          "color": "green",
          "width": 2
         },
         "mode": "lines",
         "showlegend": false,
         "type": "scatter3d",
         "x": [
          3,
          3
         ],
         "y": [
          4,
          4
         ],
         "z": [
          4,
          7
         ]
        },
        {
         "hoverinfo": "skip",
         "line": {
          "color": "green",
          "width": 2
         },
         "mode": "lines",
         "showlegend": false,
         "type": "scatter3d",
         "x": [
          3,
          3
         ],
         "y": [
          4,
          5
         ],
         "z": [
          4,
          4
         ]
        },
        {
         "hoverinfo": "skip",
         "line": {
          "color": "green",
          "width": 2
         },
         "mode": "lines",
         "showlegend": false,
         "type": "scatter3d",
         "x": [
          3,
          4
         ],
         "y": [
          4,
          4
         ],
         "z": [
          4,
          4
         ]
        },
        {
         "hoverinfo": "skip",
         "line": {
          "color": "green",
          "width": 2
         },
         "mode": "lines",
         "showlegend": false,
         "type": "scatter3d",
         "x": [
          3,
          5
         ],
         "y": [
          4,
          4
         ],
         "z": [
          4,
          4
         ]
        },
        {
         "hoverinfo": "skip",
         "line": {
          "color": "green",
          "width": 2
         },
         "mode": "lines",
         "showlegend": false,
         "type": "scatter3d",
         "x": [
          3,
          3
         ],
         "y": [
          4,
          4
         ],
         "z": [
          5,
          6
         ]
        },
        {
         "hoverinfo": "skip",
         "line": {
          "color": "green",
          "width": 2
         },
         "mode": "lines",
         "showlegend": false,
         "type": "scatter3d",
         "x": [
          3,
          3
         ],
         "y": [
          4,
          4
         ],
         "z": [
          5,
          7
         ]
        },
        {
         "hoverinfo": "skip",
         "line": {
          "color": "green",
          "width": 2
         },
         "mode": "lines",
         "showlegend": false,
         "type": "scatter3d",
         "x": [
          3,
          3
         ],
         "y": [
          4,
          5
         ],
         "z": [
          5,
          5
         ]
        },
        {
         "hoverinfo": "skip",
         "line": {
          "color": "green",
          "width": 2
         },
         "mode": "lines",
         "showlegend": false,
         "type": "scatter3d",
         "x": [
          3,
          4
         ],
         "y": [
          4,
          4
         ],
         "z": [
          5,
          5
         ]
        },
        {
         "hoverinfo": "skip",
         "line": {
          "color": "green",
          "width": 2
         },
         "mode": "lines",
         "showlegend": false,
         "type": "scatter3d",
         "x": [
          3,
          5
         ],
         "y": [
          4,
          4
         ],
         "z": [
          5,
          5
         ]
        },
        {
         "hoverinfo": "skip",
         "line": {
          "color": "green",
          "width": 2
         },
         "mode": "lines",
         "showlegend": false,
         "type": "scatter3d",
         "x": [
          3,
          3
         ],
         "y": [
          4,
          4
         ],
         "z": [
          6,
          7
         ]
        },
        {
         "hoverinfo": "skip",
         "line": {
          "color": "green",
          "width": 2
         },
         "mode": "lines",
         "showlegend": false,
         "type": "scatter3d",
         "x": [
          3,
          3
         ],
         "y": [
          4,
          5
         ],
         "z": [
          6,
          6
         ]
        },
        {
         "hoverinfo": "skip",
         "line": {
          "color": "green",
          "width": 2
         },
         "mode": "lines",
         "showlegend": false,
         "type": "scatter3d",
         "x": [
          3,
          4
         ],
         "y": [
          4,
          4
         ],
         "z": [
          6,
          6
         ]
        },
        {
         "hoverinfo": "skip",
         "line": {
          "color": "green",
          "width": 2
         },
         "mode": "lines",
         "showlegend": false,
         "type": "scatter3d",
         "x": [
          3,
          5
         ],
         "y": [
          4,
          4
         ],
         "z": [
          6,
          6
         ]
        },
        {
         "hoverinfo": "skip",
         "line": {
          "color": "green",
          "width": 2
         },
         "mode": "lines",
         "showlegend": false,
         "type": "scatter3d",
         "x": [
          3,
          3
         ],
         "y": [
          4,
          5
         ],
         "z": [
          7,
          7
         ]
        },
        {
         "hoverinfo": "skip",
         "line": {
          "color": "green",
          "width": 2
         },
         "mode": "lines",
         "showlegend": false,
         "type": "scatter3d",
         "x": [
          3,
          4
         ],
         "y": [
          4,
          4
         ],
         "z": [
          7,
          7
         ]
        },
        {
         "hoverinfo": "skip",
         "line": {
          "color": "green",
          "width": 2
         },
         "mode": "lines",
         "showlegend": false,
         "type": "scatter3d",
         "x": [
          3,
          5
         ],
         "y": [
          4,
          4
         ],
         "z": [
          7,
          7
         ]
        },
        {
         "hoverinfo": "skip",
         "line": {
          "color": "green",
          "width": 2
         },
         "mode": "lines",
         "showlegend": false,
         "type": "scatter3d",
         "x": [
          3,
          3
         ],
         "y": [
          5,
          5
         ],
         "z": [
          0,
          1
         ]
        },
        {
         "hoverinfo": "skip",
         "line": {
          "color": "green",
          "width": 2
         },
         "mode": "lines",
         "showlegend": false,
         "type": "scatter3d",
         "x": [
          3,
          3
         ],
         "y": [
          5,
          5
         ],
         "z": [
          0,
          2
         ]
        },
        {
         "hoverinfo": "skip",
         "line": {
          "color": "green",
          "width": 2
         },
         "mode": "lines",
         "showlegend": false,
         "type": "scatter3d",
         "x": [
          3,
          3
         ],
         "y": [
          5,
          5
         ],
         "z": [
          0,
          3
         ]
        },
        {
         "hoverinfo": "skip",
         "line": {
          "color": "green",
          "width": 2
         },
         "mode": "lines",
         "showlegend": false,
         "type": "scatter3d",
         "x": [
          3,
          3
         ],
         "y": [
          5,
          5
         ],
         "z": [
          0,
          4
         ]
        },
        {
         "hoverinfo": "skip",
         "line": {
          "color": "green",
          "width": 2
         },
         "mode": "lines",
         "showlegend": false,
         "type": "scatter3d",
         "x": [
          3,
          3
         ],
         "y": [
          5,
          5
         ],
         "z": [
          0,
          5
         ]
        },
        {
         "hoverinfo": "skip",
         "line": {
          "color": "green",
          "width": 2
         },
         "mode": "lines",
         "showlegend": false,
         "type": "scatter3d",
         "x": [
          3,
          3
         ],
         "y": [
          5,
          5
         ],
         "z": [
          0,
          6
         ]
        },
        {
         "hoverinfo": "skip",
         "line": {
          "color": "green",
          "width": 2
         },
         "mode": "lines",
         "showlegend": false,
         "type": "scatter3d",
         "x": [
          3,
          3
         ],
         "y": [
          5,
          5
         ],
         "z": [
          0,
          7
         ]
        },
        {
         "hoverinfo": "skip",
         "line": {
          "color": "green",
          "width": 2
         },
         "mode": "lines",
         "showlegend": false,
         "type": "scatter3d",
         "x": [
          3,
          4
         ],
         "y": [
          5,
          5
         ],
         "z": [
          0,
          0
         ]
        },
        {
         "hoverinfo": "skip",
         "line": {
          "color": "green",
          "width": 2
         },
         "mode": "lines",
         "showlegend": false,
         "type": "scatter3d",
         "x": [
          3,
          5
         ],
         "y": [
          5,
          5
         ],
         "z": [
          0,
          0
         ]
        },
        {
         "hoverinfo": "skip",
         "line": {
          "color": "green",
          "width": 2
         },
         "mode": "lines",
         "showlegend": false,
         "type": "scatter3d",
         "x": [
          3,
          3
         ],
         "y": [
          5,
          5
         ],
         "z": [
          1,
          2
         ]
        },
        {
         "hoverinfo": "skip",
         "line": {
          "color": "green",
          "width": 2
         },
         "mode": "lines",
         "showlegend": false,
         "type": "scatter3d",
         "x": [
          3,
          3
         ],
         "y": [
          5,
          5
         ],
         "z": [
          1,
          3
         ]
        },
        {
         "hoverinfo": "skip",
         "line": {
          "color": "green",
          "width": 2
         },
         "mode": "lines",
         "showlegend": false,
         "type": "scatter3d",
         "x": [
          3,
          3
         ],
         "y": [
          5,
          5
         ],
         "z": [
          1,
          4
         ]
        },
        {
         "hoverinfo": "skip",
         "line": {
          "color": "green",
          "width": 2
         },
         "mode": "lines",
         "showlegend": false,
         "type": "scatter3d",
         "x": [
          3,
          3
         ],
         "y": [
          5,
          5
         ],
         "z": [
          1,
          5
         ]
        },
        {
         "hoverinfo": "skip",
         "line": {
          "color": "green",
          "width": 2
         },
         "mode": "lines",
         "showlegend": false,
         "type": "scatter3d",
         "x": [
          3,
          3
         ],
         "y": [
          5,
          5
         ],
         "z": [
          1,
          6
         ]
        },
        {
         "hoverinfo": "skip",
         "line": {
          "color": "green",
          "width": 2
         },
         "mode": "lines",
         "showlegend": false,
         "type": "scatter3d",
         "x": [
          3,
          3
         ],
         "y": [
          5,
          5
         ],
         "z": [
          1,
          7
         ]
        },
        {
         "hoverinfo": "skip",
         "line": {
          "color": "green",
          "width": 2
         },
         "mode": "lines",
         "showlegend": false,
         "type": "scatter3d",
         "x": [
          3,
          4
         ],
         "y": [
          5,
          5
         ],
         "z": [
          1,
          1
         ]
        },
        {
         "hoverinfo": "skip",
         "line": {
          "color": "green",
          "width": 2
         },
         "mode": "lines",
         "showlegend": false,
         "type": "scatter3d",
         "x": [
          3,
          5
         ],
         "y": [
          5,
          5
         ],
         "z": [
          1,
          1
         ]
        },
        {
         "hoverinfo": "skip",
         "line": {
          "color": "green",
          "width": 2
         },
         "mode": "lines",
         "showlegend": false,
         "type": "scatter3d",
         "x": [
          3,
          3
         ],
         "y": [
          5,
          5
         ],
         "z": [
          2,
          3
         ]
        },
        {
         "hoverinfo": "skip",
         "line": {
          "color": "green",
          "width": 2
         },
         "mode": "lines",
         "showlegend": false,
         "type": "scatter3d",
         "x": [
          3,
          3
         ],
         "y": [
          5,
          5
         ],
         "z": [
          2,
          4
         ]
        },
        {
         "hoverinfo": "skip",
         "line": {
          "color": "green",
          "width": 2
         },
         "mode": "lines",
         "showlegend": false,
         "type": "scatter3d",
         "x": [
          3,
          3
         ],
         "y": [
          5,
          5
         ],
         "z": [
          2,
          5
         ]
        },
        {
         "hoverinfo": "skip",
         "line": {
          "color": "green",
          "width": 2
         },
         "mode": "lines",
         "showlegend": false,
         "type": "scatter3d",
         "x": [
          3,
          3
         ],
         "y": [
          5,
          5
         ],
         "z": [
          2,
          6
         ]
        },
        {
         "hoverinfo": "skip",
         "line": {
          "color": "green",
          "width": 2
         },
         "mode": "lines",
         "showlegend": false,
         "type": "scatter3d",
         "x": [
          3,
          3
         ],
         "y": [
          5,
          5
         ],
         "z": [
          2,
          7
         ]
        },
        {
         "hoverinfo": "skip",
         "line": {
          "color": "green",
          "width": 2
         },
         "mode": "lines",
         "showlegend": false,
         "type": "scatter3d",
         "x": [
          3,
          4
         ],
         "y": [
          5,
          5
         ],
         "z": [
          2,
          2
         ]
        },
        {
         "hoverinfo": "skip",
         "line": {
          "color": "green",
          "width": 2
         },
         "mode": "lines",
         "showlegend": false,
         "type": "scatter3d",
         "x": [
          3,
          5
         ],
         "y": [
          5,
          5
         ],
         "z": [
          2,
          2
         ]
        },
        {
         "hoverinfo": "skip",
         "line": {
          "color": "green",
          "width": 2
         },
         "mode": "lines",
         "showlegend": false,
         "type": "scatter3d",
         "x": [
          3,
          3
         ],
         "y": [
          5,
          5
         ],
         "z": [
          3,
          4
         ]
        },
        {
         "hoverinfo": "skip",
         "line": {
          "color": "green",
          "width": 2
         },
         "mode": "lines",
         "showlegend": false,
         "type": "scatter3d",
         "x": [
          3,
          3
         ],
         "y": [
          5,
          5
         ],
         "z": [
          3,
          5
         ]
        },
        {
         "hoverinfo": "skip",
         "line": {
          "color": "green",
          "width": 2
         },
         "mode": "lines",
         "showlegend": false,
         "type": "scatter3d",
         "x": [
          3,
          3
         ],
         "y": [
          5,
          5
         ],
         "z": [
          3,
          6
         ]
        },
        {
         "hoverinfo": "skip",
         "line": {
          "color": "green",
          "width": 2
         },
         "mode": "lines",
         "showlegend": false,
         "type": "scatter3d",
         "x": [
          3,
          3
         ],
         "y": [
          5,
          5
         ],
         "z": [
          3,
          7
         ]
        },
        {
         "hoverinfo": "skip",
         "line": {
          "color": "green",
          "width": 2
         },
         "mode": "lines",
         "showlegend": false,
         "type": "scatter3d",
         "x": [
          3,
          4
         ],
         "y": [
          5,
          5
         ],
         "z": [
          3,
          3
         ]
        },
        {
         "hoverinfo": "skip",
         "line": {
          "color": "green",
          "width": 2
         },
         "mode": "lines",
         "showlegend": false,
         "type": "scatter3d",
         "x": [
          3,
          5
         ],
         "y": [
          5,
          5
         ],
         "z": [
          3,
          3
         ]
        },
        {
         "hoverinfo": "skip",
         "line": {
          "color": "green",
          "width": 2
         },
         "mode": "lines",
         "showlegend": false,
         "type": "scatter3d",
         "x": [
          3,
          3
         ],
         "y": [
          5,
          5
         ],
         "z": [
          4,
          5
         ]
        },
        {
         "hoverinfo": "skip",
         "line": {
          "color": "green",
          "width": 2
         },
         "mode": "lines",
         "showlegend": false,
         "type": "scatter3d",
         "x": [
          3,
          3
         ],
         "y": [
          5,
          5
         ],
         "z": [
          4,
          6
         ]
        },
        {
         "hoverinfo": "skip",
         "line": {
          "color": "green",
          "width": 2
         },
         "mode": "lines",
         "showlegend": false,
         "type": "scatter3d",
         "x": [
          3,
          3
         ],
         "y": [
          5,
          5
         ],
         "z": [
          4,
          7
         ]
        },
        {
         "hoverinfo": "skip",
         "line": {
          "color": "green",
          "width": 2
         },
         "mode": "lines",
         "showlegend": false,
         "type": "scatter3d",
         "x": [
          3,
          4
         ],
         "y": [
          5,
          5
         ],
         "z": [
          4,
          4
         ]
        },
        {
         "hoverinfo": "skip",
         "line": {
          "color": "green",
          "width": 2
         },
         "mode": "lines",
         "showlegend": false,
         "type": "scatter3d",
         "x": [
          3,
          5
         ],
         "y": [
          5,
          5
         ],
         "z": [
          4,
          4
         ]
        },
        {
         "hoverinfo": "skip",
         "line": {
          "color": "green",
          "width": 2
         },
         "mode": "lines",
         "showlegend": false,
         "type": "scatter3d",
         "x": [
          3,
          3
         ],
         "y": [
          5,
          5
         ],
         "z": [
          5,
          6
         ]
        },
        {
         "hoverinfo": "skip",
         "line": {
          "color": "green",
          "width": 2
         },
         "mode": "lines",
         "showlegend": false,
         "type": "scatter3d",
         "x": [
          3,
          3
         ],
         "y": [
          5,
          5
         ],
         "z": [
          5,
          7
         ]
        },
        {
         "hoverinfo": "skip",
         "line": {
          "color": "green",
          "width": 2
         },
         "mode": "lines",
         "showlegend": false,
         "type": "scatter3d",
         "x": [
          3,
          4
         ],
         "y": [
          5,
          5
         ],
         "z": [
          5,
          5
         ]
        },
        {
         "hoverinfo": "skip",
         "line": {
          "color": "green",
          "width": 2
         },
         "mode": "lines",
         "showlegend": false,
         "type": "scatter3d",
         "x": [
          3,
          5
         ],
         "y": [
          5,
          5
         ],
         "z": [
          5,
          5
         ]
        },
        {
         "hoverinfo": "skip",
         "line": {
          "color": "green",
          "width": 2
         },
         "mode": "lines",
         "showlegend": false,
         "type": "scatter3d",
         "x": [
          3,
          3
         ],
         "y": [
          5,
          5
         ],
         "z": [
          6,
          7
         ]
        },
        {
         "hoverinfo": "skip",
         "line": {
          "color": "green",
          "width": 2
         },
         "mode": "lines",
         "showlegend": false,
         "type": "scatter3d",
         "x": [
          3,
          4
         ],
         "y": [
          5,
          5
         ],
         "z": [
          6,
          6
         ]
        },
        {
         "hoverinfo": "skip",
         "line": {
          "color": "green",
          "width": 2
         },
         "mode": "lines",
         "showlegend": false,
         "type": "scatter3d",
         "x": [
          3,
          5
         ],
         "y": [
          5,
          5
         ],
         "z": [
          6,
          6
         ]
        },
        {
         "hoverinfo": "skip",
         "line": {
          "color": "green",
          "width": 2
         },
         "mode": "lines",
         "showlegend": false,
         "type": "scatter3d",
         "x": [
          3,
          4
         ],
         "y": [
          5,
          5
         ],
         "z": [
          7,
          7
         ]
        },
        {
         "hoverinfo": "skip",
         "line": {
          "color": "green",
          "width": 2
         },
         "mode": "lines",
         "showlegend": false,
         "type": "scatter3d",
         "x": [
          3,
          5
         ],
         "y": [
          5,
          5
         ],
         "z": [
          7,
          7
         ]
        },
        {
         "hoverinfo": "skip",
         "line": {
          "color": "green",
          "width": 2
         },
         "mode": "lines",
         "showlegend": false,
         "type": "scatter3d",
         "x": [
          4,
          4
         ],
         "y": [
          0,
          0
         ],
         "z": [
          0,
          1
         ]
        },
        {
         "hoverinfo": "skip",
         "line": {
          "color": "green",
          "width": 2
         },
         "mode": "lines",
         "showlegend": false,
         "type": "scatter3d",
         "x": [
          4,
          4
         ],
         "y": [
          0,
          0
         ],
         "z": [
          0,
          2
         ]
        },
        {
         "hoverinfo": "skip",
         "line": {
          "color": "green",
          "width": 2
         },
         "mode": "lines",
         "showlegend": false,
         "type": "scatter3d",
         "x": [
          4,
          4
         ],
         "y": [
          0,
          0
         ],
         "z": [
          0,
          3
         ]
        },
        {
         "hoverinfo": "skip",
         "line": {
          "color": "green",
          "width": 2
         },
         "mode": "lines",
         "showlegend": false,
         "type": "scatter3d",
         "x": [
          4,
          4
         ],
         "y": [
          0,
          0
         ],
         "z": [
          0,
          4
         ]
        },
        {
         "hoverinfo": "skip",
         "line": {
          "color": "green",
          "width": 2
         },
         "mode": "lines",
         "showlegend": false,
         "type": "scatter3d",
         "x": [
          4,
          4
         ],
         "y": [
          0,
          0
         ],
         "z": [
          0,
          5
         ]
        },
        {
         "hoverinfo": "skip",
         "line": {
          "color": "green",
          "width": 2
         },
         "mode": "lines",
         "showlegend": false,
         "type": "scatter3d",
         "x": [
          4,
          4
         ],
         "y": [
          0,
          0
         ],
         "z": [
          0,
          6
         ]
        },
        {
         "hoverinfo": "skip",
         "line": {
          "color": "green",
          "width": 2
         },
         "mode": "lines",
         "showlegend": false,
         "type": "scatter3d",
         "x": [
          4,
          4
         ],
         "y": [
          0,
          0
         ],
         "z": [
          0,
          7
         ]
        },
        {
         "hoverinfo": "skip",
         "line": {
          "color": "green",
          "width": 2
         },
         "mode": "lines",
         "showlegend": false,
         "type": "scatter3d",
         "x": [
          4,
          4
         ],
         "y": [
          0,
          1
         ],
         "z": [
          0,
          0
         ]
        },
        {
         "hoverinfo": "skip",
         "line": {
          "color": "green",
          "width": 2
         },
         "mode": "lines",
         "showlegend": false,
         "type": "scatter3d",
         "x": [
          4,
          4
         ],
         "y": [
          0,
          2
         ],
         "z": [
          0,
          0
         ]
        },
        {
         "hoverinfo": "skip",
         "line": {
          "color": "green",
          "width": 2
         },
         "mode": "lines",
         "showlegend": false,
         "type": "scatter3d",
         "x": [
          4,
          4
         ],
         "y": [
          0,
          3
         ],
         "z": [
          0,
          0
         ]
        },
        {
         "hoverinfo": "skip",
         "line": {
          "color": "green",
          "width": 2
         },
         "mode": "lines",
         "showlegend": false,
         "type": "scatter3d",
         "x": [
          4,
          4
         ],
         "y": [
          0,
          4
         ],
         "z": [
          0,
          0
         ]
        },
        {
         "hoverinfo": "skip",
         "line": {
          "color": "green",
          "width": 2
         },
         "mode": "lines",
         "showlegend": false,
         "type": "scatter3d",
         "x": [
          4,
          4
         ],
         "y": [
          0,
          5
         ],
         "z": [
          0,
          0
         ]
        },
        {
         "hoverinfo": "skip",
         "line": {
          "color": "green",
          "width": 2
         },
         "mode": "lines",
         "showlegend": false,
         "type": "scatter3d",
         "x": [
          4,
          5
         ],
         "y": [
          0,
          0
         ],
         "z": [
          0,
          0
         ]
        },
        {
         "hoverinfo": "skip",
         "line": {
          "color": "green",
          "width": 2
         },
         "mode": "lines",
         "showlegend": false,
         "type": "scatter3d",
         "x": [
          4,
          4
         ],
         "y": [
          0,
          0
         ],
         "z": [
          1,
          2
         ]
        },
        {
         "hoverinfo": "skip",
         "line": {
          "color": "green",
          "width": 2
         },
         "mode": "lines",
         "showlegend": false,
         "type": "scatter3d",
         "x": [
          4,
          4
         ],
         "y": [
          0,
          0
         ],
         "z": [
          1,
          3
         ]
        },
        {
         "hoverinfo": "skip",
         "line": {
          "color": "green",
          "width": 2
         },
         "mode": "lines",
         "showlegend": false,
         "type": "scatter3d",
         "x": [
          4,
          4
         ],
         "y": [
          0,
          0
         ],
         "z": [
          1,
          4
         ]
        },
        {
         "hoverinfo": "skip",
         "line": {
          "color": "green",
          "width": 2
         },
         "mode": "lines",
         "showlegend": false,
         "type": "scatter3d",
         "x": [
          4,
          4
         ],
         "y": [
          0,
          0
         ],
         "z": [
          1,
          5
         ]
        },
        {
         "hoverinfo": "skip",
         "line": {
          "color": "green",
          "width": 2
         },
         "mode": "lines",
         "showlegend": false,
         "type": "scatter3d",
         "x": [
          4,
          4
         ],
         "y": [
          0,
          0
         ],
         "z": [
          1,
          6
         ]
        },
        {
         "hoverinfo": "skip",
         "line": {
          "color": "green",
          "width": 2
         },
         "mode": "lines",
         "showlegend": false,
         "type": "scatter3d",
         "x": [
          4,
          4
         ],
         "y": [
          0,
          0
         ],
         "z": [
          1,
          7
         ]
        },
        {
         "hoverinfo": "skip",
         "line": {
          "color": "green",
          "width": 2
         },
         "mode": "lines",
         "showlegend": false,
         "type": "scatter3d",
         "x": [
          4,
          4
         ],
         "y": [
          0,
          1
         ],
         "z": [
          1,
          1
         ]
        },
        {
         "hoverinfo": "skip",
         "line": {
          "color": "green",
          "width": 2
         },
         "mode": "lines",
         "showlegend": false,
         "type": "scatter3d",
         "x": [
          4,
          4
         ],
         "y": [
          0,
          2
         ],
         "z": [
          1,
          1
         ]
        },
        {
         "hoverinfo": "skip",
         "line": {
          "color": "green",
          "width": 2
         },
         "mode": "lines",
         "showlegend": false,
         "type": "scatter3d",
         "x": [
          4,
          4
         ],
         "y": [
          0,
          3
         ],
         "z": [
          1,
          1
         ]
        },
        {
         "hoverinfo": "skip",
         "line": {
          "color": "green",
          "width": 2
         },
         "mode": "lines",
         "showlegend": false,
         "type": "scatter3d",
         "x": [
          4,
          4
         ],
         "y": [
          0,
          4
         ],
         "z": [
          1,
          1
         ]
        },
        {
         "hoverinfo": "skip",
         "line": {
          "color": "green",
          "width": 2
         },
         "mode": "lines",
         "showlegend": false,
         "type": "scatter3d",
         "x": [
          4,
          4
         ],
         "y": [
          0,
          5
         ],
         "z": [
          1,
          1
         ]
        },
        {
         "hoverinfo": "skip",
         "line": {
          "color": "green",
          "width": 2
         },
         "mode": "lines",
         "showlegend": false,
         "type": "scatter3d",
         "x": [
          4,
          5
         ],
         "y": [
          0,
          0
         ],
         "z": [
          1,
          1
         ]
        },
        {
         "hoverinfo": "skip",
         "line": {
          "color": "green",
          "width": 2
         },
         "mode": "lines",
         "showlegend": false,
         "type": "scatter3d",
         "x": [
          4,
          4
         ],
         "y": [
          0,
          0
         ],
         "z": [
          2,
          3
         ]
        },
        {
         "hoverinfo": "skip",
         "line": {
          "color": "green",
          "width": 2
         },
         "mode": "lines",
         "showlegend": false,
         "type": "scatter3d",
         "x": [
          4,
          4
         ],
         "y": [
          0,
          0
         ],
         "z": [
          2,
          4
         ]
        },
        {
         "hoverinfo": "skip",
         "line": {
          "color": "green",
          "width": 2
         },
         "mode": "lines",
         "showlegend": false,
         "type": "scatter3d",
         "x": [
          4,
          4
         ],
         "y": [
          0,
          0
         ],
         "z": [
          2,
          5
         ]
        },
        {
         "hoverinfo": "skip",
         "line": {
          "color": "green",
          "width": 2
         },
         "mode": "lines",
         "showlegend": false,
         "type": "scatter3d",
         "x": [
          4,
          4
         ],
         "y": [
          0,
          0
         ],
         "z": [
          2,
          6
         ]
        },
        {
         "hoverinfo": "skip",
         "line": {
          "color": "green",
          "width": 2
         },
         "mode": "lines",
         "showlegend": false,
         "type": "scatter3d",
         "x": [
          4,
          4
         ],
         "y": [
          0,
          0
         ],
         "z": [
          2,
          7
         ]
        },
        {
         "hoverinfo": "skip",
         "line": {
          "color": "green",
          "width": 2
         },
         "mode": "lines",
         "showlegend": false,
         "type": "scatter3d",
         "x": [
          4,
          4
         ],
         "y": [
          0,
          1
         ],
         "z": [
          2,
          2
         ]
        },
        {
         "hoverinfo": "skip",
         "line": {
          "color": "green",
          "width": 2
         },
         "mode": "lines",
         "showlegend": false,
         "type": "scatter3d",
         "x": [
          4,
          4
         ],
         "y": [
          0,
          2
         ],
         "z": [
          2,
          2
         ]
        },
        {
         "hoverinfo": "skip",
         "line": {
          "color": "green",
          "width": 2
         },
         "mode": "lines",
         "showlegend": false,
         "type": "scatter3d",
         "x": [
          4,
          4
         ],
         "y": [
          0,
          3
         ],
         "z": [
          2,
          2
         ]
        },
        {
         "hoverinfo": "skip",
         "line": {
          "color": "green",
          "width": 2
         },
         "mode": "lines",
         "showlegend": false,
         "type": "scatter3d",
         "x": [
          4,
          4
         ],
         "y": [
          0,
          4
         ],
         "z": [
          2,
          2
         ]
        },
        {
         "hoverinfo": "skip",
         "line": {
          "color": "green",
          "width": 2
         },
         "mode": "lines",
         "showlegend": false,
         "type": "scatter3d",
         "x": [
          4,
          4
         ],
         "y": [
          0,
          5
         ],
         "z": [
          2,
          2
         ]
        },
        {
         "hoverinfo": "skip",
         "line": {
          "color": "green",
          "width": 2
         },
         "mode": "lines",
         "showlegend": false,
         "type": "scatter3d",
         "x": [
          4,
          5
         ],
         "y": [
          0,
          0
         ],
         "z": [
          2,
          2
         ]
        },
        {
         "hoverinfo": "skip",
         "line": {
          "color": "green",
          "width": 2
         },
         "mode": "lines",
         "showlegend": false,
         "type": "scatter3d",
         "x": [
          4,
          4
         ],
         "y": [
          0,
          0
         ],
         "z": [
          3,
          4
         ]
        },
        {
         "hoverinfo": "skip",
         "line": {
          "color": "green",
          "width": 2
         },
         "mode": "lines",
         "showlegend": false,
         "type": "scatter3d",
         "x": [
          4,
          4
         ],
         "y": [
          0,
          0
         ],
         "z": [
          3,
          5
         ]
        },
        {
         "hoverinfo": "skip",
         "line": {
          "color": "green",
          "width": 2
         },
         "mode": "lines",
         "showlegend": false,
         "type": "scatter3d",
         "x": [
          4,
          4
         ],
         "y": [
          0,
          0
         ],
         "z": [
          3,
          6
         ]
        },
        {
         "hoverinfo": "skip",
         "line": {
          "color": "green",
          "width": 2
         },
         "mode": "lines",
         "showlegend": false,
         "type": "scatter3d",
         "x": [
          4,
          4
         ],
         "y": [
          0,
          0
         ],
         "z": [
          3,
          7
         ]
        },
        {
         "hoverinfo": "skip",
         "line": {
          "color": "green",
          "width": 2
         },
         "mode": "lines",
         "showlegend": false,
         "type": "scatter3d",
         "x": [
          4,
          4
         ],
         "y": [
          0,
          1
         ],
         "z": [
          3,
          3
         ]
        },
        {
         "hoverinfo": "skip",
         "line": {
          "color": "green",
          "width": 2
         },
         "mode": "lines",
         "showlegend": false,
         "type": "scatter3d",
         "x": [
          4,
          4
         ],
         "y": [
          0,
          2
         ],
         "z": [
          3,
          3
         ]
        },
        {
         "hoverinfo": "skip",
         "line": {
          "color": "green",
          "width": 2
         },
         "mode": "lines",
         "showlegend": false,
         "type": "scatter3d",
         "x": [
          4,
          4
         ],
         "y": [
          0,
          3
         ],
         "z": [
          3,
          3
         ]
        },
        {
         "hoverinfo": "skip",
         "line": {
          "color": "green",
          "width": 2
         },
         "mode": "lines",
         "showlegend": false,
         "type": "scatter3d",
         "x": [
          4,
          4
         ],
         "y": [
          0,
          4
         ],
         "z": [
          3,
          3
         ]
        },
        {
         "hoverinfo": "skip",
         "line": {
          "color": "green",
          "width": 2
         },
         "mode": "lines",
         "showlegend": false,
         "type": "scatter3d",
         "x": [
          4,
          4
         ],
         "y": [
          0,
          5
         ],
         "z": [
          3,
          3
         ]
        },
        {
         "hoverinfo": "skip",
         "line": {
          "color": "green",
          "width": 2
         },
         "mode": "lines",
         "showlegend": false,
         "type": "scatter3d",
         "x": [
          4,
          5
         ],
         "y": [
          0,
          0
         ],
         "z": [
          3,
          3
         ]
        },
        {
         "hoverinfo": "skip",
         "line": {
          "color": "green",
          "width": 2
         },
         "mode": "lines",
         "showlegend": false,
         "type": "scatter3d",
         "x": [
          4,
          4
         ],
         "y": [
          0,
          0
         ],
         "z": [
          4,
          5
         ]
        },
        {
         "hoverinfo": "skip",
         "line": {
          "color": "green",
          "width": 2
         },
         "mode": "lines",
         "showlegend": false,
         "type": "scatter3d",
         "x": [
          4,
          4
         ],
         "y": [
          0,
          0
         ],
         "z": [
          4,
          6
         ]
        },
        {
         "hoverinfo": "skip",
         "line": {
          "color": "green",
          "width": 2
         },
         "mode": "lines",
         "showlegend": false,
         "type": "scatter3d",
         "x": [
          4,
          4
         ],
         "y": [
          0,
          0
         ],
         "z": [
          4,
          7
         ]
        },
        {
         "hoverinfo": "skip",
         "line": {
          "color": "green",
          "width": 2
         },
         "mode": "lines",
         "showlegend": false,
         "type": "scatter3d",
         "x": [
          4,
          4
         ],
         "y": [
          0,
          1
         ],
         "z": [
          4,
          4
         ]
        },
        {
         "hoverinfo": "skip",
         "line": {
          "color": "green",
          "width": 2
         },
         "mode": "lines",
         "showlegend": false,
         "type": "scatter3d",
         "x": [
          4,
          4
         ],
         "y": [
          0,
          2
         ],
         "z": [
          4,
          4
         ]
        },
        {
         "hoverinfo": "skip",
         "line": {
          "color": "green",
          "width": 2
         },
         "mode": "lines",
         "showlegend": false,
         "type": "scatter3d",
         "x": [
          4,
          4
         ],
         "y": [
          0,
          3
         ],
         "z": [
          4,
          4
         ]
        },
        {
         "hoverinfo": "skip",
         "line": {
          "color": "green",
          "width": 2
         },
         "mode": "lines",
         "showlegend": false,
         "type": "scatter3d",
         "x": [
          4,
          4
         ],
         "y": [
          0,
          4
         ],
         "z": [
          4,
          4
         ]
        },
        {
         "hoverinfo": "skip",
         "line": {
          "color": "green",
          "width": 2
         },
         "mode": "lines",
         "showlegend": false,
         "type": "scatter3d",
         "x": [
          4,
          4
         ],
         "y": [
          0,
          5
         ],
         "z": [
          4,
          4
         ]
        },
        {
         "hoverinfo": "skip",
         "line": {
          "color": "green",
          "width": 2
         },
         "mode": "lines",
         "showlegend": false,
         "type": "scatter3d",
         "x": [
          4,
          5
         ],
         "y": [
          0,
          0
         ],
         "z": [
          4,
          4
         ]
        },
        {
         "hoverinfo": "skip",
         "line": {
          "color": "green",
          "width": 2
         },
         "mode": "lines",
         "showlegend": false,
         "type": "scatter3d",
         "x": [
          4,
          4
         ],
         "y": [
          0,
          0
         ],
         "z": [
          5,
          6
         ]
        },
        {
         "hoverinfo": "skip",
         "line": {
          "color": "green",
          "width": 2
         },
         "mode": "lines",
         "showlegend": false,
         "type": "scatter3d",
         "x": [
          4,
          4
         ],
         "y": [
          0,
          0
         ],
         "z": [
          5,
          7
         ]
        },
        {
         "hoverinfo": "skip",
         "line": {
          "color": "green",
          "width": 2
         },
         "mode": "lines",
         "showlegend": false,
         "type": "scatter3d",
         "x": [
          4,
          4
         ],
         "y": [
          0,
          1
         ],
         "z": [
          5,
          5
         ]
        },
        {
         "hoverinfo": "skip",
         "line": {
          "color": "green",
          "width": 2
         },
         "mode": "lines",
         "showlegend": false,
         "type": "scatter3d",
         "x": [
          4,
          4
         ],
         "y": [
          0,
          2
         ],
         "z": [
          5,
          5
         ]
        },
        {
         "hoverinfo": "skip",
         "line": {
          "color": "green",
          "width": 2
         },
         "mode": "lines",
         "showlegend": false,
         "type": "scatter3d",
         "x": [
          4,
          4
         ],
         "y": [
          0,
          3
         ],
         "z": [
          5,
          5
         ]
        },
        {
         "hoverinfo": "skip",
         "line": {
          "color": "green",
          "width": 2
         },
         "mode": "lines",
         "showlegend": false,
         "type": "scatter3d",
         "x": [
          4,
          4
         ],
         "y": [
          0,
          4
         ],
         "z": [
          5,
          5
         ]
        },
        {
         "hoverinfo": "skip",
         "line": {
          "color": "green",
          "width": 2
         },
         "mode": "lines",
         "showlegend": false,
         "type": "scatter3d",
         "x": [
          4,
          4
         ],
         "y": [
          0,
          5
         ],
         "z": [
          5,
          5
         ]
        },
        {
         "hoverinfo": "skip",
         "line": {
          "color": "green",
          "width": 2
         },
         "mode": "lines",
         "showlegend": false,
         "type": "scatter3d",
         "x": [
          4,
          5
         ],
         "y": [
          0,
          0
         ],
         "z": [
          5,
          5
         ]
        },
        {
         "hoverinfo": "skip",
         "line": {
          "color": "green",
          "width": 2
         },
         "mode": "lines",
         "showlegend": false,
         "type": "scatter3d",
         "x": [
          4,
          4
         ],
         "y": [
          0,
          0
         ],
         "z": [
          6,
          7
         ]
        },
        {
         "hoverinfo": "skip",
         "line": {
          "color": "green",
          "width": 2
         },
         "mode": "lines",
         "showlegend": false,
         "type": "scatter3d",
         "x": [
          4,
          4
         ],
         "y": [
          0,
          1
         ],
         "z": [
          6,
          6
         ]
        },
        {
         "hoverinfo": "skip",
         "line": {
          "color": "green",
          "width": 2
         },
         "mode": "lines",
         "showlegend": false,
         "type": "scatter3d",
         "x": [
          4,
          4
         ],
         "y": [
          0,
          2
         ],
         "z": [
          6,
          6
         ]
        },
        {
         "hoverinfo": "skip",
         "line": {
          "color": "green",
          "width": 2
         },
         "mode": "lines",
         "showlegend": false,
         "type": "scatter3d",
         "x": [
          4,
          4
         ],
         "y": [
          0,
          3
         ],
         "z": [
          6,
          6
         ]
        },
        {
         "hoverinfo": "skip",
         "line": {
          "color": "green",
          "width": 2
         },
         "mode": "lines",
         "showlegend": false,
         "type": "scatter3d",
         "x": [
          4,
          4
         ],
         "y": [
          0,
          4
         ],
         "z": [
          6,
          6
         ]
        },
        {
         "hoverinfo": "skip",
         "line": {
          "color": "green",
          "width": 2
         },
         "mode": "lines",
         "showlegend": false,
         "type": "scatter3d",
         "x": [
          4,
          4
         ],
         "y": [
          0,
          5
         ],
         "z": [
          6,
          6
         ]
        },
        {
         "hoverinfo": "skip",
         "line": {
          "color": "green",
          "width": 2
         },
         "mode": "lines",
         "showlegend": false,
         "type": "scatter3d",
         "x": [
          4,
          5
         ],
         "y": [
          0,
          0
         ],
         "z": [
          6,
          6
         ]
        },
        {
         "hoverinfo": "skip",
         "line": {
          "color": "green",
          "width": 2
         },
         "mode": "lines",
         "showlegend": false,
         "type": "scatter3d",
         "x": [
          4,
          4
         ],
         "y": [
          0,
          1
         ],
         "z": [
          7,
          7
         ]
        },
        {
         "hoverinfo": "skip",
         "line": {
          "color": "green",
          "width": 2
         },
         "mode": "lines",
         "showlegend": false,
         "type": "scatter3d",
         "x": [
          4,
          4
         ],
         "y": [
          0,
          2
         ],
         "z": [
          7,
          7
         ]
        },
        {
         "hoverinfo": "skip",
         "line": {
          "color": "green",
          "width": 2
         },
         "mode": "lines",
         "showlegend": false,
         "type": "scatter3d",
         "x": [
          4,
          4
         ],
         "y": [
          0,
          3
         ],
         "z": [
          7,
          7
         ]
        },
        {
         "hoverinfo": "skip",
         "line": {
          "color": "green",
          "width": 2
         },
         "mode": "lines",
         "showlegend": false,
         "type": "scatter3d",
         "x": [
          4,
          4
         ],
         "y": [
          0,
          4
         ],
         "z": [
          7,
          7
         ]
        },
        {
         "hoverinfo": "skip",
         "line": {
          "color": "green",
          "width": 2
         },
         "mode": "lines",
         "showlegend": false,
         "type": "scatter3d",
         "x": [
          4,
          4
         ],
         "y": [
          0,
          5
         ],
         "z": [
          7,
          7
         ]
        },
        {
         "hoverinfo": "skip",
         "line": {
          "color": "green",
          "width": 2
         },
         "mode": "lines",
         "showlegend": false,
         "type": "scatter3d",
         "x": [
          4,
          5
         ],
         "y": [
          0,
          0
         ],
         "z": [
          7,
          7
         ]
        },
        {
         "hoverinfo": "skip",
         "line": {
          "color": "green",
          "width": 2
         },
         "mode": "lines",
         "showlegend": false,
         "type": "scatter3d",
         "x": [
          4,
          4
         ],
         "y": [
          1,
          1
         ],
         "z": [
          0,
          1
         ]
        },
        {
         "hoverinfo": "skip",
         "line": {
          "color": "green",
          "width": 2
         },
         "mode": "lines",
         "showlegend": false,
         "type": "scatter3d",
         "x": [
          4,
          4
         ],
         "y": [
          1,
          1
         ],
         "z": [
          0,
          2
         ]
        },
        {
         "hoverinfo": "skip",
         "line": {
          "color": "green",
          "width": 2
         },
         "mode": "lines",
         "showlegend": false,
         "type": "scatter3d",
         "x": [
          4,
          4
         ],
         "y": [
          1,
          1
         ],
         "z": [
          0,
          3
         ]
        },
        {
         "hoverinfo": "skip",
         "line": {
          "color": "green",
          "width": 2
         },
         "mode": "lines",
         "showlegend": false,
         "type": "scatter3d",
         "x": [
          4,
          4
         ],
         "y": [
          1,
          1
         ],
         "z": [
          0,
          4
         ]
        },
        {
         "hoverinfo": "skip",
         "line": {
          "color": "green",
          "width": 2
         },
         "mode": "lines",
         "showlegend": false,
         "type": "scatter3d",
         "x": [
          4,
          4
         ],
         "y": [
          1,
          1
         ],
         "z": [
          0,
          5
         ]
        },
        {
         "hoverinfo": "skip",
         "line": {
          "color": "green",
          "width": 2
         },
         "mode": "lines",
         "showlegend": false,
         "type": "scatter3d",
         "x": [
          4,
          4
         ],
         "y": [
          1,
          1
         ],
         "z": [
          0,
          6
         ]
        },
        {
         "hoverinfo": "skip",
         "line": {
          "color": "green",
          "width": 2
         },
         "mode": "lines",
         "showlegend": false,
         "type": "scatter3d",
         "x": [
          4,
          4
         ],
         "y": [
          1,
          1
         ],
         "z": [
          0,
          7
         ]
        },
        {
         "hoverinfo": "skip",
         "line": {
          "color": "green",
          "width": 2
         },
         "mode": "lines",
         "showlegend": false,
         "type": "scatter3d",
         "x": [
          4,
          4
         ],
         "y": [
          1,
          2
         ],
         "z": [
          0,
          0
         ]
        },
        {
         "hoverinfo": "skip",
         "line": {
          "color": "green",
          "width": 2
         },
         "mode": "lines",
         "showlegend": false,
         "type": "scatter3d",
         "x": [
          4,
          4
         ],
         "y": [
          1,
          3
         ],
         "z": [
          0,
          0
         ]
        },
        {
         "hoverinfo": "skip",
         "line": {
          "color": "green",
          "width": 2
         },
         "mode": "lines",
         "showlegend": false,
         "type": "scatter3d",
         "x": [
          4,
          4
         ],
         "y": [
          1,
          4
         ],
         "z": [
          0,
          0
         ]
        },
        {
         "hoverinfo": "skip",
         "line": {
          "color": "green",
          "width": 2
         },
         "mode": "lines",
         "showlegend": false,
         "type": "scatter3d",
         "x": [
          4,
          4
         ],
         "y": [
          1,
          5
         ],
         "z": [
          0,
          0
         ]
        },
        {
         "hoverinfo": "skip",
         "line": {
          "color": "green",
          "width": 2
         },
         "mode": "lines",
         "showlegend": false,
         "type": "scatter3d",
         "x": [
          4,
          5
         ],
         "y": [
          1,
          1
         ],
         "z": [
          0,
          0
         ]
        },
        {
         "hoverinfo": "skip",
         "line": {
          "color": "green",
          "width": 2
         },
         "mode": "lines",
         "showlegend": false,
         "type": "scatter3d",
         "x": [
          4,
          4
         ],
         "y": [
          1,
          1
         ],
         "z": [
          1,
          2
         ]
        },
        {
         "hoverinfo": "skip",
         "line": {
          "color": "green",
          "width": 2
         },
         "mode": "lines",
         "showlegend": false,
         "type": "scatter3d",
         "x": [
          4,
          4
         ],
         "y": [
          1,
          1
         ],
         "z": [
          1,
          3
         ]
        },
        {
         "hoverinfo": "skip",
         "line": {
          "color": "green",
          "width": 2
         },
         "mode": "lines",
         "showlegend": false,
         "type": "scatter3d",
         "x": [
          4,
          4
         ],
         "y": [
          1,
          1
         ],
         "z": [
          1,
          4
         ]
        },
        {
         "hoverinfo": "skip",
         "line": {
          "color": "green",
          "width": 2
         },
         "mode": "lines",
         "showlegend": false,
         "type": "scatter3d",
         "x": [
          4,
          4
         ],
         "y": [
          1,
          1
         ],
         "z": [
          1,
          5
         ]
        },
        {
         "hoverinfo": "skip",
         "line": {
          "color": "green",
          "width": 2
         },
         "mode": "lines",
         "showlegend": false,
         "type": "scatter3d",
         "x": [
          4,
          4
         ],
         "y": [
          1,
          1
         ],
         "z": [
          1,
          6
         ]
        },
        {
         "hoverinfo": "skip",
         "line": {
          "color": "green",
          "width": 2
         },
         "mode": "lines",
         "showlegend": false,
         "type": "scatter3d",
         "x": [
          4,
          4
         ],
         "y": [
          1,
          1
         ],
         "z": [
          1,
          7
         ]
        },
        {
         "hoverinfo": "skip",
         "line": {
          "color": "green",
          "width": 2
         },
         "mode": "lines",
         "showlegend": false,
         "type": "scatter3d",
         "x": [
          4,
          4
         ],
         "y": [
          1,
          2
         ],
         "z": [
          1,
          1
         ]
        },
        {
         "hoverinfo": "skip",
         "line": {
          "color": "green",
          "width": 2
         },
         "mode": "lines",
         "showlegend": false,
         "type": "scatter3d",
         "x": [
          4,
          4
         ],
         "y": [
          1,
          3
         ],
         "z": [
          1,
          1
         ]
        },
        {
         "hoverinfo": "skip",
         "line": {
          "color": "green",
          "width": 2
         },
         "mode": "lines",
         "showlegend": false,
         "type": "scatter3d",
         "x": [
          4,
          4
         ],
         "y": [
          1,
          4
         ],
         "z": [
          1,
          1
         ]
        },
        {
         "hoverinfo": "skip",
         "line": {
          "color": "green",
          "width": 2
         },
         "mode": "lines",
         "showlegend": false,
         "type": "scatter3d",
         "x": [
          4,
          4
         ],
         "y": [
          1,
          5
         ],
         "z": [
          1,
          1
         ]
        },
        {
         "hoverinfo": "skip",
         "line": {
          "color": "green",
          "width": 2
         },
         "mode": "lines",
         "showlegend": false,
         "type": "scatter3d",
         "x": [
          4,
          5
         ],
         "y": [
          1,
          1
         ],
         "z": [
          1,
          1
         ]
        },
        {
         "hoverinfo": "skip",
         "line": {
          "color": "green",
          "width": 2
         },
         "mode": "lines",
         "showlegend": false,
         "type": "scatter3d",
         "x": [
          4,
          4
         ],
         "y": [
          1,
          1
         ],
         "z": [
          2,
          3
         ]
        },
        {
         "hoverinfo": "skip",
         "line": {
          "color": "green",
          "width": 2
         },
         "mode": "lines",
         "showlegend": false,
         "type": "scatter3d",
         "x": [
          4,
          4
         ],
         "y": [
          1,
          1
         ],
         "z": [
          2,
          4
         ]
        },
        {
         "hoverinfo": "skip",
         "line": {
          "color": "green",
          "width": 2
         },
         "mode": "lines",
         "showlegend": false,
         "type": "scatter3d",
         "x": [
          4,
          4
         ],
         "y": [
          1,
          1
         ],
         "z": [
          2,
          5
         ]
        },
        {
         "hoverinfo": "skip",
         "line": {
          "color": "green",
          "width": 2
         },
         "mode": "lines",
         "showlegend": false,
         "type": "scatter3d",
         "x": [
          4,
          4
         ],
         "y": [
          1,
          1
         ],
         "z": [
          2,
          6
         ]
        },
        {
         "hoverinfo": "skip",
         "line": {
          "color": "green",
          "width": 2
         },
         "mode": "lines",
         "showlegend": false,
         "type": "scatter3d",
         "x": [
          4,
          4
         ],
         "y": [
          1,
          1
         ],
         "z": [
          2,
          7
         ]
        },
        {
         "hoverinfo": "skip",
         "line": {
          "color": "green",
          "width": 2
         },
         "mode": "lines",
         "showlegend": false,
         "type": "scatter3d",
         "x": [
          4,
          4
         ],
         "y": [
          1,
          2
         ],
         "z": [
          2,
          2
         ]
        },
        {
         "hoverinfo": "skip",
         "line": {
          "color": "green",
          "width": 2
         },
         "mode": "lines",
         "showlegend": false,
         "type": "scatter3d",
         "x": [
          4,
          4
         ],
         "y": [
          1,
          3
         ],
         "z": [
          2,
          2
         ]
        },
        {
         "hoverinfo": "skip",
         "line": {
          "color": "green",
          "width": 2
         },
         "mode": "lines",
         "showlegend": false,
         "type": "scatter3d",
         "x": [
          4,
          4
         ],
         "y": [
          1,
          4
         ],
         "z": [
          2,
          2
         ]
        },
        {
         "hoverinfo": "skip",
         "line": {
          "color": "green",
          "width": 2
         },
         "mode": "lines",
         "showlegend": false,
         "type": "scatter3d",
         "x": [
          4,
          4
         ],
         "y": [
          1,
          5
         ],
         "z": [
          2,
          2
         ]
        },
        {
         "hoverinfo": "skip",
         "line": {
          "color": "green",
          "width": 2
         },
         "mode": "lines",
         "showlegend": false,
         "type": "scatter3d",
         "x": [
          4,
          5
         ],
         "y": [
          1,
          1
         ],
         "z": [
          2,
          2
         ]
        },
        {
         "hoverinfo": "skip",
         "line": {
          "color": "green",
          "width": 2
         },
         "mode": "lines",
         "showlegend": false,
         "type": "scatter3d",
         "x": [
          4,
          4
         ],
         "y": [
          1,
          1
         ],
         "z": [
          3,
          4
         ]
        },
        {
         "hoverinfo": "skip",
         "line": {
          "color": "green",
          "width": 2
         },
         "mode": "lines",
         "showlegend": false,
         "type": "scatter3d",
         "x": [
          4,
          4
         ],
         "y": [
          1,
          1
         ],
         "z": [
          3,
          5
         ]
        },
        {
         "hoverinfo": "skip",
         "line": {
          "color": "green",
          "width": 2
         },
         "mode": "lines",
         "showlegend": false,
         "type": "scatter3d",
         "x": [
          4,
          4
         ],
         "y": [
          1,
          1
         ],
         "z": [
          3,
          6
         ]
        },
        {
         "hoverinfo": "skip",
         "line": {
          "color": "green",
          "width": 2
         },
         "mode": "lines",
         "showlegend": false,
         "type": "scatter3d",
         "x": [
          4,
          4
         ],
         "y": [
          1,
          1
         ],
         "z": [
          3,
          7
         ]
        },
        {
         "hoverinfo": "skip",
         "line": {
          "color": "green",
          "width": 2
         },
         "mode": "lines",
         "showlegend": false,
         "type": "scatter3d",
         "x": [
          4,
          4
         ],
         "y": [
          1,
          2
         ],
         "z": [
          3,
          3
         ]
        },
        {
         "hoverinfo": "skip",
         "line": {
          "color": "green",
          "width": 2
         },
         "mode": "lines",
         "showlegend": false,
         "type": "scatter3d",
         "x": [
          4,
          4
         ],
         "y": [
          1,
          3
         ],
         "z": [
          3,
          3
         ]
        },
        {
         "hoverinfo": "skip",
         "line": {
          "color": "green",
          "width": 2
         },
         "mode": "lines",
         "showlegend": false,
         "type": "scatter3d",
         "x": [
          4,
          4
         ],
         "y": [
          1,
          4
         ],
         "z": [
          3,
          3
         ]
        },
        {
         "hoverinfo": "skip",
         "line": {
          "color": "green",
          "width": 2
         },
         "mode": "lines",
         "showlegend": false,
         "type": "scatter3d",
         "x": [
          4,
          4
         ],
         "y": [
          1,
          5
         ],
         "z": [
          3,
          3
         ]
        },
        {
         "hoverinfo": "skip",
         "line": {
          "color": "green",
          "width": 2
         },
         "mode": "lines",
         "showlegend": false,
         "type": "scatter3d",
         "x": [
          4,
          5
         ],
         "y": [
          1,
          1
         ],
         "z": [
          3,
          3
         ]
        },
        {
         "hoverinfo": "skip",
         "line": {
          "color": "green",
          "width": 2
         },
         "mode": "lines",
         "showlegend": false,
         "type": "scatter3d",
         "x": [
          4,
          4
         ],
         "y": [
          1,
          1
         ],
         "z": [
          4,
          5
         ]
        },
        {
         "hoverinfo": "skip",
         "line": {
          "color": "green",
          "width": 2
         },
         "mode": "lines",
         "showlegend": false,
         "type": "scatter3d",
         "x": [
          4,
          4
         ],
         "y": [
          1,
          1
         ],
         "z": [
          4,
          6
         ]
        },
        {
         "hoverinfo": "skip",
         "line": {
          "color": "green",
          "width": 2
         },
         "mode": "lines",
         "showlegend": false,
         "type": "scatter3d",
         "x": [
          4,
          4
         ],
         "y": [
          1,
          1
         ],
         "z": [
          4,
          7
         ]
        },
        {
         "hoverinfo": "skip",
         "line": {
          "color": "green",
          "width": 2
         },
         "mode": "lines",
         "showlegend": false,
         "type": "scatter3d",
         "x": [
          4,
          4
         ],
         "y": [
          1,
          2
         ],
         "z": [
          4,
          4
         ]
        },
        {
         "hoverinfo": "skip",
         "line": {
          "color": "green",
          "width": 2
         },
         "mode": "lines",
         "showlegend": false,
         "type": "scatter3d",
         "x": [
          4,
          4
         ],
         "y": [
          1,
          3
         ],
         "z": [
          4,
          4
         ]
        },
        {
         "hoverinfo": "skip",
         "line": {
          "color": "green",
          "width": 2
         },
         "mode": "lines",
         "showlegend": false,
         "type": "scatter3d",
         "x": [
          4,
          4
         ],
         "y": [
          1,
          4
         ],
         "z": [
          4,
          4
         ]
        },
        {
         "hoverinfo": "skip",
         "line": {
          "color": "green",
          "width": 2
         },
         "mode": "lines",
         "showlegend": false,
         "type": "scatter3d",
         "x": [
          4,
          4
         ],
         "y": [
          1,
          5
         ],
         "z": [
          4,
          4
         ]
        },
        {
         "hoverinfo": "skip",
         "line": {
          "color": "green",
          "width": 2
         },
         "mode": "lines",
         "showlegend": false,
         "type": "scatter3d",
         "x": [
          4,
          5
         ],
         "y": [
          1,
          1
         ],
         "z": [
          4,
          4
         ]
        },
        {
         "hoverinfo": "skip",
         "line": {
          "color": "green",
          "width": 2
         },
         "mode": "lines",
         "showlegend": false,
         "type": "scatter3d",
         "x": [
          4,
          4
         ],
         "y": [
          1,
          1
         ],
         "z": [
          5,
          6
         ]
        },
        {
         "hoverinfo": "skip",
         "line": {
          "color": "green",
          "width": 2
         },
         "mode": "lines",
         "showlegend": false,
         "type": "scatter3d",
         "x": [
          4,
          4
         ],
         "y": [
          1,
          1
         ],
         "z": [
          5,
          7
         ]
        },
        {
         "hoverinfo": "skip",
         "line": {
          "color": "green",
          "width": 2
         },
         "mode": "lines",
         "showlegend": false,
         "type": "scatter3d",
         "x": [
          4,
          4
         ],
         "y": [
          1,
          2
         ],
         "z": [
          5,
          5
         ]
        },
        {
         "hoverinfo": "skip",
         "line": {
          "color": "green",
          "width": 2
         },
         "mode": "lines",
         "showlegend": false,
         "type": "scatter3d",
         "x": [
          4,
          4
         ],
         "y": [
          1,
          3
         ],
         "z": [
          5,
          5
         ]
        },
        {
         "hoverinfo": "skip",
         "line": {
          "color": "green",
          "width": 2
         },
         "mode": "lines",
         "showlegend": false,
         "type": "scatter3d",
         "x": [
          4,
          4
         ],
         "y": [
          1,
          4
         ],
         "z": [
          5,
          5
         ]
        },
        {
         "hoverinfo": "skip",
         "line": {
          "color": "green",
          "width": 2
         },
         "mode": "lines",
         "showlegend": false,
         "type": "scatter3d",
         "x": [
          4,
          4
         ],
         "y": [
          1,
          5
         ],
         "z": [
          5,
          5
         ]
        },
        {
         "hoverinfo": "skip",
         "line": {
          "color": "green",
          "width": 2
         },
         "mode": "lines",
         "showlegend": false,
         "type": "scatter3d",
         "x": [
          4,
          5
         ],
         "y": [
          1,
          1
         ],
         "z": [
          5,
          5
         ]
        },
        {
         "hoverinfo": "skip",
         "line": {
          "color": "green",
          "width": 2
         },
         "mode": "lines",
         "showlegend": false,
         "type": "scatter3d",
         "x": [
          4,
          4
         ],
         "y": [
          1,
          1
         ],
         "z": [
          6,
          7
         ]
        },
        {
         "hoverinfo": "skip",
         "line": {
          "color": "green",
          "width": 2
         },
         "mode": "lines",
         "showlegend": false,
         "type": "scatter3d",
         "x": [
          4,
          4
         ],
         "y": [
          1,
          2
         ],
         "z": [
          6,
          6
         ]
        },
        {
         "hoverinfo": "skip",
         "line": {
          "color": "green",
          "width": 2
         },
         "mode": "lines",
         "showlegend": false,
         "type": "scatter3d",
         "x": [
          4,
          4
         ],
         "y": [
          1,
          3
         ],
         "z": [
          6,
          6
         ]
        },
        {
         "hoverinfo": "skip",
         "line": {
          "color": "green",
          "width": 2
         },
         "mode": "lines",
         "showlegend": false,
         "type": "scatter3d",
         "x": [
          4,
          4
         ],
         "y": [
          1,
          4
         ],
         "z": [
          6,
          6
         ]
        },
        {
         "hoverinfo": "skip",
         "line": {
          "color": "green",
          "width": 2
         },
         "mode": "lines",
         "showlegend": false,
         "type": "scatter3d",
         "x": [
          4,
          4
         ],
         "y": [
          1,
          5
         ],
         "z": [
          6,
          6
         ]
        },
        {
         "hoverinfo": "skip",
         "line": {
          "color": "green",
          "width": 2
         },
         "mode": "lines",
         "showlegend": false,
         "type": "scatter3d",
         "x": [
          4,
          5
         ],
         "y": [
          1,
          1
         ],
         "z": [
          6,
          6
         ]
        },
        {
         "hoverinfo": "skip",
         "line": {
          "color": "green",
          "width": 2
         },
         "mode": "lines",
         "showlegend": false,
         "type": "scatter3d",
         "x": [
          4,
          4
         ],
         "y": [
          1,
          2
         ],
         "z": [
          7,
          7
         ]
        },
        {
         "hoverinfo": "skip",
         "line": {
          "color": "green",
          "width": 2
         },
         "mode": "lines",
         "showlegend": false,
         "type": "scatter3d",
         "x": [
          4,
          4
         ],
         "y": [
          1,
          3
         ],
         "z": [
          7,
          7
         ]
        },
        {
         "hoverinfo": "skip",
         "line": {
          "color": "green",
          "width": 2
         },
         "mode": "lines",
         "showlegend": false,
         "type": "scatter3d",
         "x": [
          4,
          4
         ],
         "y": [
          1,
          4
         ],
         "z": [
          7,
          7
         ]
        },
        {
         "hoverinfo": "skip",
         "line": {
          "color": "green",
          "width": 2
         },
         "mode": "lines",
         "showlegend": false,
         "type": "scatter3d",
         "x": [
          4,
          4
         ],
         "y": [
          1,
          5
         ],
         "z": [
          7,
          7
         ]
        },
        {
         "hoverinfo": "skip",
         "line": {
          "color": "green",
          "width": 2
         },
         "mode": "lines",
         "showlegend": false,
         "type": "scatter3d",
         "x": [
          4,
          5
         ],
         "y": [
          1,
          1
         ],
         "z": [
          7,
          7
         ]
        },
        {
         "hoverinfo": "skip",
         "line": {
          "color": "green",
          "width": 2
         },
         "mode": "lines",
         "showlegend": false,
         "type": "scatter3d",
         "x": [
          4,
          4
         ],
         "y": [
          2,
          2
         ],
         "z": [
          0,
          1
         ]
        },
        {
         "hoverinfo": "skip",
         "line": {
          "color": "green",
          "width": 2
         },
         "mode": "lines",
         "showlegend": false,
         "type": "scatter3d",
         "x": [
          4,
          4
         ],
         "y": [
          2,
          2
         ],
         "z": [
          0,
          2
         ]
        },
        {
         "hoverinfo": "skip",
         "line": {
          "color": "green",
          "width": 2
         },
         "mode": "lines",
         "showlegend": false,
         "type": "scatter3d",
         "x": [
          4,
          4
         ],
         "y": [
          2,
          2
         ],
         "z": [
          0,
          3
         ]
        },
        {
         "hoverinfo": "skip",
         "line": {
          "color": "green",
          "width": 2
         },
         "mode": "lines",
         "showlegend": false,
         "type": "scatter3d",
         "x": [
          4,
          4
         ],
         "y": [
          2,
          2
         ],
         "z": [
          0,
          4
         ]
        },
        {
         "hoverinfo": "skip",
         "line": {
          "color": "green",
          "width": 2
         },
         "mode": "lines",
         "showlegend": false,
         "type": "scatter3d",
         "x": [
          4,
          4
         ],
         "y": [
          2,
          2
         ],
         "z": [
          0,
          5
         ]
        },
        {
         "hoverinfo": "skip",
         "line": {
          "color": "green",
          "width": 2
         },
         "mode": "lines",
         "showlegend": false,
         "type": "scatter3d",
         "x": [
          4,
          4
         ],
         "y": [
          2,
          2
         ],
         "z": [
          0,
          6
         ]
        },
        {
         "hoverinfo": "skip",
         "line": {
          "color": "green",
          "width": 2
         },
         "mode": "lines",
         "showlegend": false,
         "type": "scatter3d",
         "x": [
          4,
          4
         ],
         "y": [
          2,
          2
         ],
         "z": [
          0,
          7
         ]
        },
        {
         "hoverinfo": "skip",
         "line": {
          "color": "green",
          "width": 2
         },
         "mode": "lines",
         "showlegend": false,
         "type": "scatter3d",
         "x": [
          4,
          4
         ],
         "y": [
          2,
          3
         ],
         "z": [
          0,
          0
         ]
        },
        {
         "hoverinfo": "skip",
         "line": {
          "color": "green",
          "width": 2
         },
         "mode": "lines",
         "showlegend": false,
         "type": "scatter3d",
         "x": [
          4,
          4
         ],
         "y": [
          2,
          4
         ],
         "z": [
          0,
          0
         ]
        },
        {
         "hoverinfo": "skip",
         "line": {
          "color": "green",
          "width": 2
         },
         "mode": "lines",
         "showlegend": false,
         "type": "scatter3d",
         "x": [
          4,
          4
         ],
         "y": [
          2,
          5
         ],
         "z": [
          0,
          0
         ]
        },
        {
         "hoverinfo": "skip",
         "line": {
          "color": "green",
          "width": 2
         },
         "mode": "lines",
         "showlegend": false,
         "type": "scatter3d",
         "x": [
          4,
          5
         ],
         "y": [
          2,
          2
         ],
         "z": [
          0,
          0
         ]
        },
        {
         "hoverinfo": "skip",
         "line": {
          "color": "green",
          "width": 2
         },
         "mode": "lines",
         "showlegend": false,
         "type": "scatter3d",
         "x": [
          4,
          4
         ],
         "y": [
          2,
          2
         ],
         "z": [
          1,
          2
         ]
        },
        {
         "hoverinfo": "skip",
         "line": {
          "color": "green",
          "width": 2
         },
         "mode": "lines",
         "showlegend": false,
         "type": "scatter3d",
         "x": [
          4,
          4
         ],
         "y": [
          2,
          2
         ],
         "z": [
          1,
          3
         ]
        },
        {
         "hoverinfo": "skip",
         "line": {
          "color": "green",
          "width": 2
         },
         "mode": "lines",
         "showlegend": false,
         "type": "scatter3d",
         "x": [
          4,
          4
         ],
         "y": [
          2,
          2
         ],
         "z": [
          1,
          4
         ]
        },
        {
         "hoverinfo": "skip",
         "line": {
          "color": "green",
          "width": 2
         },
         "mode": "lines",
         "showlegend": false,
         "type": "scatter3d",
         "x": [
          4,
          4
         ],
         "y": [
          2,
          2
         ],
         "z": [
          1,
          5
         ]
        },
        {
         "hoverinfo": "skip",
         "line": {
          "color": "green",
          "width": 2
         },
         "mode": "lines",
         "showlegend": false,
         "type": "scatter3d",
         "x": [
          4,
          4
         ],
         "y": [
          2,
          2
         ],
         "z": [
          1,
          6
         ]
        },
        {
         "hoverinfo": "skip",
         "line": {
          "color": "green",
          "width": 2
         },
         "mode": "lines",
         "showlegend": false,
         "type": "scatter3d",
         "x": [
          4,
          4
         ],
         "y": [
          2,
          2
         ],
         "z": [
          1,
          7
         ]
        },
        {
         "hoverinfo": "skip",
         "line": {
          "color": "green",
          "width": 2
         },
         "mode": "lines",
         "showlegend": false,
         "type": "scatter3d",
         "x": [
          4,
          4
         ],
         "y": [
          2,
          3
         ],
         "z": [
          1,
          1
         ]
        },
        {
         "hoverinfo": "skip",
         "line": {
          "color": "green",
          "width": 2
         },
         "mode": "lines",
         "showlegend": false,
         "type": "scatter3d",
         "x": [
          4,
          4
         ],
         "y": [
          2,
          4
         ],
         "z": [
          1,
          1
         ]
        },
        {
         "hoverinfo": "skip",
         "line": {
          "color": "green",
          "width": 2
         },
         "mode": "lines",
         "showlegend": false,
         "type": "scatter3d",
         "x": [
          4,
          4
         ],
         "y": [
          2,
          5
         ],
         "z": [
          1,
          1
         ]
        },
        {
         "hoverinfo": "skip",
         "line": {
          "color": "green",
          "width": 2
         },
         "mode": "lines",
         "showlegend": false,
         "type": "scatter3d",
         "x": [
          4,
          5
         ],
         "y": [
          2,
          2
         ],
         "z": [
          1,
          1
         ]
        },
        {
         "hoverinfo": "skip",
         "line": {
          "color": "green",
          "width": 2
         },
         "mode": "lines",
         "showlegend": false,
         "type": "scatter3d",
         "x": [
          4,
          4
         ],
         "y": [
          2,
          2
         ],
         "z": [
          2,
          3
         ]
        },
        {
         "hoverinfo": "skip",
         "line": {
          "color": "green",
          "width": 2
         },
         "mode": "lines",
         "showlegend": false,
         "type": "scatter3d",
         "x": [
          4,
          4
         ],
         "y": [
          2,
          2
         ],
         "z": [
          2,
          4
         ]
        },
        {
         "hoverinfo": "skip",
         "line": {
          "color": "green",
          "width": 2
         },
         "mode": "lines",
         "showlegend": false,
         "type": "scatter3d",
         "x": [
          4,
          4
         ],
         "y": [
          2,
          2
         ],
         "z": [
          2,
          5
         ]
        },
        {
         "hoverinfo": "skip",
         "line": {
          "color": "green",
          "width": 2
         },
         "mode": "lines",
         "showlegend": false,
         "type": "scatter3d",
         "x": [
          4,
          4
         ],
         "y": [
          2,
          2
         ],
         "z": [
          2,
          6
         ]
        },
        {
         "hoverinfo": "skip",
         "line": {
          "color": "green",
          "width": 2
         },
         "mode": "lines",
         "showlegend": false,
         "type": "scatter3d",
         "x": [
          4,
          4
         ],
         "y": [
          2,
          2
         ],
         "z": [
          2,
          7
         ]
        },
        {
         "hoverinfo": "skip",
         "line": {
          "color": "green",
          "width": 2
         },
         "mode": "lines",
         "showlegend": false,
         "type": "scatter3d",
         "x": [
          4,
          4
         ],
         "y": [
          2,
          3
         ],
         "z": [
          2,
          2
         ]
        },
        {
         "hoverinfo": "skip",
         "line": {
          "color": "green",
          "width": 2
         },
         "mode": "lines",
         "showlegend": false,
         "type": "scatter3d",
         "x": [
          4,
          4
         ],
         "y": [
          2,
          4
         ],
         "z": [
          2,
          2
         ]
        },
        {
         "hoverinfo": "skip",
         "line": {
          "color": "green",
          "width": 2
         },
         "mode": "lines",
         "showlegend": false,
         "type": "scatter3d",
         "x": [
          4,
          4
         ],
         "y": [
          2,
          5
         ],
         "z": [
          2,
          2
         ]
        },
        {
         "hoverinfo": "skip",
         "line": {
          "color": "green",
          "width": 2
         },
         "mode": "lines",
         "showlegend": false,
         "type": "scatter3d",
         "x": [
          4,
          5
         ],
         "y": [
          2,
          2
         ],
         "z": [
          2,
          2
         ]
        },
        {
         "hoverinfo": "skip",
         "line": {
          "color": "green",
          "width": 2
         },
         "mode": "lines",
         "showlegend": false,
         "type": "scatter3d",
         "x": [
          4,
          4
         ],
         "y": [
          2,
          2
         ],
         "z": [
          3,
          4
         ]
        },
        {
         "hoverinfo": "skip",
         "line": {
          "color": "green",
          "width": 2
         },
         "mode": "lines",
         "showlegend": false,
         "type": "scatter3d",
         "x": [
          4,
          4
         ],
         "y": [
          2,
          2
         ],
         "z": [
          3,
          5
         ]
        },
        {
         "hoverinfo": "skip",
         "line": {
          "color": "green",
          "width": 2
         },
         "mode": "lines",
         "showlegend": false,
         "type": "scatter3d",
         "x": [
          4,
          4
         ],
         "y": [
          2,
          2
         ],
         "z": [
          3,
          6
         ]
        },
        {
         "hoverinfo": "skip",
         "line": {
          "color": "green",
          "width": 2
         },
         "mode": "lines",
         "showlegend": false,
         "type": "scatter3d",
         "x": [
          4,
          4
         ],
         "y": [
          2,
          2
         ],
         "z": [
          3,
          7
         ]
        },
        {
         "hoverinfo": "skip",
         "line": {
          "color": "green",
          "width": 2
         },
         "mode": "lines",
         "showlegend": false,
         "type": "scatter3d",
         "x": [
          4,
          4
         ],
         "y": [
          2,
          3
         ],
         "z": [
          3,
          3
         ]
        },
        {
         "hoverinfo": "skip",
         "line": {
          "color": "green",
          "width": 2
         },
         "mode": "lines",
         "showlegend": false,
         "type": "scatter3d",
         "x": [
          4,
          4
         ],
         "y": [
          2,
          4
         ],
         "z": [
          3,
          3
         ]
        },
        {
         "hoverinfo": "skip",
         "line": {
          "color": "green",
          "width": 2
         },
         "mode": "lines",
         "showlegend": false,
         "type": "scatter3d",
         "x": [
          4,
          4
         ],
         "y": [
          2,
          5
         ],
         "z": [
          3,
          3
         ]
        },
        {
         "hoverinfo": "skip",
         "line": {
          "color": "green",
          "width": 2
         },
         "mode": "lines",
         "showlegend": false,
         "type": "scatter3d",
         "x": [
          4,
          5
         ],
         "y": [
          2,
          2
         ],
         "z": [
          3,
          3
         ]
        },
        {
         "hoverinfo": "skip",
         "line": {
          "color": "green",
          "width": 2
         },
         "mode": "lines",
         "showlegend": false,
         "type": "scatter3d",
         "x": [
          4,
          4
         ],
         "y": [
          2,
          2
         ],
         "z": [
          4,
          5
         ]
        },
        {
         "hoverinfo": "skip",
         "line": {
          "color": "green",
          "width": 2
         },
         "mode": "lines",
         "showlegend": false,
         "type": "scatter3d",
         "x": [
          4,
          4
         ],
         "y": [
          2,
          2
         ],
         "z": [
          4,
          6
         ]
        },
        {
         "hoverinfo": "skip",
         "line": {
          "color": "green",
          "width": 2
         },
         "mode": "lines",
         "showlegend": false,
         "type": "scatter3d",
         "x": [
          4,
          4
         ],
         "y": [
          2,
          2
         ],
         "z": [
          4,
          7
         ]
        },
        {
         "hoverinfo": "skip",
         "line": {
          "color": "green",
          "width": 2
         },
         "mode": "lines",
         "showlegend": false,
         "type": "scatter3d",
         "x": [
          4,
          4
         ],
         "y": [
          2,
          3
         ],
         "z": [
          4,
          4
         ]
        },
        {
         "hoverinfo": "skip",
         "line": {
          "color": "green",
          "width": 2
         },
         "mode": "lines",
         "showlegend": false,
         "type": "scatter3d",
         "x": [
          4,
          4
         ],
         "y": [
          2,
          4
         ],
         "z": [
          4,
          4
         ]
        },
        {
         "hoverinfo": "skip",
         "line": {
          "color": "green",
          "width": 2
         },
         "mode": "lines",
         "showlegend": false,
         "type": "scatter3d",
         "x": [
          4,
          4
         ],
         "y": [
          2,
          5
         ],
         "z": [
          4,
          4
         ]
        },
        {
         "hoverinfo": "skip",
         "line": {
          "color": "green",
          "width": 2
         },
         "mode": "lines",
         "showlegend": false,
         "type": "scatter3d",
         "x": [
          4,
          5
         ],
         "y": [
          2,
          2
         ],
         "z": [
          4,
          4
         ]
        },
        {
         "hoverinfo": "skip",
         "line": {
          "color": "green",
          "width": 2
         },
         "mode": "lines",
         "showlegend": false,
         "type": "scatter3d",
         "x": [
          4,
          4
         ],
         "y": [
          2,
          2
         ],
         "z": [
          5,
          6
         ]
        },
        {
         "hoverinfo": "skip",
         "line": {
          "color": "green",
          "width": 2
         },
         "mode": "lines",
         "showlegend": false,
         "type": "scatter3d",
         "x": [
          4,
          4
         ],
         "y": [
          2,
          2
         ],
         "z": [
          5,
          7
         ]
        },
        {
         "hoverinfo": "skip",
         "line": {
          "color": "green",
          "width": 2
         },
         "mode": "lines",
         "showlegend": false,
         "type": "scatter3d",
         "x": [
          4,
          4
         ],
         "y": [
          2,
          3
         ],
         "z": [
          5,
          5
         ]
        },
        {
         "hoverinfo": "skip",
         "line": {
          "color": "green",
          "width": 2
         },
         "mode": "lines",
         "showlegend": false,
         "type": "scatter3d",
         "x": [
          4,
          4
         ],
         "y": [
          2,
          4
         ],
         "z": [
          5,
          5
         ]
        },
        {
         "hoverinfo": "skip",
         "line": {
          "color": "green",
          "width": 2
         },
         "mode": "lines",
         "showlegend": false,
         "type": "scatter3d",
         "x": [
          4,
          4
         ],
         "y": [
          2,
          5
         ],
         "z": [
          5,
          5
         ]
        },
        {
         "hoverinfo": "skip",
         "line": {
          "color": "green",
          "width": 2
         },
         "mode": "lines",
         "showlegend": false,
         "type": "scatter3d",
         "x": [
          4,
          5
         ],
         "y": [
          2,
          2
         ],
         "z": [
          5,
          5
         ]
        },
        {
         "hoverinfo": "skip",
         "line": {
          "color": "green",
          "width": 2
         },
         "mode": "lines",
         "showlegend": false,
         "type": "scatter3d",
         "x": [
          4,
          4
         ],
         "y": [
          2,
          2
         ],
         "z": [
          6,
          7
         ]
        },
        {
         "hoverinfo": "skip",
         "line": {
          "color": "green",
          "width": 2
         },
         "mode": "lines",
         "showlegend": false,
         "type": "scatter3d",
         "x": [
          4,
          4
         ],
         "y": [
          2,
          3
         ],
         "z": [
          6,
          6
         ]
        },
        {
         "hoverinfo": "skip",
         "line": {
          "color": "green",
          "width": 2
         },
         "mode": "lines",
         "showlegend": false,
         "type": "scatter3d",
         "x": [
          4,
          4
         ],
         "y": [
          2,
          4
         ],
         "z": [
          6,
          6
         ]
        },
        {
         "hoverinfo": "skip",
         "line": {
          "color": "green",
          "width": 2
         },
         "mode": "lines",
         "showlegend": false,
         "type": "scatter3d",
         "x": [
          4,
          4
         ],
         "y": [
          2,
          5
         ],
         "z": [
          6,
          6
         ]
        },
        {
         "hoverinfo": "skip",
         "line": {
          "color": "green",
          "width": 2
         },
         "mode": "lines",
         "showlegend": false,
         "type": "scatter3d",
         "x": [
          4,
          5
         ],
         "y": [
          2,
          2
         ],
         "z": [
          6,
          6
         ]
        },
        {
         "hoverinfo": "skip",
         "line": {
          "color": "green",
          "width": 2
         },
         "mode": "lines",
         "showlegend": false,
         "type": "scatter3d",
         "x": [
          4,
          4
         ],
         "y": [
          2,
          3
         ],
         "z": [
          7,
          7
         ]
        },
        {
         "hoverinfo": "skip",
         "line": {
          "color": "green",
          "width": 2
         },
         "mode": "lines",
         "showlegend": false,
         "type": "scatter3d",
         "x": [
          4,
          4
         ],
         "y": [
          2,
          4
         ],
         "z": [
          7,
          7
         ]
        },
        {
         "hoverinfo": "skip",
         "line": {
          "color": "green",
          "width": 2
         },
         "mode": "lines",
         "showlegend": false,
         "type": "scatter3d",
         "x": [
          4,
          4
         ],
         "y": [
          2,
          5
         ],
         "z": [
          7,
          7
         ]
        },
        {
         "hoverinfo": "skip",
         "line": {
          "color": "green",
          "width": 2
         },
         "mode": "lines",
         "showlegend": false,
         "type": "scatter3d",
         "x": [
          4,
          5
         ],
         "y": [
          2,
          2
         ],
         "z": [
          7,
          7
         ]
        },
        {
         "hoverinfo": "skip",
         "line": {
          "color": "green",
          "width": 2
         },
         "mode": "lines",
         "showlegend": false,
         "type": "scatter3d",
         "x": [
          4,
          4
         ],
         "y": [
          3,
          3
         ],
         "z": [
          0,
          1
         ]
        },
        {
         "hoverinfo": "skip",
         "line": {
          "color": "green",
          "width": 2
         },
         "mode": "lines",
         "showlegend": false,
         "type": "scatter3d",
         "x": [
          4,
          4
         ],
         "y": [
          3,
          3
         ],
         "z": [
          0,
          2
         ]
        },
        {
         "hoverinfo": "skip",
         "line": {
          "color": "green",
          "width": 2
         },
         "mode": "lines",
         "showlegend": false,
         "type": "scatter3d",
         "x": [
          4,
          4
         ],
         "y": [
          3,
          3
         ],
         "z": [
          0,
          3
         ]
        },
        {
         "hoverinfo": "skip",
         "line": {
          "color": "green",
          "width": 2
         },
         "mode": "lines",
         "showlegend": false,
         "type": "scatter3d",
         "x": [
          4,
          4
         ],
         "y": [
          3,
          3
         ],
         "z": [
          0,
          4
         ]
        },
        {
         "hoverinfo": "skip",
         "line": {
          "color": "green",
          "width": 2
         },
         "mode": "lines",
         "showlegend": false,
         "type": "scatter3d",
         "x": [
          4,
          4
         ],
         "y": [
          3,
          3
         ],
         "z": [
          0,
          5
         ]
        },
        {
         "hoverinfo": "skip",
         "line": {
          "color": "green",
          "width": 2
         },
         "mode": "lines",
         "showlegend": false,
         "type": "scatter3d",
         "x": [
          4,
          4
         ],
         "y": [
          3,
          3
         ],
         "z": [
          0,
          6
         ]
        },
        {
         "hoverinfo": "skip",
         "line": {
          "color": "green",
          "width": 2
         },
         "mode": "lines",
         "showlegend": false,
         "type": "scatter3d",
         "x": [
          4,
          4
         ],
         "y": [
          3,
          3
         ],
         "z": [
          0,
          7
         ]
        },
        {
         "hoverinfo": "skip",
         "line": {
          "color": "green",
          "width": 2
         },
         "mode": "lines",
         "showlegend": false,
         "type": "scatter3d",
         "x": [
          4,
          4
         ],
         "y": [
          3,
          4
         ],
         "z": [
          0,
          0
         ]
        },
        {
         "hoverinfo": "skip",
         "line": {
          "color": "green",
          "width": 2
         },
         "mode": "lines",
         "showlegend": false,
         "type": "scatter3d",
         "x": [
          4,
          4
         ],
         "y": [
          3,
          5
         ],
         "z": [
          0,
          0
         ]
        },
        {
         "hoverinfo": "skip",
         "line": {
          "color": "green",
          "width": 2
         },
         "mode": "lines",
         "showlegend": false,
         "type": "scatter3d",
         "x": [
          4,
          5
         ],
         "y": [
          3,
          3
         ],
         "z": [
          0,
          0
         ]
        },
        {
         "hoverinfo": "skip",
         "line": {
          "color": "green",
          "width": 2
         },
         "mode": "lines",
         "showlegend": false,
         "type": "scatter3d",
         "x": [
          4,
          4
         ],
         "y": [
          3,
          3
         ],
         "z": [
          1,
          2
         ]
        },
        {
         "hoverinfo": "skip",
         "line": {
          "color": "green",
          "width": 2
         },
         "mode": "lines",
         "showlegend": false,
         "type": "scatter3d",
         "x": [
          4,
          4
         ],
         "y": [
          3,
          3
         ],
         "z": [
          1,
          3
         ]
        },
        {
         "hoverinfo": "skip",
         "line": {
          "color": "green",
          "width": 2
         },
         "mode": "lines",
         "showlegend": false,
         "type": "scatter3d",
         "x": [
          4,
          4
         ],
         "y": [
          3,
          3
         ],
         "z": [
          1,
          4
         ]
        },
        {
         "hoverinfo": "skip",
         "line": {
          "color": "green",
          "width": 2
         },
         "mode": "lines",
         "showlegend": false,
         "type": "scatter3d",
         "x": [
          4,
          4
         ],
         "y": [
          3,
          3
         ],
         "z": [
          1,
          5
         ]
        },
        {
         "hoverinfo": "skip",
         "line": {
          "color": "green",
          "width": 2
         },
         "mode": "lines",
         "showlegend": false,
         "type": "scatter3d",
         "x": [
          4,
          4
         ],
         "y": [
          3,
          3
         ],
         "z": [
          1,
          6
         ]
        },
        {
         "hoverinfo": "skip",
         "line": {
          "color": "green",
          "width": 2
         },
         "mode": "lines",
         "showlegend": false,
         "type": "scatter3d",
         "x": [
          4,
          4
         ],
         "y": [
          3,
          3
         ],
         "z": [
          1,
          7
         ]
        },
        {
         "hoverinfo": "skip",
         "line": {
          "color": "green",
          "width": 2
         },
         "mode": "lines",
         "showlegend": false,
         "type": "scatter3d",
         "x": [
          4,
          4
         ],
         "y": [
          3,
          4
         ],
         "z": [
          1,
          1
         ]
        },
        {
         "hoverinfo": "skip",
         "line": {
          "color": "green",
          "width": 2
         },
         "mode": "lines",
         "showlegend": false,
         "type": "scatter3d",
         "x": [
          4,
          4
         ],
         "y": [
          3,
          5
         ],
         "z": [
          1,
          1
         ]
        },
        {
         "hoverinfo": "skip",
         "line": {
          "color": "green",
          "width": 2
         },
         "mode": "lines",
         "showlegend": false,
         "type": "scatter3d",
         "x": [
          4,
          5
         ],
         "y": [
          3,
          3
         ],
         "z": [
          1,
          1
         ]
        },
        {
         "hoverinfo": "skip",
         "line": {
          "color": "green",
          "width": 2
         },
         "mode": "lines",
         "showlegend": false,
         "type": "scatter3d",
         "x": [
          4,
          4
         ],
         "y": [
          3,
          3
         ],
         "z": [
          2,
          3
         ]
        },
        {
         "hoverinfo": "skip",
         "line": {
          "color": "green",
          "width": 2
         },
         "mode": "lines",
         "showlegend": false,
         "type": "scatter3d",
         "x": [
          4,
          4
         ],
         "y": [
          3,
          3
         ],
         "z": [
          2,
          4
         ]
        },
        {
         "hoverinfo": "skip",
         "line": {
          "color": "green",
          "width": 2
         },
         "mode": "lines",
         "showlegend": false,
         "type": "scatter3d",
         "x": [
          4,
          4
         ],
         "y": [
          3,
          3
         ],
         "z": [
          2,
          5
         ]
        },
        {
         "hoverinfo": "skip",
         "line": {
          "color": "green",
          "width": 2
         },
         "mode": "lines",
         "showlegend": false,
         "type": "scatter3d",
         "x": [
          4,
          4
         ],
         "y": [
          3,
          3
         ],
         "z": [
          2,
          6
         ]
        },
        {
         "hoverinfo": "skip",
         "line": {
          "color": "green",
          "width": 2
         },
         "mode": "lines",
         "showlegend": false,
         "type": "scatter3d",
         "x": [
          4,
          4
         ],
         "y": [
          3,
          3
         ],
         "z": [
          2,
          7
         ]
        },
        {
         "hoverinfo": "skip",
         "line": {
          "color": "green",
          "width": 2
         },
         "mode": "lines",
         "showlegend": false,
         "type": "scatter3d",
         "x": [
          4,
          4
         ],
         "y": [
          3,
          4
         ],
         "z": [
          2,
          2
         ]
        },
        {
         "hoverinfo": "skip",
         "line": {
          "color": "green",
          "width": 2
         },
         "mode": "lines",
         "showlegend": false,
         "type": "scatter3d",
         "x": [
          4,
          4
         ],
         "y": [
          3,
          5
         ],
         "z": [
          2,
          2
         ]
        },
        {
         "hoverinfo": "skip",
         "line": {
          "color": "green",
          "width": 2
         },
         "mode": "lines",
         "showlegend": false,
         "type": "scatter3d",
         "x": [
          4,
          5
         ],
         "y": [
          3,
          3
         ],
         "z": [
          2,
          2
         ]
        },
        {
         "hoverinfo": "skip",
         "line": {
          "color": "green",
          "width": 2
         },
         "mode": "lines",
         "showlegend": false,
         "type": "scatter3d",
         "x": [
          4,
          4
         ],
         "y": [
          3,
          3
         ],
         "z": [
          3,
          4
         ]
        },
        {
         "hoverinfo": "skip",
         "line": {
          "color": "green",
          "width": 2
         },
         "mode": "lines",
         "showlegend": false,
         "type": "scatter3d",
         "x": [
          4,
          4
         ],
         "y": [
          3,
          3
         ],
         "z": [
          3,
          5
         ]
        },
        {
         "hoverinfo": "skip",
         "line": {
          "color": "green",
          "width": 2
         },
         "mode": "lines",
         "showlegend": false,
         "type": "scatter3d",
         "x": [
          4,
          4
         ],
         "y": [
          3,
          3
         ],
         "z": [
          3,
          6
         ]
        },
        {
         "hoverinfo": "skip",
         "line": {
          "color": "green",
          "width": 2
         },
         "mode": "lines",
         "showlegend": false,
         "type": "scatter3d",
         "x": [
          4,
          4
         ],
         "y": [
          3,
          3
         ],
         "z": [
          3,
          7
         ]
        },
        {
         "hoverinfo": "skip",
         "line": {
          "color": "green",
          "width": 2
         },
         "mode": "lines",
         "showlegend": false,
         "type": "scatter3d",
         "x": [
          4,
          4
         ],
         "y": [
          3,
          4
         ],
         "z": [
          3,
          3
         ]
        },
        {
         "hoverinfo": "skip",
         "line": {
          "color": "green",
          "width": 2
         },
         "mode": "lines",
         "showlegend": false,
         "type": "scatter3d",
         "x": [
          4,
          4
         ],
         "y": [
          3,
          5
         ],
         "z": [
          3,
          3
         ]
        },
        {
         "hoverinfo": "skip",
         "line": {
          "color": "green",
          "width": 2
         },
         "mode": "lines",
         "showlegend": false,
         "type": "scatter3d",
         "x": [
          4,
          5
         ],
         "y": [
          3,
          3
         ],
         "z": [
          3,
          3
         ]
        },
        {
         "hoverinfo": "skip",
         "line": {
          "color": "green",
          "width": 2
         },
         "mode": "lines",
         "showlegend": false,
         "type": "scatter3d",
         "x": [
          4,
          4
         ],
         "y": [
          3,
          3
         ],
         "z": [
          4,
          5
         ]
        },
        {
         "hoverinfo": "skip",
         "line": {
          "color": "green",
          "width": 2
         },
         "mode": "lines",
         "showlegend": false,
         "type": "scatter3d",
         "x": [
          4,
          4
         ],
         "y": [
          3,
          3
         ],
         "z": [
          4,
          6
         ]
        },
        {
         "hoverinfo": "skip",
         "line": {
          "color": "green",
          "width": 2
         },
         "mode": "lines",
         "showlegend": false,
         "type": "scatter3d",
         "x": [
          4,
          4
         ],
         "y": [
          3,
          3
         ],
         "z": [
          4,
          7
         ]
        },
        {
         "hoverinfo": "skip",
         "line": {
          "color": "green",
          "width": 2
         },
         "mode": "lines",
         "showlegend": false,
         "type": "scatter3d",
         "x": [
          4,
          4
         ],
         "y": [
          3,
          4
         ],
         "z": [
          4,
          4
         ]
        },
        {
         "hoverinfo": "skip",
         "line": {
          "color": "green",
          "width": 2
         },
         "mode": "lines",
         "showlegend": false,
         "type": "scatter3d",
         "x": [
          4,
          4
         ],
         "y": [
          3,
          5
         ],
         "z": [
          4,
          4
         ]
        },
        {
         "hoverinfo": "skip",
         "line": {
          "color": "green",
          "width": 2
         },
         "mode": "lines",
         "showlegend": false,
         "type": "scatter3d",
         "x": [
          4,
          5
         ],
         "y": [
          3,
          3
         ],
         "z": [
          4,
          4
         ]
        },
        {
         "hoverinfo": "skip",
         "line": {
          "color": "green",
          "width": 2
         },
         "mode": "lines",
         "showlegend": false,
         "type": "scatter3d",
         "x": [
          4,
          4
         ],
         "y": [
          3,
          3
         ],
         "z": [
          5,
          6
         ]
        },
        {
         "hoverinfo": "skip",
         "line": {
          "color": "green",
          "width": 2
         },
         "mode": "lines",
         "showlegend": false,
         "type": "scatter3d",
         "x": [
          4,
          4
         ],
         "y": [
          3,
          3
         ],
         "z": [
          5,
          7
         ]
        },
        {
         "hoverinfo": "skip",
         "line": {
          "color": "green",
          "width": 2
         },
         "mode": "lines",
         "showlegend": false,
         "type": "scatter3d",
         "x": [
          4,
          4
         ],
         "y": [
          3,
          4
         ],
         "z": [
          5,
          5
         ]
        },
        {
         "hoverinfo": "skip",
         "line": {
          "color": "green",
          "width": 2
         },
         "mode": "lines",
         "showlegend": false,
         "type": "scatter3d",
         "x": [
          4,
          4
         ],
         "y": [
          3,
          5
         ],
         "z": [
          5,
          5
         ]
        },
        {
         "hoverinfo": "skip",
         "line": {
          "color": "green",
          "width": 2
         },
         "mode": "lines",
         "showlegend": false,
         "type": "scatter3d",
         "x": [
          4,
          5
         ],
         "y": [
          3,
          3
         ],
         "z": [
          5,
          5
         ]
        },
        {
         "hoverinfo": "skip",
         "line": {
          "color": "green",
          "width": 2
         },
         "mode": "lines",
         "showlegend": false,
         "type": "scatter3d",
         "x": [
          4,
          4
         ],
         "y": [
          3,
          3
         ],
         "z": [
          6,
          7
         ]
        },
        {
         "hoverinfo": "skip",
         "line": {
          "color": "green",
          "width": 2
         },
         "mode": "lines",
         "showlegend": false,
         "type": "scatter3d",
         "x": [
          4,
          4
         ],
         "y": [
          3,
          4
         ],
         "z": [
          6,
          6
         ]
        },
        {
         "hoverinfo": "skip",
         "line": {
          "color": "green",
          "width": 2
         },
         "mode": "lines",
         "showlegend": false,
         "type": "scatter3d",
         "x": [
          4,
          4
         ],
         "y": [
          3,
          5
         ],
         "z": [
          6,
          6
         ]
        },
        {
         "hoverinfo": "skip",
         "line": {
          "color": "green",
          "width": 2
         },
         "mode": "lines",
         "showlegend": false,
         "type": "scatter3d",
         "x": [
          4,
          5
         ],
         "y": [
          3,
          3
         ],
         "z": [
          6,
          6
         ]
        },
        {
         "hoverinfo": "skip",
         "line": {
          "color": "green",
          "width": 2
         },
         "mode": "lines",
         "showlegend": false,
         "type": "scatter3d",
         "x": [
          4,
          4
         ],
         "y": [
          3,
          4
         ],
         "z": [
          7,
          7
         ]
        },
        {
         "hoverinfo": "skip",
         "line": {
          "color": "green",
          "width": 2
         },
         "mode": "lines",
         "showlegend": false,
         "type": "scatter3d",
         "x": [
          4,
          4
         ],
         "y": [
          3,
          5
         ],
         "z": [
          7,
          7
         ]
        },
        {
         "hoverinfo": "skip",
         "line": {
          "color": "green",
          "width": 2
         },
         "mode": "lines",
         "showlegend": false,
         "type": "scatter3d",
         "x": [
          4,
          5
         ],
         "y": [
          3,
          3
         ],
         "z": [
          7,
          7
         ]
        },
        {
         "hoverinfo": "skip",
         "line": {
          "color": "green",
          "width": 2
         },
         "mode": "lines",
         "showlegend": false,
         "type": "scatter3d",
         "x": [
          4,
          4
         ],
         "y": [
          4,
          4
         ],
         "z": [
          0,
          1
         ]
        },
        {
         "hoverinfo": "skip",
         "line": {
          "color": "green",
          "width": 2
         },
         "mode": "lines",
         "showlegend": false,
         "type": "scatter3d",
         "x": [
          4,
          4
         ],
         "y": [
          4,
          4
         ],
         "z": [
          0,
          2
         ]
        },
        {
         "hoverinfo": "skip",
         "line": {
          "color": "green",
          "width": 2
         },
         "mode": "lines",
         "showlegend": false,
         "type": "scatter3d",
         "x": [
          4,
          4
         ],
         "y": [
          4,
          4
         ],
         "z": [
          0,
          3
         ]
        },
        {
         "hoverinfo": "skip",
         "line": {
          "color": "green",
          "width": 2
         },
         "mode": "lines",
         "showlegend": false,
         "type": "scatter3d",
         "x": [
          4,
          4
         ],
         "y": [
          4,
          4
         ],
         "z": [
          0,
          4
         ]
        },
        {
         "hoverinfo": "skip",
         "line": {
          "color": "green",
          "width": 2
         },
         "mode": "lines",
         "showlegend": false,
         "type": "scatter3d",
         "x": [
          4,
          4
         ],
         "y": [
          4,
          4
         ],
         "z": [
          0,
          5
         ]
        },
        {
         "hoverinfo": "skip",
         "line": {
          "color": "green",
          "width": 2
         },
         "mode": "lines",
         "showlegend": false,
         "type": "scatter3d",
         "x": [
          4,
          4
         ],
         "y": [
          4,
          4
         ],
         "z": [
          0,
          6
         ]
        },
        {
         "hoverinfo": "skip",
         "line": {
          "color": "green",
          "width": 2
         },
         "mode": "lines",
         "showlegend": false,
         "type": "scatter3d",
         "x": [
          4,
          4
         ],
         "y": [
          4,
          4
         ],
         "z": [
          0,
          7
         ]
        },
        {
         "hoverinfo": "skip",
         "line": {
          "color": "green",
          "width": 2
         },
         "mode": "lines",
         "showlegend": false,
         "type": "scatter3d",
         "x": [
          4,
          4
         ],
         "y": [
          4,
          5
         ],
         "z": [
          0,
          0
         ]
        },
        {
         "hoverinfo": "skip",
         "line": {
          "color": "green",
          "width": 2
         },
         "mode": "lines",
         "showlegend": false,
         "type": "scatter3d",
         "x": [
          4,
          5
         ],
         "y": [
          4,
          4
         ],
         "z": [
          0,
          0
         ]
        },
        {
         "hoverinfo": "skip",
         "line": {
          "color": "green",
          "width": 2
         },
         "mode": "lines",
         "showlegend": false,
         "type": "scatter3d",
         "x": [
          4,
          4
         ],
         "y": [
          4,
          4
         ],
         "z": [
          1,
          2
         ]
        },
        {
         "hoverinfo": "skip",
         "line": {
          "color": "green",
          "width": 2
         },
         "mode": "lines",
         "showlegend": false,
         "type": "scatter3d",
         "x": [
          4,
          4
         ],
         "y": [
          4,
          4
         ],
         "z": [
          1,
          3
         ]
        },
        {
         "hoverinfo": "skip",
         "line": {
          "color": "green",
          "width": 2
         },
         "mode": "lines",
         "showlegend": false,
         "type": "scatter3d",
         "x": [
          4,
          4
         ],
         "y": [
          4,
          4
         ],
         "z": [
          1,
          4
         ]
        },
        {
         "hoverinfo": "skip",
         "line": {
          "color": "green",
          "width": 2
         },
         "mode": "lines",
         "showlegend": false,
         "type": "scatter3d",
         "x": [
          4,
          4
         ],
         "y": [
          4,
          4
         ],
         "z": [
          1,
          5
         ]
        },
        {
         "hoverinfo": "skip",
         "line": {
          "color": "green",
          "width": 2
         },
         "mode": "lines",
         "showlegend": false,
         "type": "scatter3d",
         "x": [
          4,
          4
         ],
         "y": [
          4,
          4
         ],
         "z": [
          1,
          6
         ]
        },
        {
         "hoverinfo": "skip",
         "line": {
          "color": "green",
          "width": 2
         },
         "mode": "lines",
         "showlegend": false,
         "type": "scatter3d",
         "x": [
          4,
          4
         ],
         "y": [
          4,
          4
         ],
         "z": [
          1,
          7
         ]
        },
        {
         "hoverinfo": "skip",
         "line": {
          "color": "green",
          "width": 2
         },
         "mode": "lines",
         "showlegend": false,
         "type": "scatter3d",
         "x": [
          4,
          4
         ],
         "y": [
          4,
          5
         ],
         "z": [
          1,
          1
         ]
        },
        {
         "hoverinfo": "skip",
         "line": {
          "color": "green",
          "width": 2
         },
         "mode": "lines",
         "showlegend": false,
         "type": "scatter3d",
         "x": [
          4,
          5
         ],
         "y": [
          4,
          4
         ],
         "z": [
          1,
          1
         ]
        },
        {
         "hoverinfo": "skip",
         "line": {
          "color": "green",
          "width": 2
         },
         "mode": "lines",
         "showlegend": false,
         "type": "scatter3d",
         "x": [
          4,
          4
         ],
         "y": [
          4,
          4
         ],
         "z": [
          2,
          3
         ]
        },
        {
         "hoverinfo": "skip",
         "line": {
          "color": "green",
          "width": 2
         },
         "mode": "lines",
         "showlegend": false,
         "type": "scatter3d",
         "x": [
          4,
          4
         ],
         "y": [
          4,
          4
         ],
         "z": [
          2,
          4
         ]
        },
        {
         "hoverinfo": "skip",
         "line": {
          "color": "green",
          "width": 2
         },
         "mode": "lines",
         "showlegend": false,
         "type": "scatter3d",
         "x": [
          4,
          4
         ],
         "y": [
          4,
          4
         ],
         "z": [
          2,
          5
         ]
        },
        {
         "hoverinfo": "skip",
         "line": {
          "color": "green",
          "width": 2
         },
         "mode": "lines",
         "showlegend": false,
         "type": "scatter3d",
         "x": [
          4,
          4
         ],
         "y": [
          4,
          4
         ],
         "z": [
          2,
          6
         ]
        },
        {
         "hoverinfo": "skip",
         "line": {
          "color": "green",
          "width": 2
         },
         "mode": "lines",
         "showlegend": false,
         "type": "scatter3d",
         "x": [
          4,
          4
         ],
         "y": [
          4,
          4
         ],
         "z": [
          2,
          7
         ]
        },
        {
         "hoverinfo": "skip",
         "line": {
          "color": "green",
          "width": 2
         },
         "mode": "lines",
         "showlegend": false,
         "type": "scatter3d",
         "x": [
          4,
          4
         ],
         "y": [
          4,
          5
         ],
         "z": [
          2,
          2
         ]
        },
        {
         "hoverinfo": "skip",
         "line": {
          "color": "green",
          "width": 2
         },
         "mode": "lines",
         "showlegend": false,
         "type": "scatter3d",
         "x": [
          4,
          5
         ],
         "y": [
          4,
          4
         ],
         "z": [
          2,
          2
         ]
        },
        {
         "hoverinfo": "skip",
         "line": {
          "color": "green",
          "width": 2
         },
         "mode": "lines",
         "showlegend": false,
         "type": "scatter3d",
         "x": [
          4,
          4
         ],
         "y": [
          4,
          4
         ],
         "z": [
          3,
          4
         ]
        },
        {
         "hoverinfo": "skip",
         "line": {
          "color": "green",
          "width": 2
         },
         "mode": "lines",
         "showlegend": false,
         "type": "scatter3d",
         "x": [
          4,
          4
         ],
         "y": [
          4,
          4
         ],
         "z": [
          3,
          5
         ]
        },
        {
         "hoverinfo": "skip",
         "line": {
          "color": "green",
          "width": 2
         },
         "mode": "lines",
         "showlegend": false,
         "type": "scatter3d",
         "x": [
          4,
          4
         ],
         "y": [
          4,
          4
         ],
         "z": [
          3,
          6
         ]
        },
        {
         "hoverinfo": "skip",
         "line": {
          "color": "green",
          "width": 2
         },
         "mode": "lines",
         "showlegend": false,
         "type": "scatter3d",
         "x": [
          4,
          4
         ],
         "y": [
          4,
          4
         ],
         "z": [
          3,
          7
         ]
        },
        {
         "hoverinfo": "skip",
         "line": {
          "color": "green",
          "width": 2
         },
         "mode": "lines",
         "showlegend": false,
         "type": "scatter3d",
         "x": [
          4,
          4
         ],
         "y": [
          4,
          5
         ],
         "z": [
          3,
          3
         ]
        },
        {
         "hoverinfo": "skip",
         "line": {
          "color": "green",
          "width": 2
         },
         "mode": "lines",
         "showlegend": false,
         "type": "scatter3d",
         "x": [
          4,
          5
         ],
         "y": [
          4,
          4
         ],
         "z": [
          3,
          3
         ]
        },
        {
         "hoverinfo": "skip",
         "line": {
          "color": "green",
          "width": 2
         },
         "mode": "lines",
         "showlegend": false,
         "type": "scatter3d",
         "x": [
          4,
          4
         ],
         "y": [
          4,
          4
         ],
         "z": [
          4,
          5
         ]
        },
        {
         "hoverinfo": "skip",
         "line": {
          "color": "green",
          "width": 2
         },
         "mode": "lines",
         "showlegend": false,
         "type": "scatter3d",
         "x": [
          4,
          4
         ],
         "y": [
          4,
          4
         ],
         "z": [
          4,
          6
         ]
        },
        {
         "hoverinfo": "skip",
         "line": {
          "color": "green",
          "width": 2
         },
         "mode": "lines",
         "showlegend": false,
         "type": "scatter3d",
         "x": [
          4,
          4
         ],
         "y": [
          4,
          4
         ],
         "z": [
          4,
          7
         ]
        },
        {
         "hoverinfo": "skip",
         "line": {
          "color": "green",
          "width": 2
         },
         "mode": "lines",
         "showlegend": false,
         "type": "scatter3d",
         "x": [
          4,
          4
         ],
         "y": [
          4,
          5
         ],
         "z": [
          4,
          4
         ]
        },
        {
         "hoverinfo": "skip",
         "line": {
          "color": "green",
          "width": 2
         },
         "mode": "lines",
         "showlegend": false,
         "type": "scatter3d",
         "x": [
          4,
          5
         ],
         "y": [
          4,
          4
         ],
         "z": [
          4,
          4
         ]
        },
        {
         "hoverinfo": "skip",
         "line": {
          "color": "green",
          "width": 2
         },
         "mode": "lines",
         "showlegend": false,
         "type": "scatter3d",
         "x": [
          4,
          4
         ],
         "y": [
          4,
          4
         ],
         "z": [
          5,
          6
         ]
        },
        {
         "hoverinfo": "skip",
         "line": {
          "color": "green",
          "width": 2
         },
         "mode": "lines",
         "showlegend": false,
         "type": "scatter3d",
         "x": [
          4,
          4
         ],
         "y": [
          4,
          4
         ],
         "z": [
          5,
          7
         ]
        },
        {
         "hoverinfo": "skip",
         "line": {
          "color": "green",
          "width": 2
         },
         "mode": "lines",
         "showlegend": false,
         "type": "scatter3d",
         "x": [
          4,
          4
         ],
         "y": [
          4,
          5
         ],
         "z": [
          5,
          5
         ]
        },
        {
         "hoverinfo": "skip",
         "line": {
          "color": "green",
          "width": 2
         },
         "mode": "lines",
         "showlegend": false,
         "type": "scatter3d",
         "x": [
          4,
          5
         ],
         "y": [
          4,
          4
         ],
         "z": [
          5,
          5
         ]
        },
        {
         "hoverinfo": "skip",
         "line": {
          "color": "green",
          "width": 2
         },
         "mode": "lines",
         "showlegend": false,
         "type": "scatter3d",
         "x": [
          4,
          4
         ],
         "y": [
          4,
          4
         ],
         "z": [
          6,
          7
         ]
        },
        {
         "hoverinfo": "skip",
         "line": {
          "color": "green",
          "width": 2
         },
         "mode": "lines",
         "showlegend": false,
         "type": "scatter3d",
         "x": [
          4,
          4
         ],
         "y": [
          4,
          5
         ],
         "z": [
          6,
          6
         ]
        },
        {
         "hoverinfo": "skip",
         "line": {
          "color": "green",
          "width": 2
         },
         "mode": "lines",
         "showlegend": false,
         "type": "scatter3d",
         "x": [
          4,
          5
         ],
         "y": [
          4,
          4
         ],
         "z": [
          6,
          6
         ]
        },
        {
         "hoverinfo": "skip",
         "line": {
          "color": "green",
          "width": 2
         },
         "mode": "lines",
         "showlegend": false,
         "type": "scatter3d",
         "x": [
          4,
          4
         ],
         "y": [
          4,
          5
         ],
         "z": [
          7,
          7
         ]
        },
        {
         "hoverinfo": "skip",
         "line": {
          "color": "green",
          "width": 2
         },
         "mode": "lines",
         "showlegend": false,
         "type": "scatter3d",
         "x": [
          4,
          5
         ],
         "y": [
          4,
          4
         ],
         "z": [
          7,
          7
         ]
        },
        {
         "hoverinfo": "skip",
         "line": {
          "color": "green",
          "width": 2
         },
         "mode": "lines",
         "showlegend": false,
         "type": "scatter3d",
         "x": [
          4,
          4
         ],
         "y": [
          5,
          5
         ],
         "z": [
          0,
          1
         ]
        },
        {
         "hoverinfo": "skip",
         "line": {
          "color": "green",
          "width": 2
         },
         "mode": "lines",
         "showlegend": false,
         "type": "scatter3d",
         "x": [
          4,
          4
         ],
         "y": [
          5,
          5
         ],
         "z": [
          0,
          2
         ]
        },
        {
         "hoverinfo": "skip",
         "line": {
          "color": "green",
          "width": 2
         },
         "mode": "lines",
         "showlegend": false,
         "type": "scatter3d",
         "x": [
          4,
          4
         ],
         "y": [
          5,
          5
         ],
         "z": [
          0,
          3
         ]
        },
        {
         "hoverinfo": "skip",
         "line": {
          "color": "green",
          "width": 2
         },
         "mode": "lines",
         "showlegend": false,
         "type": "scatter3d",
         "x": [
          4,
          4
         ],
         "y": [
          5,
          5
         ],
         "z": [
          0,
          4
         ]
        },
        {
         "hoverinfo": "skip",
         "line": {
          "color": "green",
          "width": 2
         },
         "mode": "lines",
         "showlegend": false,
         "type": "scatter3d",
         "x": [
          4,
          4
         ],
         "y": [
          5,
          5
         ],
         "z": [
          0,
          5
         ]
        },
        {
         "hoverinfo": "skip",
         "line": {
          "color": "green",
          "width": 2
         },
         "mode": "lines",
         "showlegend": false,
         "type": "scatter3d",
         "x": [
          4,
          4
         ],
         "y": [
          5,
          5
         ],
         "z": [
          0,
          6
         ]
        },
        {
         "hoverinfo": "skip",
         "line": {
          "color": "green",
          "width": 2
         },
         "mode": "lines",
         "showlegend": false,
         "type": "scatter3d",
         "x": [
          4,
          4
         ],
         "y": [
          5,
          5
         ],
         "z": [
          0,
          7
         ]
        },
        {
         "hoverinfo": "skip",
         "line": {
          "color": "green",
          "width": 2
         },
         "mode": "lines",
         "showlegend": false,
         "type": "scatter3d",
         "x": [
          4,
          5
         ],
         "y": [
          5,
          5
         ],
         "z": [
          0,
          0
         ]
        },
        {
         "hoverinfo": "skip",
         "line": {
          "color": "green",
          "width": 2
         },
         "mode": "lines",
         "showlegend": false,
         "type": "scatter3d",
         "x": [
          4,
          4
         ],
         "y": [
          5,
          5
         ],
         "z": [
          1,
          2
         ]
        },
        {
         "hoverinfo": "skip",
         "line": {
          "color": "green",
          "width": 2
         },
         "mode": "lines",
         "showlegend": false,
         "type": "scatter3d",
         "x": [
          4,
          4
         ],
         "y": [
          5,
          5
         ],
         "z": [
          1,
          3
         ]
        },
        {
         "hoverinfo": "skip",
         "line": {
          "color": "green",
          "width": 2
         },
         "mode": "lines",
         "showlegend": false,
         "type": "scatter3d",
         "x": [
          4,
          4
         ],
         "y": [
          5,
          5
         ],
         "z": [
          1,
          4
         ]
        },
        {
         "hoverinfo": "skip",
         "line": {
          "color": "green",
          "width": 2
         },
         "mode": "lines",
         "showlegend": false,
         "type": "scatter3d",
         "x": [
          4,
          4
         ],
         "y": [
          5,
          5
         ],
         "z": [
          1,
          5
         ]
        },
        {
         "hoverinfo": "skip",
         "line": {
          "color": "green",
          "width": 2
         },
         "mode": "lines",
         "showlegend": false,
         "type": "scatter3d",
         "x": [
          4,
          4
         ],
         "y": [
          5,
          5
         ],
         "z": [
          1,
          6
         ]
        },
        {
         "hoverinfo": "skip",
         "line": {
          "color": "green",
          "width": 2
         },
         "mode": "lines",
         "showlegend": false,
         "type": "scatter3d",
         "x": [
          4,
          4
         ],
         "y": [
          5,
          5
         ],
         "z": [
          1,
          7
         ]
        },
        {
         "hoverinfo": "skip",
         "line": {
          "color": "green",
          "width": 2
         },
         "mode": "lines",
         "showlegend": false,
         "type": "scatter3d",
         "x": [
          4,
          5
         ],
         "y": [
          5,
          5
         ],
         "z": [
          1,
          1
         ]
        },
        {
         "hoverinfo": "skip",
         "line": {
          "color": "green",
          "width": 2
         },
         "mode": "lines",
         "showlegend": false,
         "type": "scatter3d",
         "x": [
          4,
          4
         ],
         "y": [
          5,
          5
         ],
         "z": [
          2,
          3
         ]
        },
        {
         "hoverinfo": "skip",
         "line": {
          "color": "green",
          "width": 2
         },
         "mode": "lines",
         "showlegend": false,
         "type": "scatter3d",
         "x": [
          4,
          4
         ],
         "y": [
          5,
          5
         ],
         "z": [
          2,
          4
         ]
        },
        {
         "hoverinfo": "skip",
         "line": {
          "color": "green",
          "width": 2
         },
         "mode": "lines",
         "showlegend": false,
         "type": "scatter3d",
         "x": [
          4,
          4
         ],
         "y": [
          5,
          5
         ],
         "z": [
          2,
          5
         ]
        },
        {
         "hoverinfo": "skip",
         "line": {
          "color": "green",
          "width": 2
         },
         "mode": "lines",
         "showlegend": false,
         "type": "scatter3d",
         "x": [
          4,
          4
         ],
         "y": [
          5,
          5
         ],
         "z": [
          2,
          6
         ]
        },
        {
         "hoverinfo": "skip",
         "line": {
          "color": "green",
          "width": 2
         },
         "mode": "lines",
         "showlegend": false,
         "type": "scatter3d",
         "x": [
          4,
          4
         ],
         "y": [
          5,
          5
         ],
         "z": [
          2,
          7
         ]
        },
        {
         "hoverinfo": "skip",
         "line": {
          "color": "green",
          "width": 2
         },
         "mode": "lines",
         "showlegend": false,
         "type": "scatter3d",
         "x": [
          4,
          5
         ],
         "y": [
          5,
          5
         ],
         "z": [
          2,
          2
         ]
        },
        {
         "hoverinfo": "skip",
         "line": {
          "color": "green",
          "width": 2
         },
         "mode": "lines",
         "showlegend": false,
         "type": "scatter3d",
         "x": [
          4,
          4
         ],
         "y": [
          5,
          5
         ],
         "z": [
          3,
          4
         ]
        },
        {
         "hoverinfo": "skip",
         "line": {
          "color": "green",
          "width": 2
         },
         "mode": "lines",
         "showlegend": false,
         "type": "scatter3d",
         "x": [
          4,
          4
         ],
         "y": [
          5,
          5
         ],
         "z": [
          3,
          5
         ]
        },
        {
         "hoverinfo": "skip",
         "line": {
          "color": "green",
          "width": 2
         },
         "mode": "lines",
         "showlegend": false,
         "type": "scatter3d",
         "x": [
          4,
          4
         ],
         "y": [
          5,
          5
         ],
         "z": [
          3,
          6
         ]
        },
        {
         "hoverinfo": "skip",
         "line": {
          "color": "green",
          "width": 2
         },
         "mode": "lines",
         "showlegend": false,
         "type": "scatter3d",
         "x": [
          4,
          4
         ],
         "y": [
          5,
          5
         ],
         "z": [
          3,
          7
         ]
        },
        {
         "hoverinfo": "skip",
         "line": {
          "color": "green",
          "width": 2
         },
         "mode": "lines",
         "showlegend": false,
         "type": "scatter3d",
         "x": [
          4,
          5
         ],
         "y": [
          5,
          5
         ],
         "z": [
          3,
          3
         ]
        },
        {
         "hoverinfo": "skip",
         "line": {
          "color": "green",
          "width": 2
         },
         "mode": "lines",
         "showlegend": false,
         "type": "scatter3d",
         "x": [
          4,
          4
         ],
         "y": [
          5,
          5
         ],
         "z": [
          4,
          5
         ]
        },
        {
         "hoverinfo": "skip",
         "line": {
          "color": "green",
          "width": 2
         },
         "mode": "lines",
         "showlegend": false,
         "type": "scatter3d",
         "x": [
          4,
          4
         ],
         "y": [
          5,
          5
         ],
         "z": [
          4,
          6
         ]
        },
        {
         "hoverinfo": "skip",
         "line": {
          "color": "green",
          "width": 2
         },
         "mode": "lines",
         "showlegend": false,
         "type": "scatter3d",
         "x": [
          4,
          4
         ],
         "y": [
          5,
          5
         ],
         "z": [
          4,
          7
         ]
        },
        {
         "hoverinfo": "skip",
         "line": {
          "color": "green",
          "width": 2
         },
         "mode": "lines",
         "showlegend": false,
         "type": "scatter3d",
         "x": [
          4,
          5
         ],
         "y": [
          5,
          5
         ],
         "z": [
          4,
          4
         ]
        },
        {
         "hoverinfo": "skip",
         "line": {
          "color": "green",
          "width": 2
         },
         "mode": "lines",
         "showlegend": false,
         "type": "scatter3d",
         "x": [
          4,
          4
         ],
         "y": [
          5,
          5
         ],
         "z": [
          5,
          6
         ]
        },
        {
         "hoverinfo": "skip",
         "line": {
          "color": "green",
          "width": 2
         },
         "mode": "lines",
         "showlegend": false,
         "type": "scatter3d",
         "x": [
          4,
          4
         ],
         "y": [
          5,
          5
         ],
         "z": [
          5,
          7
         ]
        },
        {
         "hoverinfo": "skip",
         "line": {
          "color": "green",
          "width": 2
         },
         "mode": "lines",
         "showlegend": false,
         "type": "scatter3d",
         "x": [
          4,
          5
         ],
         "y": [
          5,
          5
         ],
         "z": [
          5,
          5
         ]
        },
        {
         "hoverinfo": "skip",
         "line": {
          "color": "green",
          "width": 2
         },
         "mode": "lines",
         "showlegend": false,
         "type": "scatter3d",
         "x": [
          4,
          4
         ],
         "y": [
          5,
          5
         ],
         "z": [
          6,
          7
         ]
        },
        {
         "hoverinfo": "skip",
         "line": {
          "color": "green",
          "width": 2
         },
         "mode": "lines",
         "showlegend": false,
         "type": "scatter3d",
         "x": [
          4,
          5
         ],
         "y": [
          5,
          5
         ],
         "z": [
          6,
          6
         ]
        },
        {
         "hoverinfo": "skip",
         "line": {
          "color": "green",
          "width": 2
         },
         "mode": "lines",
         "showlegend": false,
         "type": "scatter3d",
         "x": [
          4,
          5
         ],
         "y": [
          5,
          5
         ],
         "z": [
          7,
          7
         ]
        },
        {
         "hoverinfo": "skip",
         "line": {
          "color": "green",
          "width": 2
         },
         "mode": "lines",
         "showlegend": false,
         "type": "scatter3d",
         "x": [
          5,
          5
         ],
         "y": [
          0,
          0
         ],
         "z": [
          0,
          1
         ]
        },
        {
         "hoverinfo": "skip",
         "line": {
          "color": "green",
          "width": 2
         },
         "mode": "lines",
         "showlegend": false,
         "type": "scatter3d",
         "x": [
          5,
          5
         ],
         "y": [
          0,
          0
         ],
         "z": [
          0,
          2
         ]
        },
        {
         "hoverinfo": "skip",
         "line": {
          "color": "green",
          "width": 2
         },
         "mode": "lines",
         "showlegend": false,
         "type": "scatter3d",
         "x": [
          5,
          5
         ],
         "y": [
          0,
          0
         ],
         "z": [
          0,
          3
         ]
        },
        {
         "hoverinfo": "skip",
         "line": {
          "color": "green",
          "width": 2
         },
         "mode": "lines",
         "showlegend": false,
         "type": "scatter3d",
         "x": [
          5,
          5
         ],
         "y": [
          0,
          0
         ],
         "z": [
          0,
          4
         ]
        },
        {
         "hoverinfo": "skip",
         "line": {
          "color": "green",
          "width": 2
         },
         "mode": "lines",
         "showlegend": false,
         "type": "scatter3d",
         "x": [
          5,
          5
         ],
         "y": [
          0,
          0
         ],
         "z": [
          0,
          5
         ]
        },
        {
         "hoverinfo": "skip",
         "line": {
          "color": "green",
          "width": 2
         },
         "mode": "lines",
         "showlegend": false,
         "type": "scatter3d",
         "x": [
          5,
          5
         ],
         "y": [
          0,
          0
         ],
         "z": [
          0,
          6
         ]
        },
        {
         "hoverinfo": "skip",
         "line": {
          "color": "green",
          "width": 2
         },
         "mode": "lines",
         "showlegend": false,
         "type": "scatter3d",
         "x": [
          5,
          5
         ],
         "y": [
          0,
          0
         ],
         "z": [
          0,
          7
         ]
        },
        {
         "hoverinfo": "skip",
         "line": {
          "color": "green",
          "width": 2
         },
         "mode": "lines",
         "showlegend": false,
         "type": "scatter3d",
         "x": [
          5,
          5
         ],
         "y": [
          0,
          1
         ],
         "z": [
          0,
          0
         ]
        },
        {
         "hoverinfo": "skip",
         "line": {
          "color": "green",
          "width": 2
         },
         "mode": "lines",
         "showlegend": false,
         "type": "scatter3d",
         "x": [
          5,
          5
         ],
         "y": [
          0,
          2
         ],
         "z": [
          0,
          0
         ]
        },
        {
         "hoverinfo": "skip",
         "line": {
          "color": "green",
          "width": 2
         },
         "mode": "lines",
         "showlegend": false,
         "type": "scatter3d",
         "x": [
          5,
          5
         ],
         "y": [
          0,
          3
         ],
         "z": [
          0,
          0
         ]
        },
        {
         "hoverinfo": "skip",
         "line": {
          "color": "green",
          "width": 2
         },
         "mode": "lines",
         "showlegend": false,
         "type": "scatter3d",
         "x": [
          5,
          5
         ],
         "y": [
          0,
          4
         ],
         "z": [
          0,
          0
         ]
        },
        {
         "hoverinfo": "skip",
         "line": {
          "color": "green",
          "width": 2
         },
         "mode": "lines",
         "showlegend": false,
         "type": "scatter3d",
         "x": [
          5,
          5
         ],
         "y": [
          0,
          5
         ],
         "z": [
          0,
          0
         ]
        },
        {
         "hoverinfo": "skip",
         "line": {
          "color": "green",
          "width": 2
         },
         "mode": "lines",
         "showlegend": false,
         "type": "scatter3d",
         "x": [
          5,
          5
         ],
         "y": [
          0,
          0
         ],
         "z": [
          1,
          2
         ]
        },
        {
         "hoverinfo": "skip",
         "line": {
          "color": "green",
          "width": 2
         },
         "mode": "lines",
         "showlegend": false,
         "type": "scatter3d",
         "x": [
          5,
          5
         ],
         "y": [
          0,
          0
         ],
         "z": [
          1,
          3
         ]
        },
        {
         "hoverinfo": "skip",
         "line": {
          "color": "green",
          "width": 2
         },
         "mode": "lines",
         "showlegend": false,
         "type": "scatter3d",
         "x": [
          5,
          5
         ],
         "y": [
          0,
          0
         ],
         "z": [
          1,
          4
         ]
        },
        {
         "hoverinfo": "skip",
         "line": {
          "color": "green",
          "width": 2
         },
         "mode": "lines",
         "showlegend": false,
         "type": "scatter3d",
         "x": [
          5,
          5
         ],
         "y": [
          0,
          0
         ],
         "z": [
          1,
          5
         ]
        },
        {
         "hoverinfo": "skip",
         "line": {
          "color": "green",
          "width": 2
         },
         "mode": "lines",
         "showlegend": false,
         "type": "scatter3d",
         "x": [
          5,
          5
         ],
         "y": [
          0,
          0
         ],
         "z": [
          1,
          6
         ]
        },
        {
         "hoverinfo": "skip",
         "line": {
          "color": "green",
          "width": 2
         },
         "mode": "lines",
         "showlegend": false,
         "type": "scatter3d",
         "x": [
          5,
          5
         ],
         "y": [
          0,
          0
         ],
         "z": [
          1,
          7
         ]
        },
        {
         "hoverinfo": "skip",
         "line": {
          "color": "green",
          "width": 2
         },
         "mode": "lines",
         "showlegend": false,
         "type": "scatter3d",
         "x": [
          5,
          5
         ],
         "y": [
          0,
          1
         ],
         "z": [
          1,
          1
         ]
        },
        {
         "hoverinfo": "skip",
         "line": {
          "color": "green",
          "width": 2
         },
         "mode": "lines",
         "showlegend": false,
         "type": "scatter3d",
         "x": [
          5,
          5
         ],
         "y": [
          0,
          2
         ],
         "z": [
          1,
          1
         ]
        },
        {
         "hoverinfo": "skip",
         "line": {
          "color": "green",
          "width": 2
         },
         "mode": "lines",
         "showlegend": false,
         "type": "scatter3d",
         "x": [
          5,
          5
         ],
         "y": [
          0,
          3
         ],
         "z": [
          1,
          1
         ]
        },
        {
         "hoverinfo": "skip",
         "line": {
          "color": "green",
          "width": 2
         },
         "mode": "lines",
         "showlegend": false,
         "type": "scatter3d",
         "x": [
          5,
          5
         ],
         "y": [
          0,
          4
         ],
         "z": [
          1,
          1
         ]
        },
        {
         "hoverinfo": "skip",
         "line": {
          "color": "green",
          "width": 2
         },
         "mode": "lines",
         "showlegend": false,
         "type": "scatter3d",
         "x": [
          5,
          5
         ],
         "y": [
          0,
          5
         ],
         "z": [
          1,
          1
         ]
        },
        {
         "hoverinfo": "skip",
         "line": {
          "color": "green",
          "width": 2
         },
         "mode": "lines",
         "showlegend": false,
         "type": "scatter3d",
         "x": [
          5,
          5
         ],
         "y": [
          0,
          0
         ],
         "z": [
          2,
          3
         ]
        },
        {
         "hoverinfo": "skip",
         "line": {
          "color": "green",
          "width": 2
         },
         "mode": "lines",
         "showlegend": false,
         "type": "scatter3d",
         "x": [
          5,
          5
         ],
         "y": [
          0,
          0
         ],
         "z": [
          2,
          4
         ]
        },
        {
         "hoverinfo": "skip",
         "line": {
          "color": "green",
          "width": 2
         },
         "mode": "lines",
         "showlegend": false,
         "type": "scatter3d",
         "x": [
          5,
          5
         ],
         "y": [
          0,
          0
         ],
         "z": [
          2,
          5
         ]
        },
        {
         "hoverinfo": "skip",
         "line": {
          "color": "green",
          "width": 2
         },
         "mode": "lines",
         "showlegend": false,
         "type": "scatter3d",
         "x": [
          5,
          5
         ],
         "y": [
          0,
          0
         ],
         "z": [
          2,
          6
         ]
        },
        {
         "hoverinfo": "skip",
         "line": {
          "color": "green",
          "width": 2
         },
         "mode": "lines",
         "showlegend": false,
         "type": "scatter3d",
         "x": [
          5,
          5
         ],
         "y": [
          0,
          0
         ],
         "z": [
          2,
          7
         ]
        },
        {
         "hoverinfo": "skip",
         "line": {
          "color": "green",
          "width": 2
         },
         "mode": "lines",
         "showlegend": false,
         "type": "scatter3d",
         "x": [
          5,
          5
         ],
         "y": [
          0,
          1
         ],
         "z": [
          2,
          2
         ]
        },
        {
         "hoverinfo": "skip",
         "line": {
          "color": "green",
          "width": 2
         },
         "mode": "lines",
         "showlegend": false,
         "type": "scatter3d",
         "x": [
          5,
          5
         ],
         "y": [
          0,
          2
         ],
         "z": [
          2,
          2
         ]
        },
        {
         "hoverinfo": "skip",
         "line": {
          "color": "green",
          "width": 2
         },
         "mode": "lines",
         "showlegend": false,
         "type": "scatter3d",
         "x": [
          5,
          5
         ],
         "y": [
          0,
          3
         ],
         "z": [
          2,
          2
         ]
        },
        {
         "hoverinfo": "skip",
         "line": {
          "color": "green",
          "width": 2
         },
         "mode": "lines",
         "showlegend": false,
         "type": "scatter3d",
         "x": [
          5,
          5
         ],
         "y": [
          0,
          4
         ],
         "z": [
          2,
          2
         ]
        },
        {
         "hoverinfo": "skip",
         "line": {
          "color": "green",
          "width": 2
         },
         "mode": "lines",
         "showlegend": false,
         "type": "scatter3d",
         "x": [
          5,
          5
         ],
         "y": [
          0,
          5
         ],
         "z": [
          2,
          2
         ]
        },
        {
         "hoverinfo": "skip",
         "line": {
          "color": "green",
          "width": 2
         },
         "mode": "lines",
         "showlegend": false,
         "type": "scatter3d",
         "x": [
          5,
          5
         ],
         "y": [
          0,
          0
         ],
         "z": [
          3,
          4
         ]
        },
        {
         "hoverinfo": "skip",
         "line": {
          "color": "green",
          "width": 2
         },
         "mode": "lines",
         "showlegend": false,
         "type": "scatter3d",
         "x": [
          5,
          5
         ],
         "y": [
          0,
          0
         ],
         "z": [
          3,
          5
         ]
        },
        {
         "hoverinfo": "skip",
         "line": {
          "color": "green",
          "width": 2
         },
         "mode": "lines",
         "showlegend": false,
         "type": "scatter3d",
         "x": [
          5,
          5
         ],
         "y": [
          0,
          0
         ],
         "z": [
          3,
          6
         ]
        },
        {
         "hoverinfo": "skip",
         "line": {
          "color": "green",
          "width": 2
         },
         "mode": "lines",
         "showlegend": false,
         "type": "scatter3d",
         "x": [
          5,
          5
         ],
         "y": [
          0,
          0
         ],
         "z": [
          3,
          7
         ]
        },
        {
         "hoverinfo": "skip",
         "line": {
          "color": "green",
          "width": 2
         },
         "mode": "lines",
         "showlegend": false,
         "type": "scatter3d",
         "x": [
          5,
          5
         ],
         "y": [
          0,
          1
         ],
         "z": [
          3,
          3
         ]
        },
        {
         "hoverinfo": "skip",
         "line": {
          "color": "green",
          "width": 2
         },
         "mode": "lines",
         "showlegend": false,
         "type": "scatter3d",
         "x": [
          5,
          5
         ],
         "y": [
          0,
          2
         ],
         "z": [
          3,
          3
         ]
        },
        {
         "hoverinfo": "skip",
         "line": {
          "color": "green",
          "width": 2
         },
         "mode": "lines",
         "showlegend": false,
         "type": "scatter3d",
         "x": [
          5,
          5
         ],
         "y": [
          0,
          3
         ],
         "z": [
          3,
          3
         ]
        },
        {
         "hoverinfo": "skip",
         "line": {
          "color": "green",
          "width": 2
         },
         "mode": "lines",
         "showlegend": false,
         "type": "scatter3d",
         "x": [
          5,
          5
         ],
         "y": [
          0,
          4
         ],
         "z": [
          3,
          3
         ]
        },
        {
         "hoverinfo": "skip",
         "line": {
          "color": "green",
          "width": 2
         },
         "mode": "lines",
         "showlegend": false,
         "type": "scatter3d",
         "x": [
          5,
          5
         ],
         "y": [
          0,
          5
         ],
         "z": [
          3,
          3
         ]
        },
        {
         "hoverinfo": "skip",
         "line": {
          "color": "green",
          "width": 2
         },
         "mode": "lines",
         "showlegend": false,
         "type": "scatter3d",
         "x": [
          5,
          5
         ],
         "y": [
          0,
          0
         ],
         "z": [
          4,
          5
         ]
        },
        {
         "hoverinfo": "skip",
         "line": {
          "color": "green",
          "width": 2
         },
         "mode": "lines",
         "showlegend": false,
         "type": "scatter3d",
         "x": [
          5,
          5
         ],
         "y": [
          0,
          0
         ],
         "z": [
          4,
          6
         ]
        },
        {
         "hoverinfo": "skip",
         "line": {
          "color": "green",
          "width": 2
         },
         "mode": "lines",
         "showlegend": false,
         "type": "scatter3d",
         "x": [
          5,
          5
         ],
         "y": [
          0,
          0
         ],
         "z": [
          4,
          7
         ]
        },
        {
         "hoverinfo": "skip",
         "line": {
          "color": "green",
          "width": 2
         },
         "mode": "lines",
         "showlegend": false,
         "type": "scatter3d",
         "x": [
          5,
          5
         ],
         "y": [
          0,
          1
         ],
         "z": [
          4,
          4
         ]
        },
        {
         "hoverinfo": "skip",
         "line": {
          "color": "green",
          "width": 2
         },
         "mode": "lines",
         "showlegend": false,
         "type": "scatter3d",
         "x": [
          5,
          5
         ],
         "y": [
          0,
          2
         ],
         "z": [
          4,
          4
         ]
        },
        {
         "hoverinfo": "skip",
         "line": {
          "color": "green",
          "width": 2
         },
         "mode": "lines",
         "showlegend": false,
         "type": "scatter3d",
         "x": [
          5,
          5
         ],
         "y": [
          0,
          3
         ],
         "z": [
          4,
          4
         ]
        },
        {
         "hoverinfo": "skip",
         "line": {
          "color": "green",
          "width": 2
         },
         "mode": "lines",
         "showlegend": false,
         "type": "scatter3d",
         "x": [
          5,
          5
         ],
         "y": [
          0,
          4
         ],
         "z": [
          4,
          4
         ]
        },
        {
         "hoverinfo": "skip",
         "line": {
          "color": "green",
          "width": 2
         },
         "mode": "lines",
         "showlegend": false,
         "type": "scatter3d",
         "x": [
          5,
          5
         ],
         "y": [
          0,
          5
         ],
         "z": [
          4,
          4
         ]
        },
        {
         "hoverinfo": "skip",
         "line": {
          "color": "green",
          "width": 2
         },
         "mode": "lines",
         "showlegend": false,
         "type": "scatter3d",
         "x": [
          5,
          5
         ],
         "y": [
          0,
          0
         ],
         "z": [
          5,
          6
         ]
        },
        {
         "hoverinfo": "skip",
         "line": {
          "color": "green",
          "width": 2
         },
         "mode": "lines",
         "showlegend": false,
         "type": "scatter3d",
         "x": [
          5,
          5
         ],
         "y": [
          0,
          0
         ],
         "z": [
          5,
          7
         ]
        },
        {
         "hoverinfo": "skip",
         "line": {
          "color": "green",
          "width": 2
         },
         "mode": "lines",
         "showlegend": false,
         "type": "scatter3d",
         "x": [
          5,
          5
         ],
         "y": [
          0,
          1
         ],
         "z": [
          5,
          5
         ]
        },
        {
         "hoverinfo": "skip",
         "line": {
          "color": "green",
          "width": 2
         },
         "mode": "lines",
         "showlegend": false,
         "type": "scatter3d",
         "x": [
          5,
          5
         ],
         "y": [
          0,
          2
         ],
         "z": [
          5,
          5
         ]
        },
        {
         "hoverinfo": "skip",
         "line": {
          "color": "green",
          "width": 2
         },
         "mode": "lines",
         "showlegend": false,
         "type": "scatter3d",
         "x": [
          5,
          5
         ],
         "y": [
          0,
          3
         ],
         "z": [
          5,
          5
         ]
        },
        {
         "hoverinfo": "skip",
         "line": {
          "color": "green",
          "width": 2
         },
         "mode": "lines",
         "showlegend": false,
         "type": "scatter3d",
         "x": [
          5,
          5
         ],
         "y": [
          0,
          4
         ],
         "z": [
          5,
          5
         ]
        },
        {
         "hoverinfo": "skip",
         "line": {
          "color": "green",
          "width": 2
         },
         "mode": "lines",
         "showlegend": false,
         "type": "scatter3d",
         "x": [
          5,
          5
         ],
         "y": [
          0,
          5
         ],
         "z": [
          5,
          5
         ]
        },
        {
         "hoverinfo": "skip",
         "line": {
          "color": "green",
          "width": 2
         },
         "mode": "lines",
         "showlegend": false,
         "type": "scatter3d",
         "x": [
          5,
          5
         ],
         "y": [
          0,
          0
         ],
         "z": [
          6,
          7
         ]
        },
        {
         "hoverinfo": "skip",
         "line": {
          "color": "green",
          "width": 2
         },
         "mode": "lines",
         "showlegend": false,
         "type": "scatter3d",
         "x": [
          5,
          5
         ],
         "y": [
          0,
          1
         ],
         "z": [
          6,
          6
         ]
        },
        {
         "hoverinfo": "skip",
         "line": {
          "color": "green",
          "width": 2
         },
         "mode": "lines",
         "showlegend": false,
         "type": "scatter3d",
         "x": [
          5,
          5
         ],
         "y": [
          0,
          2
         ],
         "z": [
          6,
          6
         ]
        },
        {
         "hoverinfo": "skip",
         "line": {
          "color": "green",
          "width": 2
         },
         "mode": "lines",
         "showlegend": false,
         "type": "scatter3d",
         "x": [
          5,
          5
         ],
         "y": [
          0,
          3
         ],
         "z": [
          6,
          6
         ]
        },
        {
         "hoverinfo": "skip",
         "line": {
          "color": "green",
          "width": 2
         },
         "mode": "lines",
         "showlegend": false,
         "type": "scatter3d",
         "x": [
          5,
          5
         ],
         "y": [
          0,
          4
         ],
         "z": [
          6,
          6
         ]
        },
        {
         "hoverinfo": "skip",
         "line": {
          "color": "green",
          "width": 2
         },
         "mode": "lines",
         "showlegend": false,
         "type": "scatter3d",
         "x": [
          5,
          5
         ],
         "y": [
          0,
          5
         ],
         "z": [
          6,
          6
         ]
        },
        {
         "hoverinfo": "skip",
         "line": {
          "color": "green",
          "width": 2
         },
         "mode": "lines",
         "showlegend": false,
         "type": "scatter3d",
         "x": [
          5,
          5
         ],
         "y": [
          0,
          1
         ],
         "z": [
          7,
          7
         ]
        },
        {
         "hoverinfo": "skip",
         "line": {
          "color": "green",
          "width": 2
         },
         "mode": "lines",
         "showlegend": false,
         "type": "scatter3d",
         "x": [
          5,
          5
         ],
         "y": [
          0,
          2
         ],
         "z": [
          7,
          7
         ]
        },
        {
         "hoverinfo": "skip",
         "line": {
          "color": "green",
          "width": 2
         },
         "mode": "lines",
         "showlegend": false,
         "type": "scatter3d",
         "x": [
          5,
          5
         ],
         "y": [
          0,
          3
         ],
         "z": [
          7,
          7
         ]
        },
        {
         "hoverinfo": "skip",
         "line": {
          "color": "green",
          "width": 2
         },
         "mode": "lines",
         "showlegend": false,
         "type": "scatter3d",
         "x": [
          5,
          5
         ],
         "y": [
          0,
          4
         ],
         "z": [
          7,
          7
         ]
        },
        {
         "hoverinfo": "skip",
         "line": {
          "color": "green",
          "width": 2
         },
         "mode": "lines",
         "showlegend": false,
         "type": "scatter3d",
         "x": [
          5,
          5
         ],
         "y": [
          0,
          5
         ],
         "z": [
          7,
          7
         ]
        },
        {
         "hoverinfo": "skip",
         "line": {
          "color": "green",
          "width": 2
         },
         "mode": "lines",
         "showlegend": false,
         "type": "scatter3d",
         "x": [
          5,
          5
         ],
         "y": [
          1,
          1
         ],
         "z": [
          0,
          1
         ]
        },
        {
         "hoverinfo": "skip",
         "line": {
          "color": "green",
          "width": 2
         },
         "mode": "lines",
         "showlegend": false,
         "type": "scatter3d",
         "x": [
          5,
          5
         ],
         "y": [
          1,
          1
         ],
         "z": [
          0,
          2
         ]
        },
        {
         "hoverinfo": "skip",
         "line": {
          "color": "green",
          "width": 2
         },
         "mode": "lines",
         "showlegend": false,
         "type": "scatter3d",
         "x": [
          5,
          5
         ],
         "y": [
          1,
          1
         ],
         "z": [
          0,
          3
         ]
        },
        {
         "hoverinfo": "skip",
         "line": {
          "color": "green",
          "width": 2
         },
         "mode": "lines",
         "showlegend": false,
         "type": "scatter3d",
         "x": [
          5,
          5
         ],
         "y": [
          1,
          1
         ],
         "z": [
          0,
          4
         ]
        },
        {
         "hoverinfo": "skip",
         "line": {
          "color": "green",
          "width": 2
         },
         "mode": "lines",
         "showlegend": false,
         "type": "scatter3d",
         "x": [
          5,
          5
         ],
         "y": [
          1,
          1
         ],
         "z": [
          0,
          5
         ]
        },
        {
         "hoverinfo": "skip",
         "line": {
          "color": "green",
          "width": 2
         },
         "mode": "lines",
         "showlegend": false,
         "type": "scatter3d",
         "x": [
          5,
          5
         ],
         "y": [
          1,
          1
         ],
         "z": [
          0,
          6
         ]
        },
        {
         "hoverinfo": "skip",
         "line": {
          "color": "green",
          "width": 2
         },
         "mode": "lines",
         "showlegend": false,
         "type": "scatter3d",
         "x": [
          5,
          5
         ],
         "y": [
          1,
          1
         ],
         "z": [
          0,
          7
         ]
        },
        {
         "hoverinfo": "skip",
         "line": {
          "color": "green",
          "width": 2
         },
         "mode": "lines",
         "showlegend": false,
         "type": "scatter3d",
         "x": [
          5,
          5
         ],
         "y": [
          1,
          2
         ],
         "z": [
          0,
          0
         ]
        },
        {
         "hoverinfo": "skip",
         "line": {
          "color": "green",
          "width": 2
         },
         "mode": "lines",
         "showlegend": false,
         "type": "scatter3d",
         "x": [
          5,
          5
         ],
         "y": [
          1,
          3
         ],
         "z": [
          0,
          0
         ]
        },
        {
         "hoverinfo": "skip",
         "line": {
          "color": "green",
          "width": 2
         },
         "mode": "lines",
         "showlegend": false,
         "type": "scatter3d",
         "x": [
          5,
          5
         ],
         "y": [
          1,
          4
         ],
         "z": [
          0,
          0
         ]
        },
        {
         "hoverinfo": "skip",
         "line": {
          "color": "green",
          "width": 2
         },
         "mode": "lines",
         "showlegend": false,
         "type": "scatter3d",
         "x": [
          5,
          5
         ],
         "y": [
          1,
          5
         ],
         "z": [
          0,
          0
         ]
        },
        {
         "hoverinfo": "skip",
         "line": {
          "color": "green",
          "width": 2
         },
         "mode": "lines",
         "showlegend": false,
         "type": "scatter3d",
         "x": [
          5,
          5
         ],
         "y": [
          1,
          1
         ],
         "z": [
          1,
          2
         ]
        },
        {
         "hoverinfo": "skip",
         "line": {
          "color": "green",
          "width": 2
         },
         "mode": "lines",
         "showlegend": false,
         "type": "scatter3d",
         "x": [
          5,
          5
         ],
         "y": [
          1,
          1
         ],
         "z": [
          1,
          3
         ]
        },
        {
         "hoverinfo": "skip",
         "line": {
          "color": "green",
          "width": 2
         },
         "mode": "lines",
         "showlegend": false,
         "type": "scatter3d",
         "x": [
          5,
          5
         ],
         "y": [
          1,
          1
         ],
         "z": [
          1,
          4
         ]
        },
        {
         "hoverinfo": "skip",
         "line": {
          "color": "green",
          "width": 2
         },
         "mode": "lines",
         "showlegend": false,
         "type": "scatter3d",
         "x": [
          5,
          5
         ],
         "y": [
          1,
          1
         ],
         "z": [
          1,
          5
         ]
        },
        {
         "hoverinfo": "skip",
         "line": {
          "color": "green",
          "width": 2
         },
         "mode": "lines",
         "showlegend": false,
         "type": "scatter3d",
         "x": [
          5,
          5
         ],
         "y": [
          1,
          1
         ],
         "z": [
          1,
          6
         ]
        },
        {
         "hoverinfo": "skip",
         "line": {
          "color": "green",
          "width": 2
         },
         "mode": "lines",
         "showlegend": false,
         "type": "scatter3d",
         "x": [
          5,
          5
         ],
         "y": [
          1,
          1
         ],
         "z": [
          1,
          7
         ]
        },
        {
         "hoverinfo": "skip",
         "line": {
          "color": "green",
          "width": 2
         },
         "mode": "lines",
         "showlegend": false,
         "type": "scatter3d",
         "x": [
          5,
          5
         ],
         "y": [
          1,
          2
         ],
         "z": [
          1,
          1
         ]
        },
        {
         "hoverinfo": "skip",
         "line": {
          "color": "green",
          "width": 2
         },
         "mode": "lines",
         "showlegend": false,
         "type": "scatter3d",
         "x": [
          5,
          5
         ],
         "y": [
          1,
          3
         ],
         "z": [
          1,
          1
         ]
        },
        {
         "hoverinfo": "skip",
         "line": {
          "color": "green",
          "width": 2
         },
         "mode": "lines",
         "showlegend": false,
         "type": "scatter3d",
         "x": [
          5,
          5
         ],
         "y": [
          1,
          4
         ],
         "z": [
          1,
          1
         ]
        },
        {
         "hoverinfo": "skip",
         "line": {
          "color": "green",
          "width": 2
         },
         "mode": "lines",
         "showlegend": false,
         "type": "scatter3d",
         "x": [
          5,
          5
         ],
         "y": [
          1,
          5
         ],
         "z": [
          1,
          1
         ]
        },
        {
         "hoverinfo": "skip",
         "line": {
          "color": "green",
          "width": 2
         },
         "mode": "lines",
         "showlegend": false,
         "type": "scatter3d",
         "x": [
          5,
          5
         ],
         "y": [
          1,
          1
         ],
         "z": [
          2,
          3
         ]
        },
        {
         "hoverinfo": "skip",
         "line": {
          "color": "green",
          "width": 2
         },
         "mode": "lines",
         "showlegend": false,
         "type": "scatter3d",
         "x": [
          5,
          5
         ],
         "y": [
          1,
          1
         ],
         "z": [
          2,
          4
         ]
        },
        {
         "hoverinfo": "skip",
         "line": {
          "color": "green",
          "width": 2
         },
         "mode": "lines",
         "showlegend": false,
         "type": "scatter3d",
         "x": [
          5,
          5
         ],
         "y": [
          1,
          1
         ],
         "z": [
          2,
          5
         ]
        },
        {
         "hoverinfo": "skip",
         "line": {
          "color": "green",
          "width": 2
         },
         "mode": "lines",
         "showlegend": false,
         "type": "scatter3d",
         "x": [
          5,
          5
         ],
         "y": [
          1,
          1
         ],
         "z": [
          2,
          6
         ]
        },
        {
         "hoverinfo": "skip",
         "line": {
          "color": "green",
          "width": 2
         },
         "mode": "lines",
         "showlegend": false,
         "type": "scatter3d",
         "x": [
          5,
          5
         ],
         "y": [
          1,
          1
         ],
         "z": [
          2,
          7
         ]
        },
        {
         "hoverinfo": "skip",
         "line": {
          "color": "green",
          "width": 2
         },
         "mode": "lines",
         "showlegend": false,
         "type": "scatter3d",
         "x": [
          5,
          5
         ],
         "y": [
          1,
          2
         ],
         "z": [
          2,
          2
         ]
        },
        {
         "hoverinfo": "skip",
         "line": {
          "color": "green",
          "width": 2
         },
         "mode": "lines",
         "showlegend": false,
         "type": "scatter3d",
         "x": [
          5,
          5
         ],
         "y": [
          1,
          3
         ],
         "z": [
          2,
          2
         ]
        },
        {
         "hoverinfo": "skip",
         "line": {
          "color": "green",
          "width": 2
         },
         "mode": "lines",
         "showlegend": false,
         "type": "scatter3d",
         "x": [
          5,
          5
         ],
         "y": [
          1,
          4
         ],
         "z": [
          2,
          2
         ]
        },
        {
         "hoverinfo": "skip",
         "line": {
          "color": "green",
          "width": 2
         },
         "mode": "lines",
         "showlegend": false,
         "type": "scatter3d",
         "x": [
          5,
          5
         ],
         "y": [
          1,
          5
         ],
         "z": [
          2,
          2
         ]
        },
        {
         "hoverinfo": "skip",
         "line": {
          "color": "green",
          "width": 2
         },
         "mode": "lines",
         "showlegend": false,
         "type": "scatter3d",
         "x": [
          5,
          5
         ],
         "y": [
          1,
          1
         ],
         "z": [
          3,
          4
         ]
        },
        {
         "hoverinfo": "skip",
         "line": {
          "color": "green",
          "width": 2
         },
         "mode": "lines",
         "showlegend": false,
         "type": "scatter3d",
         "x": [
          5,
          5
         ],
         "y": [
          1,
          1
         ],
         "z": [
          3,
          5
         ]
        },
        {
         "hoverinfo": "skip",
         "line": {
          "color": "green",
          "width": 2
         },
         "mode": "lines",
         "showlegend": false,
         "type": "scatter3d",
         "x": [
          5,
          5
         ],
         "y": [
          1,
          1
         ],
         "z": [
          3,
          6
         ]
        },
        {
         "hoverinfo": "skip",
         "line": {
          "color": "green",
          "width": 2
         },
         "mode": "lines",
         "showlegend": false,
         "type": "scatter3d",
         "x": [
          5,
          5
         ],
         "y": [
          1,
          1
         ],
         "z": [
          3,
          7
         ]
        },
        {
         "hoverinfo": "skip",
         "line": {
          "color": "green",
          "width": 2
         },
         "mode": "lines",
         "showlegend": false,
         "type": "scatter3d",
         "x": [
          5,
          5
         ],
         "y": [
          1,
          2
         ],
         "z": [
          3,
          3
         ]
        },
        {
         "hoverinfo": "skip",
         "line": {
          "color": "green",
          "width": 2
         },
         "mode": "lines",
         "showlegend": false,
         "type": "scatter3d",
         "x": [
          5,
          5
         ],
         "y": [
          1,
          3
         ],
         "z": [
          3,
          3
         ]
        },
        {
         "hoverinfo": "skip",
         "line": {
          "color": "green",
          "width": 2
         },
         "mode": "lines",
         "showlegend": false,
         "type": "scatter3d",
         "x": [
          5,
          5
         ],
         "y": [
          1,
          4
         ],
         "z": [
          3,
          3
         ]
        },
        {
         "hoverinfo": "skip",
         "line": {
          "color": "green",
          "width": 2
         },
         "mode": "lines",
         "showlegend": false,
         "type": "scatter3d",
         "x": [
          5,
          5
         ],
         "y": [
          1,
          5
         ],
         "z": [
          3,
          3
         ]
        },
        {
         "hoverinfo": "skip",
         "line": {
          "color": "green",
          "width": 2
         },
         "mode": "lines",
         "showlegend": false,
         "type": "scatter3d",
         "x": [
          5,
          5
         ],
         "y": [
          1,
          1
         ],
         "z": [
          4,
          5
         ]
        },
        {
         "hoverinfo": "skip",
         "line": {
          "color": "green",
          "width": 2
         },
         "mode": "lines",
         "showlegend": false,
         "type": "scatter3d",
         "x": [
          5,
          5
         ],
         "y": [
          1,
          1
         ],
         "z": [
          4,
          6
         ]
        },
        {
         "hoverinfo": "skip",
         "line": {
          "color": "green",
          "width": 2
         },
         "mode": "lines",
         "showlegend": false,
         "type": "scatter3d",
         "x": [
          5,
          5
         ],
         "y": [
          1,
          1
         ],
         "z": [
          4,
          7
         ]
        },
        {
         "hoverinfo": "skip",
         "line": {
          "color": "green",
          "width": 2
         },
         "mode": "lines",
         "showlegend": false,
         "type": "scatter3d",
         "x": [
          5,
          5
         ],
         "y": [
          1,
          2
         ],
         "z": [
          4,
          4
         ]
        },
        {
         "hoverinfo": "skip",
         "line": {
          "color": "green",
          "width": 2
         },
         "mode": "lines",
         "showlegend": false,
         "type": "scatter3d",
         "x": [
          5,
          5
         ],
         "y": [
          1,
          3
         ],
         "z": [
          4,
          4
         ]
        },
        {
         "hoverinfo": "skip",
         "line": {
          "color": "green",
          "width": 2
         },
         "mode": "lines",
         "showlegend": false,
         "type": "scatter3d",
         "x": [
          5,
          5
         ],
         "y": [
          1,
          4
         ],
         "z": [
          4,
          4
         ]
        },
        {
         "hoverinfo": "skip",
         "line": {
          "color": "green",
          "width": 2
         },
         "mode": "lines",
         "showlegend": false,
         "type": "scatter3d",
         "x": [
          5,
          5
         ],
         "y": [
          1,
          5
         ],
         "z": [
          4,
          4
         ]
        },
        {
         "hoverinfo": "skip",
         "line": {
          "color": "green",
          "width": 2
         },
         "mode": "lines",
         "showlegend": false,
         "type": "scatter3d",
         "x": [
          5,
          5
         ],
         "y": [
          1,
          1
         ],
         "z": [
          5,
          6
         ]
        },
        {
         "hoverinfo": "skip",
         "line": {
          "color": "green",
          "width": 2
         },
         "mode": "lines",
         "showlegend": false,
         "type": "scatter3d",
         "x": [
          5,
          5
         ],
         "y": [
          1,
          1
         ],
         "z": [
          5,
          7
         ]
        },
        {
         "hoverinfo": "skip",
         "line": {
          "color": "green",
          "width": 2
         },
         "mode": "lines",
         "showlegend": false,
         "type": "scatter3d",
         "x": [
          5,
          5
         ],
         "y": [
          1,
          2
         ],
         "z": [
          5,
          5
         ]
        },
        {
         "hoverinfo": "skip",
         "line": {
          "color": "green",
          "width": 2
         },
         "mode": "lines",
         "showlegend": false,
         "type": "scatter3d",
         "x": [
          5,
          5
         ],
         "y": [
          1,
          3
         ],
         "z": [
          5,
          5
         ]
        },
        {
         "hoverinfo": "skip",
         "line": {
          "color": "green",
          "width": 2
         },
         "mode": "lines",
         "showlegend": false,
         "type": "scatter3d",
         "x": [
          5,
          5
         ],
         "y": [
          1,
          4
         ],
         "z": [
          5,
          5
         ]
        },
        {
         "hoverinfo": "skip",
         "line": {
          "color": "green",
          "width": 2
         },
         "mode": "lines",
         "showlegend": false,
         "type": "scatter3d",
         "x": [
          5,
          5
         ],
         "y": [
          1,
          5
         ],
         "z": [
          5,
          5
         ]
        },
        {
         "hoverinfo": "skip",
         "line": {
          "color": "green",
          "width": 2
         },
         "mode": "lines",
         "showlegend": false,
         "type": "scatter3d",
         "x": [
          5,
          5
         ],
         "y": [
          1,
          1
         ],
         "z": [
          6,
          7
         ]
        },
        {
         "hoverinfo": "skip",
         "line": {
          "color": "green",
          "width": 2
         },
         "mode": "lines",
         "showlegend": false,
         "type": "scatter3d",
         "x": [
          5,
          5
         ],
         "y": [
          1,
          2
         ],
         "z": [
          6,
          6
         ]
        },
        {
         "hoverinfo": "skip",
         "line": {
          "color": "green",
          "width": 2
         },
         "mode": "lines",
         "showlegend": false,
         "type": "scatter3d",
         "x": [
          5,
          5
         ],
         "y": [
          1,
          3
         ],
         "z": [
          6,
          6
         ]
        },
        {
         "hoverinfo": "skip",
         "line": {
          "color": "green",
          "width": 2
         },
         "mode": "lines",
         "showlegend": false,
         "type": "scatter3d",
         "x": [
          5,
          5
         ],
         "y": [
          1,
          4
         ],
         "z": [
          6,
          6
         ]
        },
        {
         "hoverinfo": "skip",
         "line": {
          "color": "green",
          "width": 2
         },
         "mode": "lines",
         "showlegend": false,
         "type": "scatter3d",
         "x": [
          5,
          5
         ],
         "y": [
          1,
          5
         ],
         "z": [
          6,
          6
         ]
        },
        {
         "hoverinfo": "skip",
         "line": {
          "color": "green",
          "width": 2
         },
         "mode": "lines",
         "showlegend": false,
         "type": "scatter3d",
         "x": [
          5,
          5
         ],
         "y": [
          1,
          2
         ],
         "z": [
          7,
          7
         ]
        },
        {
         "hoverinfo": "skip",
         "line": {
          "color": "green",
          "width": 2
         },
         "mode": "lines",
         "showlegend": false,
         "type": "scatter3d",
         "x": [
          5,
          5
         ],
         "y": [
          1,
          3
         ],
         "z": [
          7,
          7
         ]
        },
        {
         "hoverinfo": "skip",
         "line": {
          "color": "green",
          "width": 2
         },
         "mode": "lines",
         "showlegend": false,
         "type": "scatter3d",
         "x": [
          5,
          5
         ],
         "y": [
          1,
          4
         ],
         "z": [
          7,
          7
         ]
        },
        {
         "hoverinfo": "skip",
         "line": {
          "color": "green",
          "width": 2
         },
         "mode": "lines",
         "showlegend": false,
         "type": "scatter3d",
         "x": [
          5,
          5
         ],
         "y": [
          1,
          5
         ],
         "z": [
          7,
          7
         ]
        },
        {
         "hoverinfo": "skip",
         "line": {
          "color": "green",
          "width": 2
         },
         "mode": "lines",
         "showlegend": false,
         "type": "scatter3d",
         "x": [
          5,
          5
         ],
         "y": [
          2,
          2
         ],
         "z": [
          0,
          1
         ]
        },
        {
         "hoverinfo": "skip",
         "line": {
          "color": "green",
          "width": 2
         },
         "mode": "lines",
         "showlegend": false,
         "type": "scatter3d",
         "x": [
          5,
          5
         ],
         "y": [
          2,
          2
         ],
         "z": [
          0,
          2
         ]
        },
        {
         "hoverinfo": "skip",
         "line": {
          "color": "green",
          "width": 2
         },
         "mode": "lines",
         "showlegend": false,
         "type": "scatter3d",
         "x": [
          5,
          5
         ],
         "y": [
          2,
          2
         ],
         "z": [
          0,
          3
         ]
        },
        {
         "hoverinfo": "skip",
         "line": {
          "color": "green",
          "width": 2
         },
         "mode": "lines",
         "showlegend": false,
         "type": "scatter3d",
         "x": [
          5,
          5
         ],
         "y": [
          2,
          2
         ],
         "z": [
          0,
          4
         ]
        },
        {
         "hoverinfo": "skip",
         "line": {
          "color": "green",
          "width": 2
         },
         "mode": "lines",
         "showlegend": false,
         "type": "scatter3d",
         "x": [
          5,
          5
         ],
         "y": [
          2,
          2
         ],
         "z": [
          0,
          5
         ]
        },
        {
         "hoverinfo": "skip",
         "line": {
          "color": "green",
          "width": 2
         },
         "mode": "lines",
         "showlegend": false,
         "type": "scatter3d",
         "x": [
          5,
          5
         ],
         "y": [
          2,
          2
         ],
         "z": [
          0,
          6
         ]
        },
        {
         "hoverinfo": "skip",
         "line": {
          "color": "green",
          "width": 2
         },
         "mode": "lines",
         "showlegend": false,
         "type": "scatter3d",
         "x": [
          5,
          5
         ],
         "y": [
          2,
          2
         ],
         "z": [
          0,
          7
         ]
        },
        {
         "hoverinfo": "skip",
         "line": {
          "color": "green",
          "width": 2
         },
         "mode": "lines",
         "showlegend": false,
         "type": "scatter3d",
         "x": [
          5,
          5
         ],
         "y": [
          2,
          3
         ],
         "z": [
          0,
          0
         ]
        },
        {
         "hoverinfo": "skip",
         "line": {
          "color": "green",
          "width": 2
         },
         "mode": "lines",
         "showlegend": false,
         "type": "scatter3d",
         "x": [
          5,
          5
         ],
         "y": [
          2,
          4
         ],
         "z": [
          0,
          0
         ]
        },
        {
         "hoverinfo": "skip",
         "line": {
          "color": "green",
          "width": 2
         },
         "mode": "lines",
         "showlegend": false,
         "type": "scatter3d",
         "x": [
          5,
          5
         ],
         "y": [
          2,
          5
         ],
         "z": [
          0,
          0
         ]
        },
        {
         "hoverinfo": "skip",
         "line": {
          "color": "green",
          "width": 2
         },
         "mode": "lines",
         "showlegend": false,
         "type": "scatter3d",
         "x": [
          5,
          5
         ],
         "y": [
          2,
          2
         ],
         "z": [
          1,
          2
         ]
        },
        {
         "hoverinfo": "skip",
         "line": {
          "color": "green",
          "width": 2
         },
         "mode": "lines",
         "showlegend": false,
         "type": "scatter3d",
         "x": [
          5,
          5
         ],
         "y": [
          2,
          2
         ],
         "z": [
          1,
          3
         ]
        },
        {
         "hoverinfo": "skip",
         "line": {
          "color": "green",
          "width": 2
         },
         "mode": "lines",
         "showlegend": false,
         "type": "scatter3d",
         "x": [
          5,
          5
         ],
         "y": [
          2,
          2
         ],
         "z": [
          1,
          4
         ]
        },
        {
         "hoverinfo": "skip",
         "line": {
          "color": "green",
          "width": 2
         },
         "mode": "lines",
         "showlegend": false,
         "type": "scatter3d",
         "x": [
          5,
          5
         ],
         "y": [
          2,
          2
         ],
         "z": [
          1,
          5
         ]
        },
        {
         "hoverinfo": "skip",
         "line": {
          "color": "green",
          "width": 2
         },
         "mode": "lines",
         "showlegend": false,
         "type": "scatter3d",
         "x": [
          5,
          5
         ],
         "y": [
          2,
          2
         ],
         "z": [
          1,
          6
         ]
        },
        {
         "hoverinfo": "skip",
         "line": {
          "color": "green",
          "width": 2
         },
         "mode": "lines",
         "showlegend": false,
         "type": "scatter3d",
         "x": [
          5,
          5
         ],
         "y": [
          2,
          2
         ],
         "z": [
          1,
          7
         ]
        },
        {
         "hoverinfo": "skip",
         "line": {
          "color": "green",
          "width": 2
         },
         "mode": "lines",
         "showlegend": false,
         "type": "scatter3d",
         "x": [
          5,
          5
         ],
         "y": [
          2,
          3
         ],
         "z": [
          1,
          1
         ]
        },
        {
         "hoverinfo": "skip",
         "line": {
          "color": "green",
          "width": 2
         },
         "mode": "lines",
         "showlegend": false,
         "type": "scatter3d",
         "x": [
          5,
          5
         ],
         "y": [
          2,
          4
         ],
         "z": [
          1,
          1
         ]
        },
        {
         "hoverinfo": "skip",
         "line": {
          "color": "green",
          "width": 2
         },
         "mode": "lines",
         "showlegend": false,
         "type": "scatter3d",
         "x": [
          5,
          5
         ],
         "y": [
          2,
          5
         ],
         "z": [
          1,
          1
         ]
        },
        {
         "hoverinfo": "skip",
         "line": {
          "color": "green",
          "width": 2
         },
         "mode": "lines",
         "showlegend": false,
         "type": "scatter3d",
         "x": [
          5,
          5
         ],
         "y": [
          2,
          2
         ],
         "z": [
          2,
          3
         ]
        },
        {
         "hoverinfo": "skip",
         "line": {
          "color": "green",
          "width": 2
         },
         "mode": "lines",
         "showlegend": false,
         "type": "scatter3d",
         "x": [
          5,
          5
         ],
         "y": [
          2,
          2
         ],
         "z": [
          2,
          4
         ]
        },
        {
         "hoverinfo": "skip",
         "line": {
          "color": "green",
          "width": 2
         },
         "mode": "lines",
         "showlegend": false,
         "type": "scatter3d",
         "x": [
          5,
          5
         ],
         "y": [
          2,
          2
         ],
         "z": [
          2,
          5
         ]
        },
        {
         "hoverinfo": "skip",
         "line": {
          "color": "green",
          "width": 2
         },
         "mode": "lines",
         "showlegend": false,
         "type": "scatter3d",
         "x": [
          5,
          5
         ],
         "y": [
          2,
          2
         ],
         "z": [
          2,
          6
         ]
        },
        {
         "hoverinfo": "skip",
         "line": {
          "color": "green",
          "width": 2
         },
         "mode": "lines",
         "showlegend": false,
         "type": "scatter3d",
         "x": [
          5,
          5
         ],
         "y": [
          2,
          2
         ],
         "z": [
          2,
          7
         ]
        },
        {
         "hoverinfo": "skip",
         "line": {
          "color": "green",
          "width": 2
         },
         "mode": "lines",
         "showlegend": false,
         "type": "scatter3d",
         "x": [
          5,
          5
         ],
         "y": [
          2,
          3
         ],
         "z": [
          2,
          2
         ]
        },
        {
         "hoverinfo": "skip",
         "line": {
          "color": "green",
          "width": 2
         },
         "mode": "lines",
         "showlegend": false,
         "type": "scatter3d",
         "x": [
          5,
          5
         ],
         "y": [
          2,
          4
         ],
         "z": [
          2,
          2
         ]
        },
        {
         "hoverinfo": "skip",
         "line": {
          "color": "green",
          "width": 2
         },
         "mode": "lines",
         "showlegend": false,
         "type": "scatter3d",
         "x": [
          5,
          5
         ],
         "y": [
          2,
          5
         ],
         "z": [
          2,
          2
         ]
        },
        {
         "hoverinfo": "skip",
         "line": {
          "color": "green",
          "width": 2
         },
         "mode": "lines",
         "showlegend": false,
         "type": "scatter3d",
         "x": [
          5,
          5
         ],
         "y": [
          2,
          2
         ],
         "z": [
          3,
          4
         ]
        },
        {
         "hoverinfo": "skip",
         "line": {
          "color": "green",
          "width": 2
         },
         "mode": "lines",
         "showlegend": false,
         "type": "scatter3d",
         "x": [
          5,
          5
         ],
         "y": [
          2,
          2
         ],
         "z": [
          3,
          5
         ]
        },
        {
         "hoverinfo": "skip",
         "line": {
          "color": "green",
          "width": 2
         },
         "mode": "lines",
         "showlegend": false,
         "type": "scatter3d",
         "x": [
          5,
          5
         ],
         "y": [
          2,
          2
         ],
         "z": [
          3,
          6
         ]
        },
        {
         "hoverinfo": "skip",
         "line": {
          "color": "green",
          "width": 2
         },
         "mode": "lines",
         "showlegend": false,
         "type": "scatter3d",
         "x": [
          5,
          5
         ],
         "y": [
          2,
          2
         ],
         "z": [
          3,
          7
         ]
        },
        {
         "hoverinfo": "skip",
         "line": {
          "color": "green",
          "width": 2
         },
         "mode": "lines",
         "showlegend": false,
         "type": "scatter3d",
         "x": [
          5,
          5
         ],
         "y": [
          2,
          3
         ],
         "z": [
          3,
          3
         ]
        },
        {
         "hoverinfo": "skip",
         "line": {
          "color": "green",
          "width": 2
         },
         "mode": "lines",
         "showlegend": false,
         "type": "scatter3d",
         "x": [
          5,
          5
         ],
         "y": [
          2,
          4
         ],
         "z": [
          3,
          3
         ]
        },
        {
         "hoverinfo": "skip",
         "line": {
          "color": "green",
          "width": 2
         },
         "mode": "lines",
         "showlegend": false,
         "type": "scatter3d",
         "x": [
          5,
          5
         ],
         "y": [
          2,
          5
         ],
         "z": [
          3,
          3
         ]
        },
        {
         "hoverinfo": "skip",
         "line": {
          "color": "green",
          "width": 2
         },
         "mode": "lines",
         "showlegend": false,
         "type": "scatter3d",
         "x": [
          5,
          5
         ],
         "y": [
          2,
          2
         ],
         "z": [
          4,
          5
         ]
        },
        {
         "hoverinfo": "skip",
         "line": {
          "color": "green",
          "width": 2
         },
         "mode": "lines",
         "showlegend": false,
         "type": "scatter3d",
         "x": [
          5,
          5
         ],
         "y": [
          2,
          2
         ],
         "z": [
          4,
          6
         ]
        },
        {
         "hoverinfo": "skip",
         "line": {
          "color": "green",
          "width": 2
         },
         "mode": "lines",
         "showlegend": false,
         "type": "scatter3d",
         "x": [
          5,
          5
         ],
         "y": [
          2,
          2
         ],
         "z": [
          4,
          7
         ]
        },
        {
         "hoverinfo": "skip",
         "line": {
          "color": "green",
          "width": 2
         },
         "mode": "lines",
         "showlegend": false,
         "type": "scatter3d",
         "x": [
          5,
          5
         ],
         "y": [
          2,
          3
         ],
         "z": [
          4,
          4
         ]
        },
        {
         "hoverinfo": "skip",
         "line": {
          "color": "green",
          "width": 2
         },
         "mode": "lines",
         "showlegend": false,
         "type": "scatter3d",
         "x": [
          5,
          5
         ],
         "y": [
          2,
          4
         ],
         "z": [
          4,
          4
         ]
        },
        {
         "hoverinfo": "skip",
         "line": {
          "color": "green",
          "width": 2
         },
         "mode": "lines",
         "showlegend": false,
         "type": "scatter3d",
         "x": [
          5,
          5
         ],
         "y": [
          2,
          5
         ],
         "z": [
          4,
          4
         ]
        },
        {
         "hoverinfo": "skip",
         "line": {
          "color": "green",
          "width": 2
         },
         "mode": "lines",
         "showlegend": false,
         "type": "scatter3d",
         "x": [
          5,
          5
         ],
         "y": [
          2,
          2
         ],
         "z": [
          5,
          6
         ]
        },
        {
         "hoverinfo": "skip",
         "line": {
          "color": "green",
          "width": 2
         },
         "mode": "lines",
         "showlegend": false,
         "type": "scatter3d",
         "x": [
          5,
          5
         ],
         "y": [
          2,
          2
         ],
         "z": [
          5,
          7
         ]
        },
        {
         "hoverinfo": "skip",
         "line": {
          "color": "green",
          "width": 2
         },
         "mode": "lines",
         "showlegend": false,
         "type": "scatter3d",
         "x": [
          5,
          5
         ],
         "y": [
          2,
          3
         ],
         "z": [
          5,
          5
         ]
        },
        {
         "hoverinfo": "skip",
         "line": {
          "color": "green",
          "width": 2
         },
         "mode": "lines",
         "showlegend": false,
         "type": "scatter3d",
         "x": [
          5,
          5
         ],
         "y": [
          2,
          4
         ],
         "z": [
          5,
          5
         ]
        },
        {
         "hoverinfo": "skip",
         "line": {
          "color": "green",
          "width": 2
         },
         "mode": "lines",
         "showlegend": false,
         "type": "scatter3d",
         "x": [
          5,
          5
         ],
         "y": [
          2,
          5
         ],
         "z": [
          5,
          5
         ]
        },
        {
         "hoverinfo": "skip",
         "line": {
          "color": "green",
          "width": 2
         },
         "mode": "lines",
         "showlegend": false,
         "type": "scatter3d",
         "x": [
          5,
          5
         ],
         "y": [
          2,
          2
         ],
         "z": [
          6,
          7
         ]
        },
        {
         "hoverinfo": "skip",
         "line": {
          "color": "green",
          "width": 2
         },
         "mode": "lines",
         "showlegend": false,
         "type": "scatter3d",
         "x": [
          5,
          5
         ],
         "y": [
          2,
          3
         ],
         "z": [
          6,
          6
         ]
        },
        {
         "hoverinfo": "skip",
         "line": {
          "color": "green",
          "width": 2
         },
         "mode": "lines",
         "showlegend": false,
         "type": "scatter3d",
         "x": [
          5,
          5
         ],
         "y": [
          2,
          4
         ],
         "z": [
          6,
          6
         ]
        },
        {
         "hoverinfo": "skip",
         "line": {
          "color": "green",
          "width": 2
         },
         "mode": "lines",
         "showlegend": false,
         "type": "scatter3d",
         "x": [
          5,
          5
         ],
         "y": [
          2,
          5
         ],
         "z": [
          6,
          6
         ]
        },
        {
         "hoverinfo": "skip",
         "line": {
          "color": "green",
          "width": 2
         },
         "mode": "lines",
         "showlegend": false,
         "type": "scatter3d",
         "x": [
          5,
          5
         ],
         "y": [
          2,
          3
         ],
         "z": [
          7,
          7
         ]
        },
        {
         "hoverinfo": "skip",
         "line": {
          "color": "green",
          "width": 2
         },
         "mode": "lines",
         "showlegend": false,
         "type": "scatter3d",
         "x": [
          5,
          5
         ],
         "y": [
          2,
          4
         ],
         "z": [
          7,
          7
         ]
        },
        {
         "hoverinfo": "skip",
         "line": {
          "color": "green",
          "width": 2
         },
         "mode": "lines",
         "showlegend": false,
         "type": "scatter3d",
         "x": [
          5,
          5
         ],
         "y": [
          2,
          5
         ],
         "z": [
          7,
          7
         ]
        },
        {
         "hoverinfo": "skip",
         "line": {
          "color": "green",
          "width": 2
         },
         "mode": "lines",
         "showlegend": false,
         "type": "scatter3d",
         "x": [
          5,
          5
         ],
         "y": [
          3,
          3
         ],
         "z": [
          0,
          1
         ]
        },
        {
         "hoverinfo": "skip",
         "line": {
          "color": "green",
          "width": 2
         },
         "mode": "lines",
         "showlegend": false,
         "type": "scatter3d",
         "x": [
          5,
          5
         ],
         "y": [
          3,
          3
         ],
         "z": [
          0,
          2
         ]
        },
        {
         "hoverinfo": "skip",
         "line": {
          "color": "green",
          "width": 2
         },
         "mode": "lines",
         "showlegend": false,
         "type": "scatter3d",
         "x": [
          5,
          5
         ],
         "y": [
          3,
          3
         ],
         "z": [
          0,
          3
         ]
        },
        {
         "hoverinfo": "skip",
         "line": {
          "color": "green",
          "width": 2
         },
         "mode": "lines",
         "showlegend": false,
         "type": "scatter3d",
         "x": [
          5,
          5
         ],
         "y": [
          3,
          3
         ],
         "z": [
          0,
          4
         ]
        },
        {
         "hoverinfo": "skip",
         "line": {
          "color": "green",
          "width": 2
         },
         "mode": "lines",
         "showlegend": false,
         "type": "scatter3d",
         "x": [
          5,
          5
         ],
         "y": [
          3,
          3
         ],
         "z": [
          0,
          5
         ]
        },
        {
         "hoverinfo": "skip",
         "line": {
          "color": "green",
          "width": 2
         },
         "mode": "lines",
         "showlegend": false,
         "type": "scatter3d",
         "x": [
          5,
          5
         ],
         "y": [
          3,
          3
         ],
         "z": [
          0,
          6
         ]
        },
        {
         "hoverinfo": "skip",
         "line": {
          "color": "green",
          "width": 2
         },
         "mode": "lines",
         "showlegend": false,
         "type": "scatter3d",
         "x": [
          5,
          5
         ],
         "y": [
          3,
          3
         ],
         "z": [
          0,
          7
         ]
        },
        {
         "hoverinfo": "skip",
         "line": {
          "color": "green",
          "width": 2
         },
         "mode": "lines",
         "showlegend": false,
         "type": "scatter3d",
         "x": [
          5,
          5
         ],
         "y": [
          3,
          4
         ],
         "z": [
          0,
          0
         ]
        },
        {
         "hoverinfo": "skip",
         "line": {
          "color": "green",
          "width": 2
         },
         "mode": "lines",
         "showlegend": false,
         "type": "scatter3d",
         "x": [
          5,
          5
         ],
         "y": [
          3,
          5
         ],
         "z": [
          0,
          0
         ]
        },
        {
         "hoverinfo": "skip",
         "line": {
          "color": "green",
          "width": 2
         },
         "mode": "lines",
         "showlegend": false,
         "type": "scatter3d",
         "x": [
          5,
          5
         ],
         "y": [
          3,
          3
         ],
         "z": [
          1,
          2
         ]
        },
        {
         "hoverinfo": "skip",
         "line": {
          "color": "green",
          "width": 2
         },
         "mode": "lines",
         "showlegend": false,
         "type": "scatter3d",
         "x": [
          5,
          5
         ],
         "y": [
          3,
          3
         ],
         "z": [
          1,
          3
         ]
        },
        {
         "hoverinfo": "skip",
         "line": {
          "color": "green",
          "width": 2
         },
         "mode": "lines",
         "showlegend": false,
         "type": "scatter3d",
         "x": [
          5,
          5
         ],
         "y": [
          3,
          3
         ],
         "z": [
          1,
          4
         ]
        },
        {
         "hoverinfo": "skip",
         "line": {
          "color": "green",
          "width": 2
         },
         "mode": "lines",
         "showlegend": false,
         "type": "scatter3d",
         "x": [
          5,
          5
         ],
         "y": [
          3,
          3
         ],
         "z": [
          1,
          5
         ]
        },
        {
         "hoverinfo": "skip",
         "line": {
          "color": "green",
          "width": 2
         },
         "mode": "lines",
         "showlegend": false,
         "type": "scatter3d",
         "x": [
          5,
          5
         ],
         "y": [
          3,
          3
         ],
         "z": [
          1,
          6
         ]
        },
        {
         "hoverinfo": "skip",
         "line": {
          "color": "green",
          "width": 2
         },
         "mode": "lines",
         "showlegend": false,
         "type": "scatter3d",
         "x": [
          5,
          5
         ],
         "y": [
          3,
          3
         ],
         "z": [
          1,
          7
         ]
        },
        {
         "hoverinfo": "skip",
         "line": {
          "color": "green",
          "width": 2
         },
         "mode": "lines",
         "showlegend": false,
         "type": "scatter3d",
         "x": [
          5,
          5
         ],
         "y": [
          3,
          4
         ],
         "z": [
          1,
          1
         ]
        },
        {
         "hoverinfo": "skip",
         "line": {
          "color": "green",
          "width": 2
         },
         "mode": "lines",
         "showlegend": false,
         "type": "scatter3d",
         "x": [
          5,
          5
         ],
         "y": [
          3,
          5
         ],
         "z": [
          1,
          1
         ]
        },
        {
         "hoverinfo": "skip",
         "line": {
          "color": "green",
          "width": 2
         },
         "mode": "lines",
         "showlegend": false,
         "type": "scatter3d",
         "x": [
          5,
          5
         ],
         "y": [
          3,
          3
         ],
         "z": [
          2,
          3
         ]
        },
        {
         "hoverinfo": "skip",
         "line": {
          "color": "green",
          "width": 2
         },
         "mode": "lines",
         "showlegend": false,
         "type": "scatter3d",
         "x": [
          5,
          5
         ],
         "y": [
          3,
          3
         ],
         "z": [
          2,
          4
         ]
        },
        {
         "hoverinfo": "skip",
         "line": {
          "color": "green",
          "width": 2
         },
         "mode": "lines",
         "showlegend": false,
         "type": "scatter3d",
         "x": [
          5,
          5
         ],
         "y": [
          3,
          3
         ],
         "z": [
          2,
          5
         ]
        },
        {
         "hoverinfo": "skip",
         "line": {
          "color": "green",
          "width": 2
         },
         "mode": "lines",
         "showlegend": false,
         "type": "scatter3d",
         "x": [
          5,
          5
         ],
         "y": [
          3,
          3
         ],
         "z": [
          2,
          6
         ]
        },
        {
         "hoverinfo": "skip",
         "line": {
          "color": "green",
          "width": 2
         },
         "mode": "lines",
         "showlegend": false,
         "type": "scatter3d",
         "x": [
          5,
          5
         ],
         "y": [
          3,
          3
         ],
         "z": [
          2,
          7
         ]
        },
        {
         "hoverinfo": "skip",
         "line": {
          "color": "green",
          "width": 2
         },
         "mode": "lines",
         "showlegend": false,
         "type": "scatter3d",
         "x": [
          5,
          5
         ],
         "y": [
          3,
          4
         ],
         "z": [
          2,
          2
         ]
        },
        {
         "hoverinfo": "skip",
         "line": {
          "color": "green",
          "width": 2
         },
         "mode": "lines",
         "showlegend": false,
         "type": "scatter3d",
         "x": [
          5,
          5
         ],
         "y": [
          3,
          5
         ],
         "z": [
          2,
          2
         ]
        },
        {
         "hoverinfo": "skip",
         "line": {
          "color": "green",
          "width": 2
         },
         "mode": "lines",
         "showlegend": false,
         "type": "scatter3d",
         "x": [
          5,
          5
         ],
         "y": [
          3,
          3
         ],
         "z": [
          3,
          4
         ]
        },
        {
         "hoverinfo": "skip",
         "line": {
          "color": "green",
          "width": 2
         },
         "mode": "lines",
         "showlegend": false,
         "type": "scatter3d",
         "x": [
          5,
          5
         ],
         "y": [
          3,
          3
         ],
         "z": [
          3,
          5
         ]
        },
        {
         "hoverinfo": "skip",
         "line": {
          "color": "green",
          "width": 2
         },
         "mode": "lines",
         "showlegend": false,
         "type": "scatter3d",
         "x": [
          5,
          5
         ],
         "y": [
          3,
          3
         ],
         "z": [
          3,
          6
         ]
        },
        {
         "hoverinfo": "skip",
         "line": {
          "color": "green",
          "width": 2
         },
         "mode": "lines",
         "showlegend": false,
         "type": "scatter3d",
         "x": [
          5,
          5
         ],
         "y": [
          3,
          3
         ],
         "z": [
          3,
          7
         ]
        },
        {
         "hoverinfo": "skip",
         "line": {
          "color": "green",
          "width": 2
         },
         "mode": "lines",
         "showlegend": false,
         "type": "scatter3d",
         "x": [
          5,
          5
         ],
         "y": [
          3,
          4
         ],
         "z": [
          3,
          3
         ]
        },
        {
         "hoverinfo": "skip",
         "line": {
          "color": "green",
          "width": 2
         },
         "mode": "lines",
         "showlegend": false,
         "type": "scatter3d",
         "x": [
          5,
          5
         ],
         "y": [
          3,
          5
         ],
         "z": [
          3,
          3
         ]
        },
        {
         "hoverinfo": "skip",
         "line": {
          "color": "green",
          "width": 2
         },
         "mode": "lines",
         "showlegend": false,
         "type": "scatter3d",
         "x": [
          5,
          5
         ],
         "y": [
          3,
          3
         ],
         "z": [
          4,
          5
         ]
        },
        {
         "hoverinfo": "skip",
         "line": {
          "color": "green",
          "width": 2
         },
         "mode": "lines",
         "showlegend": false,
         "type": "scatter3d",
         "x": [
          5,
          5
         ],
         "y": [
          3,
          3
         ],
         "z": [
          4,
          6
         ]
        },
        {
         "hoverinfo": "skip",
         "line": {
          "color": "green",
          "width": 2
         },
         "mode": "lines",
         "showlegend": false,
         "type": "scatter3d",
         "x": [
          5,
          5
         ],
         "y": [
          3,
          3
         ],
         "z": [
          4,
          7
         ]
        },
        {
         "hoverinfo": "skip",
         "line": {
          "color": "green",
          "width": 2
         },
         "mode": "lines",
         "showlegend": false,
         "type": "scatter3d",
         "x": [
          5,
          5
         ],
         "y": [
          3,
          4
         ],
         "z": [
          4,
          4
         ]
        },
        {
         "hoverinfo": "skip",
         "line": {
          "color": "green",
          "width": 2
         },
         "mode": "lines",
         "showlegend": false,
         "type": "scatter3d",
         "x": [
          5,
          5
         ],
         "y": [
          3,
          5
         ],
         "z": [
          4,
          4
         ]
        },
        {
         "hoverinfo": "skip",
         "line": {
          "color": "green",
          "width": 2
         },
         "mode": "lines",
         "showlegend": false,
         "type": "scatter3d",
         "x": [
          5,
          5
         ],
         "y": [
          3,
          3
         ],
         "z": [
          5,
          6
         ]
        },
        {
         "hoverinfo": "skip",
         "line": {
          "color": "green",
          "width": 2
         },
         "mode": "lines",
         "showlegend": false,
         "type": "scatter3d",
         "x": [
          5,
          5
         ],
         "y": [
          3,
          3
         ],
         "z": [
          5,
          7
         ]
        },
        {
         "hoverinfo": "skip",
         "line": {
          "color": "green",
          "width": 2
         },
         "mode": "lines",
         "showlegend": false,
         "type": "scatter3d",
         "x": [
          5,
          5
         ],
         "y": [
          3,
          4
         ],
         "z": [
          5,
          5
         ]
        },
        {
         "hoverinfo": "skip",
         "line": {
          "color": "green",
          "width": 2
         },
         "mode": "lines",
         "showlegend": false,
         "type": "scatter3d",
         "x": [
          5,
          5
         ],
         "y": [
          3,
          5
         ],
         "z": [
          5,
          5
         ]
        },
        {
         "hoverinfo": "skip",
         "line": {
          "color": "green",
          "width": 2
         },
         "mode": "lines",
         "showlegend": false,
         "type": "scatter3d",
         "x": [
          5,
          5
         ],
         "y": [
          3,
          3
         ],
         "z": [
          6,
          7
         ]
        },
        {
         "hoverinfo": "skip",
         "line": {
          "color": "green",
          "width": 2
         },
         "mode": "lines",
         "showlegend": false,
         "type": "scatter3d",
         "x": [
          5,
          5
         ],
         "y": [
          3,
          4
         ],
         "z": [
          6,
          6
         ]
        },
        {
         "hoverinfo": "skip",
         "line": {
          "color": "green",
          "width": 2
         },
         "mode": "lines",
         "showlegend": false,
         "type": "scatter3d",
         "x": [
          5,
          5
         ],
         "y": [
          3,
          5
         ],
         "z": [
          6,
          6
         ]
        },
        {
         "hoverinfo": "skip",
         "line": {
          "color": "green",
          "width": 2
         },
         "mode": "lines",
         "showlegend": false,
         "type": "scatter3d",
         "x": [
          5,
          5
         ],
         "y": [
          3,
          4
         ],
         "z": [
          7,
          7
         ]
        },
        {
         "hoverinfo": "skip",
         "line": {
          "color": "green",
          "width": 2
         },
         "mode": "lines",
         "showlegend": false,
         "type": "scatter3d",
         "x": [
          5,
          5
         ],
         "y": [
          3,
          5
         ],
         "z": [
          7,
          7
         ]
        },
        {
         "hoverinfo": "skip",
         "line": {
          "color": "green",
          "width": 2
         },
         "mode": "lines",
         "showlegend": false,
         "type": "scatter3d",
         "x": [
          5,
          5
         ],
         "y": [
          4,
          4
         ],
         "z": [
          0,
          1
         ]
        },
        {
         "hoverinfo": "skip",
         "line": {
          "color": "green",
          "width": 2
         },
         "mode": "lines",
         "showlegend": false,
         "type": "scatter3d",
         "x": [
          5,
          5
         ],
         "y": [
          4,
          4
         ],
         "z": [
          0,
          2
         ]
        },
        {
         "hoverinfo": "skip",
         "line": {
          "color": "green",
          "width": 2
         },
         "mode": "lines",
         "showlegend": false,
         "type": "scatter3d",
         "x": [
          5,
          5
         ],
         "y": [
          4,
          4
         ],
         "z": [
          0,
          3
         ]
        },
        {
         "hoverinfo": "skip",
         "line": {
          "color": "green",
          "width": 2
         },
         "mode": "lines",
         "showlegend": false,
         "type": "scatter3d",
         "x": [
          5,
          5
         ],
         "y": [
          4,
          4
         ],
         "z": [
          0,
          4
         ]
        },
        {
         "hoverinfo": "skip",
         "line": {
          "color": "green",
          "width": 2
         },
         "mode": "lines",
         "showlegend": false,
         "type": "scatter3d",
         "x": [
          5,
          5
         ],
         "y": [
          4,
          4
         ],
         "z": [
          0,
          5
         ]
        },
        {
         "hoverinfo": "skip",
         "line": {
          "color": "green",
          "width": 2
         },
         "mode": "lines",
         "showlegend": false,
         "type": "scatter3d",
         "x": [
          5,
          5
         ],
         "y": [
          4,
          4
         ],
         "z": [
          0,
          6
         ]
        },
        {
         "hoverinfo": "skip",
         "line": {
          "color": "green",
          "width": 2
         },
         "mode": "lines",
         "showlegend": false,
         "type": "scatter3d",
         "x": [
          5,
          5
         ],
         "y": [
          4,
          4
         ],
         "z": [
          0,
          7
         ]
        },
        {
         "hoverinfo": "skip",
         "line": {
          "color": "green",
          "width": 2
         },
         "mode": "lines",
         "showlegend": false,
         "type": "scatter3d",
         "x": [
          5,
          5
         ],
         "y": [
          4,
          5
         ],
         "z": [
          0,
          0
         ]
        },
        {
         "hoverinfo": "skip",
         "line": {
          "color": "green",
          "width": 2
         },
         "mode": "lines",
         "showlegend": false,
         "type": "scatter3d",
         "x": [
          5,
          5
         ],
         "y": [
          4,
          4
         ],
         "z": [
          1,
          2
         ]
        },
        {
         "hoverinfo": "skip",
         "line": {
          "color": "green",
          "width": 2
         },
         "mode": "lines",
         "showlegend": false,
         "type": "scatter3d",
         "x": [
          5,
          5
         ],
         "y": [
          4,
          4
         ],
         "z": [
          1,
          3
         ]
        },
        {
         "hoverinfo": "skip",
         "line": {
          "color": "green",
          "width": 2
         },
         "mode": "lines",
         "showlegend": false,
         "type": "scatter3d",
         "x": [
          5,
          5
         ],
         "y": [
          4,
          4
         ],
         "z": [
          1,
          4
         ]
        },
        {
         "hoverinfo": "skip",
         "line": {
          "color": "green",
          "width": 2
         },
         "mode": "lines",
         "showlegend": false,
         "type": "scatter3d",
         "x": [
          5,
          5
         ],
         "y": [
          4,
          4
         ],
         "z": [
          1,
          5
         ]
        },
        {
         "hoverinfo": "skip",
         "line": {
          "color": "green",
          "width": 2
         },
         "mode": "lines",
         "showlegend": false,
         "type": "scatter3d",
         "x": [
          5,
          5
         ],
         "y": [
          4,
          4
         ],
         "z": [
          1,
          6
         ]
        },
        {
         "hoverinfo": "skip",
         "line": {
          "color": "green",
          "width": 2
         },
         "mode": "lines",
         "showlegend": false,
         "type": "scatter3d",
         "x": [
          5,
          5
         ],
         "y": [
          4,
          4
         ],
         "z": [
          1,
          7
         ]
        },
        {
         "hoverinfo": "skip",
         "line": {
          "color": "green",
          "width": 2
         },
         "mode": "lines",
         "showlegend": false,
         "type": "scatter3d",
         "x": [
          5,
          5
         ],
         "y": [
          4,
          5
         ],
         "z": [
          1,
          1
         ]
        },
        {
         "hoverinfo": "skip",
         "line": {
          "color": "green",
          "width": 2
         },
         "mode": "lines",
         "showlegend": false,
         "type": "scatter3d",
         "x": [
          5,
          5
         ],
         "y": [
          4,
          4
         ],
         "z": [
          2,
          3
         ]
        },
        {
         "hoverinfo": "skip",
         "line": {
          "color": "green",
          "width": 2
         },
         "mode": "lines",
         "showlegend": false,
         "type": "scatter3d",
         "x": [
          5,
          5
         ],
         "y": [
          4,
          4
         ],
         "z": [
          2,
          4
         ]
        },
        {
         "hoverinfo": "skip",
         "line": {
          "color": "green",
          "width": 2
         },
         "mode": "lines",
         "showlegend": false,
         "type": "scatter3d",
         "x": [
          5,
          5
         ],
         "y": [
          4,
          4
         ],
         "z": [
          2,
          5
         ]
        },
        {
         "hoverinfo": "skip",
         "line": {
          "color": "green",
          "width": 2
         },
         "mode": "lines",
         "showlegend": false,
         "type": "scatter3d",
         "x": [
          5,
          5
         ],
         "y": [
          4,
          4
         ],
         "z": [
          2,
          6
         ]
        },
        {
         "hoverinfo": "skip",
         "line": {
          "color": "green",
          "width": 2
         },
         "mode": "lines",
         "showlegend": false,
         "type": "scatter3d",
         "x": [
          5,
          5
         ],
         "y": [
          4,
          4
         ],
         "z": [
          2,
          7
         ]
        },
        {
         "hoverinfo": "skip",
         "line": {
          "color": "green",
          "width": 2
         },
         "mode": "lines",
         "showlegend": false,
         "type": "scatter3d",
         "x": [
          5,
          5
         ],
         "y": [
          4,
          5
         ],
         "z": [
          2,
          2
         ]
        },
        {
         "hoverinfo": "skip",
         "line": {
          "color": "green",
          "width": 2
         },
         "mode": "lines",
         "showlegend": false,
         "type": "scatter3d",
         "x": [
          5,
          5
         ],
         "y": [
          4,
          4
         ],
         "z": [
          3,
          4
         ]
        },
        {
         "hoverinfo": "skip",
         "line": {
          "color": "green",
          "width": 2
         },
         "mode": "lines",
         "showlegend": false,
         "type": "scatter3d",
         "x": [
          5,
          5
         ],
         "y": [
          4,
          4
         ],
         "z": [
          3,
          5
         ]
        },
        {
         "hoverinfo": "skip",
         "line": {
          "color": "green",
          "width": 2
         },
         "mode": "lines",
         "showlegend": false,
         "type": "scatter3d",
         "x": [
          5,
          5
         ],
         "y": [
          4,
          4
         ],
         "z": [
          3,
          6
         ]
        },
        {
         "hoverinfo": "skip",
         "line": {
          "color": "green",
          "width": 2
         },
         "mode": "lines",
         "showlegend": false,
         "type": "scatter3d",
         "x": [
          5,
          5
         ],
         "y": [
          4,
          4
         ],
         "z": [
          3,
          7
         ]
        },
        {
         "hoverinfo": "skip",
         "line": {
          "color": "green",
          "width": 2
         },
         "mode": "lines",
         "showlegend": false,
         "type": "scatter3d",
         "x": [
          5,
          5
         ],
         "y": [
          4,
          5
         ],
         "z": [
          3,
          3
         ]
        },
        {
         "hoverinfo": "skip",
         "line": {
          "color": "green",
          "width": 2
         },
         "mode": "lines",
         "showlegend": false,
         "type": "scatter3d",
         "x": [
          5,
          5
         ],
         "y": [
          4,
          4
         ],
         "z": [
          4,
          5
         ]
        },
        {
         "hoverinfo": "skip",
         "line": {
          "color": "green",
          "width": 2
         },
         "mode": "lines",
         "showlegend": false,
         "type": "scatter3d",
         "x": [
          5,
          5
         ],
         "y": [
          4,
          4
         ],
         "z": [
          4,
          6
         ]
        },
        {
         "hoverinfo": "skip",
         "line": {
          "color": "green",
          "width": 2
         },
         "mode": "lines",
         "showlegend": false,
         "type": "scatter3d",
         "x": [
          5,
          5
         ],
         "y": [
          4,
          4
         ],
         "z": [
          4,
          7
         ]
        },
        {
         "hoverinfo": "skip",
         "line": {
          "color": "green",
          "width": 2
         },
         "mode": "lines",
         "showlegend": false,
         "type": "scatter3d",
         "x": [
          5,
          5
         ],
         "y": [
          4,
          5
         ],
         "z": [
          4,
          4
         ]
        },
        {
         "hoverinfo": "skip",
         "line": {
          "color": "green",
          "width": 2
         },
         "mode": "lines",
         "showlegend": false,
         "type": "scatter3d",
         "x": [
          5,
          5
         ],
         "y": [
          4,
          4
         ],
         "z": [
          5,
          6
         ]
        },
        {
         "hoverinfo": "skip",
         "line": {
          "color": "green",
          "width": 2
         },
         "mode": "lines",
         "showlegend": false,
         "type": "scatter3d",
         "x": [
          5,
          5
         ],
         "y": [
          4,
          4
         ],
         "z": [
          5,
          7
         ]
        },
        {
         "hoverinfo": "skip",
         "line": {
          "color": "green",
          "width": 2
         },
         "mode": "lines",
         "showlegend": false,
         "type": "scatter3d",
         "x": [
          5,
          5
         ],
         "y": [
          4,
          5
         ],
         "z": [
          5,
          5
         ]
        },
        {
         "hoverinfo": "skip",
         "line": {
          "color": "green",
          "width": 2
         },
         "mode": "lines",
         "showlegend": false,
         "type": "scatter3d",
         "x": [
          5,
          5
         ],
         "y": [
          4,
          4
         ],
         "z": [
          6,
          7
         ]
        },
        {
         "hoverinfo": "skip",
         "line": {
          "color": "green",
          "width": 2
         },
         "mode": "lines",
         "showlegend": false,
         "type": "scatter3d",
         "x": [
          5,
          5
         ],
         "y": [
          4,
          5
         ],
         "z": [
          6,
          6
         ]
        },
        {
         "hoverinfo": "skip",
         "line": {
          "color": "green",
          "width": 2
         },
         "mode": "lines",
         "showlegend": false,
         "type": "scatter3d",
         "x": [
          5,
          5
         ],
         "y": [
          4,
          5
         ],
         "z": [
          7,
          7
         ]
        },
        {
         "hoverinfo": "skip",
         "line": {
          "color": "green",
          "width": 2
         },
         "mode": "lines",
         "showlegend": false,
         "type": "scatter3d",
         "x": [
          5,
          5
         ],
         "y": [
          5,
          5
         ],
         "z": [
          0,
          1
         ]
        },
        {
         "hoverinfo": "skip",
         "line": {
          "color": "green",
          "width": 2
         },
         "mode": "lines",
         "showlegend": false,
         "type": "scatter3d",
         "x": [
          5,
          5
         ],
         "y": [
          5,
          5
         ],
         "z": [
          0,
          2
         ]
        },
        {
         "hoverinfo": "skip",
         "line": {
          "color": "green",
          "width": 2
         },
         "mode": "lines",
         "showlegend": false,
         "type": "scatter3d",
         "x": [
          5,
          5
         ],
         "y": [
          5,
          5
         ],
         "z": [
          0,
          3
         ]
        },
        {
         "hoverinfo": "skip",
         "line": {
          "color": "green",
          "width": 2
         },
         "mode": "lines",
         "showlegend": false,
         "type": "scatter3d",
         "x": [
          5,
          5
         ],
         "y": [
          5,
          5
         ],
         "z": [
          0,
          4
         ]
        },
        {
         "hoverinfo": "skip",
         "line": {
          "color": "green",
          "width": 2
         },
         "mode": "lines",
         "showlegend": false,
         "type": "scatter3d",
         "x": [
          5,
          5
         ],
         "y": [
          5,
          5
         ],
         "z": [
          0,
          5
         ]
        },
        {
         "hoverinfo": "skip",
         "line": {
          "color": "green",
          "width": 2
         },
         "mode": "lines",
         "showlegend": false,
         "type": "scatter3d",
         "x": [
          5,
          5
         ],
         "y": [
          5,
          5
         ],
         "z": [
          0,
          6
         ]
        },
        {
         "hoverinfo": "skip",
         "line": {
          "color": "green",
          "width": 2
         },
         "mode": "lines",
         "showlegend": false,
         "type": "scatter3d",
         "x": [
          5,
          5
         ],
         "y": [
          5,
          5
         ],
         "z": [
          0,
          7
         ]
        },
        {
         "hoverinfo": "skip",
         "line": {
          "color": "green",
          "width": 2
         },
         "mode": "lines",
         "showlegend": false,
         "type": "scatter3d",
         "x": [
          5,
          5
         ],
         "y": [
          5,
          5
         ],
         "z": [
          1,
          2
         ]
        },
        {
         "hoverinfo": "skip",
         "line": {
          "color": "green",
          "width": 2
         },
         "mode": "lines",
         "showlegend": false,
         "type": "scatter3d",
         "x": [
          5,
          5
         ],
         "y": [
          5,
          5
         ],
         "z": [
          1,
          3
         ]
        },
        {
         "hoverinfo": "skip",
         "line": {
          "color": "green",
          "width": 2
         },
         "mode": "lines",
         "showlegend": false,
         "type": "scatter3d",
         "x": [
          5,
          5
         ],
         "y": [
          5,
          5
         ],
         "z": [
          1,
          4
         ]
        },
        {
         "hoverinfo": "skip",
         "line": {
          "color": "green",
          "width": 2
         },
         "mode": "lines",
         "showlegend": false,
         "type": "scatter3d",
         "x": [
          5,
          5
         ],
         "y": [
          5,
          5
         ],
         "z": [
          1,
          5
         ]
        },
        {
         "hoverinfo": "skip",
         "line": {
          "color": "green",
          "width": 2
         },
         "mode": "lines",
         "showlegend": false,
         "type": "scatter3d",
         "x": [
          5,
          5
         ],
         "y": [
          5,
          5
         ],
         "z": [
          1,
          6
         ]
        },
        {
         "hoverinfo": "skip",
         "line": {
          "color": "green",
          "width": 2
         },
         "mode": "lines",
         "showlegend": false,
         "type": "scatter3d",
         "x": [
          5,
          5
         ],
         "y": [
          5,
          5
         ],
         "z": [
          1,
          7
         ]
        },
        {
         "hoverinfo": "skip",
         "line": {
          "color": "green",
          "width": 2
         },
         "mode": "lines",
         "showlegend": false,
         "type": "scatter3d",
         "x": [
          5,
          5
         ],
         "y": [
          5,
          5
         ],
         "z": [
          2,
          3
         ]
        },
        {
         "hoverinfo": "skip",
         "line": {
          "color": "green",
          "width": 2
         },
         "mode": "lines",
         "showlegend": false,
         "type": "scatter3d",
         "x": [
          5,
          5
         ],
         "y": [
          5,
          5
         ],
         "z": [
          2,
          4
         ]
        },
        {
         "hoverinfo": "skip",
         "line": {
          "color": "green",
          "width": 2
         },
         "mode": "lines",
         "showlegend": false,
         "type": "scatter3d",
         "x": [
          5,
          5
         ],
         "y": [
          5,
          5
         ],
         "z": [
          2,
          5
         ]
        },
        {
         "hoverinfo": "skip",
         "line": {
          "color": "green",
          "width": 2
         },
         "mode": "lines",
         "showlegend": false,
         "type": "scatter3d",
         "x": [
          5,
          5
         ],
         "y": [
          5,
          5
         ],
         "z": [
          2,
          6
         ]
        },
        {
         "hoverinfo": "skip",
         "line": {
          "color": "green",
          "width": 2
         },
         "mode": "lines",
         "showlegend": false,
         "type": "scatter3d",
         "x": [
          5,
          5
         ],
         "y": [
          5,
          5
         ],
         "z": [
          2,
          7
         ]
        },
        {
         "hoverinfo": "skip",
         "line": {
          "color": "green",
          "width": 2
         },
         "mode": "lines",
         "showlegend": false,
         "type": "scatter3d",
         "x": [
          5,
          5
         ],
         "y": [
          5,
          5
         ],
         "z": [
          3,
          4
         ]
        },
        {
         "hoverinfo": "skip",
         "line": {
          "color": "green",
          "width": 2
         },
         "mode": "lines",
         "showlegend": false,
         "type": "scatter3d",
         "x": [
          5,
          5
         ],
         "y": [
          5,
          5
         ],
         "z": [
          3,
          5
         ]
        },
        {
         "hoverinfo": "skip",
         "line": {
          "color": "green",
          "width": 2
         },
         "mode": "lines",
         "showlegend": false,
         "type": "scatter3d",
         "x": [
          5,
          5
         ],
         "y": [
          5,
          5
         ],
         "z": [
          3,
          6
         ]
        },
        {
         "hoverinfo": "skip",
         "line": {
          "color": "green",
          "width": 2
         },
         "mode": "lines",
         "showlegend": false,
         "type": "scatter3d",
         "x": [
          5,
          5
         ],
         "y": [
          5,
          5
         ],
         "z": [
          3,
          7
         ]
        },
        {
         "hoverinfo": "skip",
         "line": {
          "color": "green",
          "width": 2
         },
         "mode": "lines",
         "showlegend": false,
         "type": "scatter3d",
         "x": [
          5,
          5
         ],
         "y": [
          5,
          5
         ],
         "z": [
          4,
          5
         ]
        },
        {
         "hoverinfo": "skip",
         "line": {
          "color": "green",
          "width": 2
         },
         "mode": "lines",
         "showlegend": false,
         "type": "scatter3d",
         "x": [
          5,
          5
         ],
         "y": [
          5,
          5
         ],
         "z": [
          4,
          6
         ]
        },
        {
         "hoverinfo": "skip",
         "line": {
          "color": "green",
          "width": 2
         },
         "mode": "lines",
         "showlegend": false,
         "type": "scatter3d",
         "x": [
          5,
          5
         ],
         "y": [
          5,
          5
         ],
         "z": [
          4,
          7
         ]
        },
        {
         "hoverinfo": "skip",
         "line": {
          "color": "green",
          "width": 2
         },
         "mode": "lines",
         "showlegend": false,
         "type": "scatter3d",
         "x": [
          5,
          5
         ],
         "y": [
          5,
          5
         ],
         "z": [
          5,
          6
         ]
        },
        {
         "hoverinfo": "skip",
         "line": {
          "color": "green",
          "width": 2
         },
         "mode": "lines",
         "showlegend": false,
         "type": "scatter3d",
         "x": [
          5,
          5
         ],
         "y": [
          5,
          5
         ],
         "z": [
          5,
          7
         ]
        },
        {
         "hoverinfo": "skip",
         "line": {
          "color": "green",
          "width": 2
         },
         "mode": "lines",
         "showlegend": false,
         "type": "scatter3d",
         "x": [
          5,
          5
         ],
         "y": [
          5,
          5
         ],
         "z": [
          6,
          7
         ]
        },
        {
         "customdata": [
          [
           0,
           0,
           0
          ],
          [
           0,
           0,
           "Планирование"
          ],
          [
           0,
           0,
           "Организация"
          ],
          [
           0,
           0,
           "Регулирование"
          ],
          [
           0,
           0,
           "Стимулирование"
          ],
          [
           0,
           0,
           "Контроль"
          ],
          [
           0,
           0,
           "Учет"
          ],
          [
           0,
           0,
           "Анализ"
          ],
          [
           0,
           "Обеспечение Дворца спорта энергетическими ресурсами",
           0
          ],
          [
           0,
           "Обеспечение Дворца спорта энергетическими ресурсами",
           "Планирование"
          ],
          [
           0,
           "Обеспечение Дворца спорта энергетическими ресурсами",
           "Организация"
          ],
          [
           0,
           "Обеспечение Дворца спорта энергетическими ресурсами",
           "Регулирование"
          ],
          [
           0,
           "Обеспечение Дворца спорта энергетическими ресурсами",
           "Стимулирование"
          ],
          [
           0,
           "Обеспечение Дворца спорта энергетическими ресурсами",
           "Контроль"
          ],
          [
           0,
           "Обеспечение Дворца спорта энергетическими ресурсами",
           "Учет"
          ],
          [
           0,
           "Обеспечение Дворца спорта энергетическими ресурсами",
           "Анализ"
          ],
          [
           0,
           "Обеспечение Дворца спорта материальными ресурсами",
           0
          ],
          [
           0,
           "Обеспечение Дворца спорта материальными ресурсами",
           "Планирование"
          ],
          [
           0,
           "Обеспечение Дворца спорта материальными ресурсами",
           "Организация"
          ],
          [
           0,
           "Обеспечение Дворца спорта материальными ресурсами",
           "Регулирование"
          ],
          [
           0,
           "Обеспечение Дворца спорта материальными ресурсами",
           "Стимулирование"
          ],
          [
           0,
           "Обеспечение Дворца спорта материальными ресурсами",
           "Контроль"
          ],
          [
           0,
           "Обеспечение Дворца спорта материальными ресурсами",
           "Учет"
          ],
          [
           0,
           "Обеспечение Дворца спорта материальными ресурсами",
           "Анализ"
          ],
          [
           0,
           "Обеспечение Дворца спорта информационными ресурсами",
           0
          ],
          [
           0,
           "Обеспечение Дворца спорта информационными ресурсами",
           "Планирование"
          ],
          [
           0,
           "Обеспечение Дворца спорта информационными ресурсами",
           "Организация"
          ],
          [
           0,
           "Обеспечение Дворца спорта информационными ресурсами",
           "Регулирование"
          ],
          [
           0,
           "Обеспечение Дворца спорта информационными ресурсами",
           "Стимулирование"
          ],
          [
           0,
           "Обеспечение Дворца спорта информационными ресурсами",
           "Контроль"
          ],
          [
           0,
           "Обеспечение Дворца спорта информационными ресурсами",
           "Учет"
          ],
          [
           0,
           "Обеспечение Дворца спорта информационными ресурсами",
           "Анализ"
          ],
          [
           0,
           "Обеспечение Дворца спорта финансовыми ресурсами",
           0
          ],
          [
           0,
           "Обеспечение Дворца спорта финансовыми ресурсами",
           "Планирование"
          ],
          [
           0,
           "Обеспечение Дворца спорта финансовыми ресурсами",
           "Организация"
          ],
          [
           0,
           "Обеспечение Дворца спорта финансовыми ресурсами",
           "Регулирование"
          ],
          [
           0,
           "Обеспечение Дворца спорта финансовыми ресурсами",
           "Стимулирование"
          ],
          [
           0,
           "Обеспечение Дворца спорта финансовыми ресурсами",
           "Контроль"
          ],
          [
           0,
           "Обеспечение Дворца спорта финансовыми ресурсами",
           "Учет"
          ],
          [
           0,
           "Обеспечение Дворца спорта финансовыми ресурсами",
           "Анализ"
          ],
          [
           0,
           "Обеспечение Дворца спорта трудовыми ресурсами",
           0
          ],
          [
           0,
           "Обеспечение Дворца спорта трудовыми ресурсами",
           "Планирование"
          ],
          [
           0,
           "Обеспечение Дворца спорта трудовыми ресурсами",
           "Организация"
          ],
          [
           0,
           "Обеспечение Дворца спорта трудовыми ресурсами",
           "Регулирование"
          ],
          [
           0,
           "Обеспечение Дворца спорта трудовыми ресурсами",
           "Стимулирование"
          ],
          [
           0,
           "Обеспечение Дворца спорта трудовыми ресурсами",
           "Контроль"
          ],
          [
           0,
           "Обеспечение Дворца спорта трудовыми ресурсами",
           "Учет"
          ],
          [
           0,
           "Обеспечение Дворца спорта трудовыми ресурсами",
           "Анализ"
          ],
          [
           "Энергетические",
           0,
           0
          ],
          [
           "Энергетические",
           0,
           "Планирование"
          ],
          [
           "Энергетические",
           0,
           "Организация"
          ],
          [
           "Энергетические",
           0,
           "Регулирование"
          ],
          [
           "Энергетические",
           0,
           "Стимулирование"
          ],
          [
           "Энергетические",
           0,
           "Контроль"
          ],
          [
           "Энергетические",
           0,
           "Учет"
          ],
          [
           "Энергетические",
           0,
           "Анализ"
          ],
          [
           "Энергетические",
           "Обеспечение Дворца спорта энергетическими ресурсами",
           0
          ],
          [
           "Энергетические",
           "Обеспечение Дворца спорта энергетическими ресурсами",
           "Планирование"
          ],
          [
           "Энергетические",
           "Обеспечение Дворца спорта энергетическими ресурсами",
           "Организация"
          ],
          [
           "Энергетические",
           "Обеспечение Дворца спорта энергетическими ресурсами",
           "Регулирование"
          ],
          [
           "Энергетические",
           "Обеспечение Дворца спорта энергетическими ресурсами",
           "Стимулирование"
          ],
          [
           "Энергетические",
           "Обеспечение Дворца спорта энергетическими ресурсами",
           "Контроль"
          ],
          [
           "Энергетические",
           "Обеспечение Дворца спорта энергетическими ресурсами",
           "Учет"
          ],
          [
           "Энергетические",
           "Обеспечение Дворца спорта энергетическими ресурсами",
           "Анализ"
          ],
          [
           "Энергетические",
           "Обеспечение Дворца спорта материальными ресурсами",
           0
          ],
          [
           "Энергетические",
           "Обеспечение Дворца спорта материальными ресурсами",
           "Планирование"
          ],
          [
           "Энергетические",
           "Обеспечение Дворца спорта материальными ресурсами",
           "Организация"
          ],
          [
           "Энергетические",
           "Обеспечение Дворца спорта материальными ресурсами",
           "Регулирование"
          ],
          [
           "Энергетические",
           "Обеспечение Дворца спорта материальными ресурсами",
           "Стимулирование"
          ],
          [
           "Энергетические",
           "Обеспечение Дворца спорта материальными ресурсами",
           "Контроль"
          ],
          [
           "Энергетические",
           "Обеспечение Дворца спорта материальными ресурсами",
           "Учет"
          ],
          [
           "Энергетические",
           "Обеспечение Дворца спорта материальными ресурсами",
           "Анализ"
          ],
          [
           "Энергетические",
           "Обеспечение Дворца спорта информационными ресурсами",
           0
          ],
          [
           "Энергетические",
           "Обеспечение Дворца спорта информационными ресурсами",
           "Планирование"
          ],
          [
           "Энергетические",
           "Обеспечение Дворца спорта информационными ресурсами",
           "Организация"
          ],
          [
           "Энергетические",
           "Обеспечение Дворца спорта информационными ресурсами",
           "Регулирование"
          ],
          [
           "Энергетические",
           "Обеспечение Дворца спорта информационными ресурсами",
           "Стимулирование"
          ],
          [
           "Энергетические",
           "Обеспечение Дворца спорта информационными ресурсами",
           "Контроль"
          ],
          [
           "Энергетические",
           "Обеспечение Дворца спорта информационными ресурсами",
           "Учет"
          ],
          [
           "Энергетические",
           "Обеспечение Дворца спорта информационными ресурсами",
           "Анализ"
          ],
          [
           "Энергетические",
           "Обеспечение Дворца спорта финансовыми ресурсами",
           0
          ],
          [
           "Энергетические",
           "Обеспечение Дворца спорта финансовыми ресурсами",
           "Планирование"
          ],
          [
           "Энергетические",
           "Обеспечение Дворца спорта финансовыми ресурсами",
           "Организация"
          ],
          [
           "Энергетические",
           "Обеспечение Дворца спорта финансовыми ресурсами",
           "Регулирование"
          ],
          [
           "Энергетические",
           "Обеспечение Дворца спорта финансовыми ресурсами",
           "Стимулирование"
          ],
          [
           "Энергетические",
           "Обеспечение Дворца спорта финансовыми ресурсами",
           "Контроль"
          ],
          [
           "Энергетические",
           "Обеспечение Дворца спорта финансовыми ресурсами",
           "Учет"
          ],
          [
           "Энергетические",
           "Обеспечение Дворца спорта финансовыми ресурсами",
           "Анализ"
          ],
          [
           "Энергетические",
           "Обеспечение Дворца спорта трудовыми ресурсами",
           0
          ],
          [
           "Энергетические",
           "Обеспечение Дворца спорта трудовыми ресурсами",
           "Планирование"
          ],
          [
           "Энергетические",
           "Обеспечение Дворца спорта трудовыми ресурсами",
           "Организация"
          ],
          [
           "Энергетические",
           "Обеспечение Дворца спорта трудовыми ресурсами",
           "Регулирование"
          ],
          [
           "Энергетические",
           "Обеспечение Дворца спорта трудовыми ресурсами",
           "Стимулирование"
          ],
          [
           "Энергетические",
           "Обеспечение Дворца спорта трудовыми ресурсами",
           "Контроль"
          ],
          [
           "Энергетические",
           "Обеспечение Дворца спорта трудовыми ресурсами",
           "Учет"
          ],
          [
           "Энергетические",
           "Обеспечение Дворца спорта трудовыми ресурсами",
           "Анализ"
          ],
          [
           "Материальные",
           0,
           0
          ],
          [
           "Материальные",
           0,
           "Планирование"
          ],
          [
           "Материальные",
           0,
           "Организация"
          ],
          [
           "Материальные",
           0,
           "Регулирование"
          ],
          [
           "Материальные",
           0,
           "Стимулирование"
          ],
          [
           "Материальные",
           0,
           "Контроль"
          ],
          [
           "Материальные",
           0,
           "Учет"
          ],
          [
           "Материальные",
           0,
           "Анализ"
          ],
          [
           "Материальные",
           "Обеспечение Дворца спорта энергетическими ресурсами",
           0
          ],
          [
           "Материальные",
           "Обеспечение Дворца спорта энергетическими ресурсами",
           "Планирование"
          ],
          [
           "Материальные",
           "Обеспечение Дворца спорта энергетическими ресурсами",
           "Организация"
          ],
          [
           "Материальные",
           "Обеспечение Дворца спорта энергетическими ресурсами",
           "Регулирование"
          ],
          [
           "Материальные",
           "Обеспечение Дворца спорта энергетическими ресурсами",
           "Стимулирование"
          ],
          [
           "Материальные",
           "Обеспечение Дворца спорта энергетическими ресурсами",
           "Контроль"
          ],
          [
           "Материальные",
           "Обеспечение Дворца спорта энергетическими ресурсами",
           "Учет"
          ],
          [
           "Материальные",
           "Обеспечение Дворца спорта энергетическими ресурсами",
           "Анализ"
          ],
          [
           "Материальные",
           "Обеспечение Дворца спорта материальными ресурсами",
           0
          ],
          [
           "Материальные",
           "Обеспечение Дворца спорта материальными ресурсами",
           "Планирование"
          ],
          [
           "Материальные",
           "Обеспечение Дворца спорта материальными ресурсами",
           "Организация"
          ],
          [
           "Материальные",
           "Обеспечение Дворца спорта материальными ресурсами",
           "Регулирование"
          ],
          [
           "Материальные",
           "Обеспечение Дворца спорта материальными ресурсами",
           "Стимулирование"
          ],
          [
           "Материальные",
           "Обеспечение Дворца спорта материальными ресурсами",
           "Контроль"
          ],
          [
           "Материальные",
           "Обеспечение Дворца спорта материальными ресурсами",
           "Учет"
          ],
          [
           "Материальные",
           "Обеспечение Дворца спорта материальными ресурсами",
           "Анализ"
          ],
          [
           "Материальные",
           "Обеспечение Дворца спорта информационными ресурсами",
           0
          ],
          [
           "Материальные",
           "Обеспечение Дворца спорта информационными ресурсами",
           "Планирование"
          ],
          [
           "Материальные",
           "Обеспечение Дворца спорта информационными ресурсами",
           "Организация"
          ],
          [
           "Материальные",
           "Обеспечение Дворца спорта информационными ресурсами",
           "Регулирование"
          ],
          [
           "Материальные",
           "Обеспечение Дворца спорта информационными ресурсами",
           "Стимулирование"
          ],
          [
           "Материальные",
           "Обеспечение Дворца спорта информационными ресурсами",
           "Контроль"
          ],
          [
           "Материальные",
           "Обеспечение Дворца спорта информационными ресурсами",
           "Учет"
          ],
          [
           "Материальные",
           "Обеспечение Дворца спорта информационными ресурсами",
           "Анализ"
          ],
          [
           "Материальные",
           "Обеспечение Дворца спорта финансовыми ресурсами",
           0
          ],
          [
           "Материальные",
           "Обеспечение Дворца спорта финансовыми ресурсами",
           "Планирование"
          ],
          [
           "Материальные",
           "Обеспечение Дворца спорта финансовыми ресурсами",
           "Организация"
          ],
          [
           "Материальные",
           "Обеспечение Дворца спорта финансовыми ресурсами",
           "Регулирование"
          ],
          [
           "Материальные",
           "Обеспечение Дворца спорта финансовыми ресурсами",
           "Стимулирование"
          ],
          [
           "Материальные",
           "Обеспечение Дворца спорта финансовыми ресурсами",
           "Контроль"
          ],
          [
           "Материальные",
           "Обеспечение Дворца спорта финансовыми ресурсами",
           "Учет"
          ],
          [
           "Материальные",
           "Обеспечение Дворца спорта финансовыми ресурсами",
           "Анализ"
          ],
          [
           "Материальные",
           "Обеспечение Дворца спорта трудовыми ресурсами",
           0
          ],
          [
           "Материальные",
           "Обеспечение Дворца спорта трудовыми ресурсами",
           "Планирование"
          ],
          [
           "Материальные",
           "Обеспечение Дворца спорта трудовыми ресурсами",
           "Организация"
          ],
          [
           "Материальные",
           "Обеспечение Дворца спорта трудовыми ресурсами",
           "Регулирование"
          ],
          [
           "Материальные",
           "Обеспечение Дворца спорта трудовыми ресурсами",
           "Стимулирование"
          ],
          [
           "Материальные",
           "Обеспечение Дворца спорта трудовыми ресурсами",
           "Контроль"
          ],
          [
           "Материальные",
           "Обеспечение Дворца спорта трудовыми ресурсами",
           "Учет"
          ],
          [
           "Материальные",
           "Обеспечение Дворца спорта трудовыми ресурсами",
           "Анализ"
          ],
          [
           "Информационные",
           0,
           0
          ],
          [
           "Информационные",
           0,
           "Планирование"
          ],
          [
           "Информационные",
           0,
           "Организация"
          ],
          [
           "Информационные",
           0,
           "Регулирование"
          ],
          [
           "Информационные",
           0,
           "Стимулирование"
          ],
          [
           "Информационные",
           0,
           "Контроль"
          ],
          [
           "Информационные",
           0,
           "Учет"
          ],
          [
           "Информационные",
           0,
           "Анализ"
          ],
          [
           "Информационные",
           "Обеспечение Дворца спорта энергетическими ресурсами",
           0
          ],
          [
           "Информационные",
           "Обеспечение Дворца спорта энергетическими ресурсами",
           "Планирование"
          ],
          [
           "Информационные",
           "Обеспечение Дворца спорта энергетическими ресурсами",
           "Организация"
          ],
          [
           "Информационные",
           "Обеспечение Дворца спорта энергетическими ресурсами",
           "Регулирование"
          ],
          [
           "Информационные",
           "Обеспечение Дворца спорта энергетическими ресурсами",
           "Стимулирование"
          ],
          [
           "Информационные",
           "Обеспечение Дворца спорта энергетическими ресурсами",
           "Контроль"
          ],
          [
           "Информационные",
           "Обеспечение Дворца спорта энергетическими ресурсами",
           "Учет"
          ],
          [
           "Информационные",
           "Обеспечение Дворца спорта энергетическими ресурсами",
           "Анализ"
          ],
          [
           "Информационные",
           "Обеспечение Дворца спорта материальными ресурсами",
           0
          ],
          [
           "Информационные",
           "Обеспечение Дворца спорта материальными ресурсами",
           "Планирование"
          ],
          [
           "Информационные",
           "Обеспечение Дворца спорта материальными ресурсами",
           "Организация"
          ],
          [
           "Информационные",
           "Обеспечение Дворца спорта материальными ресурсами",
           "Регулирование"
          ],
          [
           "Информационные",
           "Обеспечение Дворца спорта материальными ресурсами",
           "Стимулирование"
          ],
          [
           "Информационные",
           "Обеспечение Дворца спорта материальными ресурсами",
           "Контроль"
          ],
          [
           "Информационные",
           "Обеспечение Дворца спорта материальными ресурсами",
           "Учет"
          ],
          [
           "Информационные",
           "Обеспечение Дворца спорта материальными ресурсами",
           "Анализ"
          ],
          [
           "Информационные",
           "Обеспечение Дворца спорта информационными ресурсами",
           0
          ],
          [
           "Информационные",
           "Обеспечение Дворца спорта информационными ресурсами",
           "Планирование"
          ],
          [
           "Информационные",
           "Обеспечение Дворца спорта информационными ресурсами",
           "Организация"
          ],
          [
           "Информационные",
           "Обеспечение Дворца спорта информационными ресурсами",
           "Регулирование"
          ],
          [
           "Информационные",
           "Обеспечение Дворца спорта информационными ресурсами",
           "Стимулирование"
          ],
          [
           "Информационные",
           "Обеспечение Дворца спорта информационными ресурсами",
           "Контроль"
          ],
          [
           "Информационные",
           "Обеспечение Дворца спорта информационными ресурсами",
           "Учет"
          ],
          [
           "Информационные",
           "Обеспечение Дворца спорта информационными ресурсами",
           "Анализ"
          ],
          [
           "Информационные",
           "Обеспечение Дворца спорта финансовыми ресурсами",
           0
          ],
          [
           "Информационные",
           "Обеспечение Дворца спорта финансовыми ресурсами",
           "Планирование"
          ],
          [
           "Информационные",
           "Обеспечение Дворца спорта финансовыми ресурсами",
           "Организация"
          ],
          [
           "Информационные",
           "Обеспечение Дворца спорта финансовыми ресурсами",
           "Регулирование"
          ],
          [
           "Информационные",
           "Обеспечение Дворца спорта финансовыми ресурсами",
           "Стимулирование"
          ],
          [
           "Информационные",
           "Обеспечение Дворца спорта финансовыми ресурсами",
           "Контроль"
          ],
          [
           "Информационные",
           "Обеспечение Дворца спорта финансовыми ресурсами",
           "Учет"
          ],
          [
           "Информационные",
           "Обеспечение Дворца спорта финансовыми ресурсами",
           "Анализ"
          ],
          [
           "Информационные",
           "Обеспечение Дворца спорта трудовыми ресурсами",
           0
          ],
          [
           "Информационные",
           "Обеспечение Дворца спорта трудовыми ресурсами",
           "Планирование"
          ],
          [
           "Информационные",
           "Обеспечение Дворца спорта трудовыми ресурсами",
           "Организация"
          ],
          [
           "Информационные",
           "Обеспечение Дворца спорта трудовыми ресурсами",
           "Регулирование"
          ],
          [
           "Информационные",
           "Обеспечение Дворца спорта трудовыми ресурсами",
           "Стимулирование"
          ],
          [
           "Информационные",
           "Обеспечение Дворца спорта трудовыми ресурсами",
           "Контроль"
          ],
          [
           "Информационные",
           "Обеспечение Дворца спорта трудовыми ресурсами",
           "Учет"
          ],
          [
           "Информационные",
           "Обеспечение Дворца спорта трудовыми ресурсами",
           "Анализ"
          ],
          [
           "Финансовые",
           0,
           0
          ],
          [
           "Финансовые",
           0,
           "Планирование"
          ],
          [
           "Финансовые",
           0,
           "Организация"
          ],
          [
           "Финансовые",
           0,
           "Регулирование"
          ],
          [
           "Финансовые",
           0,
           "Стимулирование"
          ],
          [
           "Финансовые",
           0,
           "Контроль"
          ],
          [
           "Финансовые",
           0,
           "Учет"
          ],
          [
           "Финансовые",
           0,
           "Анализ"
          ],
          [
           "Финансовые",
           "Обеспечение Дворца спорта энергетическими ресурсами",
           0
          ],
          [
           "Финансовые",
           "Обеспечение Дворца спорта энергетическими ресурсами",
           "Планирование"
          ],
          [
           "Финансовые",
           "Обеспечение Дворца спорта энергетическими ресурсами",
           "Организация"
          ],
          [
           "Финансовые",
           "Обеспечение Дворца спорта энергетическими ресурсами",
           "Регулирование"
          ],
          [
           "Финансовые",
           "Обеспечение Дворца спорта энергетическими ресурсами",
           "Стимулирование"
          ],
          [
           "Финансовые",
           "Обеспечение Дворца спорта энергетическими ресурсами",
           "Контроль"
          ],
          [
           "Финансовые",
           "Обеспечение Дворца спорта энергетическими ресурсами",
           "Учет"
          ],
          [
           "Финансовые",
           "Обеспечение Дворца спорта энергетическими ресурсами",
           "Анализ"
          ],
          [
           "Финансовые",
           "Обеспечение Дворца спорта материальными ресурсами",
           0
          ],
          [
           "Финансовые",
           "Обеспечение Дворца спорта материальными ресурсами",
           "Планирование"
          ],
          [
           "Финансовые",
           "Обеспечение Дворца спорта материальными ресурсами",
           "Организация"
          ],
          [
           "Финансовые",
           "Обеспечение Дворца спорта материальными ресурсами",
           "Регулирование"
          ],
          [
           "Финансовые",
           "Обеспечение Дворца спорта материальными ресурсами",
           "Стимулирование"
          ],
          [
           "Финансовые",
           "Обеспечение Дворца спорта материальными ресурсами",
           "Контроль"
          ],
          [
           "Финансовые",
           "Обеспечение Дворца спорта материальными ресурсами",
           "Учет"
          ],
          [
           "Финансовые",
           "Обеспечение Дворца спорта материальными ресурсами",
           "Анализ"
          ],
          [
           "Финансовые",
           "Обеспечение Дворца спорта информационными ресурсами",
           0
          ],
          [
           "Финансовые",
           "Обеспечение Дворца спорта информационными ресурсами",
           "Планирование"
          ],
          [
           "Финансовые",
           "Обеспечение Дворца спорта информационными ресурсами",
           "Организация"
          ],
          [
           "Финансовые",
           "Обеспечение Дворца спорта информационными ресурсами",
           "Регулирование"
          ],
          [
           "Финансовые",
           "Обеспечение Дворца спорта информационными ресурсами",
           "Стимулирование"
          ],
          [
           "Финансовые",
           "Обеспечение Дворца спорта информационными ресурсами",
           "Контроль"
          ],
          [
           "Финансовые",
           "Обеспечение Дворца спорта информационными ресурсами",
           "Учет"
          ],
          [
           "Финансовые",
           "Обеспечение Дворца спорта информационными ресурсами",
           "Анализ"
          ],
          [
           "Финансовые",
           "Обеспечение Дворца спорта финансовыми ресурсами",
           0
          ],
          [
           "Финансовые",
           "Обеспечение Дворца спорта финансовыми ресурсами",
           "Планирование"
          ],
          [
           "Финансовые",
           "Обеспечение Дворца спорта финансовыми ресурсами",
           "Организация"
          ],
          [
           "Финансовые",
           "Обеспечение Дворца спорта финансовыми ресурсами",
           "Регулирование"
          ],
          [
           "Финансовые",
           "Обеспечение Дворца спорта финансовыми ресурсами",
           "Стимулирование"
          ],
          [
           "Финансовые",
           "Обеспечение Дворца спорта финансовыми ресурсами",
           "Контроль"
          ],
          [
           "Финансовые",
           "Обеспечение Дворца спорта финансовыми ресурсами",
           "Учет"
          ],
          [
           "Финансовые",
           "Обеспечение Дворца спорта финансовыми ресурсами",
           "Анализ"
          ],
          [
           "Финансовые",
           "Обеспечение Дворца спорта трудовыми ресурсами",
           0
          ],
          [
           "Финансовые",
           "Обеспечение Дворца спорта трудовыми ресурсами",
           "Планирование"
          ],
          [
           "Финансовые",
           "Обеспечение Дворца спорта трудовыми ресурсами",
           "Организация"
          ],
          [
           "Финансовые",
           "Обеспечение Дворца спорта трудовыми ресурсами",
           "Регулирование"
          ],
          [
           "Финансовые",
           "Обеспечение Дворца спорта трудовыми ресурсами",
           "Стимулирование"
          ],
          [
           "Финансовые",
           "Обеспечение Дворца спорта трудовыми ресурсами",
           "Контроль"
          ],
          [
           "Финансовые",
           "Обеспечение Дворца спорта трудовыми ресурсами",
           "Учет"
          ],
          [
           "Финансовые",
           "Обеспечение Дворца спорта трудовыми ресурсами",
           "Анализ"
          ],
          [
           "Трудовые",
           0,
           0
          ],
          [
           "Трудовые",
           0,
           "Планирование"
          ],
          [
           "Трудовые",
           0,
           "Организация"
          ],
          [
           "Трудовые",
           0,
           "Регулирование"
          ],
          [
           "Трудовые",
           0,
           "Стимулирование"
          ],
          [
           "Трудовые",
           0,
           "Контроль"
          ],
          [
           "Трудовые",
           0,
           "Учет"
          ],
          [
           "Трудовые",
           0,
           "Анализ"
          ],
          [
           "Трудовые",
           "Обеспечение Дворца спорта энергетическими ресурсами",
           0
          ],
          [
           "Трудовые",
           "Обеспечение Дворца спорта энергетическими ресурсами",
           "Планирование"
          ],
          [
           "Трудовые",
           "Обеспечение Дворца спорта энергетическими ресурсами",
           "Организация"
          ],
          [
           "Трудовые",
           "Обеспечение Дворца спорта энергетическими ресурсами",
           "Регулирование"
          ],
          [
           "Трудовые",
           "Обеспечение Дворца спорта энергетическими ресурсами",
           "Стимулирование"
          ],
          [
           "Трудовые",
           "Обеспечение Дворца спорта энергетическими ресурсами",
           "Контроль"
          ],
          [
           "Трудовые",
           "Обеспечение Дворца спорта энергетическими ресурсами",
           "Учет"
          ],
          [
           "Трудовые",
           "Обеспечение Дворца спорта энергетическими ресурсами",
           "Анализ"
          ],
          [
           "Трудовые",
           "Обеспечение Дворца спорта материальными ресурсами",
           0
          ],
          [
           "Трудовые",
           "Обеспечение Дворца спорта материальными ресурсами",
           "Планирование"
          ],
          [
           "Трудовые",
           "Обеспечение Дворца спорта материальными ресурсами",
           "Организация"
          ],
          [
           "Трудовые",
           "Обеспечение Дворца спорта материальными ресурсами",
           "Регулирование"
          ],
          [
           "Трудовые",
           "Обеспечение Дворца спорта материальными ресурсами",
           "Стимулирование"
          ],
          [
           "Трудовые",
           "Обеспечение Дворца спорта материальными ресурсами",
           "Контроль"
          ],
          [
           "Трудовые",
           "Обеспечение Дворца спорта материальными ресурсами",
           "Учет"
          ],
          [
           "Трудовые",
           "Обеспечение Дворца спорта материальными ресурсами",
           "Анализ"
          ],
          [
           "Трудовые",
           "Обеспечение Дворца спорта информационными ресурсами",
           0
          ],
          [
           "Трудовые",
           "Обеспечение Дворца спорта информационными ресурсами",
           "Планирование"
          ],
          [
           "Трудовые",
           "Обеспечение Дворца спорта информационными ресурсами",
           "Организация"
          ],
          [
           "Трудовые",
           "Обеспечение Дворца спорта информационными ресурсами",
           "Регулирование"
          ],
          [
           "Трудовые",
           "Обеспечение Дворца спорта информационными ресурсами",
           "Стимулирование"
          ],
          [
           "Трудовые",
           "Обеспечение Дворца спорта информационными ресурсами",
           "Контроль"
          ],
          [
           "Трудовые",
           "Обеспечение Дворца спорта информационными ресурсами",
           "Учет"
          ],
          [
           "Трудовые",
           "Обеспечение Дворца спорта информационными ресурсами",
           "Анализ"
          ],
          [
           "Трудовые",
           "Обеспечение Дворца спорта финансовыми ресурсами",
           0
          ],
          [
           "Трудовые",
           "Обеспечение Дворца спорта финансовыми ресурсами",
           "Планирование"
          ],
          [
           "Трудовые",
           "Обеспечение Дворца спорта финансовыми ресурсами",
           "Организация"
          ],
          [
           "Трудовые",
           "Обеспечение Дворца спорта финансовыми ресурсами",
           "Регулирование"
          ],
          [
           "Трудовые",
           "Обеспечение Дворца спорта финансовыми ресурсами",
           "Стимулирование"
          ],
          [
           "Трудовые",
           "Обеспечение Дворца спорта финансовыми ресурсами",
           "Контроль"
          ],
          [
           "Трудовые",
           "Обеспечение Дворца спорта финансовыми ресурсами",
           "Учет"
          ],
          [
           "Трудовые",
           "Обеспечение Дворца спорта финансовыми ресурсами",
           "Анализ"
          ],
          [
           "Трудовые",
           "Обеспечение Дворца спорта трудовыми ресурсами",
           0
          ],
          [
           "Трудовые",
           "Обеспечение Дворца спорта трудовыми ресурсами",
           "Планирование"
          ],
          [
           "Трудовые",
           "Обеспечение Дворца спорта трудовыми ресурсами",
           "Организация"
          ],
          [
           "Трудовые",
           "Обеспечение Дворца спорта трудовыми ресурсами",
           "Регулирование"
          ],
          [
           "Трудовые",
           "Обеспечение Дворца спорта трудовыми ресурсами",
           "Стимулирование"
          ],
          [
           "Трудовые",
           "Обеспечение Дворца спорта трудовыми ресурсами",
           "Контроль"
          ],
          [
           "Трудовые",
           "Обеспечение Дворца спорта трудовыми ресурсами",
           "Учет"
          ],
          [
           "Трудовые",
           "Обеспечение Дворца спорта трудовыми ресурсами",
           "Анализ"
          ]
         ],
         "hovertemplate": "Ресурсы: %{customdata[0]}<br>Процессы: %{customdata[1]}<br>Функции управления: %{customdata[2]}<extra></extra>",
         "marker": {
          "color": "red",
          "size": 8
         },
         "mode": "markers",
         "showlegend": false,
         "type": "scatter3d",
         "x": [
          0,
          0,
          0,
          0,
          0,
          0,
          0,
          0,
          0,
          0,
          0,
          0,
          0,
          0,
          0,
          0,
          0,
          0,
          0,
          0,
          0,
          0,
          0,
          0,
          0,
          0,
          0,
          0,
          0,
          0,
          0,
          0,
          0,
          0,
          0,
          0,
          0,
          0,
          0,
          0,
          0,
          0,
          0,
          0,
          0,
          0,
          0,
          0,
          1,
          1,
          1,
          1,
          1,
          1,
          1,
          1,
          1,
          1,
          1,
          1,
          1,
          1,
          1,
          1,
          1,
          1,
          1,
          1,
          1,
          1,
          1,
          1,
          1,
          1,
          1,
          1,
          1,
          1,
          1,
          1,
          1,
          1,
          1,
          1,
          1,
          1,
          1,
          1,
          1,
          1,
          1,
          1,
          1,
          1,
          1,
          1,
          2,
          2,
          2,
          2,
          2,
          2,
          2,
          2,
          2,
          2,
          2,
          2,
          2,
          2,
          2,
          2,
          2,
          2,
          2,
          2,
          2,
          2,
          2,
          2,
          2,
          2,
          2,
          2,
          2,
          2,
          2,
          2,
          2,
          2,
          2,
          2,
          2,
          2,
          2,
          2,
          2,
          2,
          2,
          2,
          2,
          2,
          2,
          2,
          3,
          3,
          3,
          3,
          3,
          3,
          3,
          3,
          3,
          3,
          3,
          3,
          3,
          3,
          3,
          3,
          3,
          3,
          3,
          3,
          3,
          3,
          3,
          3,
          3,
          3,
          3,
          3,
          3,
          3,
          3,
          3,
          3,
          3,
          3,
          3,
          3,
          3,
          3,
          3,
          3,
          3,
          3,
          3,
          3,
          3,
          3,
          3,
          4,
          4,
          4,
          4,
          4,
          4,
          4,
          4,
          4,
          4,
          4,
          4,
          4,
          4,
          4,
          4,
          4,
          4,
          4,
          4,
          4,
          4,
          4,
          4,
          4,
          4,
          4,
          4,
          4,
          4,
          4,
          4,
          4,
          4,
          4,
          4,
          4,
          4,
          4,
          4,
          4,
          4,
          4,
          4,
          4,
          4,
          4,
          4,
          5,
          5,
          5,
          5,
          5,
          5,
          5,
          5,
          5,
          5,
          5,
          5,
          5,
          5,
          5,
          5,
          5,
          5,
          5,
          5,
          5,
          5,
          5,
          5,
          5,
          5,
          5,
          5,
          5,
          5,
          5,
          5,
          5,
          5,
          5,
          5,
          5,
          5,
          5,
          5,
          5,
          5,
          5,
          5,
          5,
          5,
          5,
          5
         ],
         "y": [
          0,
          0,
          0,
          0,
          0,
          0,
          0,
          0,
          1,
          1,
          1,
          1,
          1,
          1,
          1,
          1,
          2,
          2,
          2,
          2,
          2,
          2,
          2,
          2,
          3,
          3,
          3,
          3,
          3,
          3,
          3,
          3,
          4,
          4,
          4,
          4,
          4,
          4,
          4,
          4,
          5,
          5,
          5,
          5,
          5,
          5,
          5,
          5,
          0,
          0,
          0,
          0,
          0,
          0,
          0,
          0,
          1,
          1,
          1,
          1,
          1,
          1,
          1,
          1,
          2,
          2,
          2,
          2,
          2,
          2,
          2,
          2,
          3,
          3,
          3,
          3,
          3,
          3,
          3,
          3,
          4,
          4,
          4,
          4,
          4,
          4,
          4,
          4,
          5,
          5,
          5,
          5,
          5,
          5,
          5,
          5,
          0,
          0,
          0,
          0,
          0,
          0,
          0,
          0,
          1,
          1,
          1,
          1,
          1,
          1,
          1,
          1,
          2,
          2,
          2,
          2,
          2,
          2,
          2,
          2,
          3,
          3,
          3,
          3,
          3,
          3,
          3,
          3,
          4,
          4,
          4,
          4,
          4,
          4,
          4,
          4,
          5,
          5,
          5,
          5,
          5,
          5,
          5,
          5,
          0,
          0,
          0,
          0,
          0,
          0,
          0,
          0,
          1,
          1,
          1,
          1,
          1,
          1,
          1,
          1,
          2,
          2,
          2,
          2,
          2,
          2,
          2,
          2,
          3,
          3,
          3,
          3,
          3,
          3,
          3,
          3,
          4,
          4,
          4,
          4,
          4,
          4,
          4,
          4,
          5,
          5,
          5,
          5,
          5,
          5,
          5,
          5,
          0,
          0,
          0,
          0,
          0,
          0,
          0,
          0,
          1,
          1,
          1,
          1,
          1,
          1,
          1,
          1,
          2,
          2,
          2,
          2,
          2,
          2,
          2,
          2,
          3,
          3,
          3,
          3,
          3,
          3,
          3,
          3,
          4,
          4,
          4,
          4,
          4,
          4,
          4,
          4,
          5,
          5,
          5,
          5,
          5,
          5,
          5,
          5,
          0,
          0,
          0,
          0,
          0,
          0,
          0,
          0,
          1,
          1,
          1,
          1,
          1,
          1,
          1,
          1,
          2,
          2,
          2,
          2,
          2,
          2,
          2,
          2,
          3,
          3,
          3,
          3,
          3,
          3,
          3,
          3,
          4,
          4,
          4,
          4,
          4,
          4,
          4,
          4,
          5,
          5,
          5,
          5,
          5,
          5,
          5,
          5
         ],
         "z": [
          0,
          1,
          2,
          3,
          4,
          5,
          6,
          7,
          0,
          1,
          2,
          3,
          4,
          5,
          6,
          7,
          0,
          1,
          2,
          3,
          4,
          5,
          6,
          7,
          0,
          1,
          2,
          3,
          4,
          5,
          6,
          7,
          0,
          1,
          2,
          3,
          4,
          5,
          6,
          7,
          0,
          1,
          2,
          3,
          4,
          5,
          6,
          7,
          0,
          1,
          2,
          3,
          4,
          5,
          6,
          7,
          0,
          1,
          2,
          3,
          4,
          5,
          6,
          7,
          0,
          1,
          2,
          3,
          4,
          5,
          6,
          7,
          0,
          1,
          2,
          3,
          4,
          5,
          6,
          7,
          0,
          1,
          2,
          3,
          4,
          5,
          6,
          7,
          0,
          1,
          2,
          3,
          4,
          5,
          6,
          7,
          0,
          1,
          2,
          3,
          4,
          5,
          6,
          7,
          0,
          1,
          2,
          3,
          4,
          5,
          6,
          7,
          0,
          1,
          2,
          3,
          4,
          5,
          6,
          7,
          0,
          1,
          2,
          3,
          4,
          5,
          6,
          7,
          0,
          1,
          2,
          3,
          4,
          5,
          6,
          7,
          0,
          1,
          2,
          3,
          4,
          5,
          6,
          7,
          0,
          1,
          2,
          3,
          4,
          5,
          6,
          7,
          0,
          1,
          2,
          3,
          4,
          5,
          6,
          7,
          0,
          1,
          2,
          3,
          4,
          5,
          6,
          7,
          0,
          1,
          2,
          3,
          4,
          5,
          6,
          7,
          0,
          1,
          2,
          3,
          4,
          5,
          6,
          7,
          0,
          1,
          2,
          3,
          4,
          5,
          6,
          7,
          0,
          1,
          2,
          3,
          4,
          5,
          6,
          7,
          0,
          1,
          2,
          3,
          4,
          5,
          6,
          7,
          0,
          1,
          2,
          3,
          4,
          5,
          6,
          7,
          0,
          1,
          2,
          3,
          4,
          5,
          6,
          7,
          0,
          1,
          2,
          3,
          4,
          5,
          6,
          7,
          0,
          1,
          2,
          3,
          4,
          5,
          6,
          7,
          0,
          1,
          2,
          3,
          4,
          5,
          6,
          7,
          0,
          1,
          2,
          3,
          4,
          5,
          6,
          7,
          0,
          1,
          2,
          3,
          4,
          5,
          6,
          7,
          0,
          1,
          2,
          3,
          4,
          5,
          6,
          7,
          0,
          1,
          2,
          3,
          4,
          5,
          6,
          7,
          0,
          1,
          2,
          3,
          4,
          5,
          6,
          7
         ]
        }
       ],
       "layout": {
        "height": 800,
        "scene": {
         "xaxis": {
          "title": {
           "text": "X - Ресурсы"
          }
         },
         "yaxis": {
          "title": {
           "text": "Y - Процессы"
          }
         },
         "zaxis": {
          "title": {
           "text": "Z - Функции управления"
          }
         }
        },
        "template": {
         "data": {
          "bar": [
           {
            "error_x": {
             "color": "#2a3f5f"
            },
            "error_y": {
             "color": "#2a3f5f"
            },
            "marker": {
             "line": {
              "color": "#E5ECF6",
              "width": 0.5
             },
             "pattern": {
              "fillmode": "overlay",
              "size": 10,
              "solidity": 0.2
             }
            },
            "type": "bar"
           }
          ],
          "barpolar": [
           {
            "marker": {
             "line": {
              "color": "#E5ECF6",
              "width": 0.5
             },
             "pattern": {
              "fillmode": "overlay",
              "size": 10,
              "solidity": 0.2
             }
            },
            "type": "barpolar"
           }
          ],
          "carpet": [
           {
            "aaxis": {
             "endlinecolor": "#2a3f5f",
             "gridcolor": "white",
             "linecolor": "white",
             "minorgridcolor": "white",
             "startlinecolor": "#2a3f5f"
            },
            "baxis": {
             "endlinecolor": "#2a3f5f",
             "gridcolor": "white",
             "linecolor": "white",
             "minorgridcolor": "white",
             "startlinecolor": "#2a3f5f"
            },
            "type": "carpet"
           }
          ],
          "choropleth": [
           {
            "colorbar": {
             "outlinewidth": 0,
             "ticks": ""
            },
            "type": "choropleth"
           }
          ],
          "contour": [
           {
            "colorbar": {
             "outlinewidth": 0,
             "ticks": ""
            },
            "colorscale": [
             [
              0,
              "#0d0887"
             ],
             [
              0.1111111111111111,
              "#46039f"
             ],
             [
              0.2222222222222222,
              "#7201a8"
             ],
             [
              0.3333333333333333,
              "#9c179e"
             ],
             [
              0.4444444444444444,
              "#bd3786"
             ],
             [
              0.5555555555555556,
              "#d8576b"
             ],
             [
              0.6666666666666666,
              "#ed7953"
             ],
             [
              0.7777777777777778,
              "#fb9f3a"
             ],
             [
              0.8888888888888888,
              "#fdca26"
             ],
             [
              1,
              "#f0f921"
             ]
            ],
            "type": "contour"
           }
          ],
          "contourcarpet": [
           {
            "colorbar": {
             "outlinewidth": 0,
             "ticks": ""
            },
            "type": "contourcarpet"
           }
          ],
          "heatmap": [
           {
            "colorbar": {
             "outlinewidth": 0,
             "ticks": ""
            },
            "colorscale": [
             [
              0,
              "#0d0887"
             ],
             [
              0.1111111111111111,
              "#46039f"
             ],
             [
              0.2222222222222222,
              "#7201a8"
             ],
             [
              0.3333333333333333,
              "#9c179e"
             ],
             [
              0.4444444444444444,
              "#bd3786"
             ],
             [
              0.5555555555555556,
              "#d8576b"
             ],
             [
              0.6666666666666666,
              "#ed7953"
             ],
             [
              0.7777777777777778,
              "#fb9f3a"
             ],
             [
              0.8888888888888888,
              "#fdca26"
             ],
             [
              1,
              "#f0f921"
             ]
            ],
            "type": "heatmap"
           }
          ],
          "heatmapgl": [
           {
            "colorbar": {
             "outlinewidth": 0,
             "ticks": ""
            },
            "colorscale": [
             [
              0,
              "#0d0887"
             ],
             [
              0.1111111111111111,
              "#46039f"
             ],
             [
              0.2222222222222222,
              "#7201a8"
             ],
             [
              0.3333333333333333,
              "#9c179e"
             ],
             [
              0.4444444444444444,
              "#bd3786"
             ],
             [
              0.5555555555555556,
              "#d8576b"
             ],
             [
              0.6666666666666666,
              "#ed7953"
             ],
             [
              0.7777777777777778,
              "#fb9f3a"
             ],
             [
              0.8888888888888888,
              "#fdca26"
             ],
             [
              1,
              "#f0f921"
             ]
            ],
            "type": "heatmapgl"
           }
          ],
          "histogram": [
           {
            "marker": {
             "pattern": {
              "fillmode": "overlay",
              "size": 10,
              "solidity": 0.2
             }
            },
            "type": "histogram"
           }
          ],
          "histogram2d": [
           {
            "colorbar": {
             "outlinewidth": 0,
             "ticks": ""
            },
            "colorscale": [
             [
              0,
              "#0d0887"
             ],
             [
              0.1111111111111111,
              "#46039f"
             ],
             [
              0.2222222222222222,
              "#7201a8"
             ],
             [
              0.3333333333333333,
              "#9c179e"
             ],
             [
              0.4444444444444444,
              "#bd3786"
             ],
             [
              0.5555555555555556,
              "#d8576b"
             ],
             [
              0.6666666666666666,
              "#ed7953"
             ],
             [
              0.7777777777777778,
              "#fb9f3a"
             ],
             [
              0.8888888888888888,
              "#fdca26"
             ],
             [
              1,
              "#f0f921"
             ]
            ],
            "type": "histogram2d"
           }
          ],
          "histogram2dcontour": [
           {
            "colorbar": {
             "outlinewidth": 0,
             "ticks": ""
            },
            "colorscale": [
             [
              0,
              "#0d0887"
             ],
             [
              0.1111111111111111,
              "#46039f"
             ],
             [
              0.2222222222222222,
              "#7201a8"
             ],
             [
              0.3333333333333333,
              "#9c179e"
             ],
             [
              0.4444444444444444,
              "#bd3786"
             ],
             [
              0.5555555555555556,
              "#d8576b"
             ],
             [
              0.6666666666666666,
              "#ed7953"
             ],
             [
              0.7777777777777778,
              "#fb9f3a"
             ],
             [
              0.8888888888888888,
              "#fdca26"
             ],
             [
              1,
              "#f0f921"
             ]
            ],
            "type": "histogram2dcontour"
           }
          ],
          "mesh3d": [
           {
            "colorbar": {
             "outlinewidth": 0,
             "ticks": ""
            },
            "type": "mesh3d"
           }
          ],
          "parcoords": [
           {
            "line": {
             "colorbar": {
              "outlinewidth": 0,
              "ticks": ""
             }
            },
            "type": "parcoords"
           }
          ],
          "pie": [
           {
            "automargin": true,
            "type": "pie"
           }
          ],
          "scatter": [
           {
            "fillpattern": {
             "fillmode": "overlay",
             "size": 10,
             "solidity": 0.2
            },
            "type": "scatter"
           }
          ],
          "scatter3d": [
           {
            "line": {
             "colorbar": {
              "outlinewidth": 0,
              "ticks": ""
             }
            },
            "marker": {
             "colorbar": {
              "outlinewidth": 0,
              "ticks": ""
             }
            },
            "type": "scatter3d"
           }
          ],
          "scattercarpet": [
           {
            "marker": {
             "colorbar": {
              "outlinewidth": 0,
              "ticks": ""
             }
            },
            "type": "scattercarpet"
           }
          ],
          "scattergeo": [
           {
            "marker": {
             "colorbar": {
              "outlinewidth": 0,
              "ticks": ""
             }
            },
            "type": "scattergeo"
           }
          ],
          "scattergl": [
           {
            "marker": {
             "colorbar": {
              "outlinewidth": 0,
              "ticks": ""
             }
            },
            "type": "scattergl"
           }
          ],
          "scattermapbox": [
           {
            "marker": {
             "colorbar": {
              "outlinewidth": 0,
              "ticks": ""
             }
            },
            "type": "scattermapbox"
           }
          ],
          "scatterpolar": [
           {
            "marker": {
             "colorbar": {
              "outlinewidth": 0,
              "ticks": ""
             }
            },
            "type": "scatterpolar"
           }
          ],
          "scatterpolargl": [
           {
            "marker": {
             "colorbar": {
              "outlinewidth": 0,
              "ticks": ""
             }
            },
            "type": "scatterpolargl"
           }
          ],
          "scatterternary": [
           {
            "marker": {
             "colorbar": {
              "outlinewidth": 0,
              "ticks": ""
             }
            },
            "type": "scatterternary"
           }
          ],
          "surface": [
           {
            "colorbar": {
             "outlinewidth": 0,
             "ticks": ""
            },
            "colorscale": [
             [
              0,
              "#0d0887"
             ],
             [
              0.1111111111111111,
              "#46039f"
             ],
             [
              0.2222222222222222,
              "#7201a8"
             ],
             [
              0.3333333333333333,
              "#9c179e"
             ],
             [
              0.4444444444444444,
              "#bd3786"
             ],
             [
              0.5555555555555556,
              "#d8576b"
             ],
             [
              0.6666666666666666,
              "#ed7953"
             ],
             [
              0.7777777777777778,
              "#fb9f3a"
             ],
             [
              0.8888888888888888,
              "#fdca26"
             ],
             [
              1,
              "#f0f921"
             ]
            ],
            "type": "surface"
           }
          ],
          "table": [
           {
            "cells": {
             "fill": {
              "color": "#EBF0F8"
             },
             "line": {
              "color": "white"
             }
            },
            "header": {
             "fill": {
              "color": "#C8D4E3"
             },
             "line": {
              "color": "white"
             }
            },
            "type": "table"
           }
          ]
         },
         "layout": {
          "annotationdefaults": {
           "arrowcolor": "#2a3f5f",
           "arrowhead": 0,
           "arrowwidth": 1
          },
          "autotypenumbers": "strict",
          "coloraxis": {
           "colorbar": {
            "outlinewidth": 0,
            "ticks": ""
           }
          },
          "colorscale": {
           "diverging": [
            [
             0,
             "#8e0152"
            ],
            [
             0.1,
             "#c51b7d"
            ],
            [
             0.2,
             "#de77ae"
            ],
            [
             0.3,
             "#f1b6da"
            ],
            [
             0.4,
             "#fde0ef"
            ],
            [
             0.5,
             "#f7f7f7"
            ],
            [
             0.6,
             "#e6f5d0"
            ],
            [
             0.7,
             "#b8e186"
            ],
            [
             0.8,
             "#7fbc41"
            ],
            [
             0.9,
             "#4d9221"
            ],
            [
             1,
             "#276419"
            ]
           ],
           "sequential": [
            [
             0,
             "#0d0887"
            ],
            [
             0.1111111111111111,
             "#46039f"
            ],
            [
             0.2222222222222222,
             "#7201a8"
            ],
            [
             0.3333333333333333,
             "#9c179e"
            ],
            [
             0.4444444444444444,
             "#bd3786"
            ],
            [
             0.5555555555555556,
             "#d8576b"
            ],
            [
             0.6666666666666666,
             "#ed7953"
            ],
            [
             0.7777777777777778,
             "#fb9f3a"
            ],
            [
             0.8888888888888888,
             "#fdca26"
            ],
            [
             1,
             "#f0f921"
            ]
           ],
           "sequentialminus": [
            [
             0,
             "#0d0887"
            ],
            [
             0.1111111111111111,
             "#46039f"
            ],
            [
             0.2222222222222222,
             "#7201a8"
            ],
            [
             0.3333333333333333,
             "#9c179e"
            ],
            [
             0.4444444444444444,
             "#bd3786"
            ],
            [
             0.5555555555555556,
             "#d8576b"
            ],
            [
             0.6666666666666666,
             "#ed7953"
            ],
            [
             0.7777777777777778,
             "#fb9f3a"
            ],
            [
             0.8888888888888888,
             "#fdca26"
            ],
            [
             1,
             "#f0f921"
            ]
           ]
          },
          "colorway": [
           "#636efa",
           "#EF553B",
           "#00cc96",
           "#ab63fa",
           "#FFA15A",
           "#19d3f3",
           "#FF6692",
           "#B6E880",
           "#FF97FF",
           "#FECB52"
          ],
          "font": {
           "color": "#2a3f5f"
          },
          "geo": {
           "bgcolor": "white",
           "lakecolor": "white",
           "landcolor": "#E5ECF6",
           "showlakes": true,
           "showland": true,
           "subunitcolor": "white"
          },
          "hoverlabel": {
           "align": "left"
          },
          "hovermode": "closest",
          "mapbox": {
           "style": "light"
          },
          "paper_bgcolor": "white",
          "plot_bgcolor": "#E5ECF6",
          "polar": {
           "angularaxis": {
            "gridcolor": "white",
            "linecolor": "white",
            "ticks": ""
           },
           "bgcolor": "#E5ECF6",
           "radialaxis": {
            "gridcolor": "white",
            "linecolor": "white",
            "ticks": ""
           }
          },
          "scene": {
           "xaxis": {
            "backgroundcolor": "#E5ECF6",
            "gridcolor": "white",
            "gridwidth": 2,
            "linecolor": "white",
            "showbackground": true,
            "ticks": "",
            "zerolinecolor": "white"
           },
           "yaxis": {
            "backgroundcolor": "#E5ECF6",
            "gridcolor": "white",
            "gridwidth": 2,
            "linecolor": "white",
            "showbackground": true,
            "ticks": "",
            "zerolinecolor": "white"
           },
           "zaxis": {
            "backgroundcolor": "#E5ECF6",
            "gridcolor": "white",
            "gridwidth": 2,
            "linecolor": "white",
            "showbackground": true,
            "ticks": "",
            "zerolinecolor": "white"
           }
          },
          "shapedefaults": {
           "line": {
            "color": "#2a3f5f"
           }
          },
          "ternary": {
           "aaxis": {
            "gridcolor": "white",
            "linecolor": "white",
            "ticks": ""
           },
           "baxis": {
            "gridcolor": "white",
            "linecolor": "white",
            "ticks": ""
           },
           "bgcolor": "#E5ECF6",
           "caxis": {
            "gridcolor": "white",
            "linecolor": "white",
            "ticks": ""
           }
          },
          "title": {
           "x": 0.05
          },
          "xaxis": {
           "automargin": true,
           "gridcolor": "white",
           "linecolor": "white",
           "ticks": "",
           "title": {
            "standoff": 15
           },
           "zerolinecolor": "white",
           "zerolinewidth": 2
          },
          "yaxis": {
           "automargin": true,
           "gridcolor": "white",
           "linecolor": "white",
           "ticks": "",
           "title": {
            "standoff": 15
           },
           "zerolinecolor": "white",
           "zerolinewidth": 2
          }
         }
        },
        "title": {
         "text": "Модель функциональной структуры управления имуществом"
        },
        "width": 800
       }
      }
     },
     "metadata": {},
     "output_type": "display_data"
    }
   ],
   "source": [
    "import plotly.graph_objects as go\n",
    "import numpy as np\n",
    "\n",
    "mapping_resources = {0:0, 1: 'Энергетические', 2: 'Материальные', 3: 'Информационные', 4: 'Финансовые', 5: 'Трудовые'}\n",
    "mapping_processes = {0:0, \n",
    "                     1: 'Обеспечение Дворца спорта энергетическими ресурсами',\n",
    "                     2: 'Обеспечение Дворца спорта материальными ресурсами',\n",
    "                     3: 'Обеспечение Дворца спорта информационными ресурсами',\n",
    "                     4: 'Обеспечение Дворца спорта финансовыми ресурсами',\n",
    "                     5: 'Обеспечение Дворца спорта трудовыми ресурсами'}\n",
    "mapping_functions = {0:0,\n",
    "                     1: 'Планирование',\n",
    "                     2: 'Организация',\n",
    "                     3: 'Регулирование',\n",
    "                     4: 'Стимулирование',\n",
    "                     5: 'Контроль',\n",
    "                     6: 'Учет',\n",
    "                     7: 'Анализ'}\n",
    "\n",
    "# Генерируем координаты точек внутри куба\n",
    "x_vals = np.arange(0, 6, 1)\n",
    "y_vals = np.arange(0, 6, 1)\n",
    "z_vals = np.arange(0, 8, 1)  \n",
    "\n",
    "# Список точек внутри куба\n",
    "grid_points = [(x, y, z) for x in x_vals for y in y_vals for z in z_vals]\n",
    "\n",
    "# Разбираем координаты точек по осям\n",
    "x_points, y_points, z_points = zip(*grid_points)\n",
    "\n",
    "# Функция для создания ТОЛЬКО ортогональных соединений (без диагоналей)\n",
    "def create_grid_edges(points):\n",
    "    edges = []\n",
    "    num_points = len(points)\n",
    "    \n",
    "    for i in range(num_points):\n",
    "        x, y, z = points[i]\n",
    "\n",
    "        # Проверяем соседей только вдоль осей X, Y, Z\n",
    "        for j in range(i + 1, num_points):\n",
    "            x2, y2, z2 = points[j]\n",
    "            \n",
    "            # Разрешаем соединения ТОЛЬКО если различается ТОЛЬКО одна координата\n",
    "            dx, dy, dz = abs(x - x2), abs(y - y2), abs(z - z2)\n",
    "            if (dx == 0 and dy == 0 and dz > 0) or \\\n",
    "               (dx == 0 and dz == 0 and dy > 0) or \\\n",
    "               (dy == 0 and dz == 0 and dx > 0):\n",
    "                edges.append((i, j))\n",
    "\n",
    "    return edges\n",
    "\n",
    "# Генерируем правильные рёбра (без диагональных соединений)\n",
    "edges = create_grid_edges(grid_points)\n",
    "\n",
    "# Линии для отображения сетки\n",
    "lines = []\n",
    "for edge in edges:\n",
    "    lines.append(go.Scatter3d(\n",
    "        x=[x_points[edge[0]], x_points[edge[1]]],\n",
    "        y=[y_points[edge[0]], y_points[edge[1]]],\n",
    "        z=[z_points[edge[0]], z_points[edge[1]]],\n",
    "        mode='lines',\n",
    "        line=dict(color='green', width=2),\n",
    "        showlegend=False,\n",
    "        hoverinfo=\"skip\"\n",
    "    ))\n",
    "\n",
    "# Точки для всех координат куба\n",
    "points = go.Scatter3d(\n",
    "    x=x_points,\n",
    "    y=y_points,\n",
    "    z=z_points,\n",
    "    mode='markers',\n",
    "    marker=dict(size=8, color='red'),\n",
    "    showlegend=False,\n",
    "    hovertemplate=\"Ресурсы: %{customdata[0]}<br>Процессы: %{customdata[1]}<br>Функции управления: %{customdata[2]}<extra></extra>\",\n",
    "    customdata=[[mapping_resources.get(x, \"Неизвестно\"), mapping_processes.get(y, \"Неизвестно\"), mapping_functions.get(z, \"Неизвестно\")] for x, y, z in zip(x_points, y_points, z_points)]\n",
    ")\n",
    "\n",
    "# Создание 3D-графика\n",
    "fig = go.Figure(data=lines + [points])\n",
    "\n",
    "fig.update_layout(\n",
    "    scene=dict(\n",
    "        xaxis_title=\"X - Ресурсы\",\n",
    "        yaxis_title=\"Y - Процессы\",\n",
    "        zaxis_title=\"Z - Функции управления\"\n",
    "    ),\n",
    "    title='Модель функциональной структуры управления имуществом',\n",
    "    width=800, height=800\n",
    ")\n",
    "\n",
    "fig.show()\n"
   ]
  }
 ],
 "metadata": {
  "kernelspec": {
   "display_name": "Python 3",
   "language": "python",
   "name": "python3"
  },
  "language_info": {
   "codemirror_mode": {
    "name": "ipython",
    "version": 3
   },
   "file_extension": ".py",
   "mimetype": "text/x-python",
   "name": "python",
   "nbconvert_exporter": "python",
   "pygments_lexer": "ipython3",
   "version": "3.11.5"
  }
 },
 "nbformat": 4,
 "nbformat_minor": 2
}
